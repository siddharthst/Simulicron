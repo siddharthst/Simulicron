{
 "cells": [
  {
   "cell_type": "markdown",
   "metadata": {},
   "source": [
    "# Datastructure definations"
   ]
  },
  {
   "cell_type": "markdown",
   "metadata": {},
   "source": [
    "### Imports"
   ]
  },
  {
   "cell_type": "code",
   "execution_count": 1,
   "metadata": {},
   "outputs": [],
   "source": [
    "import pandas as pd"
   ]
  },
  {
   "cell_type": "markdown",
   "metadata": {},
   "source": [
    "## Transposon dataframe defination"
   ]
  },
  {
   "cell_type": "markdown",
   "metadata": {},
   "source": [
    "* TID = Unique transposon ID (Unique for each insertion)\n",
    "* Position = Position in genome\n",
    "* Selco = Selection coefficient\n",
    "* Name = Name of transposon\n",
    "* Class = Class of transposon, either I or II\n",
    "* Traceback = Linage of transposon List (1->2->n)\n",
    "* Generation = Generation of first appearance\n",
    "* Parent = Parent of origin, either mother or father"
   ]
  },
  {
   "cell_type": "code",
   "execution_count": 2,
   "metadata": {},
   "outputs": [],
   "source": [
    "TranspFrame = pd.DataFrame(columns=[\n",
    "    'TID', 'Position', 'SelCo', 'Name', 'Class', 'Traceback', 'Generation',\n",
    "    \"Parent\"\n",
    "])"
   ]
  },
  {
   "cell_type": "markdown",
   "metadata": {},
   "source": [
    "## Population dataframe defination"
   ]
  },
  {
   "cell_type": "markdown",
   "metadata": {},
   "source": [
    "* PID = Unique individual ID\n",
    "* Fitness = Relative fitness of organism\n",
    "* Name = Randomly generated unique name\n",
    "* Sex = (M)ale, (F)emale or (H)ermaphrodite \n",
    "* Lineage = Lineage (traceback) of individual. List (1->2->n)\n",
    "* Generation = Generation when individual appeared first\n",
    "* TE = List of of unique transposon IDs present in individual\n",
    "* Genome = Unique genome ID"
   ]
  },
  {
   "cell_type": "code",
   "execution_count": 3,
   "metadata": {},
   "outputs": [],
   "source": [
    "PopFrame = pd.DataFrame(columns=[\n",
    "    'PID', 'Fitness', 'Name', 'Sex', 'Lineage', 'Generation', 'TE', 'Genome'\n",
    "])"
   ]
  },
  {
   "cell_type": "markdown",
   "metadata": {},
   "source": [
    "## Genome dataframe defination"
   ]
  },
  {
   "cell_type": "markdown",
   "metadata": {},
   "source": [
    "* GID = Unique genome ID\n",
    "* Size = Size of Genome\n",
    "* Insertion_Father = Insertion site filled by transposon from father. Tuple (InsertionSite,TID)\n",
    "* Insertion_Father = Insertion site filled by transposon from mother. Tuple (InsertionSite,TID)\n",
    "* Recomob = Recombination rate per insertion site, unused."
   ]
  },
  {
   "cell_type": "code",
   "execution_count": 4,
   "metadata": {},
   "outputs": [],
   "source": [
    "GenFrame = pd.DataFrame(\n",
    "    columns=['GID', 'Size', 'Insertion_Father', 'Insertion_Mother', 'Recomob'])"
   ]
  },
  {
   "cell_type": "code",
   "execution_count": null,
   "metadata": {},
   "outputs": [],
   "source": []
  }
 ],
 "metadata": {
  "kernelspec": {
   "display_name": "Python 3",
   "language": "python",
   "name": "python3"
  },
  "language_info": {
   "codemirror_mode": {
    "name": "ipython",
    "version": 3
   },
   "file_extension": ".py",
   "mimetype": "text/x-python",
   "name": "python",
   "nbconvert_exporter": "python",
   "pygments_lexer": "ipython3",
   "version": "3.7.4"
  }
 },
 "nbformat": 4,
 "nbformat_minor": 4
}
