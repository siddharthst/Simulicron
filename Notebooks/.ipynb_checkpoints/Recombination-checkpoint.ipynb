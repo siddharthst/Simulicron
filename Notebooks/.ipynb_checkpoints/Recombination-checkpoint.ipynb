{
 "cells": [
  {
   "cell_type": "markdown",
   "metadata": {},
   "source": [
    "# Recombination function"
   ]
  },
  {
   "cell_type": "markdown",
   "metadata": {},
   "source": [
    "### Imports"
   ]
  },
  {
   "cell_type": "code",
   "execution_count": 1,
   "metadata": {},
   "outputs": [],
   "source": [
    "import tempfile\n",
    "import numpy as np\n",
    "import dask as dd\n",
    "import pandas as pd\n",
    "import coloredlogs, logging\n",
    "import uuid\n",
    "import random\n",
    "from coolname import generate_slug\n",
    "from functools import wraps\n",
    "import inspect"
   ]
  },
  {
   "cell_type": "markdown",
   "metadata": {},
   "source": [
    "### Create logger"
   ]
  },
  {
   "cell_type": "code",
   "execution_count": 2,
   "metadata": {},
   "outputs": [],
   "source": [
    "logger = logging.getLogger(__name__)\n",
    "coloredlogs.install(level='DEBUG')"
   ]
  },
  {
   "cell_type": "markdown",
   "metadata": {},
   "source": [
    "### Function defination\n",
    "This function creates a genome with insertion site information, chromosome structure etc. "
   ]
  },
  {
   "cell_type": "code",
   "execution_count": 3,
   "metadata": {},
   "outputs": [],
   "source": [
    "Genome = pd.DataFrame(\n",
    "    columns=['Position', 'RecombinationRate', 'InsertionSite'])\n",
    "\n",
    "\n",
    "def generateGenome(genomeSize, nInsertionSites, nChrom):\n",
    "    genome = list(range(1, genomeSize + 1))\n",
    "    InsertionSite = [0] * len(genome)\n",
    "    RecombinationRate = [0.01] * len(genome)\n",
    "    insertionLocation = np.random.choice(genomeSize,\n",
    "                                         nInsertionSites,\n",
    "                                         replace=False)\n",
    "    chrLocation = np.random.choice(genomeSize, nChrom, replace=False)\n",
    "\n",
    "    insertionCounter = 1\n",
    "    for i in insertionLocation:\n",
    "        InsertionSite[i] = insertionCounter\n",
    "        insertionCounter += 1\n",
    "\n",
    "    insertionCounter = 1\n",
    "    for i in chrLocation:\n",
    "        if (InsertionSite[i] != 0):\n",
    "            RecombinationRate[i + 1] = 0.5\n",
    "            insertionCounter += 1\n",
    "        else:\n",
    "            RecombinationRate[i] = 0.5\n",
    "            insertionCounter += 1\n",
    "\n",
    "    genomeDict = {\n",
    "        'Position': genome,\n",
    "        'RecombinationRate': RecombinationRate,\n",
    "        'InsertionSite': InsertionSite\n",
    "    }\n",
    "    genome = pd.DataFrame(genomeDict)\n",
    "    return (genome)\n",
    "\n",
    "\n",
    "ref = ['GID', 'Size', 'Insertion_Father', 'Insertion_Mother', 'Recomob']\n",
    "\n",
    "\n",
    "def recombination(genomeFrame, genomeOrg):\n",
    "    # Create a copy of genomeFrame\n",
    "    genomeCopy = genomeFrame.copy(deep=True)\n",
    "    Insertion_Father = genomeOrg['Insertion_Father'].values[0]\n",
    "    Insertion_Mother = genomeOrg['Insertion_Mother'].values[0]\n",
    "    if (Insertion_Father[0] == 0 and Insertion_Mother[0] == 0):\n",
    "        return (random.choice([\n",
    "            genomeOrg['Insertion_Father'].values[0],\n",
    "            genomeOrg['Insertion_Mother'].values[0]\n",
    "        ]))\n",
    "    else:\n",
    "        initParent = random.choice([\"M\",\"F\"])\n",
    "        genomeCopy[\"Parent\"] = initParent\n",
    "        Genome = pd.DataFrame(\n",
    "            columns=['Position', 'InsertionSite'])\n",
    "        "
   ]
  },
  {
   "cell_type": "code",
   "execution_count": 4,
   "metadata": {},
   "outputs": [],
   "source": [
    "k = generateGenome(10000000, 20000, 100)"
   ]
  },
  {
   "cell_type": "code",
   "execution_count": 5,
   "metadata": {},
   "outputs": [
    {
     "data": {
      "text/html": [
       "<div>\n",
       "<style scoped>\n",
       "    .dataframe tbody tr th:only-of-type {\n",
       "        vertical-align: middle;\n",
       "    }\n",
       "\n",
       "    .dataframe tbody tr th {\n",
       "        vertical-align: top;\n",
       "    }\n",
       "\n",
       "    .dataframe thead th {\n",
       "        text-align: right;\n",
       "    }\n",
       "</style>\n",
       "<table border=\"1\" class=\"dataframe\">\n",
       "  <thead>\n",
       "    <tr style=\"text-align: right;\">\n",
       "      <th></th>\n",
       "      <th>Position</th>\n",
       "      <th>RecombinationRate</th>\n",
       "      <th>InsertionSite</th>\n",
       "    </tr>\n",
       "  </thead>\n",
       "  <tbody>\n",
       "    <tr>\n",
       "      <td>0</td>\n",
       "      <td>1</td>\n",
       "      <td>0.01</td>\n",
       "      <td>0</td>\n",
       "    </tr>\n",
       "    <tr>\n",
       "      <td>1</td>\n",
       "      <td>2</td>\n",
       "      <td>0.01</td>\n",
       "      <td>0</td>\n",
       "    </tr>\n",
       "    <tr>\n",
       "      <td>2</td>\n",
       "      <td>3</td>\n",
       "      <td>0.01</td>\n",
       "      <td>0</td>\n",
       "    </tr>\n",
       "    <tr>\n",
       "      <td>3</td>\n",
       "      <td>4</td>\n",
       "      <td>0.01</td>\n",
       "      <td>0</td>\n",
       "    </tr>\n",
       "    <tr>\n",
       "      <td>4</td>\n",
       "      <td>5</td>\n",
       "      <td>0.01</td>\n",
       "      <td>0</td>\n",
       "    </tr>\n",
       "    <tr>\n",
       "      <td>...</td>\n",
       "      <td>...</td>\n",
       "      <td>...</td>\n",
       "      <td>...</td>\n",
       "    </tr>\n",
       "    <tr>\n",
       "      <td>9999995</td>\n",
       "      <td>9999996</td>\n",
       "      <td>0.01</td>\n",
       "      <td>0</td>\n",
       "    </tr>\n",
       "    <tr>\n",
       "      <td>9999996</td>\n",
       "      <td>9999997</td>\n",
       "      <td>0.01</td>\n",
       "      <td>0</td>\n",
       "    </tr>\n",
       "    <tr>\n",
       "      <td>9999997</td>\n",
       "      <td>9999998</td>\n",
       "      <td>0.01</td>\n",
       "      <td>0</td>\n",
       "    </tr>\n",
       "    <tr>\n",
       "      <td>9999998</td>\n",
       "      <td>9999999</td>\n",
       "      <td>0.01</td>\n",
       "      <td>0</td>\n",
       "    </tr>\n",
       "    <tr>\n",
       "      <td>9999999</td>\n",
       "      <td>10000000</td>\n",
       "      <td>0.01</td>\n",
       "      <td>0</td>\n",
       "    </tr>\n",
       "  </tbody>\n",
       "</table>\n",
       "<p>10000000 rows × 3 columns</p>\n",
       "</div>"
      ],
      "text/plain": [
       "         Position  RecombinationRate  InsertionSite\n",
       "0               1               0.01              0\n",
       "1               2               0.01              0\n",
       "2               3               0.01              0\n",
       "3               4               0.01              0\n",
       "4               5               0.01              0\n",
       "...           ...                ...            ...\n",
       "9999995   9999996               0.01              0\n",
       "9999996   9999997               0.01              0\n",
       "9999997   9999998               0.01              0\n",
       "9999998   9999999               0.01              0\n",
       "9999999  10000000               0.01              0\n",
       "\n",
       "[10000000 rows x 3 columns]"
      ]
     },
     "execution_count": 5,
     "metadata": {},
     "output_type": "execute_result"
    }
   ],
   "source": [
    "k"
   ]
  },
  {
   "cell_type": "code",
   "execution_count": 7,
   "metadata": {},
   "outputs": [
    {
     "data": {
      "text/plain": [
       "1"
      ]
     },
     "execution_count": 7,
     "metadata": {},
     "output_type": "execute_result"
    }
   ],
   "source": []
  },
  {
   "cell_type": "code",
   "execution_count": null,
   "metadata": {},
   "outputs": [],
   "source": []
  }
 ],
 "metadata": {
  "kernelspec": {
   "display_name": "Python 3",
   "language": "python",
   "name": "python3"
  },
  "language_info": {
   "codemirror_mode": {
    "name": "ipython",
    "version": 3
   },
   "file_extension": ".py",
   "mimetype": "text/x-python",
   "name": "python",
   "nbconvert_exporter": "python",
   "pygments_lexer": "ipython3",
   "version": "3.7.4"
  }
 },
 "nbformat": 4,
 "nbformat_minor": 4
}
