{
 "cells": [
  {
   "cell_type": "markdown",
   "metadata": {},
   "source": [
    "# Selection fucntion"
   ]
  },
  {
   "cell_type": "markdown",
   "metadata": {},
   "source": [
    "## Imports"
   ]
  },
  {
   "cell_type": "code",
   "execution_count": 1,
   "metadata": {},
   "outputs": [],
   "source": [
    "import tempfile\n",
    "import numpy as np\n",
    "import dask as dd\n",
    "import pandas as pd\n",
    "import coloredlogs, logging\n",
    "import uuid\n",
    "import random\n",
    "from coolname import generate_slug\n",
    "from functools import wraps\n",
    "import inspect"
   ]
  },
  {
   "cell_type": "markdown",
   "metadata": {},
   "source": [
    "### Create logger"
   ]
  },
  {
   "cell_type": "code",
   "execution_count": 2,
   "metadata": {},
   "outputs": [],
   "source": [
    "logger = logging.getLogger(__name__)\n",
    "coloredlogs.install(level='DEBUG')"
   ]
  },
  {
   "cell_type": "markdown",
   "metadata": {},
   "source": [
    "### Function defination\n",
    "This function performs selection and creates a new population"
   ]
  },
  {
   "cell_type": "code",
   "execution_count": null,
   "metadata": {},
   "outputs": [],
   "source": [
    "def selection(\n",
    "        populationFrame,\n",
    "        genomeFrame,\n",
    "):\n",
    "    parentFrame = populationFrame.sample(n=2, weights='Fitness')\n",
    "    alSetM = recombination(genome, parentFrame.iloc[0])\n",
    "    alSetF = recombination(genome, parentFrame.iloc[1])\n",
    "    rowPop = pd.Series({\n",
    "        'PID': uuid.uuid4().hex,\n",
    "        'Fitness': random.uniform(0.6, 1.0) - FitnessPen,\n",
    "        'Name': generate_slug(),\n",
    "        'Sex': 'H',\n",
    "        'Lineage': ['0'],\n",
    "        'Generation': 1,\n",
    "        'TE': [TE],\n",
    "        'Insertion_Father': alSetM,\n",
    "        'Insertion_Mother': alSetF\n",
    "    })"
   ]
  }
 ],
 "metadata": {
  "kernelspec": {
   "display_name": "Python 3",
   "language": "python",
   "name": "python3"
  },
  "language_info": {
   "codemirror_mode": {
    "name": "ipython",
    "version": 3
   },
   "file_extension": ".py",
   "mimetype": "text/x-python",
   "name": "python",
   "nbconvert_exporter": "python",
   "pygments_lexer": "ipython3",
   "version": "3.7.4"
  }
 },
 "nbformat": 4,
 "nbformat_minor": 4
}
