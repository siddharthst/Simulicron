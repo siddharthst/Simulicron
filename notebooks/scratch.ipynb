{
 "cells": [
  {
   "cell_type": "code",
   "execution_count": 1,
   "metadata": {},
   "outputs": [],
   "source": [
    "# Imports\n",
    "import numpy as np\n",
    "import pandas as pd\n",
    "import random\n",
    "import statsmodels.api as sm\n",
    "from scipy.stats import linregress\n",
    "from scipy.stats import chisquare\n",
    "from scipy import stats\n",
    "from numba import njit\n",
    "\n",
    "# import altair as alt\n",
    "import seaborn as sns\n",
    "import matplotlib.pyplot as plt\n",
    "from itertools import chain, repeat\n",
    "import pickle\n",
    "import re\n",
    "from math import exp, log\n",
    "\n",
    "# Set Seaborn style\n",
    "sns.set(style=\"whitegrid\")\n",
    "plt.style.use(\"ggplot\")\n",
    "sns.set_context(\"talk\")\n",
    "%matplotlib inline"
   ]
  },
  {
   "cell_type": "code",
   "execution_count": null,
   "metadata": {},
   "outputs": [],
   "source": [
    "[round(x) for x in np.linspace(0, 10000, 7).tolist()]"
   ]
  },
  {
   "cell_type": "code",
   "execution_count": null,
   "metadata": {},
   "outputs": [],
   "source": [
    "int(10000 / 6)"
   ]
  },
  {
   "cell_type": "code",
   "execution_count": null,
   "metadata": {},
   "outputs": [],
   "source": [
    "random.randrange(0, 9)"
   ]
  },
  {
   "cell_type": "code",
   "execution_count": null,
   "metadata": {},
   "outputs": [],
   "source": [
    "chromosomeLocation = [0, 474, 687, 524]\n",
    "for prime5, prime3 in zip(chromosomeLocation, chromosomeLocation[1:]):\n",
    "    print(prime5, prime3)"
   ]
  },
  {
   "cell_type": "code",
   "execution_count": null,
   "metadata": {},
   "outputs": [],
   "source": [
    "nums = np.random.choice([0, 1], size=1000, p=[0.1, 0.9]).tolist()"
   ]
  },
  {
   "cell_type": "code",
   "execution_count": null,
   "metadata": {},
   "outputs": [],
   "source": [
    "l = [1, 2, 3, 4, 5, 6, 7, 8, 9]\n",
    "l[3:9]"
   ]
  },
  {
   "cell_type": "code",
   "execution_count": null,
   "metadata": {},
   "outputs": [],
   "source": [
    "np.nonzero([1, 0, 2])[0].tolist()"
   ]
  },
  {
   "cell_type": "code",
   "execution_count": null,
   "metadata": {},
   "outputs": [],
   "source": [
    "k = np.zeros((1000, 5,))"
   ]
  },
  {
   "cell_type": "code",
   "execution_count": null,
   "metadata": {},
   "outputs": [],
   "source": [
    "np.all(k[:, 0:2] == 0)"
   ]
  },
  {
   "cell_type": "code",
   "execution_count": null,
   "metadata": {},
   "outputs": [],
   "source": [
    "len(k[:, 0:2])"
   ]
  },
  {
   "cell_type": "code",
   "execution_count": null,
   "metadata": {},
   "outputs": [],
   "source": [
    "# Set up the figure\n",
    "f, (ax1, ax2, ax3) = plt.subplots(1, 3, sharey=True, figsize=(25, 10),)\n",
    "# Load file from the pickle\n",
    "fileName = \"/home/siddharth/Documents/Projects/Simulicron/notebooks/K2U100.pickle\"\n",
    "with open(fileName, \"rb\") as f:\n",
    "    result = pickle.load(f)\n",
    "# Plot the average copy number\n",
    "for i in result:\n",
    "    f = sns.lineplot(\n",
    "        x=np.arange(len(i[\"AvgCopyNum\"])),\n",
    "        y=np.asarray(i[\"AvgCopyNum\"]),\n",
    "        color=\"grey\",\n",
    "        ax=ax1,\n",
    "    ).set_title(\"u:1.0\")\n",
    "# Load file from the pickle\n",
    "fileName = \"/home/siddharth/Documents/Projects/Simulicron/notebooks/K2U010.pickle\"\n",
    "with open(fileName, \"rb\") as f:\n",
    "    result = pickle.load(f)\n",
    "# Plot the average copy number\n",
    "for i in result:\n",
    "    sns.lineplot(\n",
    "        x=np.arange(len(i[\"AvgCopyNum\"])),\n",
    "        y=np.asarray(i[\"AvgCopyNum\"]),\n",
    "        color=\"grey\",\n",
    "        ax=ax2,\n",
    "    ).set_title(\"u:0.10\")\n",
    "# Load file from the pickle\n",
    "fileName = \"/home/siddharth/Documents/Projects/Simulicron/notebooks/K2U001.pickle\"\n",
    "with open(fileName, \"rb\") as f:\n",
    "    result = pickle.load(f)\n",
    "# Plot the average copy number\n",
    "for i in result:\n",
    "    sns.lineplot(\n",
    "        x=np.arange(len(i[\"AvgCopyNum\"])),\n",
    "        y=np.asarray(i[\"AvgCopyNum\"]),\n",
    "        color=\"grey\",\n",
    "        ax=ax3,\n",
    "    ).set_title(\"u:0.01\")\n",
    "\n",
    "\n",
    "fig = ax1.figure\n",
    "fig.text(0.5, 0.04, \"Generation\", ha=\"center\", va=\"center\", size=18)\n",
    "fig.text(\n",
    "    0.05,\n",
    "    0.5,\n",
    "    \"Avg. copy number\",\n",
    "    ha=\"center\",\n",
    "    va=\"center\",\n",
    "    rotation=90,\n",
    "    size=18,\n",
    ")"
   ]
  },
  {
   "cell_type": "code",
   "execution_count": null,
   "metadata": {},
   "outputs": [],
   "source": [
    "numberOfInsertionSites = 10000\n",
    "numberOfChromosomes = 6\n",
    "chromosomeLocation = [\n",
    "        round(x)\n",
    "        for x in np.linspace(\n",
    "            0, numberOfInsertionSites, numberOfChromosomes + 1\n",
    "        ).tolist()\n",
    "    ]\n",
    "RecombinationRates = np.asarray([0.1] * numberOfInsertionSites)\n",
    "RecombinationRates[chromosomeLocation[1:-1]] = 0.499"
   ]
  },
  {
   "cell_type": "code",
   "execution_count": null,
   "metadata": {},
   "outputs": [],
   "source": [
    "#map=c(0,cumsum(-0.5*log(1-2*rates)))\n",
    "map = np.cumsum(-0.5*np.log(1-(2*RecombinationRates)))"
   ]
  },
  {
   "cell_type": "code",
   "execution_count": null,
   "metadata": {},
   "outputs": [],
   "source": [
    "print(0.5*(1-np.exp(-2*np.diff(map[l]))))"
   ]
  },
  {
   "cell_type": "code",
   "execution_count": null,
   "metadata": {},
   "outputs": [],
   "source": [
    "# np.set_printoptions(suppress=True)"
   ]
  },
  {
   "cell_type": "code",
   "execution_count": null,
   "metadata": {},
   "outputs": [],
   "source": [
    "def rates2map(rates):\n",
    "    return (np.cumsum(-0.5*np.log(1-(2*RecombinationRates))))"
   ]
  },
  {
   "cell_type": "code",
   "execution_count": null,
   "metadata": {},
   "outputs": [],
   "source": [
    "def map2rates(map):\n",
    "    return(0.5*(1-np.exp(-2*np.diff(map))))"
   ]
  },
  {
   "cell_type": "code",
   "execution_count": null,
   "metadata": {},
   "outputs": [],
   "source": [
    "map2rates(rates2map(RecombinationRates))"
   ]
  },
  {
   "cell_type": "code",
   "execution_count": null,
   "metadata": {},
   "outputs": [],
   "source": [
    "len(rates2map(RecombinationRates))"
   ]
  },
  {
   "cell_type": "code",
   "execution_count": null,
   "metadata": {},
   "outputs": [],
   "source": [
    "map[5]"
   ]
  },
  {
   "cell_type": "code",
   "execution_count": null,
   "metadata": {},
   "outputs": [],
   "source": [
    "map[l]"
   ]
  },
  {
   "cell_type": "code",
   "execution_count": null,
   "metadata": {},
   "outputs": [],
   "source": [
    "np.set_printoptions(suppress=True,\n",
    "   formatter={'float_kind':'{:f}'.format})"
   ]
  },
  {
   "cell_type": "code",
   "execution_count": null,
   "metadata": {},
   "outputs": [],
   "source": [
    "RecombinationRates[855]"
   ]
  },
  {
   "cell_type": "code",
   "execution_count": null,
   "metadata": {},
   "outputs": [],
   "source": [
    "l = [4,7]"
   ]
  },
  {
   "cell_type": "code",
   "execution_count": null,
   "metadata": {},
   "outputs": [],
   "source": [
    "len(np.insert(RecombinationRates, 0, 99, axis=0))"
   ]
  },
  {
   "cell_type": "code",
   "execution_count": null,
   "metadata": {},
   "outputs": [],
   "source": [
    "v1 = [3,4]\n",
    "v2 = 0"
   ]
  },
  {
   "cell_type": "code",
   "execution_count": null,
   "metadata": {},
   "outputs": [],
   "source": [
    "cP1V1 = v1\n",
    "cP1V2 = v2\n",
    "if isinstance(cP1V1, list):\n",
    "    cP1V1 = np.asarray(cP1V1)\n",
    "else:\n",
    "    cP1V1 = np.asarray([cP1V1])\n",
    "if isinstance(cP1V2, list):\n",
    "    cP1V2 = np.asarray(cP1V2)\n",
    "else:\n",
    "    cP1V2 = np.asarray([cP1V2])"
   ]
  },
  {
   "cell_type": "code",
   "execution_count": null,
   "metadata": {},
   "outputs": [],
   "source": [
    "%%timeit\n",
    "list(set([2,3,2,4,6,4,2]) | set([0]))"
   ]
  },
  {
   "cell_type": "code",
   "execution_count": null,
   "metadata": {},
   "outputs": [],
   "source": [
    "[7,8,55]+[4,45]"
   ]
  },
  {
   "cell_type": "code",
   "execution_count": null,
   "metadata": {},
   "outputs": [],
   "source": [
    "a = [5,4,3,2,1]\n",
    "b = [2,3]"
   ]
  },
  {
   "cell_type": "code",
   "execution_count": null,
   "metadata": {},
   "outputs": [],
   "source": [
    "match = lambda a, b: [ b.index(x)+1 if x in b else None for x in a ]"
   ]
  },
  {
   "cell_type": "code",
   "execution_count": null,
   "metadata": {},
   "outputs": [],
   "source": [
    "match(b,a)"
   ]
  },
  {
   "cell_type": "code",
   "execution_count": null,
   "metadata": {},
   "outputs": [],
   "source": [
    "RecombinationRates[0]"
   ]
  },
  {
   "cell_type": "code",
   "execution_count": null,
   "metadata": {},
   "outputs": [],
   "source": [
    "np.set_printoptions(suppress=True,\n",
    "   formatter={'float_kind':'{:f}'.format})"
   ]
  },
  {
   "cell_type": "code",
   "execution_count": null,
   "metadata": {},
   "outputs": [],
   "source": [
    "l = list(range(10000))"
   ]
  },
  {
   "cell_type": "code",
   "execution_count": null,
   "metadata": {},
   "outputs": [],
   "source": [
    "%%timeit\n",
    "random.sample(l, 800)"
   ]
  },
  {
   "cell_type": "code",
   "execution_count": null,
   "metadata": {},
   "outputs": [],
   "source": [
    "%%timeit\n",
    "np.random.choice(l, size=800, replace=False)"
   ]
  },
  {
   "cell_type": "code",
   "execution_count": null,
   "metadata": {},
   "outputs": [],
   "source": [
    "len(random.sample(l, 800)) == len (np.random.choice(l, size=800, replace=False))"
   ]
  },
  {
   "cell_type": "code",
   "execution_count": null,
   "metadata": {},
   "outputs": [],
   "source": [
    "l1 = [1,2,3,4,5,6,7]\n",
    "l2 = [22,9,44,1,22,4,22,1]\n"
   ]
  },
  {
   "cell_type": "code",
   "execution_count": null,
   "metadata": {},
   "outputs": [],
   "source": [
    "match = lambda a, b: [ b.index(x) if x in b else 0 for x in a ]"
   ]
  },
  {
   "cell_type": "code",
   "execution_count": null,
   "metadata": {},
   "outputs": [],
   "source": [
    "match (l1,l2)"
   ]
  },
  {
   "cell_type": "code",
   "execution_count": null,
   "metadata": {},
   "outputs": [],
   "source": [
    "l1 = np.array([1,2,3,4])\n",
    "z = np.array([1,1,1,1])\n",
    "k1 = set([1,3,4,5,6,7])"
   ]
  },
  {
   "cell_type": "code",
   "execution_count": null,
   "metadata": {},
   "outputs": [],
   "source": [
    "np.in1d(l1,l2)"
   ]
  },
  {
   "cell_type": "code",
   "execution_count": null,
   "metadata": {},
   "outputs": [],
   "source": [
    "k1 = [1,2,3]"
   ]
  },
  {
   "cell_type": "code",
   "execution_count": null,
   "metadata": {},
   "outputs": [],
   "source": [
    "bool(set(k1) & set (k2))"
   ]
  },
  {
   "cell_type": "code",
   "execution_count": null,
   "metadata": {},
   "outputs": [],
   "source": [
    "q = z[np.in1d(l1,list(k2))] * 0"
   ]
  },
  {
   "cell_type": "code",
   "execution_count": null,
   "metadata": {},
   "outputs": [],
   "source": [
    "q"
   ]
  },
  {
   "cell_type": "code",
   "execution_count": null,
   "metadata": {},
   "outputs": [],
   "source": [
    "z = {1:\"z\",2:\"z\"}"
   ]
  },
  {
   "cell_type": "code",
   "execution_count": null,
   "metadata": {},
   "outputs": [],
   "source": [
    "len(z.keys())"
   ]
  },
  {
   "cell_type": "code",
   "execution_count": null,
   "metadata": {},
   "outputs": [],
   "source": [
    "z = []\n",
    "k = []\n",
    "p = []\n",
    "l = 10000\n",
    "for i in range (l):\n",
    "    z.append(int(random.random() * 10001))\n",
    "    k.append(random.randint(0,10000))\n",
    "    p = random.sample(range(100000), l)"
   ]
  },
  {
   "cell_type": "code",
   "execution_count": null,
   "metadata": {},
   "outputs": [],
   "source": [
    "sns.distplot(z)"
   ]
  },
  {
   "cell_type": "code",
   "execution_count": null,
   "metadata": {},
   "outputs": [],
   "source": [
    "sns.distplot(k)"
   ]
  },
  {
   "cell_type": "code",
   "execution_count": null,
   "metadata": {},
   "outputs": [],
   "source": [
    "sns.distplot(p)"
   ]
  },
  {
   "cell_type": "code",
   "execution_count": null,
   "metadata": {},
   "outputs": [],
   "source": [
    "%%timeit\n",
    "random.sample(range(10000), l)"
   ]
  },
  {
   "cell_type": "code",
   "execution_count": null,
   "metadata": {},
   "outputs": [],
   "source": [
    "%%timeit\n",
    "z = []\n",
    "for i in range (l):\n",
    "    (int(random.random() * 10001))"
   ]
  },
  {
   "cell_type": "code",
   "execution_count": null,
   "metadata": {},
   "outputs": [],
   "source": [
    "%%timeit\n",
    "np.random.uniform(0,1,10001)"
   ]
  },
  {
   "cell_type": "code",
   "execution_count": null,
   "metadata": {},
   "outputs": [],
   "source": [
    "x = [1]*1000"
   ]
  },
  {
   "cell_type": "code",
   "execution_count": null,
   "metadata": {},
   "outputs": [],
   "source": [
    "%%timeit\n",
    "x == [1] * len(x)"
   ]
  },
  {
   "cell_type": "code",
   "execution_count": null,
   "metadata": {},
   "outputs": [],
   "source": [
    "sum([0.1,0.1,0.1])"
   ]
  },
  {
   "cell_type": "code",
   "execution_count": null,
   "metadata": {},
   "outputs": [],
   "source": [
    "0.1*2"
   ]
  },
  {
   "cell_type": "code",
   "execution_count": null,
   "metadata": {},
   "outputs": [],
   "source": [
    "z = [1,2,3,4,5,6,7,8,9]"
   ]
  },
  {
   "cell_type": "code",
   "execution_count": null,
   "metadata": {},
   "outputs": [],
   "source": [
    "sum([x for k, x in enumerate(z) if k != 1])"
   ]
  },
  {
   "cell_type": "code",
   "execution_count": null,
   "metadata": {},
   "outputs": [],
   "source": [
    "list(set([4,4,5,3,2,1,1]))[2]"
   ]
  },
  {
   "cell_type": "code",
   "execution_count": null,
   "metadata": {},
   "outputs": [],
   "source": [
    "k = set([4,4,4,4,4,5])"
   ]
  },
  {
   "cell_type": "code",
   "execution_count": null,
   "metadata": {},
   "outputs": [],
   "source": [
    "@njit\n",
    "def search(inp, setx):\n",
    "    if inp in setx:\n",
    "        return (True)"
   ]
  },
  {
   "cell_type": "code",
   "execution_count": null,
   "metadata": {},
   "outputs": [],
   "source": [
    "search(4,k)"
   ]
  },
  {
   "cell_type": "code",
   "execution_count": null,
   "metadata": {},
   "outputs": [],
   "source": [
    "k = list(range(1000000))\n",
    "z = np.asarray(k)"
   ]
  },
  {
   "cell_type": "code",
   "execution_count": null,
   "metadata": {},
   "outputs": [],
   "source": [
    "%%timeit\n",
    "sum(k)"
   ]
  },
  {
   "cell_type": "code",
   "execution_count": null,
   "metadata": {},
   "outputs": [],
   "source": [
    "%%timeit\n",
    "np.sum(k)"
   ]
  },
  {
   "cell_type": "code",
   "execution_count": null,
   "metadata": {},
   "outputs": [],
   "source": [
    "v1 = [0,0,[1],0,0]\n",
    "v2 = [0,0,0,0,0]\n",
    "fq = [0.1,0.2,0.3,0.4,0.5]"
   ]
  },
  {
   "cell_type": "code",
   "execution_count": null,
   "metadata": {},
   "outputs": [],
   "source": [
    "np.array([v1,v2,fq,], dtype=\"object\").T"
   ]
  },
  {
   "cell_type": "code",
   "execution_count": null,
   "metadata": {},
   "outputs": [],
   "source": [
    "np.c_[v1,v2]"
   ]
  },
  {
   "cell_type": "code",
   "execution_count": null,
   "metadata": {},
   "outputs": [],
   "source": [
    "if all(np.array_equal(v, [0, 0]) for v in np.c_[v1, v2]) :\n",
    "       print (True)\n",
    "else:\n",
    "    print (False)"
   ]
  },
  {
   "cell_type": "code",
   "execution_count": null,
   "metadata": {},
   "outputs": [],
   "source": [
    "tauList = [0.0, 1.0]\n",
    "[0.5, 0.5, 0.5, 0.5, 0.2, 0.5, 0.5, 0.5, 0.5, 0.5, 0.5, 0.5, 0.5, 0.5, 0.5, 0.2, 0.5, 0.5, 0.5, 0.5, 0.2, 0.5]\n",
    "for i in range(len(tauList)):\n",
    "    print([x for k, x in enumerate(tauList) if k != i])"
   ]
  },
  {
   "cell_type": "code",
   "execution_count": null,
   "metadata": {},
   "outputs": [],
   "source": [
    "eta = 0.0\n",
    "TEfamily = [2, 1, 2, 2, 2, 2, 2]\n",
    "TEfamilySet = {1, 2}\n",
    "tauList = [0.0, 1.0]\n",
    "for i in range(len(tauList)):\n",
    "    netTau = tauList[i] - (\n",
    "        (sum([x for k, x in enumerate(tauList) if k != i]))\n",
    "        * eta\n",
    "    )\n",
    "    indices = (TEfamily == list(TEfamilySet)[i]).nonzero()[0]\n",
    "    TEexcEffective[indices] = TEexcision[indices] - (TEexcision[indices] * netTau)"
   ]
  },
  {
   "cell_type": "code",
   "execution_count": null,
   "metadata": {},
   "outputs": [],
   "source": [
    "0.0\n",
    "1.0\n",
    "True4\n",
    "[2 1 2 2 2 2 2]\n",
    "{1, 2}\n",
    "[0.0, 1.0]\n",
    "[0.5 0.2 0.5 0.5 0.5 0.5 0.5]\n",
    "[1. 0. 1. 1. 1. 1. 1.]"
   ]
  },
  {
   "cell_type": "code",
   "execution_count": null,
   "metadata": {},
   "outputs": [],
   "source": [
    "TEset = {1 : []}\n",
    "{k: [] for k in range(1, len(TEset.keys()) + 1)}"
   ]
  },
  {
   "cell_type": "code",
   "execution_count": null,
   "metadata": {},
   "outputs": [],
   "source": [
    "0/1000"
   ]
  },
  {
   "cell_type": "code",
   "execution_count": null,
   "metadata": {},
   "outputs": [],
   "source": [
    "int(10000 * random.random())"
   ]
  },
  {
   "cell_type": "code",
   "execution_count": null,
   "metadata": {},
   "outputs": [],
   "source": [
    "[int(10000 * random.random()) if i not in [2,5,7]]"
   ]
  },
  {
   "cell_type": "code",
   "execution_count": null,
   "metadata": {},
   "outputs": [],
   "source": []
  },
  {
   "cell_type": "code",
   "execution_count": null,
   "metadata": {},
   "outputs": [],
   "source": [
    "tauList = [1,2,1,1,1,1,1]\n",
    "i = 2\n",
    "(sum([x for k, x in enumerate(tauList) if k != i])) * 0.2"
   ]
  },
  {
   "cell_type": "code",
   "execution_count": null,
   "metadata": {},
   "outputs": [],
   "source": [
    "l = set([1])"
   ]
  },
  {
   "cell_type": "code",
   "execution_count": null,
   "metadata": {},
   "outputs": [],
   "source": [
    "1 in tauList"
   ]
  },
  {
   "cell_type": "code",
   "execution_count": null,
   "metadata": {},
   "outputs": [],
   "source": [
    "j = {1:3,2:5,3:7}"
   ]
  },
  {
   "cell_type": "code",
   "execution_count": null,
   "metadata": {},
   "outputs": [],
   "source": [
    "[value for key, value in j.items() if key not in [1]]"
   ]
  },
  {
   "cell_type": "code",
   "execution_count": null,
   "metadata": {},
   "outputs": [],
   "source": [
    "import numpy as np\n",
    "TERegulationSet = {1:1}\n",
    "eta = 0\n",
    "TEexcision = np.asarray([1,1,1,1,1,1,1,1])\n",
    "TEfamily = np.asarray([1,1,1,1,1,1,1,1])\n",
    "TEexcEffective = np.zeros(len(TEexcision))"
   ]
  },
  {
   "cell_type": "code",
   "execution_count": null,
   "metadata": {},
   "outputs": [],
   "source": [
    "for keys in TERegulationSet:\n",
    "    print([value for key, value in TERegulationSet.items() if key != keys])"
   ]
  },
  {
   "cell_type": "code",
   "execution_count": null,
   "metadata": {},
   "outputs": [],
   "source": [
    "import numpy as np\n",
    "TERegulationSet = {1:1}\n",
    "eta = 0\n",
    "TEexcision = np.asarray([1,1,1,1,1,1,1,1])\n",
    "TEfamily = np.asarray([1,1,1,1,1,1,1,1])\n",
    "TEexcEffective = np.zeros(len(TEexcision))\n",
    "\n",
    "for keys in TERegulationSet.keys():\n",
    "    TERegulationSet[keys] = TERegulationSet[keys] + (\n",
    "        sum(\n",
    "            [\n",
    "                value\n",
    "                for key, value in TERegulationSet.items()\n",
    "                if key != keys\n",
    "            ]\n",
    "        )\n",
    "        * eta\n",
    "    )\n",
    "    if TERegulationSet[keys] > 1:\n",
    "        TERegulationSet[keys] = 1.0\n",
    "    indices = (TEfamily == keys).nonzero()[0]\n",
    "    print (indices)\n",
    "    TEexcEffective[indices] = TEexcision[indices] - (TEexcision[indices] * TERegulationSet[keys])\n",
    "print (TEexcEffective)"
   ]
  },
  {
   "cell_type": "code",
   "execution_count": null,
   "metadata": {},
   "outputs": [],
   "source": [
    "parameters = {\n",
    "    \"generations\": 10000,\n",
    "    \"selectionPenaltyMin\": 0.0,\n",
    "    \"selectionPenaltyMax\": 1.0,\n",
    "    \"etaMin\": 0.0,\n",
    "    \"etaMax\": 1.0,\n",
    "    \"tauMin\": 0.5,\n",
    "    \"tauMax\": 1.0,\n",
    "    \"ExcisionRateMainMin\": 0.0,\n",
    "    \"ExcisionRateMainMax\": 1.0,\n",
    "    \"ExcisionRateHGTMin\": 0.0,\n",
    "    \"ExcisionRateHGTMax\": 1.0,\n",
    "    \"FrequencyOfInsertionMainMin\": 0.1,\n",
    "    \"FrequencyOfInsertionMainMax\": 1.0,\n",
    "    \"FrequencyOfInsertionHGTMax\": 0.1,\n",
    "    \"FrequencyOfInsertionHGTMin\": 1.0,\n",
    "    \"HGTgenerationMin\": 5,\n",
    "    \"HGTgenerationMax\": 8000,\n",
    "    \"maxProcceses\": 72,\n",
    "}"
   ]
  },
  {
   "cell_type": "code",
   "execution_count": null,
   "metadata": {},
   "outputs": [],
   "source": [
    "from itertools import repeat,cycle"
   ]
  },
  {
   "cell_type": "code",
   "execution_count": 2,
   "metadata": {},
   "outputs": [],
   "source": [
    "k = np.array([1,2,3,4,5,1,1,4,5])"
   ]
  },
  {
   "cell_type": "code",
   "execution_count": 3,
   "metadata": {},
   "outputs": [
    {
     "data": {
      "text/plain": [
       "array([0, 5, 6])"
      ]
     },
     "execution_count": 3,
     "metadata": {},
     "output_type": "execute_result"
    }
   ],
   "source": [
    "(k == 1).nonzero()[0]"
   ]
  },
  {
   "cell_type": "code",
   "execution_count": 26,
   "metadata": {},
   "outputs": [
    {
     "data": {
      "text/plain": [
       "4"
      ]
     },
     "execution_count": 26,
     "metadata": {},
     "output_type": "execute_result"
    }
   ],
   "source": [
    "a = [1,1,2,3,3,4,5]\n",
    "b = [1,3,6,7]\n",
    "sum(el in b for el in a)"
   ]
  },
  {
   "cell_type": "code",
   "execution_count": 6,
   "metadata": {},
   "outputs": [],
   "source": [
    "from collections import Counter"
   ]
  },
  {
   "cell_type": "code",
   "execution_count": 8,
   "metadata": {},
   "outputs": [
    {
     "data": {
      "text/plain": [
       "0.0001148464403441169"
      ]
     },
     "execution_count": 8,
     "metadata": {},
     "output_type": "execute_result"
    }
   ],
   "source": [
    "from scipy.stats import loguniform\n",
    "\n",
    "loguniform.rvs(0.00001, 0.01)"
   ]
  },
  {
   "cell_type": "code",
   "execution_count": 21,
   "metadata": {},
   "outputs": [],
   "source": [
    "x = []\n",
    "for i in range(500):\n",
    "    x.append(-np.exp(np.random.uniform(np.log(0.000001), np.log(0.01))))"
   ]
  },
  {
   "cell_type": "code",
   "execution_count": 22,
   "metadata": {},
   "outputs": [
    {
     "data": {
      "application/vnd.plotly.v1+json": {
       "config": {
        "plotlyServerURL": "https://plot.ly"
       },
       "data": [
        {
         "alignmentgroup": "True",
         "bingroup": "x",
         "hovertemplate": "x=%{x}<br>count=%{y}<extra></extra>",
         "legendgroup": "",
         "marker": {
          "color": "#636efa"
         },
         "name": "",
         "offsetgroup": "",
         "orientation": "v",
         "showlegend": false,
         "type": "histogram",
         "x": [
          -1.368269036631198e-05,
          -0.0002411972234802463,
          -0.004824665221454082,
          -1.9924472809147437e-06,
          -0.0049519782404552765,
          -0.00015664588051861724,
          -1.1086985266296294e-05,
          -4.690639393547395e-05,
          -0.0014784139694680133,
          -2.6263288546282693e-06,
          -0.008777564323947083,
          -2.074338773671562e-05,
          -7.887106861633238e-06,
          -0.001987910957994856,
          -0.005967214967144698,
          -0.003986435163015108,
          -5.543836255491556e-06,
          -0.006967788357861126,
          -1.2002503257510197e-05,
          -2.5763752320324863e-05,
          -8.069760950601328e-06,
          -0.0004073679898319466,
          -2.1247749275026918e-06,
          -1.4259775205026084e-05,
          -1.484488035205716e-05,
          -0.003637997157127837,
          -4.245055506899735e-06,
          -0.00013811001385621212,
          -8.114884926467934e-05,
          -0.0011845559549027401,
          -0.0008977178659490329,
          -4.00876571536284e-06,
          -0.000676665886825842,
          -0.0005713213861045283,
          -0.0004098334587481362,
          -0.0016973707824669922,
          -1.1272552438173702e-06,
          -5.231059512694668e-06,
          -0.001567765955048605,
          -0.00031721514718017406,
          -1.358533936975213e-06,
          -0.0002244765601115307,
          -5.5887657342316113e-05,
          -0.00015277814777330068,
          -0.007734356500543265,
          -1.6853461059832185e-05,
          -0.00031463577421697163,
          -0.00018409922074390738,
          -5.9216164877744045e-06,
          -0.000198626200439949,
          -3.5467055232617875e-05,
          -8.17640834156837e-06,
          -7.877294176211266e-06,
          -0.00012082402171367274,
          -0.0028256896563731006,
          -2.8325718897778865e-06,
          -0.0001666137767478339,
          -2.047300476352319e-06,
          -2.7147307746351346e-06,
          -0.0006310741578645034,
          -3.363119775233315e-05,
          -0.001407361208557655,
          -0.0053348794992161604,
          -0.00018949846677539185,
          -0.003679486574608385,
          -0.000259942182034166,
          -1.5020890992803683e-05,
          -9.796614857216505e-06,
          -5.020187648847817e-05,
          -2.7308414577632376e-05,
          -0.007314447339666009,
          -0.0010127435064964576,
          -2.7854783112860825e-06,
          -1.515127443480514e-06,
          -0.00020729088687026302,
          -0.001287930008043416,
          -1.4923752303867828e-06,
          -0.0006881786583171058,
          -0.0026022948117919026,
          -1.558585309499483e-06,
          -0.0005802612899618911,
          -4.262281572742841e-05,
          -0.005729234422114263,
          -0.007818368203291766,
          -0.0012948173103442056,
          -1.8470840041685526e-05,
          -8.925643946250832e-06,
          -0.001618253327414239,
          -0.00014383475012229148,
          -1.98910292309889e-05,
          -3.0298814691769213e-05,
          -7.434493524106933e-05,
          -8.422961285209157e-05,
          -1.3401336631472078e-05,
          -2.7329591315311872e-05,
          -0.00010682256831943279,
          -0.00034134432776144113,
          -0.0008538513853004357,
          -7.711125192665902e-05,
          -5.4351250373301866e-05,
          -1.4492917419942516e-06,
          -0.008066975113748888,
          -0.00037080368156322335,
          -3.3878853480032474e-05,
          -0.004388561156732025,
          -8.702152086105295e-06,
          -1.1378970547792778e-06,
          -0.0003348706574000405,
          -0.003084490909722771,
          -6.123841449309703e-05,
          -0.0011358192061477225,
          -0.002655861434602289,
          -0.0006477373056774634,
          -4.062697780684544e-06,
          -0.0017317897978601545,
          -0.0001516882341703448,
          -6.161137402901648e-05,
          -4.9763370300622594e-05,
          -3.3919111996447803e-06,
          -0.00216582160874924,
          -9.522368406712321e-05,
          -3.4577839590094174e-06,
          -4.467494300945103e-06,
          -1.2559649762884154e-05,
          -0.0026893091002658976,
          -2.8979910744262075e-05,
          -1.6173625384840736e-06,
          -5.902948830634258e-06,
          -2.264959688493718e-06,
          -2.3665599828186965e-06,
          -5.6307010502823405e-05,
          -1.8595211123342336e-06,
          -8.750442987741302e-06,
          -0.0002614985714101742,
          -8.7583794759964e-06,
          -0.0022549931877739312,
          -9.305851570908629e-05,
          -3.527980533615657e-06,
          -0.00035381930403981845,
          -0.0002868657111265403,
          -2.6271248234771002e-05,
          -0.0017848076925480127,
          -9.939513389063737e-05,
          -4.888066333767067e-06,
          -0.0014960311513904552,
          -2.725325566521415e-05,
          -2.805570884935705e-05,
          -0.00010855923346946972,
          -0.001063949611237709,
          -0.0021096803316838497,
          -5.855153201293659e-06,
          -6.836992434849532e-06,
          -1.7960228082489466e-06,
          -0.005812022549327554,
          -1.583586396748082e-06,
          -0.0003297111415438741,
          -0.0010269865071736684,
          -7.375548618282542e-05,
          -0.0001755575172017991,
          -0.00011384896768928084,
          -3.3100027730040245e-06,
          -2.328416378377077e-06,
          -6.182968068786433e-06,
          -5.656689966357243e-05,
          -0.000640111902350994,
          -0.00046548101435533236,
          -0.0009171073965457427,
          -0.00030289920680264687,
          -1.0624848868240294e-06,
          -6.692772685206582e-06,
          -3.464791477352534e-05,
          -4.9577565535840797e-05,
          -1.6136200243198324e-05,
          -3.263606327850752e-05,
          -0.00023092844521055956,
          -0.0031466968641284303,
          -0.00020916902965100573,
          -0.00014928179813148543,
          -3.5532314216172584e-06,
          -3.896188467400643e-05,
          -0.0018913286026390522,
          -3.701714657845299e-06,
          -8.423760988221352e-05,
          -6.410358694836747e-05,
          -0.00035162144967870176,
          -3.379846627388211e-05,
          -7.525050615373173e-05,
          -4.511817458166641e-05,
          -1.218565774599043e-06,
          -5.393357963186446e-05,
          -9.375538280859172e-06,
          -1.0286091336779028e-05,
          -0.00027548293692388387,
          -0.008080230210033193,
          -3.633678824183413e-05,
          -0.00014710657790710917,
          -1.64703522510455e-06,
          -2.3444659567884127e-06,
          -0.0005570009576665493,
          -0.009241382781011262,
          -3.60613815147108e-05,
          -1.0224906540425214e-06,
          -3.577716712537335e-05,
          -0.0006810131688235827,
          -0.002221974574791927,
          -3.866832433834675e-05,
          -1.1996810350469869e-06,
          -3.4447607006029902e-06,
          -2.667505815872234e-06,
          -3.558156866407111e-06,
          -0.004160962659574592,
          -6.00594620945222e-06,
          -0.00030067908200384706,
          -0.00011272440140223269,
          -0.0001198120912321642,
          -0.009794331891382369,
          -8.789752243896282e-05,
          -1.979973893375616e-06,
          -4.976171084558026e-06,
          -9.626330298367447e-05,
          -5.382418173165065e-06,
          -0.0006344012054743897,
          -1.0216032367229782e-05,
          -8.317928619371884e-05,
          -0.000238053531952352,
          -1.8730607340861659e-06,
          -9.152816330706257e-06,
          -2.741686454551988e-05,
          -4.902586177309535e-05,
          -0.004499597094131592,
          -0.00023850761994632295,
          -3.0003470191963828e-06,
          -2.181046599601292e-06,
          -8.820501256031477e-06,
          -0.0038406019293720246,
          -6.610063072327086e-06,
          -0.002179699114103726,
          -5.877955915038165e-06,
          -4.34436803278674e-06,
          -0.0001019530835631365,
          -0.0011462394997805614,
          -1.2467332753013525e-06,
          -5.524630875590524e-06,
          -1.8662592396060322e-05,
          -2.4225614549100395e-06,
          -0.00034979858469629676,
          -7.068264874959229e-06,
          -0.0019966188377248386,
          -3.1426241581318915e-06,
          -9.639189332167112e-06,
          -0.00026659936313574756,
          -4.371712881089406e-05,
          -5.515159514291025e-06,
          -0.009051105472815617,
          -9.553879068246483e-05,
          -0.0024566924934256505,
          -4.002523831849627e-05,
          -3.131694195273285e-05,
          -0.00020646094172914445,
          -0.0007758538376412884,
          -3.9602666896844185e-06,
          -4.1737061736564744e-05,
          -0.00404106180677792,
          -0.00030908759771900894,
          -1.2936531268892315e-05,
          -0.00016853806431069886,
          -7.93573450684736e-05,
          -2.3314457834643035e-05,
          -2.1122742047747303e-05,
          -3.2379552776470794e-06,
          -2.090367056164025e-05,
          -0.0015178771185782,
          -0.00027373353272820125,
          -0.00010789378706847838,
          -0.00037373479513328666,
          -0.008056305275615641,
          -2.9654884686105366e-06,
          -1.9877529446129448e-05,
          -0.00035131170449623526,
          -0.002547616806968945,
          -1.3309878007890616e-06,
          -0.0008242642966946464,
          -1.0347191349784216e-05,
          -0.0001895323846081442,
          -0.001338471939497071,
          -0.004455092502442392,
          -0.00020535021320847746,
          -5.248099966520204e-05,
          -4.836192485412225e-05,
          -0.0002117067015425394,
          -5.493090975823623e-05,
          -0.00022263560017478885,
          -0.0004482657045563393,
          -1.8478017659014104e-06,
          -5.596700310444781e-05,
          -0.004872957048619948,
          -2.0570978189620817e-06,
          -0.009946645366626315,
          -3.4084010707892125e-06,
          -0.0007651832032104581,
          -7.643851408410141e-05,
          -1.575289572418229e-05,
          -0.002381740994930826,
          -2.5070407740970062e-05,
          -0.0003180496269360822,
          -1.4648656948978266e-05,
          -0.0006734723298361297,
          -0.005615360683427706,
          -8.494509579892475e-05,
          -0.003761767476926154,
          -0.0010747135022372088,
          -2.905276726018146e-05,
          -1.704265592787934e-05,
          -0.00019632547062374276,
          -0.0002586881240476206,
          -3.0683351823819173e-06,
          -0.0013347899995157272,
          -7.090114908758276e-05,
          -0.003554584584397562,
          -0.00016113344788048603,
          -0.0010714429763904998,
          -0.0003584864503698196,
          -0.0015106346017750632,
          -0.00012045251060594172,
          -0.00028448397839154213,
          -0.0007959365639612484,
          -4.437772791571199e-05,
          -0.0006368181303321565,
          -8.973631182430519e-06,
          -0.0022724564225681,
          -1.4865675648312883e-06,
          -0.00901444533424296,
          -4.700792660784501e-05,
          -5.210157313654688e-05,
          -0.0006376829835460211,
          -0.0009292392730072092,
          -0.00022951504285909834,
          -7.999610590236846e-05,
          -0.0018198882347263325,
          -7.162320136931752e-05,
          -5.775892889288644e-06,
          -1.40536812567232e-06,
          -0.00013346416330283704,
          -9.849279495633443e-05,
          -0.002056114655304553,
          -6.337733554046195e-05,
          -3.068264724325326e-05,
          -0.007508577325398788,
          -0.004388620042338707,
          -0.00019660270163169368,
          -0.00010541849748378426,
          -2.014440738588081e-05,
          -6.355289520503084e-05,
          -1.3300592458650223e-06,
          -3.0147148889965558e-06,
          -0.00019086757211869888,
          -7.851553219570248e-06,
          -3.111947210551433e-05,
          -0.0013527094030286288,
          -5.3853096956820015e-05,
          -0.0032147795737940852,
          -0.0002143824268928912,
          -0.0077926428839456205,
          -6.309764711009512e-05,
          -0.000293775087173679,
          -5.2126132584873534e-06,
          -0.009556067117128478,
          -1.8978368965702127e-06,
          -5.7257635024185245e-05,
          -0.00563062437501186,
          -3.52533487608217e-06,
          -0.0006084300996862204,
          -8.757070407123414e-06,
          -0.00018937304031821684,
          -1.6811246477393533e-06,
          -1.9579806368471456e-05,
          -2.7667730632707562e-05,
          -0.001291711459364195,
          -0.0019285168147791891,
          -4.4581342691939174e-06,
          -3.2741870954282176e-05,
          -0.003544851803470446,
          -0.007481643327479883,
          -0.00010864525509735184,
          -1.4991420834212505e-06,
          -1.084594206366298e-05,
          -1.233803613738639e-06,
          -0.005517870120644164,
          -3.166935356132801e-06,
          -6.410218798442583e-05,
          -3.023836191085226e-05,
          -9.27767359976596e-05,
          -0.005073312124298128,
          -0.0013905577245895593,
          -1.1290078431127887e-06,
          -0.00030049385799951517,
          -2.881243911679928e-05,
          -0.0004919863055517465,
          -2.708568814195543e-06,
          -0.004904088158373772,
          -1.0637584967475334e-05,
          -0.0008280074416890388,
          -1.4989158512465982e-05,
          -5.754253454903012e-06,
          -5.716238321821649e-05,
          -3.4015517798006145e-05,
          -2.943190670927453e-06,
          -2.472546567934803e-05,
          -0.00501110228142061,
          -8.750483393118783e-05,
          -5.004665746146693e-05,
          -3.69187444228541e-05,
          -0.0012465026914378777,
          -1.2062083327137364e-05,
          -1.9504360324744963e-06,
          -1.2589010596082212e-06,
          -7.03045075303552e-05,
          -0.0001615420308071368,
          -2.3335613660249458e-06,
          -1.0569449917140238e-06,
          -0.000899255789833984,
          -2.0993109996233378e-05,
          -5.5114593076637e-05,
          -3.828527841051528e-05,
          -0.0068281168925033095,
          -0.0004239098308602897,
          -0.002217731580982778,
          -1.781480242989604e-05,
          -1.0691942870983219e-06,
          -1.961427599029325e-05,
          -5.332966225648799e-05,
          -2.3532742003771914e-06,
          -2.2786529857719082e-06,
          -0.0002513713765222197,
          -6.608183413926416e-05,
          -0.005617895898629675,
          -9.009421129041471e-05,
          -3.356746702294404e-06,
          -7.356673216546487e-06,
          -0.0032026302219817877,
          -0.00042407895905309073,
          -1.79367374879076e-05,
          -0.0002126211601136687,
          -8.104321744476504e-05,
          -3.4962067356993354e-06,
          -0.002790190713340377,
          -0.0005985200667857648,
          -5.4776879404508665e-05,
          -3.429702487306397e-06,
          -7.523687411273277e-05,
          -8.33817986432195e-05,
          -4.4535594316633856e-05,
          -9.617374591448625e-06,
          -1.3821295344620913e-05,
          -5.801993535150201e-05,
          -2.7654932093747162e-06,
          -0.0010989023665124776,
          -9.767332080974875e-05,
          -0.0007403845394429643,
          -1.3102049002911713e-05,
          -0.001128329808901338,
          -0.0027354726708453707,
          -0.008657574802274295,
          -1.093291556823603e-06,
          -4.6032522464419846e-06,
          -0.0003064701132098118,
          -7.697223356076137e-06,
          -0.0005986416515253985,
          -3.169119760479807e-05,
          -1.1342481202892405e-06,
          -0.0002839616311885257,
          -0.001212380183931026,
          -5.2458229355040055e-06,
          -8.654434415406937e-06,
          -0.0010444679969652255,
          -0.00036987676588338557,
          -3.0967917569662304e-05,
          -4.421090168002262e-06,
          -0.0002147324653323147,
          -3.6748604132725075e-06,
          -9.86338234823541e-06,
          -1.4298237774112155e-05,
          -0.00021317656174879167,
          -0.00011691306756872778,
          -0.000844661804235426,
          -0.0006633373611133922,
          -3.260728590660448e-05,
          -0.0006543010018119568,
          -1.111301939899137e-05,
          -5.512712580252468e-05,
          -0.00047206296252738335,
          -5.764310933677208e-06,
          -0.00580397278760109,
          -0.0015674313732515395,
          -0.00017323499117688067,
          -4.594253456564285e-06,
          -1.3382223163016774e-05,
          -0.00029349959696059013,
          -0.0006110008063279196,
          -7.266479862737577e-05
         ],
         "xaxis": "x",
         "yaxis": "y"
        }
       ],
       "layout": {
        "autosize": true,
        "barmode": "relative",
        "legend": {
         "tracegroupgap": 0
        },
        "margin": {
         "t": 60
        },
        "template": {
         "data": {
          "bar": [
           {
            "error_x": {
             "color": "#2a3f5f"
            },
            "error_y": {
             "color": "#2a3f5f"
            },
            "marker": {
             "line": {
              "color": "#E5ECF6",
              "width": 0.5
             }
            },
            "type": "bar"
           }
          ],
          "barpolar": [
           {
            "marker": {
             "line": {
              "color": "#E5ECF6",
              "width": 0.5
             }
            },
            "type": "barpolar"
           }
          ],
          "carpet": [
           {
            "aaxis": {
             "endlinecolor": "#2a3f5f",
             "gridcolor": "white",
             "linecolor": "white",
             "minorgridcolor": "white",
             "startlinecolor": "#2a3f5f"
            },
            "baxis": {
             "endlinecolor": "#2a3f5f",
             "gridcolor": "white",
             "linecolor": "white",
             "minorgridcolor": "white",
             "startlinecolor": "#2a3f5f"
            },
            "type": "carpet"
           }
          ],
          "choropleth": [
           {
            "colorbar": {
             "outlinewidth": 0,
             "ticks": ""
            },
            "type": "choropleth"
           }
          ],
          "contour": [
           {
            "colorbar": {
             "outlinewidth": 0,
             "ticks": ""
            },
            "colorscale": [
             [
              0,
              "#0d0887"
             ],
             [
              0.1111111111111111,
              "#46039f"
             ],
             [
              0.2222222222222222,
              "#7201a8"
             ],
             [
              0.3333333333333333,
              "#9c179e"
             ],
             [
              0.4444444444444444,
              "#bd3786"
             ],
             [
              0.5555555555555556,
              "#d8576b"
             ],
             [
              0.6666666666666666,
              "#ed7953"
             ],
             [
              0.7777777777777778,
              "#fb9f3a"
             ],
             [
              0.8888888888888888,
              "#fdca26"
             ],
             [
              1,
              "#f0f921"
             ]
            ],
            "type": "contour"
           }
          ],
          "contourcarpet": [
           {
            "colorbar": {
             "outlinewidth": 0,
             "ticks": ""
            },
            "type": "contourcarpet"
           }
          ],
          "heatmap": [
           {
            "colorbar": {
             "outlinewidth": 0,
             "ticks": ""
            },
            "colorscale": [
             [
              0,
              "#0d0887"
             ],
             [
              0.1111111111111111,
              "#46039f"
             ],
             [
              0.2222222222222222,
              "#7201a8"
             ],
             [
              0.3333333333333333,
              "#9c179e"
             ],
             [
              0.4444444444444444,
              "#bd3786"
             ],
             [
              0.5555555555555556,
              "#d8576b"
             ],
             [
              0.6666666666666666,
              "#ed7953"
             ],
             [
              0.7777777777777778,
              "#fb9f3a"
             ],
             [
              0.8888888888888888,
              "#fdca26"
             ],
             [
              1,
              "#f0f921"
             ]
            ],
            "type": "heatmap"
           }
          ],
          "heatmapgl": [
           {
            "colorbar": {
             "outlinewidth": 0,
             "ticks": ""
            },
            "colorscale": [
             [
              0,
              "#0d0887"
             ],
             [
              0.1111111111111111,
              "#46039f"
             ],
             [
              0.2222222222222222,
              "#7201a8"
             ],
             [
              0.3333333333333333,
              "#9c179e"
             ],
             [
              0.4444444444444444,
              "#bd3786"
             ],
             [
              0.5555555555555556,
              "#d8576b"
             ],
             [
              0.6666666666666666,
              "#ed7953"
             ],
             [
              0.7777777777777778,
              "#fb9f3a"
             ],
             [
              0.8888888888888888,
              "#fdca26"
             ],
             [
              1,
              "#f0f921"
             ]
            ],
            "type": "heatmapgl"
           }
          ],
          "histogram": [
           {
            "marker": {
             "colorbar": {
              "outlinewidth": 0,
              "ticks": ""
             }
            },
            "type": "histogram"
           }
          ],
          "histogram2d": [
           {
            "colorbar": {
             "outlinewidth": 0,
             "ticks": ""
            },
            "colorscale": [
             [
              0,
              "#0d0887"
             ],
             [
              0.1111111111111111,
              "#46039f"
             ],
             [
              0.2222222222222222,
              "#7201a8"
             ],
             [
              0.3333333333333333,
              "#9c179e"
             ],
             [
              0.4444444444444444,
              "#bd3786"
             ],
             [
              0.5555555555555556,
              "#d8576b"
             ],
             [
              0.6666666666666666,
              "#ed7953"
             ],
             [
              0.7777777777777778,
              "#fb9f3a"
             ],
             [
              0.8888888888888888,
              "#fdca26"
             ],
             [
              1,
              "#f0f921"
             ]
            ],
            "type": "histogram2d"
           }
          ],
          "histogram2dcontour": [
           {
            "colorbar": {
             "outlinewidth": 0,
             "ticks": ""
            },
            "colorscale": [
             [
              0,
              "#0d0887"
             ],
             [
              0.1111111111111111,
              "#46039f"
             ],
             [
              0.2222222222222222,
              "#7201a8"
             ],
             [
              0.3333333333333333,
              "#9c179e"
             ],
             [
              0.4444444444444444,
              "#bd3786"
             ],
             [
              0.5555555555555556,
              "#d8576b"
             ],
             [
              0.6666666666666666,
              "#ed7953"
             ],
             [
              0.7777777777777778,
              "#fb9f3a"
             ],
             [
              0.8888888888888888,
              "#fdca26"
             ],
             [
              1,
              "#f0f921"
             ]
            ],
            "type": "histogram2dcontour"
           }
          ],
          "mesh3d": [
           {
            "colorbar": {
             "outlinewidth": 0,
             "ticks": ""
            },
            "type": "mesh3d"
           }
          ],
          "parcoords": [
           {
            "line": {
             "colorbar": {
              "outlinewidth": 0,
              "ticks": ""
             }
            },
            "type": "parcoords"
           }
          ],
          "pie": [
           {
            "automargin": true,
            "type": "pie"
           }
          ],
          "scatter": [
           {
            "marker": {
             "colorbar": {
              "outlinewidth": 0,
              "ticks": ""
             }
            },
            "type": "scatter"
           }
          ],
          "scatter3d": [
           {
            "line": {
             "colorbar": {
              "outlinewidth": 0,
              "ticks": ""
             }
            },
            "marker": {
             "colorbar": {
              "outlinewidth": 0,
              "ticks": ""
             }
            },
            "type": "scatter3d"
           }
          ],
          "scattercarpet": [
           {
            "marker": {
             "colorbar": {
              "outlinewidth": 0,
              "ticks": ""
             }
            },
            "type": "scattercarpet"
           }
          ],
          "scattergeo": [
           {
            "marker": {
             "colorbar": {
              "outlinewidth": 0,
              "ticks": ""
             }
            },
            "type": "scattergeo"
           }
          ],
          "scattergl": [
           {
            "marker": {
             "colorbar": {
              "outlinewidth": 0,
              "ticks": ""
             }
            },
            "type": "scattergl"
           }
          ],
          "scattermapbox": [
           {
            "marker": {
             "colorbar": {
              "outlinewidth": 0,
              "ticks": ""
             }
            },
            "type": "scattermapbox"
           }
          ],
          "scatterpolar": [
           {
            "marker": {
             "colorbar": {
              "outlinewidth": 0,
              "ticks": ""
             }
            },
            "type": "scatterpolar"
           }
          ],
          "scatterpolargl": [
           {
            "marker": {
             "colorbar": {
              "outlinewidth": 0,
              "ticks": ""
             }
            },
            "type": "scatterpolargl"
           }
          ],
          "scatterternary": [
           {
            "marker": {
             "colorbar": {
              "outlinewidth": 0,
              "ticks": ""
             }
            },
            "type": "scatterternary"
           }
          ],
          "surface": [
           {
            "colorbar": {
             "outlinewidth": 0,
             "ticks": ""
            },
            "colorscale": [
             [
              0,
              "#0d0887"
             ],
             [
              0.1111111111111111,
              "#46039f"
             ],
             [
              0.2222222222222222,
              "#7201a8"
             ],
             [
              0.3333333333333333,
              "#9c179e"
             ],
             [
              0.4444444444444444,
              "#bd3786"
             ],
             [
              0.5555555555555556,
              "#d8576b"
             ],
             [
              0.6666666666666666,
              "#ed7953"
             ],
             [
              0.7777777777777778,
              "#fb9f3a"
             ],
             [
              0.8888888888888888,
              "#fdca26"
             ],
             [
              1,
              "#f0f921"
             ]
            ],
            "type": "surface"
           }
          ],
          "table": [
           {
            "cells": {
             "fill": {
              "color": "#EBF0F8"
             },
             "line": {
              "color": "white"
             }
            },
            "header": {
             "fill": {
              "color": "#C8D4E3"
             },
             "line": {
              "color": "white"
             }
            },
            "type": "table"
           }
          ]
         },
         "layout": {
          "annotationdefaults": {
           "arrowcolor": "#2a3f5f",
           "arrowhead": 0,
           "arrowwidth": 1
          },
          "coloraxis": {
           "colorbar": {
            "outlinewidth": 0,
            "ticks": ""
           }
          },
          "colorscale": {
           "diverging": [
            [
             0,
             "#8e0152"
            ],
            [
             0.1,
             "#c51b7d"
            ],
            [
             0.2,
             "#de77ae"
            ],
            [
             0.3,
             "#f1b6da"
            ],
            [
             0.4,
             "#fde0ef"
            ],
            [
             0.5,
             "#f7f7f7"
            ],
            [
             0.6,
             "#e6f5d0"
            ],
            [
             0.7,
             "#b8e186"
            ],
            [
             0.8,
             "#7fbc41"
            ],
            [
             0.9,
             "#4d9221"
            ],
            [
             1,
             "#276419"
            ]
           ],
           "sequential": [
            [
             0,
             "#0d0887"
            ],
            [
             0.1111111111111111,
             "#46039f"
            ],
            [
             0.2222222222222222,
             "#7201a8"
            ],
            [
             0.3333333333333333,
             "#9c179e"
            ],
            [
             0.4444444444444444,
             "#bd3786"
            ],
            [
             0.5555555555555556,
             "#d8576b"
            ],
            [
             0.6666666666666666,
             "#ed7953"
            ],
            [
             0.7777777777777778,
             "#fb9f3a"
            ],
            [
             0.8888888888888888,
             "#fdca26"
            ],
            [
             1,
             "#f0f921"
            ]
           ],
           "sequentialminus": [
            [
             0,
             "#0d0887"
            ],
            [
             0.1111111111111111,
             "#46039f"
            ],
            [
             0.2222222222222222,
             "#7201a8"
            ],
            [
             0.3333333333333333,
             "#9c179e"
            ],
            [
             0.4444444444444444,
             "#bd3786"
            ],
            [
             0.5555555555555556,
             "#d8576b"
            ],
            [
             0.6666666666666666,
             "#ed7953"
            ],
            [
             0.7777777777777778,
             "#fb9f3a"
            ],
            [
             0.8888888888888888,
             "#fdca26"
            ],
            [
             1,
             "#f0f921"
            ]
           ]
          },
          "colorway": [
           "#636efa",
           "#EF553B",
           "#00cc96",
           "#ab63fa",
           "#FFA15A",
           "#19d3f3",
           "#FF6692",
           "#B6E880",
           "#FF97FF",
           "#FECB52"
          ],
          "font": {
           "color": "#2a3f5f"
          },
          "geo": {
           "bgcolor": "white",
           "lakecolor": "white",
           "landcolor": "#E5ECF6",
           "showlakes": true,
           "showland": true,
           "subunitcolor": "white"
          },
          "hoverlabel": {
           "align": "left"
          },
          "hovermode": "closest",
          "mapbox": {
           "style": "light"
          },
          "paper_bgcolor": "white",
          "plot_bgcolor": "#E5ECF6",
          "polar": {
           "angularaxis": {
            "gridcolor": "white",
            "linecolor": "white",
            "ticks": ""
           },
           "bgcolor": "#E5ECF6",
           "radialaxis": {
            "gridcolor": "white",
            "linecolor": "white",
            "ticks": ""
           }
          },
          "scene": {
           "xaxis": {
            "backgroundcolor": "#E5ECF6",
            "gridcolor": "white",
            "gridwidth": 2,
            "linecolor": "white",
            "showbackground": true,
            "ticks": "",
            "zerolinecolor": "white"
           },
           "yaxis": {
            "backgroundcolor": "#E5ECF6",
            "gridcolor": "white",
            "gridwidth": 2,
            "linecolor": "white",
            "showbackground": true,
            "ticks": "",
            "zerolinecolor": "white"
           },
           "zaxis": {
            "backgroundcolor": "#E5ECF6",
            "gridcolor": "white",
            "gridwidth": 2,
            "linecolor": "white",
            "showbackground": true,
            "ticks": "",
            "zerolinecolor": "white"
           }
          },
          "shapedefaults": {
           "line": {
            "color": "#2a3f5f"
           }
          },
          "ternary": {
           "aaxis": {
            "gridcolor": "white",
            "linecolor": "white",
            "ticks": ""
           },
           "baxis": {
            "gridcolor": "white",
            "linecolor": "white",
            "ticks": ""
           },
           "bgcolor": "#E5ECF6",
           "caxis": {
            "gridcolor": "white",
            "linecolor": "white",
            "ticks": ""
           }
          },
          "title": {
           "x": 0.05
          },
          "xaxis": {
           "automargin": true,
           "gridcolor": "white",
           "linecolor": "white",
           "ticks": "",
           "title": {
            "standoff": 15
           },
           "zerolinecolor": "white",
           "zerolinewidth": 2
          },
          "yaxis": {
           "automargin": true,
           "gridcolor": "white",
           "linecolor": "white",
           "ticks": "",
           "title": {
            "standoff": 15
           },
           "zerolinecolor": "white",
           "zerolinewidth": 2
          }
         }
        },
        "xaxis": {
         "anchor": "y",
         "autorange": true,
         "domain": [
          0,
          1
         ],
         "range": [
          -0.01025,
          0.0002500000000000048
         ],
         "title": {
          "text": "x"
         },
         "type": "linear"
        },
        "yaxis": {
         "anchor": "x",
         "autorange": true,
         "domain": [
          0,
          1
         ],
         "range": [
          0,
          343.1578947368421
         ],
         "title": {
          "text": "count"
         }
        }
       }
      },
      "image/png": "[encoded data removed]",
      "text/html": [
       "<div>\n",
       "        \n",
       "        \n",
       "            <div id=\"bcefd631-ea84-437e-96cc-49f99d2a0421\" class=\"plotly-graph-div\" style=\"height:525px; width:100%;\"></div>\n",
       "            <script type=\"text/javascript\">\n",
       "                require([\"plotly\"], function(Plotly) {\n",
       "                    window.PLOTLYENV=window.PLOTLYENV || {};\n",
       "                    \n",
       "                if (document.getElementById(\"bcefd631-ea84-437e-96cc-49f99d2a0421\")) {\n",
       "                    Plotly.newPlot(\n",
       "                        'bcefd631-ea84-437e-96cc-49f99d2a0421',\n",
       "                        [{\"alignmentgroup\": \"True\", \"bingroup\": \"x\", \"hovertemplate\": \"x=%{x}<br>count=%{y}<extra></extra>\", \"legendgroup\": \"\", \"marker\": {\"color\": \"#636efa\"}, \"name\": \"\", \"offsetgroup\": \"\", \"orientation\": \"v\", \"showlegend\": false, \"type\": \"histogram\", \"x\": [-1.368269036631198e-05, -0.0002411972234802463, -0.004824665221454082, -1.9924472809147437e-06, -0.0049519782404552765, -0.00015664588051861724, -1.1086985266296294e-05, -4.690639393547395e-05, -0.0014784139694680133, -2.6263288546282693e-06, -0.008777564323947083, -2.074338773671562e-05, -7.887106861633238e-06, -0.001987910957994856, -0.005967214967144698, -0.003986435163015108, -5.543836255491556e-06, -0.006967788357861126, -1.2002503257510197e-05, -2.5763752320324863e-05, -8.069760950601328e-06, -0.0004073679898319466, -2.1247749275026918e-06, -1.4259775205026084e-05, -1.484488035205716e-05, -0.003637997157127837, -4.245055506899735e-06, -0.00013811001385621212, -8.114884926467934e-05, -0.0011845559549027401, -0.0008977178659490329, -4.00876571536284e-06, -0.000676665886825842, -0.0005713213861045283, -0.0004098334587481362, -0.0016973707824669922, -1.1272552438173702e-06, -5.231059512694668e-06, -0.001567765955048605, -0.00031721514718017406, -1.358533936975213e-06, -0.0002244765601115307, -5.5887657342316113e-05, -0.00015277814777330068, -0.007734356500543265, -1.6853461059832185e-05, -0.00031463577421697163, -0.00018409922074390738, -5.9216164877744045e-06, -0.000198626200439949, -3.5467055232617875e-05, -8.17640834156837e-06, -7.877294176211266e-06, -0.00012082402171367274, -0.0028256896563731006, -2.8325718897778865e-06, -0.0001666137767478339, -2.047300476352319e-06, -2.7147307746351346e-06, -0.0006310741578645034, -3.363119775233315e-05, -0.001407361208557655, -0.0053348794992161604, -0.00018949846677539185, -0.003679486574608385, -0.000259942182034166, -1.5020890992803683e-05, -9.796614857216505e-06, -5.020187648847817e-05, -2.7308414577632376e-05, -0.007314447339666009, -0.0010127435064964576, -2.7854783112860825e-06, -1.515127443480514e-06, -0.00020729088687026302, -0.001287930008043416, -1.4923752303867828e-06, -0.0006881786583171058, -0.0026022948117919026, -1.558585309499483e-06, -0.0005802612899618911, -4.262281572742841e-05, -0.005729234422114263, -0.007818368203291766, -0.0012948173103442056, -1.8470840041685526e-05, -8.925643946250832e-06, -0.001618253327414239, -0.00014383475012229148, -1.98910292309889e-05, -3.0298814691769213e-05, -7.434493524106933e-05, -8.422961285209157e-05, -1.3401336631472078e-05, -2.7329591315311872e-05, -0.00010682256831943279, -0.00034134432776144113, -0.0008538513853004357, -7.711125192665902e-05, -5.4351250373301866e-05, -1.4492917419942516e-06, -0.008066975113748888, -0.00037080368156322335, -3.3878853480032474e-05, -0.004388561156732025, -8.702152086105295e-06, -1.1378970547792778e-06, -0.0003348706574000405, -0.003084490909722771, -6.123841449309703e-05, -0.0011358192061477225, -0.002655861434602289, -0.0006477373056774634, -4.062697780684544e-06, -0.0017317897978601545, -0.0001516882341703448, -6.161137402901648e-05, -4.9763370300622594e-05, -3.3919111996447803e-06, -0.00216582160874924, -9.522368406712321e-05, -3.4577839590094174e-06, -4.467494300945103e-06, -1.2559649762884154e-05, -0.0026893091002658976, -2.8979910744262075e-05, -1.6173625384840736e-06, -5.902948830634258e-06, -2.264959688493718e-06, -2.3665599828186965e-06, -5.6307010502823405e-05, -1.8595211123342336e-06, -8.750442987741302e-06, -0.0002614985714101742, -8.7583794759964e-06, -0.0022549931877739312, -9.305851570908629e-05, -3.527980533615657e-06, -0.00035381930403981845, -0.0002868657111265403, -2.6271248234771002e-05, -0.0017848076925480127, -9.939513389063737e-05, -4.888066333767067e-06, -0.0014960311513904552, -2.725325566521415e-05, -2.805570884935705e-05, -0.00010855923346946972, -0.001063949611237709, -0.0021096803316838497, -5.855153201293659e-06, -6.836992434849532e-06, -1.7960228082489466e-06, -0.005812022549327554, -1.583586396748082e-06, -0.0003297111415438741, -0.0010269865071736684, -7.375548618282542e-05, -0.0001755575172017991, -0.00011384896768928084, -3.3100027730040245e-06, -2.328416378377077e-06, -6.182968068786433e-06, -5.656689966357243e-05, -0.000640111902350994, -0.00046548101435533236, -0.0009171073965457427, -0.00030289920680264687, -1.0624848868240294e-06, -6.692772685206582e-06, -3.464791477352534e-05, -4.9577565535840797e-05, -1.6136200243198324e-05, -3.263606327850752e-05, -0.00023092844521055956, -0.0031466968641284303, -0.00020916902965100573, -0.00014928179813148543, -3.5532314216172584e-06, -3.896188467400643e-05, -0.0018913286026390522, -3.701714657845299e-06, -8.423760988221352e-05, -6.410358694836747e-05, -0.00035162144967870176, -3.379846627388211e-05, -7.525050615373173e-05, -4.511817458166641e-05, -1.218565774599043e-06, -5.393357963186446e-05, -9.375538280859172e-06, -1.0286091336779028e-05, -0.00027548293692388387, -0.008080230210033193, -3.633678824183413e-05, -0.00014710657790710917, -1.64703522510455e-06, -2.3444659567884127e-06, -0.0005570009576665493, -0.009241382781011262, -3.60613815147108e-05, -1.0224906540425214e-06, -3.577716712537335e-05, -0.0006810131688235827, -0.002221974574791927, -3.866832433834675e-05, -1.1996810350469869e-06, -3.4447607006029902e-06, -2.667505815872234e-06, -3.558156866407111e-06, -0.004160962659574592, -6.00594620945222e-06, -0.00030067908200384706, -0.00011272440140223269, -0.0001198120912321642, -0.009794331891382369, -8.789752243896282e-05, -1.979973893375616e-06, -4.976171084558026e-06, -9.626330298367447e-05, -5.382418173165065e-06, -0.0006344012054743897, -1.0216032367229782e-05, -8.317928619371884e-05, -0.000238053531952352, -1.8730607340861659e-06, -9.152816330706257e-06, -2.741686454551988e-05, -4.902586177309535e-05, -0.004499597094131592, -0.00023850761994632295, -3.0003470191963828e-06, -2.181046599601292e-06, -8.820501256031477e-06, -0.0038406019293720246, -6.610063072327086e-06, -0.002179699114103726, -5.877955915038165e-06, -4.34436803278674e-06, -0.0001019530835631365, -0.0011462394997805614, -1.2467332753013525e-06, -5.524630875590524e-06, -1.8662592396060322e-05, -2.4225614549100395e-06, -0.00034979858469629676, -7.068264874959229e-06, -0.0019966188377248386, -3.1426241581318915e-06, -9.639189332167112e-06, -0.00026659936313574756, -4.371712881089406e-05, -5.515159514291025e-06, -0.009051105472815617, -9.553879068246483e-05, -0.0024566924934256505, -4.002523831849627e-05, -3.131694195273285e-05, -0.00020646094172914445, -0.0007758538376412884, -3.9602666896844185e-06, -4.1737061736564744e-05, -0.00404106180677792, -0.00030908759771900894, -1.2936531268892315e-05, -0.00016853806431069886, -7.93573450684736e-05, -2.3314457834643035e-05, -2.1122742047747303e-05, -3.2379552776470794e-06, -2.090367056164025e-05, -0.0015178771185782, -0.00027373353272820125, -0.00010789378706847838, -0.00037373479513328666, -0.008056305275615641, -2.9654884686105366e-06, -1.9877529446129448e-05, -0.00035131170449623526, -0.002547616806968945, -1.3309878007890616e-06, -0.0008242642966946464, -1.0347191349784216e-05, -0.0001895323846081442, -0.001338471939497071, -0.004455092502442392, -0.00020535021320847746, -5.248099966520204e-05, -4.836192485412225e-05, -0.0002117067015425394, -5.493090975823623e-05, -0.00022263560017478885, -0.0004482657045563393, -1.8478017659014104e-06, -5.596700310444781e-05, -0.004872957048619948, -2.0570978189620817e-06, -0.009946645366626315, -3.4084010707892125e-06, -0.0007651832032104581, -7.643851408410141e-05, -1.575289572418229e-05, -0.002381740994930826, -2.5070407740970062e-05, -0.0003180496269360822, -1.4648656948978266e-05, -0.0006734723298361297, -0.005615360683427706, -8.494509579892475e-05, -0.003761767476926154, -0.0010747135022372088, -2.905276726018146e-05, -1.704265592787934e-05, -0.00019632547062374276, -0.0002586881240476206, -3.0683351823819173e-06, -0.0013347899995157272, -7.090114908758276e-05, -0.003554584584397562, -0.00016113344788048603, -0.0010714429763904998, -0.0003584864503698196, -0.0015106346017750632, -0.00012045251060594172, -0.00028448397839154213, -0.0007959365639612484, -4.437772791571199e-05, -0.0006368181303321565, -8.973631182430519e-06, -0.0022724564225681, -1.4865675648312883e-06, -0.00901444533424296, -4.700792660784501e-05, -5.210157313654688e-05, -0.0006376829835460211, -0.0009292392730072092, -0.00022951504285909834, -7.999610590236846e-05, -0.0018198882347263325, -7.162320136931752e-05, -5.775892889288644e-06, -1.40536812567232e-06, -0.00013346416330283704, -9.849279495633443e-05, -0.002056114655304553, -6.337733554046195e-05, -3.068264724325326e-05, -0.007508577325398788, -0.004388620042338707, -0.00019660270163169368, -0.00010541849748378426, -2.014440738588081e-05, -6.355289520503084e-05, -1.3300592458650223e-06, -3.0147148889965558e-06, -0.00019086757211869888, -7.851553219570248e-06, -3.111947210551433e-05, -0.0013527094030286288, -5.3853096956820015e-05, -0.0032147795737940852, -0.0002143824268928912, -0.0077926428839456205, -6.309764711009512e-05, -0.000293775087173679, -5.2126132584873534e-06, -0.009556067117128478, -1.8978368965702127e-06, -5.7257635024185245e-05, -0.00563062437501186, -3.52533487608217e-06, -0.0006084300996862204, -8.757070407123414e-06, -0.00018937304031821684, -1.6811246477393533e-06, -1.9579806368471456e-05, -2.7667730632707562e-05, -0.001291711459364195, -0.0019285168147791891, -4.4581342691939174e-06, -3.2741870954282176e-05, -0.003544851803470446, -0.007481643327479883, -0.00010864525509735184, -1.4991420834212505e-06, -1.084594206366298e-05, -1.233803613738639e-06, -0.005517870120644164, -3.166935356132801e-06, -6.410218798442583e-05, -3.023836191085226e-05, -9.27767359976596e-05, -0.005073312124298128, -0.0013905577245895593, -1.1290078431127887e-06, -0.00030049385799951517, -2.881243911679928e-05, -0.0004919863055517465, -2.708568814195543e-06, -0.004904088158373772, -1.0637584967475334e-05, -0.0008280074416890388, -1.4989158512465982e-05, -5.754253454903012e-06, -5.716238321821649e-05, -3.4015517798006145e-05, -2.943190670927453e-06, -2.472546567934803e-05, -0.00501110228142061, -8.750483393118783e-05, -5.004665746146693e-05, -3.69187444228541e-05, -0.0012465026914378777, -1.2062083327137364e-05, -1.9504360324744963e-06, -1.2589010596082212e-06, -7.03045075303552e-05, -0.0001615420308071368, -2.3335613660249458e-06, -1.0569449917140238e-06, -0.000899255789833984, -2.0993109996233378e-05, -5.5114593076637e-05, -3.828527841051528e-05, -0.0068281168925033095, -0.0004239098308602897, -0.002217731580982778, -1.781480242989604e-05, -1.0691942870983219e-06, -1.961427599029325e-05, -5.332966225648799e-05, -2.3532742003771914e-06, -2.2786529857719082e-06, -0.0002513713765222197, -6.608183413926416e-05, -0.005617895898629675, -9.009421129041471e-05, -3.356746702294404e-06, -7.356673216546487e-06, -0.0032026302219817877, -0.00042407895905309073, -1.79367374879076e-05, -0.0002126211601136687, -8.104321744476504e-05, -3.4962067356993354e-06, -0.002790190713340377, -0.0005985200667857648, -5.4776879404508665e-05, -3.429702487306397e-06, -7.523687411273277e-05, -8.33817986432195e-05, -4.4535594316633856e-05, -9.617374591448625e-06, -1.3821295344620913e-05, -5.801993535150201e-05, -2.7654932093747162e-06, -0.0010989023665124776, -9.767332080974875e-05, -0.0007403845394429643, -1.3102049002911713e-05, -0.001128329808901338, -0.0027354726708453707, -0.008657574802274295, -1.093291556823603e-06, -4.6032522464419846e-06, -0.0003064701132098118, -7.697223356076137e-06, -0.0005986416515253985, -3.169119760479807e-05, -1.1342481202892405e-06, -0.0002839616311885257, -0.001212380183931026, -5.2458229355040055e-06, -8.654434415406937e-06, -0.0010444679969652255, -0.00036987676588338557, -3.0967917569662304e-05, -4.421090168002262e-06, -0.0002147324653323147, -3.6748604132725075e-06, -9.86338234823541e-06, -1.4298237774112155e-05, -0.00021317656174879167, -0.00011691306756872778, -0.000844661804235426, -0.0006633373611133922, -3.260728590660448e-05, -0.0006543010018119568, -1.111301939899137e-05, -5.512712580252468e-05, -0.00047206296252738335, -5.764310933677208e-06, -0.00580397278760109, -0.0015674313732515395, -0.00017323499117688067, -4.594253456564285e-06, -1.3382223163016774e-05, -0.00029349959696059013, -0.0006110008063279196, -7.266479862737577e-05], \"xaxis\": \"x\", \"yaxis\": \"y\"}],\n",
       "                        {\"barmode\": \"relative\", \"legend\": {\"tracegroupgap\": 0}, \"margin\": {\"t\": 60}, \"template\": {\"data\": {\"bar\": [{\"error_x\": {\"color\": \"#2a3f5f\"}, \"error_y\": {\"color\": \"#2a3f5f\"}, \"marker\": {\"line\": {\"color\": \"#E5ECF6\", \"width\": 0.5}}, \"type\": \"bar\"}], \"barpolar\": [{\"marker\": {\"line\": {\"color\": \"#E5ECF6\", \"width\": 0.5}}, \"type\": \"barpolar\"}], \"carpet\": [{\"aaxis\": {\"endlinecolor\": \"#2a3f5f\", \"gridcolor\": \"white\", \"linecolor\": \"white\", \"minorgridcolor\": \"white\", \"startlinecolor\": \"#2a3f5f\"}, \"baxis\": {\"endlinecolor\": \"#2a3f5f\", \"gridcolor\": \"white\", \"linecolor\": \"white\", \"minorgridcolor\": \"white\", \"startlinecolor\": \"#2a3f5f\"}, \"type\": \"carpet\"}], \"choropleth\": [{\"colorbar\": {\"outlinewidth\": 0, \"ticks\": \"\"}, \"type\": \"choropleth\"}], \"contour\": [{\"colorbar\": {\"outlinewidth\": 0, \"ticks\": \"\"}, \"colorscale\": [[0.0, \"#0d0887\"], [0.1111111111111111, \"#46039f\"], [0.2222222222222222, \"#7201a8\"], [0.3333333333333333, \"#9c179e\"], [0.4444444444444444, \"#bd3786\"], [0.5555555555555556, \"#d8576b\"], [0.6666666666666666, \"#ed7953\"], [0.7777777777777778, \"#fb9f3a\"], [0.8888888888888888, \"#fdca26\"], [1.0, \"#f0f921\"]], \"type\": \"contour\"}], \"contourcarpet\": [{\"colorbar\": {\"outlinewidth\": 0, \"ticks\": \"\"}, \"type\": \"contourcarpet\"}], \"heatmap\": [{\"colorbar\": {\"outlinewidth\": 0, \"ticks\": \"\"}, \"colorscale\": [[0.0, \"#0d0887\"], [0.1111111111111111, \"#46039f\"], [0.2222222222222222, \"#7201a8\"], [0.3333333333333333, \"#9c179e\"], [0.4444444444444444, \"#bd3786\"], [0.5555555555555556, \"#d8576b\"], [0.6666666666666666, \"#ed7953\"], [0.7777777777777778, \"#fb9f3a\"], [0.8888888888888888, \"#fdca26\"], [1.0, \"#f0f921\"]], \"type\": \"heatmap\"}], \"heatmapgl\": [{\"colorbar\": {\"outlinewidth\": 0, \"ticks\": \"\"}, \"colorscale\": [[0.0, \"#0d0887\"], [0.1111111111111111, \"#46039f\"], [0.2222222222222222, \"#7201a8\"], [0.3333333333333333, \"#9c179e\"], [0.4444444444444444, \"#bd3786\"], [0.5555555555555556, \"#d8576b\"], [0.6666666666666666, \"#ed7953\"], [0.7777777777777778, \"#fb9f3a\"], [0.8888888888888888, \"#fdca26\"], [1.0, \"#f0f921\"]], \"type\": \"heatmapgl\"}], \"histogram\": [{\"marker\": {\"colorbar\": {\"outlinewidth\": 0, \"ticks\": \"\"}}, \"type\": \"histogram\"}], \"histogram2d\": [{\"colorbar\": {\"outlinewidth\": 0, \"ticks\": \"\"}, \"colorscale\": [[0.0, \"#0d0887\"], [0.1111111111111111, \"#46039f\"], [0.2222222222222222, \"#7201a8\"], [0.3333333333333333, \"#9c179e\"], [0.4444444444444444, \"#bd3786\"], [0.5555555555555556, \"#d8576b\"], [0.6666666666666666, \"#ed7953\"], [0.7777777777777778, \"#fb9f3a\"], [0.8888888888888888, \"#fdca26\"], [1.0, \"#f0f921\"]], \"type\": \"histogram2d\"}], \"histogram2dcontour\": [{\"colorbar\": {\"outlinewidth\": 0, \"ticks\": \"\"}, \"colorscale\": [[0.0, \"#0d0887\"], [0.1111111111111111, \"#46039f\"], [0.2222222222222222, \"#7201a8\"], [0.3333333333333333, \"#9c179e\"], [0.4444444444444444, \"#bd3786\"], [0.5555555555555556, \"#d8576b\"], [0.6666666666666666, \"#ed7953\"], [0.7777777777777778, \"#fb9f3a\"], [0.8888888888888888, \"#fdca26\"], [1.0, \"#f0f921\"]], \"type\": \"histogram2dcontour\"}], \"mesh3d\": [{\"colorbar\": {\"outlinewidth\": 0, \"ticks\": \"\"}, \"type\": \"mesh3d\"}], \"parcoords\": [{\"line\": {\"colorbar\": {\"outlinewidth\": 0, \"ticks\": \"\"}}, \"type\": \"parcoords\"}], \"pie\": [{\"automargin\": true, \"type\": \"pie\"}], \"scatter\": [{\"marker\": {\"colorbar\": {\"outlinewidth\": 0, \"ticks\": \"\"}}, \"type\": \"scatter\"}], \"scatter3d\": [{\"line\": {\"colorbar\": {\"outlinewidth\": 0, \"ticks\": \"\"}}, \"marker\": {\"colorbar\": {\"outlinewidth\": 0, \"ticks\": \"\"}}, \"type\": \"scatter3d\"}], \"scattercarpet\": [{\"marker\": {\"colorbar\": {\"outlinewidth\": 0, \"ticks\": \"\"}}, \"type\": \"scattercarpet\"}], \"scattergeo\": [{\"marker\": {\"colorbar\": {\"outlinewidth\": 0, \"ticks\": \"\"}}, \"type\": \"scattergeo\"}], \"scattergl\": [{\"marker\": {\"colorbar\": {\"outlinewidth\": 0, \"ticks\": \"\"}}, \"type\": \"scattergl\"}], \"scattermapbox\": [{\"marker\": {\"colorbar\": {\"outlinewidth\": 0, \"ticks\": \"\"}}, \"type\": \"scattermapbox\"}], \"scatterpolar\": [{\"marker\": {\"colorbar\": {\"outlinewidth\": 0, \"ticks\": \"\"}}, \"type\": \"scatterpolar\"}], \"scatterpolargl\": [{\"marker\": {\"colorbar\": {\"outlinewidth\": 0, \"ticks\": \"\"}}, \"type\": \"scatterpolargl\"}], \"scatterternary\": [{\"marker\": {\"colorbar\": {\"outlinewidth\": 0, \"ticks\": \"\"}}, \"type\": \"scatterternary\"}], \"surface\": [{\"colorbar\": {\"outlinewidth\": 0, \"ticks\": \"\"}, \"colorscale\": [[0.0, \"#0d0887\"], [0.1111111111111111, \"#46039f\"], [0.2222222222222222, \"#7201a8\"], [0.3333333333333333, \"#9c179e\"], [0.4444444444444444, \"#bd3786\"], [0.5555555555555556, \"#d8576b\"], [0.6666666666666666, \"#ed7953\"], [0.7777777777777778, \"#fb9f3a\"], [0.8888888888888888, \"#fdca26\"], [1.0, \"#f0f921\"]], \"type\": \"surface\"}], \"table\": [{\"cells\": {\"fill\": {\"color\": \"#EBF0F8\"}, \"line\": {\"color\": \"white\"}}, \"header\": {\"fill\": {\"color\": \"#C8D4E3\"}, \"line\": {\"color\": \"white\"}}, \"type\": \"table\"}]}, \"layout\": {\"annotationdefaults\": {\"arrowcolor\": \"#2a3f5f\", \"arrowhead\": 0, \"arrowwidth\": 1}, \"coloraxis\": {\"colorbar\": {\"outlinewidth\": 0, \"ticks\": \"\"}}, \"colorscale\": {\"diverging\": [[0, \"#8e0152\"], [0.1, \"#c51b7d\"], [0.2, \"#de77ae\"], [0.3, \"#f1b6da\"], [0.4, \"#fde0ef\"], [0.5, \"#f7f7f7\"], [0.6, \"#e6f5d0\"], [0.7, \"#b8e186\"], [0.8, \"#7fbc41\"], [0.9, \"#4d9221\"], [1, \"#276419\"]], \"sequential\": [[0.0, \"#0d0887\"], [0.1111111111111111, \"#46039f\"], [0.2222222222222222, \"#7201a8\"], [0.3333333333333333, \"#9c179e\"], [0.4444444444444444, \"#bd3786\"], [0.5555555555555556, \"#d8576b\"], [0.6666666666666666, \"#ed7953\"], [0.7777777777777778, \"#fb9f3a\"], [0.8888888888888888, \"#fdca26\"], [1.0, \"#f0f921\"]], \"sequentialminus\": [[0.0, \"#0d0887\"], [0.1111111111111111, \"#46039f\"], [0.2222222222222222, \"#7201a8\"], [0.3333333333333333, \"#9c179e\"], [0.4444444444444444, \"#bd3786\"], [0.5555555555555556, \"#d8576b\"], [0.6666666666666666, \"#ed7953\"], [0.7777777777777778, \"#fb9f3a\"], [0.8888888888888888, \"#fdca26\"], [1.0, \"#f0f921\"]]}, \"colorway\": [\"#636efa\", \"#EF553B\", \"#00cc96\", \"#ab63fa\", \"#FFA15A\", \"#19d3f3\", \"#FF6692\", \"#B6E880\", \"#FF97FF\", \"#FECB52\"], \"font\": {\"color\": \"#2a3f5f\"}, \"geo\": {\"bgcolor\": \"white\", \"lakecolor\": \"white\", \"landcolor\": \"#E5ECF6\", \"showlakes\": true, \"showland\": true, \"subunitcolor\": \"white\"}, \"hoverlabel\": {\"align\": \"left\"}, \"hovermode\": \"closest\", \"mapbox\": {\"style\": \"light\"}, \"paper_bgcolor\": \"white\", \"plot_bgcolor\": \"#E5ECF6\", \"polar\": {\"angularaxis\": {\"gridcolor\": \"white\", \"linecolor\": \"white\", \"ticks\": \"\"}, \"bgcolor\": \"#E5ECF6\", \"radialaxis\": {\"gridcolor\": \"white\", \"linecolor\": \"white\", \"ticks\": \"\"}}, \"scene\": {\"xaxis\": {\"backgroundcolor\": \"#E5ECF6\", \"gridcolor\": \"white\", \"gridwidth\": 2, \"linecolor\": \"white\", \"showbackground\": true, \"ticks\": \"\", \"zerolinecolor\": \"white\"}, \"yaxis\": {\"backgroundcolor\": \"#E5ECF6\", \"gridcolor\": \"white\", \"gridwidth\": 2, \"linecolor\": \"white\", \"showbackground\": true, \"ticks\": \"\", \"zerolinecolor\": \"white\"}, \"zaxis\": {\"backgroundcolor\": \"#E5ECF6\", \"gridcolor\": \"white\", \"gridwidth\": 2, \"linecolor\": \"white\", \"showbackground\": true, \"ticks\": \"\", \"zerolinecolor\": \"white\"}}, \"shapedefaults\": {\"line\": {\"color\": \"#2a3f5f\"}}, \"ternary\": {\"aaxis\": {\"gridcolor\": \"white\", \"linecolor\": \"white\", \"ticks\": \"\"}, \"baxis\": {\"gridcolor\": \"white\", \"linecolor\": \"white\", \"ticks\": \"\"}, \"bgcolor\": \"#E5ECF6\", \"caxis\": {\"gridcolor\": \"white\", \"linecolor\": \"white\", \"ticks\": \"\"}}, \"title\": {\"x\": 0.05}, \"xaxis\": {\"automargin\": true, \"gridcolor\": \"white\", \"linecolor\": \"white\", \"ticks\": \"\", \"title\": {\"standoff\": 15}, \"zerolinecolor\": \"white\", \"zerolinewidth\": 2}, \"yaxis\": {\"automargin\": true, \"gridcolor\": \"white\", \"linecolor\": \"white\", \"ticks\": \"\", \"title\": {\"standoff\": 15}, \"zerolinecolor\": \"white\", \"zerolinewidth\": 2}}}, \"xaxis\": {\"anchor\": \"y\", \"domain\": [0.0, 1.0], \"title\": {\"text\": \"x\"}}, \"yaxis\": {\"anchor\": \"x\", \"domain\": [0.0, 1.0], \"title\": {\"text\": \"count\"}}},\n",
       "                        {\"responsive\": true}\n",
       "                    ).then(function(){\n",
       "                            \n",
       "var gd = document.getElementById('bcefd631-ea84-437e-96cc-49f99d2a0421');\n",
       "var x = new MutationObserver(function (mutations, observer) {{\n",
       "        var display = window.getComputedStyle(gd).display;\n",
       "        if (!display || display === 'none') {{\n",
       "            console.log([gd, 'removed!']);\n",
       "            Plotly.purge(gd);\n",
       "            observer.disconnect();\n",
       "        }}\n",
       "}});\n",
       "\n",
       "// Listen for the removal of the full notebook cells\n",
       "var notebookContainer = gd.closest('#notebook-container');\n",
       "if (notebookContainer) {{\n",
       "    x.observe(notebookContainer, {childList: true});\n",
       "}}\n",
       "\n",
       "// Listen for the clearing of the current output cell\n",
       "var outputEl = gd.closest('.output');\n",
       "if (outputEl) {{\n",
       "    x.observe(outputEl, {childList: true});\n",
       "}}\n",
       "\n",
       "                        })\n",
       "                };\n",
       "                });\n",
       "            </script>\n",
       "        </div>"
      ]
     },
     "metadata": {},
     "output_type": "display_data"
    }
   ],
   "source": [
    "import plotly.express as px\n",
    "\n",
    "fig = px.histogram(x=x)\n",
    "fig.show()"
   ]
  },
  {
   "cell_type": "code",
   "execution_count": null,
   "metadata": {},
   "outputs": [],
   "source": []
  }
 ],
 "metadata": {
  "kernelspec": {
   "display_name": "Python 3",
   "language": "python",
   "name": "python3"
  },
  "language_info": {
   "codemirror_mode": {
    "name": "ipython",
    "version": 3
   },
   "file_extension": ".py",
   "mimetype": "text/x-python",
   "name": "python",
   "nbconvert_exporter": "python",
   "pygments_lexer": "ipython3",
   "version": "3.7.6"
  }
 },
 "nbformat": 4,
 "nbformat_minor": 4
}
