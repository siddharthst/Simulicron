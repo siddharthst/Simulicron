{
 "cells": [
  {
   "cell_type": "code",
   "execution_count": null,
   "metadata": {},
   "outputs": [],
   "source": [
    "# Imports\n",
    "import numpy as np\n",
    "import pandas as pd\n",
    "import random\n",
    "import statsmodels.api as sm\n",
    "from scipy.stats import linregress\n",
    "from scipy.stats import chisquare\n",
    "from scipy import stats\n",
    "from numba import njit\n",
    "\n",
    "# import altair as alt\n",
    "import seaborn as sns\n",
    "import matplotlib.pyplot as plt\n",
    "from itertools import chain, repeat\n",
    "import pickle\n",
    "import re\n",
    "from math import exp, log\n",
    "\n",
    "# Set Seaborn style\n",
    "sns.set(style=\"whitegrid\")\n",
    "plt.style.use(\"ggplot\")\n",
    "sns.set_context(\"talk\")\n",
    "%matplotlib inline"
   ]
  },
  {
   "cell_type": "code",
   "execution_count": null,
   "metadata": {},
   "outputs": [],
   "source": [
    "[round(x) for x in np.linspace(0, 10000, 7).tolist()]"
   ]
  },
  {
   "cell_type": "code",
   "execution_count": null,
   "metadata": {},
   "outputs": [],
   "source": [
    "int(10000 / 6)"
   ]
  },
  {
   "cell_type": "code",
   "execution_count": null,
   "metadata": {},
   "outputs": [],
   "source": [
    "random.randrange(0, 9)"
   ]
  },
  {
   "cell_type": "code",
   "execution_count": null,
   "metadata": {},
   "outputs": [],
   "source": [
    "chromosomeLocation = [0, 474, 687, 524]\n",
    "for prime5, prime3 in zip(chromosomeLocation, chromosomeLocation[1:]):\n",
    "    print(prime5, prime3)"
   ]
  },
  {
   "cell_type": "code",
   "execution_count": null,
   "metadata": {},
   "outputs": [],
   "source": [
    "nums = np.random.choice([0, 1], size=1000, p=[0.1, 0.9]).tolist()"
   ]
  },
  {
   "cell_type": "code",
   "execution_count": null,
   "metadata": {},
   "outputs": [],
   "source": [
    "l = [1, 2, 3, 4, 5, 6, 7, 8, 9]\n",
    "l[3:9]"
   ]
  },
  {
   "cell_type": "code",
   "execution_count": null,
   "metadata": {},
   "outputs": [],
   "source": [
    "np.nonzero([1, 0, 2])[0].tolist()"
   ]
  },
  {
   "cell_type": "code",
   "execution_count": null,
   "metadata": {},
   "outputs": [],
   "source": [
    "k = np.zeros((1000, 5,))"
   ]
  },
  {
   "cell_type": "code",
   "execution_count": null,
   "metadata": {},
   "outputs": [],
   "source": [
    "np.all(k[:, 0:2] == 0)"
   ]
  },
  {
   "cell_type": "code",
   "execution_count": null,
   "metadata": {},
   "outputs": [],
   "source": [
    "len(k[:, 0:2])"
   ]
  },
  {
   "cell_type": "code",
   "execution_count": null,
   "metadata": {},
   "outputs": [],
   "source": [
    "# Set up the figure\n",
    "f, (ax1, ax2, ax3) = plt.subplots(1, 3, sharey=True, figsize=(25, 10),)\n",
    "# Load file from the pickle\n",
    "fileName = \"/home/siddharth/Documents/Projects/Simulicron/notebooks/K2U100.pickle\"\n",
    "with open(fileName, \"rb\") as f:\n",
    "    result = pickle.load(f)\n",
    "# Plot the average copy number\n",
    "for i in result:\n",
    "    f = sns.lineplot(\n",
    "        x=np.arange(len(i[\"AvgCopyNum\"])),\n",
    "        y=np.asarray(i[\"AvgCopyNum\"]),\n",
    "        color=\"grey\",\n",
    "        ax=ax1,\n",
    "    ).set_title(\"u:1.0\")\n",
    "# Load file from the pickle\n",
    "fileName = \"/home/siddharth/Documents/Projects/Simulicron/notebooks/K2U010.pickle\"\n",
    "with open(fileName, \"rb\") as f:\n",
    "    result = pickle.load(f)\n",
    "# Plot the average copy number\n",
    "for i in result:\n",
    "    sns.lineplot(\n",
    "        x=np.arange(len(i[\"AvgCopyNum\"])),\n",
    "        y=np.asarray(i[\"AvgCopyNum\"]),\n",
    "        color=\"grey\",\n",
    "        ax=ax2,\n",
    "    ).set_title(\"u:0.10\")\n",
    "# Load file from the pickle\n",
    "fileName = \"/home/siddharth/Documents/Projects/Simulicron/notebooks/K2U001.pickle\"\n",
    "with open(fileName, \"rb\") as f:\n",
    "    result = pickle.load(f)\n",
    "# Plot the average copy number\n",
    "for i in result:\n",
    "    sns.lineplot(\n",
    "        x=np.arange(len(i[\"AvgCopyNum\"])),\n",
    "        y=np.asarray(i[\"AvgCopyNum\"]),\n",
    "        color=\"grey\",\n",
    "        ax=ax3,\n",
    "    ).set_title(\"u:0.01\")\n",
    "\n",
    "\n",
    "fig = ax1.figure\n",
    "fig.text(0.5, 0.04, \"Generation\", ha=\"center\", va=\"center\", size=18)\n",
    "fig.text(\n",
    "    0.05,\n",
    "    0.5,\n",
    "    \"Avg. copy number\",\n",
    "    ha=\"center\",\n",
    "    va=\"center\",\n",
    "    rotation=90,\n",
    "    size=18,\n",
    ")"
   ]
  },
  {
   "cell_type": "code",
   "execution_count": null,
   "metadata": {},
   "outputs": [],
   "source": [
    "numberOfInsertionSites = 10000\n",
    "numberOfChromosomes = 6\n",
    "chromosomeLocation = [\n",
    "        round(x)\n",
    "        for x in np.linspace(\n",
    "            0, numberOfInsertionSites, numberOfChromosomes + 1\n",
    "        ).tolist()\n",
    "    ]\n",
    "RecombinationRates = np.asarray([0.1] * numberOfInsertionSites)\n",
    "RecombinationRates[chromosomeLocation[1:-1]] = 0.499"
   ]
  },
  {
   "cell_type": "code",
   "execution_count": null,
   "metadata": {},
   "outputs": [],
   "source": [
    "#map=c(0,cumsum(-0.5*log(1-2*rates)))\n",
    "map = np.cumsum(-0.5*np.log(1-(2*RecombinationRates)))"
   ]
  },
  {
   "cell_type": "code",
   "execution_count": null,
   "metadata": {},
   "outputs": [],
   "source": [
    "print(0.5*(1-np.exp(-2*np.diff(map[l]))))"
   ]
  },
  {
   "cell_type": "code",
   "execution_count": null,
   "metadata": {},
   "outputs": [],
   "source": [
    "# np.set_printoptions(suppress=True)"
   ]
  },
  {
   "cell_type": "code",
   "execution_count": null,
   "metadata": {},
   "outputs": [],
   "source": [
    "def rates2map(rates):\n",
    "    return (np.cumsum(-0.5*np.log(1-(2*RecombinationRates))))"
   ]
  },
  {
   "cell_type": "code",
   "execution_count": null,
   "metadata": {},
   "outputs": [],
   "source": [
    "def map2rates(map):\n",
    "    return(0.5*(1-np.exp(-2*np.diff(map))))"
   ]
  },
  {
   "cell_type": "code",
   "execution_count": null,
   "metadata": {},
   "outputs": [],
   "source": [
    "map2rates(rates2map(RecombinationRates))"
   ]
  },
  {
   "cell_type": "code",
   "execution_count": null,
   "metadata": {},
   "outputs": [],
   "source": [
    "len(rates2map(RecombinationRates))"
   ]
  },
  {
   "cell_type": "code",
   "execution_count": null,
   "metadata": {},
   "outputs": [],
   "source": [
    "map[5]"
   ]
  },
  {
   "cell_type": "code",
   "execution_count": null,
   "metadata": {},
   "outputs": [],
   "source": [
    "map[l]"
   ]
  },
  {
   "cell_type": "code",
   "execution_count": null,
   "metadata": {},
   "outputs": [],
   "source": [
    "np.set_printoptions(suppress=True,\n",
    "   formatter={'float_kind':'{:f}'.format})"
   ]
  },
  {
   "cell_type": "code",
   "execution_count": null,
   "metadata": {},
   "outputs": [],
   "source": [
    "RecombinationRates[855]"
   ]
  },
  {
   "cell_type": "code",
   "execution_count": null,
   "metadata": {},
   "outputs": [],
   "source": [
    "l = [4,7]"
   ]
  },
  {
   "cell_type": "code",
   "execution_count": null,
   "metadata": {},
   "outputs": [],
   "source": [
    "len(np.insert(RecombinationRates, 0, 99, axis=0))"
   ]
  },
  {
   "cell_type": "code",
   "execution_count": null,
   "metadata": {},
   "outputs": [],
   "source": [
    "v1 = [3,4]\n",
    "v2 = 0"
   ]
  },
  {
   "cell_type": "code",
   "execution_count": null,
   "metadata": {},
   "outputs": [],
   "source": [
    "cP1V1 = v1\n",
    "cP1V2 = v2\n",
    "if isinstance(cP1V1, list):\n",
    "    cP1V1 = np.asarray(cP1V1)\n",
    "else:\n",
    "    cP1V1 = np.asarray([cP1V1])\n",
    "if isinstance(cP1V2, list):\n",
    "    cP1V2 = np.asarray(cP1V2)\n",
    "else:\n",
    "    cP1V2 = np.asarray([cP1V2])"
   ]
  },
  {
   "cell_type": "code",
   "execution_count": null,
   "metadata": {},
   "outputs": [],
   "source": [
    "%%timeit\n",
    "list(set([2,3,2,4,6,4,2]) | set([0]))"
   ]
  },
  {
   "cell_type": "code",
   "execution_count": null,
   "metadata": {},
   "outputs": [],
   "source": [
    "[7,8,55]+[4,45]"
   ]
  },
  {
   "cell_type": "code",
   "execution_count": null,
   "metadata": {},
   "outputs": [],
   "source": [
    "a = [5,4,3,2,1]\n",
    "b = [2,3]"
   ]
  },
  {
   "cell_type": "code",
   "execution_count": null,
   "metadata": {},
   "outputs": [],
   "source": [
    "match = lambda a, b: [ b.index(x)+1 if x in b else None for x in a ]"
   ]
  },
  {
   "cell_type": "code",
   "execution_count": null,
   "metadata": {},
   "outputs": [],
   "source": [
    "match(b,a)"
   ]
  },
  {
   "cell_type": "code",
   "execution_count": null,
   "metadata": {},
   "outputs": [],
   "source": [
    "RecombinationRates[0]"
   ]
  },
  {
   "cell_type": "code",
   "execution_count": null,
   "metadata": {},
   "outputs": [],
   "source": [
    "np.set_printoptions(suppress=True,\n",
    "   formatter={'float_kind':'{:f}'.format})"
   ]
  },
  {
   "cell_type": "code",
   "execution_count": null,
   "metadata": {},
   "outputs": [],
   "source": [
    "l = list(range(10000))"
   ]
  },
  {
   "cell_type": "code",
   "execution_count": null,
   "metadata": {},
   "outputs": [],
   "source": [
    "%%timeit\n",
    "random.sample(l, 800)"
   ]
  },
  {
   "cell_type": "code",
   "execution_count": null,
   "metadata": {},
   "outputs": [],
   "source": [
    "%%timeit\n",
    "np.random.choice(l, size=800, replace=False)"
   ]
  },
  {
   "cell_type": "code",
   "execution_count": null,
   "metadata": {},
   "outputs": [],
   "source": [
    "len(random.sample(l, 800)) == len (np.random.choice(l, size=800, replace=False))"
   ]
  },
  {
   "cell_type": "code",
   "execution_count": null,
   "metadata": {},
   "outputs": [],
   "source": [
    "l1 = [1,2,3,4,5,6,7]\n",
    "l2 = [22,9,44,1,22,4,22,1]\n"
   ]
  },
  {
   "cell_type": "code",
   "execution_count": null,
   "metadata": {},
   "outputs": [],
   "source": [
    "match = lambda a, b: [ b.index(x) if x in b else 0 for x in a ]"
   ]
  },
  {
   "cell_type": "code",
   "execution_count": null,
   "metadata": {},
   "outputs": [],
   "source": [
    "match (l1,l2)"
   ]
  },
  {
   "cell_type": "code",
   "execution_count": null,
   "metadata": {},
   "outputs": [],
   "source": [
    "l1 = np.array([1,2,3,4])\n",
    "z = np.array([1,1,1,1])\n",
    "k1 = set([1,3,4,5,6,7])"
   ]
  },
  {
   "cell_type": "code",
   "execution_count": null,
   "metadata": {},
   "outputs": [],
   "source": [
    "np.in1d(l1,l2)"
   ]
  },
  {
   "cell_type": "code",
   "execution_count": null,
   "metadata": {},
   "outputs": [],
   "source": [
    "k1 = [1,2,3]"
   ]
  },
  {
   "cell_type": "code",
   "execution_count": null,
   "metadata": {},
   "outputs": [],
   "source": [
    "bool(set(k1) & set (k2))"
   ]
  },
  {
   "cell_type": "code",
   "execution_count": null,
   "metadata": {},
   "outputs": [],
   "source": [
    "q = z[np.in1d(l1,list(k2))] * 0"
   ]
  },
  {
   "cell_type": "code",
   "execution_count": null,
   "metadata": {},
   "outputs": [],
   "source": [
    "q"
   ]
  },
  {
   "cell_type": "code",
   "execution_count": null,
   "metadata": {},
   "outputs": [],
   "source": [
    "z = {1:\"z\",2:\"z\"}"
   ]
  },
  {
   "cell_type": "code",
   "execution_count": null,
   "metadata": {},
   "outputs": [],
   "source": [
    "len(z.keys())"
   ]
  },
  {
   "cell_type": "code",
   "execution_count": null,
   "metadata": {},
   "outputs": [],
   "source": [
    "z = []\n",
    "k = []\n",
    "p = []\n",
    "l = 10000\n",
    "for i in range (l):\n",
    "    z.append(int(random.random() * 10001))\n",
    "    k.append(random.randint(0,10000))\n",
    "    p = random.sample(range(100000), l)"
   ]
  },
  {
   "cell_type": "code",
   "execution_count": null,
   "metadata": {},
   "outputs": [],
   "source": [
    "sns.distplot(z)"
   ]
  },
  {
   "cell_type": "code",
   "execution_count": null,
   "metadata": {},
   "outputs": [],
   "source": [
    "sns.distplot(k)"
   ]
  },
  {
   "cell_type": "code",
   "execution_count": null,
   "metadata": {},
   "outputs": [],
   "source": [
    "sns.distplot(p)"
   ]
  },
  {
   "cell_type": "code",
   "execution_count": null,
   "metadata": {},
   "outputs": [],
   "source": [
    "%%timeit\n",
    "random.sample(range(10000), l)"
   ]
  },
  {
   "cell_type": "code",
   "execution_count": null,
   "metadata": {},
   "outputs": [],
   "source": [
    "%%timeit\n",
    "z = []\n",
    "for i in range (l):\n",
    "    (int(random.random() * 10001))"
   ]
  },
  {
   "cell_type": "code",
   "execution_count": null,
   "metadata": {},
   "outputs": [],
   "source": [
    "%%timeit\n",
    "np.random.uniform(0,1,10001)"
   ]
  },
  {
   "cell_type": "code",
   "execution_count": null,
   "metadata": {},
   "outputs": [],
   "source": [
    "x = [1]*1000"
   ]
  },
  {
   "cell_type": "code",
   "execution_count": null,
   "metadata": {},
   "outputs": [],
   "source": [
    "%%timeit\n",
    "x == [1] * len(x)"
   ]
  },
  {
   "cell_type": "code",
   "execution_count": null,
   "metadata": {},
   "outputs": [],
   "source": [
    "sum([0.1,0.1,0.1])"
   ]
  },
  {
   "cell_type": "code",
   "execution_count": null,
   "metadata": {},
   "outputs": [],
   "source": [
    "0.1*2"
   ]
  },
  {
   "cell_type": "code",
   "execution_count": null,
   "metadata": {},
   "outputs": [],
   "source": [
    "z = [1,2,3,4,5,6,7,8,9]"
   ]
  },
  {
   "cell_type": "code",
   "execution_count": null,
   "metadata": {},
   "outputs": [],
   "source": [
    "sum([x for k, x in enumerate(z) if k != 1])"
   ]
  },
  {
   "cell_type": "code",
   "execution_count": null,
   "metadata": {},
   "outputs": [],
   "source": [
    "list(set([4,4,5,3,2,1,1]))[2]"
   ]
  },
  {
   "cell_type": "code",
   "execution_count": null,
   "metadata": {},
   "outputs": [],
   "source": [
    "k = set([4,4,4,4,4,5])"
   ]
  },
  {
   "cell_type": "code",
   "execution_count": null,
   "metadata": {},
   "outputs": [],
   "source": [
    "@njit\n",
    "def search(inp, setx):\n",
    "    if inp in setx:\n",
    "        return (True)"
   ]
  },
  {
   "cell_type": "code",
   "execution_count": null,
   "metadata": {},
   "outputs": [],
   "source": [
    "search(4,k)"
   ]
  },
  {
   "cell_type": "code",
   "execution_count": null,
   "metadata": {},
   "outputs": [],
   "source": [
    "k = list(range(1000000))\n",
    "z = np.asarray(k)"
   ]
  },
  {
   "cell_type": "code",
   "execution_count": null,
   "metadata": {},
   "outputs": [],
   "source": [
    "%%timeit\n",
    "sum(k)"
   ]
  },
  {
   "cell_type": "code",
   "execution_count": null,
   "metadata": {},
   "outputs": [],
   "source": [
    "%%timeit\n",
    "np.sum(k)"
   ]
  },
  {
   "cell_type": "code",
   "execution_count": null,
   "metadata": {},
   "outputs": [],
   "source": [
    "v1 = [0,0,[1],0,0]\n",
    "v2 = [0,0,0,0,0]\n",
    "fq = [0.1,0.2,0.3,0.4,0.5]"
   ]
  },
  {
   "cell_type": "code",
   "execution_count": null,
   "metadata": {},
   "outputs": [],
   "source": [
    "np.array([v1,v2,fq,], dtype=\"object\").T"
   ]
  },
  {
   "cell_type": "code",
   "execution_count": null,
   "metadata": {},
   "outputs": [],
   "source": [
    "np.c_[v1,v2]"
   ]
  },
  {
   "cell_type": "code",
   "execution_count": null,
   "metadata": {},
   "outputs": [],
   "source": [
    "if all(np.array_equal(v, [0, 0]) for v in np.c_[v1, v2]) :\n",
    "       print (True)\n",
    "else:\n",
    "    print (False)"
   ]
  },
  {
   "cell_type": "code",
   "execution_count": null,
   "metadata": {},
   "outputs": [],
   "source": [
    "tauList = [0.0, 1.0]\n",
    "[0.5, 0.5, 0.5, 0.5, 0.2, 0.5, 0.5, 0.5, 0.5, 0.5, 0.5, 0.5, 0.5, 0.5, 0.5, 0.2, 0.5, 0.5, 0.5, 0.5, 0.2, 0.5]\n",
    "for i in range(len(tauList)):\n",
    "    print([x for k, x in enumerate(tauList) if k != i])"
   ]
  },
  {
   "cell_type": "code",
   "execution_count": null,
   "metadata": {},
   "outputs": [],
   "source": [
    "eta = 0.0\n",
    "TEfamily = [2, 1, 2, 2, 2, 2, 2]\n",
    "TEfamilySet = {1, 2}\n",
    "tauList = [0.0, 1.0]\n",
    "for i in range(len(tauList)):\n",
    "    netTau = tauList[i] - (\n",
    "        (sum([x for k, x in enumerate(tauList) if k != i]))\n",
    "        * eta\n",
    "    )\n",
    "    indices = (TEfamily == list(TEfamilySet)[i]).nonzero()[0]\n",
    "    TEexcEffective[indices] = TEexcision[indices] - (TEexcision[indices] * netTau)"
   ]
  },
  {
   "cell_type": "code",
   "execution_count": null,
   "metadata": {},
   "outputs": [],
   "source": [
    "0.0\n",
    "1.0\n",
    "True4\n",
    "[2 1 2 2 2 2 2]\n",
    "{1, 2}\n",
    "[0.0, 1.0]\n",
    "[0.5 0.2 0.5 0.5 0.5 0.5 0.5]\n",
    "[1. 0. 1. 1. 1. 1. 1.]"
   ]
  },
  {
   "cell_type": "code",
   "execution_count": null,
   "metadata": {},
   "outputs": [],
   "source": [
    "TEset = {1 : []}\n",
    "{k: [] for k in range(1, len(TEset.keys()) + 1)}"
   ]
  },
  {
   "cell_type": "code",
   "execution_count": null,
   "metadata": {},
   "outputs": [],
   "source": [
    "0/1000"
   ]
  },
  {
   "cell_type": "code",
   "execution_count": null,
   "metadata": {},
   "outputs": [],
   "source": [
    "int(10000 * random.random())"
   ]
  },
  {
   "cell_type": "code",
   "execution_count": null,
   "metadata": {},
   "outputs": [],
   "source": [
    "[int(10000 * random.random()) if i not in [2,5,7]]"
   ]
  },
  {
   "cell_type": "code",
   "execution_count": null,
   "metadata": {},
   "outputs": [],
   "source": []
  },
  {
   "cell_type": "code",
   "execution_count": null,
   "metadata": {},
   "outputs": [],
   "source": [
    "tauList = [1,2,1,1,1,1,1]\n",
    "i = 2\n",
    "(sum([x for k, x in enumerate(tauList) if k != i])) * 0.2"
   ]
  },
  {
   "cell_type": "code",
   "execution_count": null,
   "metadata": {},
   "outputs": [],
   "source": [
    "l = set([1])"
   ]
  },
  {
   "cell_type": "code",
   "execution_count": null,
   "metadata": {},
   "outputs": [],
   "source": [
    "1 in tauList"
   ]
  },
  {
   "cell_type": "code",
   "execution_count": null,
   "metadata": {},
   "outputs": [],
   "source": [
    "j = {1:3,2:5,3:7}"
   ]
  },
  {
   "cell_type": "code",
   "execution_count": null,
   "metadata": {},
   "outputs": [],
   "source": [
    "[value for key, value in j.items() if key not in [1]]"
   ]
  },
  {
   "cell_type": "code",
   "execution_count": null,
   "metadata": {},
   "outputs": [],
   "source": [
    "import numpy as np\n",
    "TERegulationSet = {1:1}\n",
    "eta = 0\n",
    "TEexcision = np.asarray([1,1,1,1,1,1,1,1])\n",
    "TEfamily = np.asarray([1,1,1,1,1,1,1,1])\n",
    "TEexcEffective = np.zeros(len(TEexcision))"
   ]
  },
  {
   "cell_type": "code",
   "execution_count": null,
   "metadata": {},
   "outputs": [],
   "source": [
    "for keys in TERegulationSet:\n",
    "    print([value for key, value in TERegulationSet.items() if key != keys])"
   ]
  },
  {
   "cell_type": "code",
   "execution_count": null,
   "metadata": {},
   "outputs": [],
   "source": [
    "import numpy as np\n",
    "TERegulationSet = {1:1}\n",
    "eta = 0\n",
    "TEexcision = np.asarray([1,1,1,1,1,1,1,1])\n",
    "TEfamily = np.asarray([1,1,1,1,1,1,1,1])\n",
    "TEexcEffective = np.zeros(len(TEexcision))\n",
    "\n",
    "for keys in TERegulationSet.keys():\n",
    "    TERegulationSet[keys] = TERegulationSet[keys] + (\n",
    "        sum(\n",
    "            [\n",
    "                value\n",
    "                for key, value in TERegulationSet.items()\n",
    "                if key != keys\n",
    "            ]\n",
    "        )\n",
    "        * eta\n",
    "    )\n",
    "    if TERegulationSet[keys] > 1:\n",
    "        TERegulationSet[keys] = 1.0\n",
    "    indices = (TEfamily == keys).nonzero()[0]\n",
    "    print (indices)\n",
    "    TEexcEffective[indices] = TEexcision[indices] - (TEexcision[indices] * TERegulationSet[keys])\n",
    "print (TEexcEffective)"
   ]
  },
  {
   "cell_type": "code",
   "execution_count": null,
   "metadata": {},
   "outputs": [],
   "source": [
    "parameters = {\n",
    "    \"generations\": 10000,\n",
    "    \"selectionPenaltyMin\": 0.0,\n",
    "    \"selectionPenaltyMax\": 1.0,\n",
    "    \"etaMin\": 0.0,\n",
    "    \"etaMax\": 1.0,\n",
    "    \"tauMin\": 0.5,\n",
    "    \"tauMax\": 1.0,\n",
    "    \"ExcisionRateMainMin\": 0.0,\n",
    "    \"ExcisionRateMainMax\": 1.0,\n",
    "    \"ExcisionRateHGTMin\": 0.0,\n",
    "    \"ExcisionRateHGTMax\": 1.0,\n",
    "    \"FrequencyOfInsertionMainMin\": 0.1,\n",
    "    \"FrequencyOfInsertionMainMax\": 1.0,\n",
    "    \"FrequencyOfInsertionHGTMax\": 0.1,\n",
    "    \"FrequencyOfInsertionHGTMin\": 1.0,\n",
    "    \"HGTgenerationMin\": 5,\n",
    "    \"HGTgenerationMax\": 8000,\n",
    "    \"maxProcceses\": 72,\n",
    "}"
   ]
  },
  {
   "cell_type": "code",
   "execution_count": null,
   "metadata": {},
   "outputs": [],
   "source": [
    "from itertools import repeat,cycle"
   ]
  },
  {
   "cell_type": "code",
   "execution_count": null,
   "metadata": {},
   "outputs": [],
   "source": []
  }
 ],
 "metadata": {
  "kernelspec": {
   "display_name": "Python 3",
   "language": "python",
   "name": "python3"
  },
  "language_info": {
   "codemirror_mode": {
    "name": "ipython",
    "version": 3
   },
   "file_extension": ".py",
   "mimetype": "text/x-python",
   "name": "python",
   "nbconvert_exporter": "python",
   "pygments_lexer": "ipython3",
   "version": "3.7.6"
  }
 },
 "nbformat": 4,
 "nbformat_minor": 4
}
