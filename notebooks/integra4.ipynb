{
 "cells": [
  {
   "cell_type": "code",
   "execution_count": 10,
   "metadata": {},
   "outputs": [],
   "source": [
    "# Init\n",
    "import os\n",
    "import sys\n",
    "\n",
    "module_path = os.path.abspath(os.path.join(\"../src/simulicronalpha/\"))\n",
    "if module_path not in sys.path:\n",
    "    sys.path.append(module_path)\n",
    "\n",
    "# Imports\n",
    "import random\n",
    "import numpy as np\n",
    "import pandas as pd\n",
    "import warnings\n",
    "import pickle\n",
    "from numpy import concatenate as c\n",
    "from itertools import repeat\n",
    "\n",
    "# Simulation imports\n",
    "from popSim import runSim\n",
    "from generateSim import generatePopulation, generateGenome, initHGT\n",
    "from stats import stats\n",
    "from regulation import regulation\n",
    "from checkCopyNumber import checkCopyNumber\n",
    "from fitness import calculateFitness\n",
    "from transposition import transposition\n",
    "from recombination import recombination\n",
    "\n",
    "# Current multiprocessing implementation\n",
    "from multiprocessing import Process\n",
    "import concurrent.futures \n",
    "\n",
    "# Define the simulation parameters\n",
    "# max and min\n",
    "parameters = {\n",
    "    \"generations\": 1000,\n",
    "    \"individuals\": 500,\n",
    "    \"selectionPenaltyMin\": -0.1,\n",
    "    \"selectionPenaltyMax\": -0.1,\n",
    "    \"etaMin\": 1.0,\n",
    "    \"etaMax\": 1.0,\n",
    "    \"tauMin\": 1.0,\n",
    "    \"tauMax\": 1.0,\n",
    "    \"ExcisionRateMainMin\": 1.0,\n",
    "    \"ExcisionRateMainMax\": 1.0,\n",
    "    \"ExcisionRateHGTMin\": 1.0,\n",
    "    \"ExcisionRateHGTMax\": 1.0,\n",
    "    \"FrequencyOfInsertionMainMin\": 1.0,\n",
    "    \"FrequencyOfInsertionMainMax\": 1.0,\n",
    "    \"FrequencyOfInsertionHGTMin\": 0.2,\n",
    "    \"FrequencyOfInsertionHGTMax\": 0.2,\n",
    "    \"HGTgenerationMin\": 50,\n",
    "    \"HGTgenerationMax\": 50,\n",
    "    \"maxProcceses\": 60,\n",
    "}\n",
    "\n",
    "# Wrapper function for multiprocessing\n",
    "def worker(parameters):\n",
    "    # Generate genome and population\n",
    "    selectionCoef = np.random.uniform(\n",
    "        parameters[\"selectionPenaltyMin\"],\n",
    "        parameters[\"selectionPenaltyMax\"],\n",
    "    )\n",
    "    FrequencyOfInsertionMain = np.random.uniform(\n",
    "        parameters[\"FrequencyOfInsertionMainMin\"],\n",
    "        parameters[\"FrequencyOfInsertionMainMax\"],\n",
    "    )\n",
    "    FrequencyOfInsertionHGT = np.random.uniform(\n",
    "        parameters[\"FrequencyOfInsertionHGTMin\"],\n",
    "        parameters[\"FrequencyOfInsertionHGTMax\"],\n",
    "    )\n",
    "    ExcisionRateMain = np.random.uniform(\n",
    "        parameters[\"ExcisionRateMainMin\"],\n",
    "        parameters[\"ExcisionRateMainMax\"],\n",
    "    )\n",
    "    ExcisionRateHGT = np.random.uniform(\n",
    "        parameters[\"ExcisionRateHGTMin\"],\n",
    "        parameters[\"ExcisionRateHGTMax\"],\n",
    "    )\n",
    "    HMTgen = random.randint(\n",
    "        parameters[\"HGTgenerationMin\"],\n",
    "        parameters[\"HGTgenerationMax\"],\n",
    "    )\n",
    "    tau = np.random.uniform(\n",
    "        parameters[\"tauMin\"], parameters[\"tauMax\"],\n",
    "    )\n",
    "    eta = np.random.uniform(\n",
    "        parameters[\"etaMin\"], parameters[\"etaMax\"],\n",
    "    )\n",
    "    genome, piset, piIndice, rates = generateGenome(\n",
    "        numberOfInsertionSites=10000,\n",
    "        numberOfChromosomes=6,\n",
    "        baseRecombinationRate=0.1,\n",
    "        baseSelection=selectionCoef,\n",
    "        baseTau=tau,\n",
    "    )\n",
    "    population, transposons, TEset = generatePopulation(\n",
    "        genome,\n",
    "        piIndice,\n",
    "        NumberOfIndividual=parameters[\"individuals\"],\n",
    "        NumberOfTransposonTypes=2,\n",
    "        NumberOfInsertionsPerType=[1, 0],\n",
    "        FrequencyOfInsertions=[\n",
    "            FrequencyOfInsertionMain,\n",
    "            FrequencyOfInsertionHGT,\n",
    "        ],\n",
    "        ExcisionRates=[ExcisionRateMain, ExcisionRateHGT],\n",
    "        RepairRates=[1, 1],\n",
    "        InsertionRates=[1, 1],\n",
    "    )\n",
    "    result = runSim(\n",
    "        genomeMatrix=genome,\n",
    "        populationMatrix=population,\n",
    "        transposonMatrix=transposons,\n",
    "        TEset=TEset,\n",
    "        NumberOfTransposonInsertions=2,\n",
    "        generations=parameters[\"generations\"],\n",
    "        genMap=rates,\n",
    "        piRNAindices=piIndice,\n",
    "        simHGT=None,\n",
    "        HMTgen=HMTgen,\n",
    "        NumberOfInsertionsPerType=None,\n",
    "        FrequencyOfInsertions=[\n",
    "            FrequencyOfInsertionMain,\n",
    "            FrequencyOfInsertionHGT,\n",
    "        ],\n",
    "        ExcisionRates=[ExcisionRateMain, ExcisionRateHGT],\n",
    "        RepairRates=[1, 1],\n",
    "        InsertionRates=[1, 1],\n",
    "        eta=eta,\n",
    "        tau=tau,\n",
    "        selPen=selectionCoef,\n",
    "    )\n",
    "    return result"
   ]
  },
  {
   "cell_type": "code",
   "execution_count": 11,
   "metadata": {},
   "outputs": [],
   "source": [
    "k = worker(parameters)"
   ]
  },
  {
   "cell_type": "code",
   "execution_count": 8,
   "metadata": {},
   "outputs": [
    {
     "data": {
      "text/plain": [
       "2.792"
      ]
     },
     "execution_count": 8,
     "metadata": {},
     "output_type": "execute_result"
    }
   ],
   "source": [
    "k['TEfamilyCN'][1][-1]"
   ]
  },
  {
   "cell_type": "code",
   "execution_count": 9,
   "metadata": {},
   "outputs": [
    {
     "data": {
      "text/plain": [
       "{1: 0.986, 2: 1.036}"
      ]
     },
     "execution_count": 9,
     "metadata": {},
     "output_type": "execute_result"
    }
   ],
   "source": [
    "k['TEpi']"
   ]
  },
  {
   "cell_type": "code",
   "execution_count": null,
   "metadata": {},
   "outputs": [],
   "source": []
  }
 ],
 "metadata": {
  "kernelspec": {
   "display_name": "Python 3",
   "language": "python",
   "name": "python3"
  },
  "language_info": {
   "codemirror_mode": {
    "name": "ipython",
    "version": 3
   },
   "file_extension": ".py",
   "mimetype": "text/x-python",
   "name": "python",
   "nbconvert_exporter": "python",
   "pygments_lexer": "ipython3",
   "version": "3.7.6"
  }
 },
 "nbformat": 4,
 "nbformat_minor": 4
}
