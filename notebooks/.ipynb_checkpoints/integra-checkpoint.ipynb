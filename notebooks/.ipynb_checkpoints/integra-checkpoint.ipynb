{
 "cells": [
  {
   "cell_type": "code",
   "execution_count": 1,
   "metadata": {},
   "outputs": [],
   "source": [
    "import os\n",
    "import sys\n",
    "module_path = os.path.abspath(os.path.join('../src/simulicronalpha/'))\n",
    "if module_path not in sys.path:\n",
    "    sys.path.append(module_path)"
   ]
  },
  {
   "cell_type": "code",
   "execution_count": 2,
   "metadata": {},
   "outputs": [],
   "source": [
    "# Imports\n",
    "import inspect\n",
    "import random\n",
    "import tempfile\n",
    "import uuid\n",
    "from functools import wraps\n",
    "import collections\n",
    "import seaborn as sns\n",
    "import matplotlib.pyplot as plt\n",
    "import coloredlogs\n",
    "import logging\n",
    "import numpy as np\n",
    "import pandas as pd\n",
    "from coolname import generate_slug\n",
    "import warnings\n",
    "\n",
    "warnings.filterwarnings(\"ignore\")\n",
    "\n",
    "# Logger\n",
    "logger = logging.getLogger(__name__)\n",
    "coloredlogs.install(level=\"DEBUG\")"
   ]
  },
  {
   "cell_type": "code",
   "execution_count": 3,
   "metadata": {},
   "outputs": [],
   "source": [
    "import InitSim as init"
   ]
  },
  {
   "cell_type": "code",
   "execution_count": 4,
   "metadata": {},
   "outputs": [],
   "source": [
    "k = init.initSim(tcount=80, insize=2000000)"
   ]
  },
  {
   "cell_type": "code",
   "execution_count": 5,
   "metadata": {},
   "outputs": [
    {
     "name": "stderr",
     "output_type": "stream",
     "text": [
      "2020-01-06 15:12:33 siddharth-OptiPlex-7070 InitSim[8481] INFO Mismatch between transposon count and transposition rates. Using default for each transposon count!\n",
      "2020-01-06 15:12:33 siddharth-OptiPlex-7070 InitSim[8481] INFO Mismatch between transposon count and transposon types. Using default for each transposon count!\n",
      "2020-01-06 15:12:33 siddharth-OptiPlex-7070 InitSim[8481] INFO Mismatch between transposon count and transposon parent. Using default for each transposon count!\n"
     ]
    }
   ],
   "source": [
    "k = k.createSim()"
   ]
  },
  {
   "cell_type": "code",
   "execution_count": 6,
   "metadata": {},
   "outputs": [
    {
     "data": {
      "text/html": [
       "<div>\n",
       "<style scoped>\n",
       "    .dataframe tbody tr th:only-of-type {\n",
       "        vertical-align: middle;\n",
       "    }\n",
       "\n",
       "    .dataframe tbody tr th {\n",
       "        vertical-align: top;\n",
       "    }\n",
       "\n",
       "    .dataframe thead th {\n",
       "        text-align: right;\n",
       "    }\n",
       "</style>\n",
       "<table border=\"1\" class=\"dataframe\">\n",
       "  <thead>\n",
       "    <tr style=\"text-align: right;\">\n",
       "      <th></th>\n",
       "      <th>TID</th>\n",
       "      <th>Name</th>\n",
       "      <th>Class</th>\n",
       "      <th>Traceback</th>\n",
       "      <th>Generation</th>\n",
       "      <th>Parent</th>\n",
       "      <th>TraRate</th>\n",
       "      <th>InsertionSite</th>\n",
       "    </tr>\n",
       "  </thead>\n",
       "  <tbody>\n",
       "    <tr>\n",
       "      <th>0</th>\n",
       "      <td>065b625005bc4f8abb902443011982dd</td>\n",
       "      <td>encouraging-lurking-marten-of-holiness</td>\n",
       "      <td>1</td>\n",
       "      <td>[0]</td>\n",
       "      <td>1</td>\n",
       "      <td>Mother</td>\n",
       "      <td>0.02</td>\n",
       "      <td>675741</td>\n",
       "    </tr>\n",
       "    <tr>\n",
       "      <th>1</th>\n",
       "      <td>ac78907f43724bb7847998aa486d4437</td>\n",
       "      <td>snobbish-organic-capuchin-of-refinement</td>\n",
       "      <td>1</td>\n",
       "      <td>[0]</td>\n",
       "      <td>1</td>\n",
       "      <td>Mother</td>\n",
       "      <td>0.02</td>\n",
       "      <td>1353580</td>\n",
       "    </tr>\n",
       "    <tr>\n",
       "      <th>2</th>\n",
       "      <td>16771e1d7bc04518be344f6e498fb92b</td>\n",
       "      <td>pragmatic-lyrical-falcon-of-domination</td>\n",
       "      <td>1</td>\n",
       "      <td>[0]</td>\n",
       "      <td>1</td>\n",
       "      <td>Mother</td>\n",
       "      <td>0.02</td>\n",
       "      <td>970210</td>\n",
       "    </tr>\n",
       "    <tr>\n",
       "      <th>3</th>\n",
       "      <td>36b12a173b204ad6a9ab5e833c30b353</td>\n",
       "      <td>vehement-grouse-of-uncanny-pluck</td>\n",
       "      <td>1</td>\n",
       "      <td>[0]</td>\n",
       "      <td>1</td>\n",
       "      <td>Mother</td>\n",
       "      <td>0.02</td>\n",
       "      <td>1382304</td>\n",
       "    </tr>\n",
       "    <tr>\n",
       "      <th>4</th>\n",
       "      <td>69a27f9753cd44e9b3a1fa5edf119529</td>\n",
       "      <td>hilarious-flying-barnacle-of-acumen</td>\n",
       "      <td>1</td>\n",
       "      <td>[0]</td>\n",
       "      <td>1</td>\n",
       "      <td>Mother</td>\n",
       "      <td>0.02</td>\n",
       "      <td>1216400</td>\n",
       "    </tr>\n",
       "    <tr>\n",
       "      <th>...</th>\n",
       "      <td>...</td>\n",
       "      <td>...</td>\n",
       "      <td>...</td>\n",
       "      <td>...</td>\n",
       "      <td>...</td>\n",
       "      <td>...</td>\n",
       "      <td>...</td>\n",
       "      <td>...</td>\n",
       "    </tr>\n",
       "    <tr>\n",
       "      <th>75</th>\n",
       "      <td>f9cde70f59694dfc9e49c4b35b37f604</td>\n",
       "      <td>illustrious-dynamic-cobra-of-election</td>\n",
       "      <td>1</td>\n",
       "      <td>[0]</td>\n",
       "      <td>1</td>\n",
       "      <td>Mother</td>\n",
       "      <td>0.02</td>\n",
       "      <td>1408499</td>\n",
       "    </tr>\n",
       "    <tr>\n",
       "      <th>76</th>\n",
       "      <td>976c755041bb46928167e245a1968eee</td>\n",
       "      <td>heavy-shaggy-lyrebird-of-peace</td>\n",
       "      <td>1</td>\n",
       "      <td>[0]</td>\n",
       "      <td>1</td>\n",
       "      <td>Mother</td>\n",
       "      <td>0.02</td>\n",
       "      <td>1457194</td>\n",
       "    </tr>\n",
       "    <tr>\n",
       "      <th>77</th>\n",
       "      <td>12e901df9d134c628c20a2d2c5b7a82c</td>\n",
       "      <td>melodic-wakeful-dormouse-of-defense</td>\n",
       "      <td>1</td>\n",
       "      <td>[0]</td>\n",
       "      <td>1</td>\n",
       "      <td>Mother</td>\n",
       "      <td>0.02</td>\n",
       "      <td>1740989</td>\n",
       "    </tr>\n",
       "    <tr>\n",
       "      <th>78</th>\n",
       "      <td>cb444bfa86fb4b4aa98eb525af8de193</td>\n",
       "      <td>spectral-cuddly-moth-of-drizzle</td>\n",
       "      <td>1</td>\n",
       "      <td>[0]</td>\n",
       "      <td>1</td>\n",
       "      <td>Mother</td>\n",
       "      <td>0.02</td>\n",
       "      <td>1229913</td>\n",
       "    </tr>\n",
       "    <tr>\n",
       "      <th>79</th>\n",
       "      <td>3bea6304f0f5429299ce5a96795624a3</td>\n",
       "      <td>slick-uncovered-slug-of-potency</td>\n",
       "      <td>1</td>\n",
       "      <td>[0]</td>\n",
       "      <td>1</td>\n",
       "      <td>Mother</td>\n",
       "      <td>0.02</td>\n",
       "      <td>966307</td>\n",
       "    </tr>\n",
       "  </tbody>\n",
       "</table>\n",
       "<p>80 rows × 8 columns</p>\n",
       "</div>"
      ],
      "text/plain": [
       "                                 TID                                     Name  \\\n",
       "0   065b625005bc4f8abb902443011982dd   encouraging-lurking-marten-of-holiness   \n",
       "1   ac78907f43724bb7847998aa486d4437  snobbish-organic-capuchin-of-refinement   \n",
       "2   16771e1d7bc04518be344f6e498fb92b   pragmatic-lyrical-falcon-of-domination   \n",
       "3   36b12a173b204ad6a9ab5e833c30b353         vehement-grouse-of-uncanny-pluck   \n",
       "4   69a27f9753cd44e9b3a1fa5edf119529      hilarious-flying-barnacle-of-acumen   \n",
       "..                               ...                                      ...   \n",
       "75  f9cde70f59694dfc9e49c4b35b37f604    illustrious-dynamic-cobra-of-election   \n",
       "76  976c755041bb46928167e245a1968eee           heavy-shaggy-lyrebird-of-peace   \n",
       "77  12e901df9d134c628c20a2d2c5b7a82c      melodic-wakeful-dormouse-of-defense   \n",
       "78  cb444bfa86fb4b4aa98eb525af8de193          spectral-cuddly-moth-of-drizzle   \n",
       "79  3bea6304f0f5429299ce5a96795624a3          slick-uncovered-slug-of-potency   \n",
       "\n",
       "   Class Traceback Generation  Parent  TraRate  InsertionSite  \n",
       "0      1       [0]          1  Mother     0.02         675741  \n",
       "1      1       [0]          1  Mother     0.02        1353580  \n",
       "2      1       [0]          1  Mother     0.02         970210  \n",
       "3      1       [0]          1  Mother     0.02        1382304  \n",
       "4      1       [0]          1  Mother     0.02        1216400  \n",
       "..   ...       ...        ...     ...      ...            ...  \n",
       "75     1       [0]          1  Mother     0.02        1408499  \n",
       "76     1       [0]          1  Mother     0.02        1457194  \n",
       "77     1       [0]          1  Mother     0.02        1740989  \n",
       "78     1       [0]          1  Mother     0.02        1229913  \n",
       "79     1       [0]          1  Mother     0.02         966307  \n",
       "\n",
       "[80 rows x 8 columns]"
      ]
     },
     "execution_count": 6,
     "metadata": {},
     "output_type": "execute_result"
    }
   ],
   "source": [
    "k[1]"
   ]
  },
  {
   "cell_type": "code",
   "execution_count": 15,
   "metadata": {},
   "outputs": [],
   "source": [
    "GenomicSites = pd.Series(k[2].InsertionProbability.values, index=k[2].InsertionSiteID,)"
   ]
  },
  {
   "cell_type": "code",
   "execution_count": 16,
   "metadata": {},
   "outputs": [
    {
     "data": {
      "text/plain": [
       "InsertionSiteID\n",
       "1          1.226812e-08\n",
       "2          5.580399e-07\n",
       "3          6.363499e-07\n",
       "4          8.132235e-07\n",
       "5          9.172092e-07\n",
       "               ...     \n",
       "1999995    7.720574e-07\n",
       "1999996    5.851851e-07\n",
       "1999997    5.592907e-07\n",
       "1999998    6.593655e-07\n",
       "1999999    1.822326e-07\n",
       "Length: 1999999, dtype: float64"
      ]
     },
     "execution_count": 16,
     "metadata": {},
     "output_type": "execute_result"
    }
   ],
   "source": [
    "GenomicSites"
   ]
  },
  {
   "cell_type": "code",
   "execution_count": 18,
   "metadata": {},
   "outputs": [],
   "source": [
    "list1 = list(range(0,100))\n",
    "TIDL = k[0]['TID'].tolist()"
   ]
  },
  {
   "cell_type": "code",
   "execution_count": 22,
   "metadata": {},
   "outputs": [],
   "source": [
    "j = [k[0].loc[k[0]['TID'] == i]['InsertionSite'].values[0] for i in TIDL or [0]]"
   ]
  },
  {
   "cell_type": "code",
   "execution_count": 11,
   "metadata": {},
   "outputs": [
    {
     "data": {
      "text/plain": [
       "1638377"
      ]
     },
     "execution_count": 11,
     "metadata": {},
     "output_type": "execute_result"
    }
   ],
   "source": [
    "k[0].loc[k[0]['TID'] == 'b3755a85fca646cb98ff59c99fa0af11']['InsertionSite'].values[0]"
   ]
  },
  {
   "cell_type": "code",
   "execution_count": 23,
   "metadata": {},
   "outputs": [
    {
     "data": {
      "text/plain": [
       "[1638377,\n",
       " 74906,\n",
       " 1095360,\n",
       " 886145,\n",
       " 1868737,\n",
       " 1622881,\n",
       " 765195,\n",
       " 212156,\n",
       " 1074806,\n",
       " 355727,\n",
       " 1706489,\n",
       " 724538,\n",
       " 201501,\n",
       " 126472,\n",
       " 1078756,\n",
       " 1012010,\n",
       " 997381,\n",
       " 286613,\n",
       " 1553122,\n",
       " 574519,\n",
       " 77324,\n",
       " 136155,\n",
       " 1234555,\n",
       " 406543,\n",
       " 424448,\n",
       " 61916,\n",
       " 1201808,\n",
       " 56739,\n",
       " 316334,\n",
       " 548117,\n",
       " 80640,\n",
       " 1760049,\n",
       " 688502,\n",
       " 880058,\n",
       " 1353847,\n",
       " 1015492,\n",
       " 1966763,\n",
       " 866166,\n",
       " 937945,\n",
       " 1878669,\n",
       " 732381,\n",
       " 781203,\n",
       " 1189691,\n",
       " 1079471,\n",
       " 148297,\n",
       " 150325,\n",
       " 1815839,\n",
       " 250826,\n",
       " 1035906,\n",
       " 1518207,\n",
       " 440254,\n",
       " 1007446,\n",
       " 550526,\n",
       " 1330217,\n",
       " 139196,\n",
       " 454952,\n",
       " 1409128,\n",
       " 1021609,\n",
       " 298688,\n",
       " 478526,\n",
       " 1991018,\n",
       " 893001,\n",
       " 531888,\n",
       " 331300,\n",
       " 559621,\n",
       " 1243601,\n",
       " 1954282,\n",
       " 1259368,\n",
       " 250883,\n",
       " 504638,\n",
       " 788795,\n",
       " 733891,\n",
       " 902206,\n",
       " 1247901,\n",
       " 934640,\n",
       " 89752,\n",
       " 1176151,\n",
       " 1905390,\n",
       " 759283,\n",
       " 819955]"
      ]
     },
     "execution_count": 23,
     "metadata": {},
     "output_type": "execute_result"
    }
   ],
   "source": [
    "j"
   ]
  },
  {
   "cell_type": "code",
   "execution_count": null,
   "metadata": {},
   "outputs": [],
   "source": []
  }
 ],
 "metadata": {
  "kernelspec": {
   "display_name": "Python 3",
   "language": "python",
   "name": "python3"
  },
  "language_info": {
   "codemirror_mode": {
    "name": "ipython",
    "version": 3
   },
   "file_extension": ".py",
   "mimetype": "text/x-python",
   "name": "python",
   "nbconvert_exporter": "python",
   "pygments_lexer": "ipython3",
   "version": "3.7.4"
  }
 },
 "nbformat": 4,
 "nbformat_minor": 4
}
