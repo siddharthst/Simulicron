{
 "cells": [
  {
   "cell_type": "code",
   "execution_count": 1,
   "id": "3559f89e-fce9-490f-90a4-7701c132878b",
   "metadata": {},
   "outputs": [],
   "source": [
    "# Init\n",
    "import os\n",
    "import sys\n",
    "\n",
    "module_path = os.path.abspath(os.path.join(\"../src/simulicronalpha/\"))\n",
    "if module_path not in sys.path:\n",
    "    sys.path.append(module_path)\n",
    "\n",
    "# Imports\n",
    "import random\n",
    "import numpy as np\n",
    "import pandas as pd\n",
    "import warnings\n",
    "import pickle\n",
    "from numpy import concatenate as c\n",
    "from itertools import repeat\n",
    "\n",
    "# Simulation imports\n",
    "from popSim import runSim\n",
    "from generateSim import generatePopulation, generateGenome, initHGT\n",
    "from stats import stats\n",
    "from regulation import regulation\n",
    "from checkCopyNumber import checkCopyNumber\n",
    "from fitness import calculateFitness\n",
    "from transposition import transposition\n",
    "from recombination import recombination\n"
   ]
  },
  {
   "cell_type": "code",
   "execution_count": 2,
   "id": "0858655b-1b64-4819-b78b-c1970d88c079",
   "metadata": {},
   "outputs": [],
   "source": [
    "genome = generateGenome()"
   ]
  },
  {
   "cell_type": "code",
   "execution_count": 3,
   "id": "0ed0a833-5139-478f-b612-46ac226eb190",
   "metadata": {},
   "outputs": [
    {
     "data": {
      "text/plain": [
       "(array([[0.  , 1.  , 0.01, 0.  ],\n",
       "        [0.  , 1.  , 0.01, 0.  ],\n",
       "        [0.  , 1.  , 0.01, 0.  ],\n",
       "        ...,\n",
       "        [0.  , 1.  , 0.01, 0.  ],\n",
       "        [0.  , 1.  , 0.01, 0.  ],\n",
       "        [0.  , 1.  , 0.01, 0.  ]]),\n",
       " {1: (92, 97),\n",
       "  2: (281, 286),\n",
       "  3: (448, 453),\n",
       "  4: (634, 639),\n",
       "  5: (679, 684),\n",
       "  6: (926, 931)},\n",
       " [92,\n",
       "  93,\n",
       "  94,\n",
       "  95,\n",
       "  96,\n",
       "  281,\n",
       "  282,\n",
       "  283,\n",
       "  284,\n",
       "  285,\n",
       "  448,\n",
       "  449,\n",
       "  450,\n",
       "  451,\n",
       "  452,\n",
       "  634,\n",
       "  635,\n",
       "  636,\n",
       "  637,\n",
       "  638,\n",
       "  679,\n",
       "  680,\n",
       "  681,\n",
       "  682,\n",
       "  683,\n",
       "  926,\n",
       "  927,\n",
       "  928,\n",
       "  929,\n",
       "  930],\n",
       " array([0.00000000e+00, 1.01013537e-02, 2.02027073e-02, ...,\n",
       "        2.55671644e+01, 2.55772658e+01, 2.55873671e+01]))"
      ]
     },
     "execution_count": 3,
     "metadata": {},
     "output_type": "execute_result"
    }
   ],
   "source": [
    "genome"
   ]
  },
  {
   "cell_type": "code",
   "execution_count": null,
   "id": "1e7d1284-cc62-41e9-8633-44ba9d739851",
   "metadata": {},
   "outputs": [],
   "source": []
  }
 ],
 "metadata": {
  "kernelspec": {
   "display_name": "Python 3",
   "language": "python",
   "name": "python3"
  },
  "language_info": {
   "codemirror_mode": {
    "name": "ipython",
    "version": 3
   },
   "file_extension": ".py",
   "mimetype": "text/x-python",
   "name": "python",
   "nbconvert_exporter": "python",
   "pygments_lexer": "ipython3",
   "version": "3.8.8"
  }
 },
 "nbformat": 4,
 "nbformat_minor": 5
}
