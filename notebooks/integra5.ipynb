{
 "cells": [
  {
   "cell_type": "code",
   "execution_count": 1,
   "id": "3559f89e-fce9-490f-90a4-7701c132878b",
   "metadata": {},
   "outputs": [],
   "source": [
    "# Init\n",
    "import os\n",
    "import sys\n",
    "\n",
    "module_path = os.path.abspath(os.path.join(\"../src/simulicronalpha/\"))\n",
    "if module_path not in sys.path:\n",
    "    sys.path.append(module_path)\n",
    "\n",
    "# Imports\n",
    "import random\n",
    "import numpy as np\n",
    "import pandas as pd\n",
    "import warnings\n",
    "import pickle\n",
    "from numpy import concatenate as c\n",
    "from itertools import repeat\n",
    "\n",
    "# Simulation imports\n",
    "from popSim import runSim\n",
    "from generateSim import generatePopulation, generateGenome, initHGT\n",
    "from stats import stats\n",
    "from regulation import regulation\n",
    "from checkCopyNumber import checkCopyNumber\n",
    "from fitness import calculateFitness\n",
    "from transposition import transposition\n",
    "from recombination import recombination\n"
   ]
  },
  {
   "cell_type": "code",
   "execution_count": 4,
   "id": "7c01d547-3fbf-4367-9efa-a7a9b0ebe9eb",
   "metadata": {},
   "outputs": [],
   "source": [
    "# Define the simulation parameters\n",
    "# max and min\n",
    "parameters = {\n",
    "    \"generations\": 1000,\n",
    "    \"individuals\": 500,\n",
    "    \"selectionPenaltyMin\": -0.1,\n",
    "    \"selectionPenaltyMax\": -0.1,\n",
    "    \"etaMin\": 1.0,\n",
    "    \"etaMax\": 1.0,\n",
    "    \"tauMin\": 1.0,\n",
    "    \"tauMax\": 1.0,\n",
    "    \"ExcisionRateMainMin\": 1.0,\n",
    "    \"ExcisionRateMainMax\": 1.0,\n",
    "    \"ExcisionRateHGTMin\": 1.0,\n",
    "    \"ExcisionRateHGTMax\": 1.0,\n",
    "    \"FrequencyOfInsertionMainMin\": 1.0,\n",
    "    \"FrequencyOfInsertionMainMax\": 1.0,\n",
    "    \"FrequencyOfInsertionHGTMin\": 0.2,\n",
    "    \"FrequencyOfInsertionHGTMax\": 0.2,\n",
    "    \"HGTgenerationMin\": 50,\n",
    "    \"HGTgenerationMax\": 50,\n",
    "    \"maxProcceses\": 60,\n",
    "}\n",
    "# Generate genome and population\n",
    "selectionCoef = np.random.uniform(\n",
    "    parameters[\"selectionPenaltyMin\"],\n",
    "    parameters[\"selectionPenaltyMax\"],\n",
    ")\n",
    "FrequencyOfInsertionMain = np.random.uniform(\n",
    "    parameters[\"FrequencyOfInsertionMainMin\"],\n",
    "    parameters[\"FrequencyOfInsertionMainMax\"],\n",
    ")\n",
    "FrequencyOfInsertionHGT = np.random.uniform(\n",
    "    parameters[\"FrequencyOfInsertionHGTMin\"],\n",
    "    parameters[\"FrequencyOfInsertionHGTMax\"],\n",
    ")\n",
    "ExcisionRateMain = np.random.uniform(\n",
    "    parameters[\"ExcisionRateMainMin\"],\n",
    "    parameters[\"ExcisionRateMainMax\"],\n",
    ")\n",
    "ExcisionRateHGT = np.random.uniform(\n",
    "    parameters[\"ExcisionRateHGTMin\"],\n",
    "    parameters[\"ExcisionRateHGTMax\"],\n",
    ")\n",
    "HMTgen = random.randint(\n",
    "    parameters[\"HGTgenerationMin\"],\n",
    "    parameters[\"HGTgenerationMax\"],\n",
    ")\n",
    "tau = np.random.uniform(\n",
    "    parameters[\"tauMin\"], parameters[\"tauMax\"],\n",
    ")\n",
    "eta = np.random.uniform(\n",
    "    parameters[\"etaMin\"], parameters[\"etaMax\"],\n",
    ")"
   ]
  },
  {
   "cell_type": "code",
   "execution_count": 5,
   "id": "0ebcfef4-67e7-4b60-995c-57349c438afc",
   "metadata": {},
   "outputs": [],
   "source": [
    "genome, piset, piIndice, rates = generateGenome(\n",
    "    numberOfInsertionSites=10000,\n",
    "    numberOfChromosomes=6,\n",
    "    baseRecombinationRate=0.1,\n",
    "    baseSelection=selectionCoef,\n",
    "    baseTau=tau,\n",
    ")\n",
    "population, transposons, TEset = generatePopulation(\n",
    "    genome,\n",
    "    piIndice,\n",
    "    NumberOfIndividual=parameters[\"individuals\"],\n",
    "    NumberOfTransposonTypes=2,\n",
    "    NumberOfInsertionsPerType=[1, 0],\n",
    "    FrequencyOfInsertions=[\n",
    "        FrequencyOfInsertionMain,\n",
    "        FrequencyOfInsertionHGT,\n",
    "    ],\n",
    "    ExcisionRates=[ExcisionRateMain, ExcisionRateHGT],\n",
    "    RepairRates=[1, 1],\n",
    "    InsertionRates=[1, 1],\n",
    ")"
   ]
  },
  {
   "cell_type": "code",
   "execution_count": 2,
   "id": "0858655b-1b64-4819-b78b-c1970d88c079",
   "metadata": {},
   "outputs": [],
   "source": [
    "genome = generateGenome(DisablePiSelection=.05)"
   ]
  },
  {
   "cell_type": "code",
   "execution_count": 7,
   "id": "86dbcb27-1a1c-4261-9c49-ea75d5a2fa71",
   "metadata": {},
   "outputs": [
    {
     "data": {
      "text/plain": [
       "12120"
      ]
     },
     "execution_count": 7,
     "metadata": {},
     "output_type": "execute_result"
    }
   ],
   "source": [
    "sys.getsizeof(population)"
   ]
  },
  {
   "cell_type": "code",
   "execution_count": 8,
   "id": "a242552b-34c2-4d91-8cfd-c72a8725656a",
   "metadata": {},
   "outputs": [
    {
     "data": {
      "text/plain": [
       "12000"
      ]
     },
     "execution_count": 8,
     "metadata": {},
     "output_type": "execute_result"
    }
   ],
   "source": [
    "population"
   ]
  },
  {
   "cell_type": "code",
   "execution_count": null,
   "id": "e890e1e6-65e8-4a9c-b6b2-05c615297390",
   "metadata": {},
   "outputs": [],
   "source": []
  }
 ],
 "metadata": {
  "kernelspec": {
   "display_name": "Python 3",
   "language": "python",
   "name": "python3"
  },
  "language_info": {
   "codemirror_mode": {
    "name": "ipython",
    "version": 3
   },
   "file_extension": ".py",
   "mimetype": "text/x-python",
   "name": "python",
   "nbconvert_exporter": "python",
   "pygments_lexer": "ipython3",
   "version": "3.8.8"
  }
 },
 "nbformat": 4,
 "nbformat_minor": 5
}
