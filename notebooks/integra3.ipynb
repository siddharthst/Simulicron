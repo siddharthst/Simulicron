{
 "cells": [
  {
   "cell_type": "code",
   "execution_count": 1,
   "metadata": {},
   "outputs": [],
   "source": [
    "# Init\n",
    "import os\n",
    "import sys\n",
    "\n",
    "module_path = os.path.abspath(os.path.join(\"../src/simulicronalpha/\"))\n",
    "if module_path not in sys.path:\n",
    "    sys.path.append(module_path)\n",
    "\n",
    "# Imports\n",
    "import numpy as np\n",
    "import pandas as pd\n",
    "import warnings\n",
    "import multiprocessing\n",
    "np.set_printoptions(suppress=True)\n",
    "from numpy import concatenate as c\n",
    "from numpy import cumsum\n",
    "import random\n",
    "%load_ext line_profiler"
   ]
  },
  {
   "cell_type": "code",
   "execution_count": 2,
   "metadata": {},
   "outputs": [],
   "source": [
    "from generateSim import (generatePopulation, generateGenome, initHGT)\n",
    "from stats import stats\n",
    "from regulation import regulation\n",
    "from checkCopyNumber import checkCopyNumber\n",
    "from fitness import calculateFitness\n",
    "from transposition import transposition\n",
    "from recombination import recombination"
   ]
  },
  {
   "cell_type": "code",
   "execution_count": 3,
   "metadata": {},
   "outputs": [],
   "source": [
    "from popSim import runBatch, runSim"
   ]
  },
  {
   "cell_type": "code",
   "execution_count": 4,
   "metadata": {},
   "outputs": [],
   "source": [
    "gen,piset,piIndice,rates = generateGenome(\n",
    "    numberOfInsertionSites=10000,\n",
    "    numberOfChromosomes=6,\n",
    "    baseRecombinationRate=0.1,\n",
    "    baseSelection=0,\n",
    "    baseTau=1,\n",
    ")"
   ]
  },
  {
   "cell_type": "code",
   "execution_count": 5,
   "metadata": {},
   "outputs": [],
   "source": [
    "pop, tr, TEset= generatePopulation(\n",
    "    gen,\n",
    "    piIndice,\n",
    "    NumberOfIndividual=1000,\n",
    "    NumberOfTransposonTypes=2,\n",
    "    NumberOfInsertionsPerType=[1,1],\n",
    "    FrequencyOfInsertions=[1,1],\n",
    "    ExcisionRates = [1,1],\n",
    "    RepairRates=[1,1],\n",
    "    InsertionRates=[1,1],\n",
    ")"
   ]
  },
  {
   "cell_type": "code",
   "execution_count": null,
   "metadata": {},
   "outputs": [],
   "source": [
    "numOfTr = len(tr)\n",
    "tr = np.append(tr, np.zeros((10000000, 6), dtype=object), axis=0,)"
   ]
  },
  {
   "cell_type": "code",
   "execution_count": null,
   "metadata": {},
   "outputs": [],
   "source": [
    "pop, tr, TEset, numOfTr = initHGT(pop,tr,gen,TEset,numOfTr,1.0,0.5,1,1)"
   ]
  },
  {
   "cell_type": "code",
   "execution_count": null,
   "metadata": {},
   "outputs": [],
   "source": [
    "x, y, a, b = checkCopyNumber(pop, TEset, tr)"
   ]
  },
  {
   "cell_type": "code",
   "execution_count": null,
   "metadata": {},
   "outputs": [],
   "source": [
    "a"
   ]
  },
  {
   "cell_type": "code",
   "execution_count": 10,
   "metadata": {},
   "outputs": [
    {
     "data": {
      "text/plain": [
       "array([ True,  True,  True,  True])"
      ]
     },
     "execution_count": 10,
     "metadata": {},
     "output_type": "execute_result"
    }
   ],
   "source": [
    "tr[[2,3,4,5], 0] == 1"
   ]
  },
  {
   "cell_type": "code",
   "execution_count": null,
   "metadata": {},
   "outputs": [],
   "source": [
    "# runSim(gen,pop,tr,TEset,2,50,rates,piIndice,HMTgen=10,FrequencyOfInsertions=[0.5,1],ExcisionRates=[0.7,0.0],RepairRates=[1,1],InsertionRates=[1,1],eta=0.5)\n",
    "runSim(gen,pop,tr,TEset,2,10000,rates,piIndice,)"
   ]
  },
  {
   "cell_type": "code",
   "execution_count": null,
   "metadata": {},
   "outputs": [],
   "source": [
    "sum(gen[0:, 3])"
   ]
  },
  {
   "cell_type": "code",
   "execution_count": null,
   "metadata": {},
   "outputs": [],
   "source": [
    "tr[1:,1].tolist()"
   ]
  },
  {
   "cell_type": "code",
   "execution_count": null,
   "metadata": {},
   "outputs": [],
   "source": [
    "piset"
   ]
  },
  {
   "cell_type": "code",
   "execution_count": null,
   "metadata": {},
   "outputs": [],
   "source": [
    "%lprun -f runSim runSim(gen,pop,tr,TEset,1,10000,rates,piset)"
   ]
  },
  {
   "cell_type": "code",
   "execution_count": null,
   "metadata": {},
   "outputs": [],
   "source": [
    "%lprun -f recombination recombination(rates=rates, transposonMatrix=tr, v1=[52], v2=[65])"
   ]
  },
  {
   "cell_type": "code",
   "execution_count": null,
   "metadata": {},
   "outputs": [],
   "source": [
    "%lprun -f runBatch runBatch(numberOfSimulations=1,baseSelection=0,baseInsertionProb=1,numberOfInsertionSites=10000,numberOfChromosomes=6,baseRecombinationRate=0.01,baseTau=1,numberOfPiRNA=6,piPercentage=3,enablePiRecombination=False,NumberOfIndividual=1000,NumberOfTransposonTypes=1,NumberOfInsertionsPerType=[1],FrequencyOfInsertions=[1.0],ExcisionRates=[1.0],RepairRates=[1],InsertionRates=[1],HardyWeinberg=False,NumberOfGenerations=10,numberOfThreads=1,)"
   ]
  },
  {
   "cell_type": "code",
   "execution_count": null,
   "metadata": {},
   "outputs": [],
   "source": [
    "np.set_printoptions(suppress=True,)"
   ]
  },
  {
   "cell_type": "code",
   "execution_count": null,
   "metadata": {},
   "outputs": [],
   "source": [
    "%lprun -f transposition transposition(transposonMatrix=tr, genomeMatrix=gen, NumberOfTransposonInsertions=1, TEset=TEset, v1=[52,101,321,433,12,23,234,123,657,29], v2=[65,54,22,121,23])"
   ]
  },
  {
   "cell_type": "code",
   "execution_count": null,
   "metadata": {},
   "outputs": [],
   "source": [
    "def checkCopyNumber(populationMatrix, TEset, transposonMatrix):\n",
    "    # The local flatten lambda\n",
    "    flatten = lambda *n: (\n",
    "        e for a in n for e in (flatten(*a) if isinstance(a, (tuple, list)) else (a,))\n",
    "    )\n",
    "    # Convert the list to flat list and remove 0\n",
    "    # if present.\n",
    "    # Also create a dictionary counting \n",
    "    # each family type\n",
    "    TEfamilyCount = {k: [] for k in range(1, len(TEset.keys()) + 1)}\n",
    "    TEfamilyVar = {k: [] for k in range(1, len(TEset.keys()) + 1)}\n",
    "    TETotal = []\n",
    "    for i in range(len(populationMatrix)):\n",
    "        v1 = populationMatrix[i, 0] if type(populationMatrix[i, 0]) is list else []\n",
    "        v2 = populationMatrix[i, 1] if type(populationMatrix[i, 1]) is list else []\n",
    "        if (v1 + v2 == []):\n",
    "            TETotal.append(0)\n",
    "            for k in TEset.keys():\n",
    "                TEfamilyCount[k].append(0)\n",
    "        else:\n",
    "            # Check the occupancy for each family\n",
    "            TEfamilies = transposonMatrix[v1+v2, 0].tolist()\n",
    "            TETotal.append(len(TEfamilies))\n",
    "            for k in TEset.keys():\n",
    "                TEfamilyCount[k].append(TEfamilies.count(k))\n",
    "    # Calculate variance per family and sum the count\n",
    "    for k in TEset.keys():\n",
    "        TEfamilyVar[k].append(np.var(TEfamilyCount[k]))\n",
    "        TEfamilyCount[k] = sum(TEfamilyCount[k])\n",
    "    return sum(TETotal), np.var(TETotal), TEfamilyCount, TEfamilyVar"
   ]
  },
  {
   "cell_type": "code",
   "execution_count": null,
   "metadata": {},
   "outputs": [],
   "source": [
    "TEfamilyCount = {k: [] for k in range(1, len(TEset.keys()) + 1)}"
   ]
  },
  {
   "cell_type": "code",
   "execution_count": null,
   "metadata": {},
   "outputs": [],
   "source": [
    "x, y, a, b = checkCopyNumber(pop, TEset, tr)"
   ]
  },
  {
   "cell_type": "code",
   "execution_count": null,
   "metadata": {},
   "outputs": [],
   "source": [
    "a"
   ]
  },
  {
   "cell_type": "code",
   "execution_count": null,
   "metadata": {},
   "outputs": [],
   "source": [
    "TEfamilyCount"
   ]
  },
  {
   "cell_type": "code",
   "execution_count": null,
   "metadata": {},
   "outputs": [],
   "source": [
    "pop"
   ]
  },
  {
   "cell_type": "code",
   "execution_count": null,
   "metadata": {},
   "outputs": [],
   "source": [
    "tr"
   ]
  },
  {
   "cell_type": "code",
   "execution_count": null,
   "metadata": {},
   "outputs": [],
   "source": [
    "z = [3,4,6,74,4,3]"
   ]
  },
  {
   "cell_type": "code",
   "execution_count": null,
   "metadata": {},
   "outputs": [],
   "source": [
    "z.count(7)"
   ]
  },
  {
   "cell_type": "code",
   "execution_count": null,
   "metadata": {},
   "outputs": [],
   "source": [
    "def runSim(\n",
    "    genomeMatrix,\n",
    "    populationMatrix,\n",
    "    transposonMatrix,\n",
    "    TEset,\n",
    "    NumberOfTransposonInsertions,\n",
    "    generations,\n",
    "    genMap,\n",
    "    piSet,\n",
    "):\n",
    "    # ------------------#\n",
    "    # lambda/macros\n",
    "    flatten = lambda *n: (\n",
    "        e\n",
    "        for a in n\n",
    "        for e in (\n",
    "            flatten(*a) if isinstance(a, (tuple, list)) else (a,)\n",
    "        )\n",
    "    )\n",
    "    # ------------------#\n",
    "    # ------------------#\n",
    "    # for storing transposons which are fixed\n",
    "    fixedTE = []\n",
    "    # for storing transposons which are not fixed\n",
    "    unfixedTE = []\n",
    "    # for storing transposons which are lost\n",
    "    lostTE = []\n",
    "    # For storing the average copy number per generation\n",
    "    averageCopyNumber = []\n",
    "    # For storing the copy number variance per generation\n",
    "    varianceCopyNumber = []\n",
    "    # Per family statistics\n",
    "    TEfamilyCountArr = []\n",
    "    TEfamilyVarArr = []\n",
    "    # Create a insertionSiteSepecific array\n",
    "    insertionSiteFrequencyArray = np.zeros(\n",
    "        (len(genomeMatrix), NumberOfTransposonInsertions,)\n",
    "    )\n",
    "    transposonMatrixCopy = transposonMatrix\n",
    "    populationMatrixCopy = populationMatrix\n",
    "\n",
    "    # Create a fixed size array for storing transposon information\n",
    "    # Also add a \"counter\" - with a large fixed array, it is not\n",
    "    # possible to use len(transposons) to find the last filled index\n",
    "    transposonMatrixCopy = np.append(\n",
    "        transposonMatrix,\n",
    "        np.zeros((10000000, 6), dtype=object),\n",
    "        axis=0,\n",
    "    )\n",
    "    numberOfTranspositionEvents = len(transposonMatrix)\n",
    "\n",
    "    # Calculate piRNA coordinates\n",
    "    piCoord = []\n",
    "    for i in piSet.values():\n",
    "        piCoord = piCoord + (list(range(i[0], i[1])))\n",
    "\n",
    "    # Calculate the CN and CNV for generation 0\n",
    "    (\n",
    "        copyNumber,\n",
    "        varianceNumber,\n",
    "        TEfamilyCount,\n",
    "        TEfamilyVar,\n",
    "    ) = checkCopyNumber(\n",
    "        populationMatrixCopy, TEset, transposonMatrixCopy\n",
    "    )\n",
    "    averageCopyNumber.append(copyNumber)\n",
    "    varianceCopyNumber.append(varianceNumber)\n",
    "    TEfamilyCountArr.append(TEfamilyCount)\n",
    "    TEfamilyVarArr.append(TEfamilyVar)\n",
    "\n",
    "    # Driver loop\n",
    "    for i in range(generations):\n",
    "        # Start the clock\n",
    "        # timeStart = time.time()\n",
    "        print(i)\n",
    "        populationV1 = []\n",
    "        populationV2 = []\n",
    "        populationFit = []\n",
    "        for k in list(range(populationMatrixCopy.shape[0])):\n",
    "            fitness = list(populationMatrixCopy[0:, 2])\n",
    "\n",
    "            p1, p2 = random.choices(\n",
    "                list(range(populationMatrixCopy.shape[0])),\n",
    "                weights=fitness,\n",
    "                k=2,\n",
    "            )\n",
    "\n",
    "            # Since recombination function only accepts arrays,\n",
    "            # checking and forcing type conversion as needed\n",
    "            # for the respective alleles\n",
    "            if (\n",
    "                populationMatrixCopy[p1, 0] == 0\n",
    "                and populationMatrixCopy[p1, 1] == 0\n",
    "            ):\n",
    "                v1 = 0\n",
    "            else:\n",
    "                cP1V1 = populationMatrixCopy[p1, 0]\n",
    "                cP1V2 = populationMatrixCopy[p1, 1]\n",
    "                if isinstance(cP1V1, list):\n",
    "                    cP1V1 = np.asarray(cP1V1)\n",
    "                else:\n",
    "                    cP1V1 = np.asarray([cP1V1])\n",
    "                if isinstance(cP1V2, list):\n",
    "                    cP1V2 = np.asarray(cP1V2)\n",
    "                else:\n",
    "                    cP1V2 = np.asarray([cP1V2])\n",
    "\n",
    "                v1 = recombination(\n",
    "                    genMap, transposonMatrixCopy, v1=cP1V1, v2=cP1V2,\n",
    "                )\n",
    "\n",
    "            if (\n",
    "                populationMatrixCopy[p2, 0] == 0\n",
    "                and populationMatrixCopy[p2, 1] == 0\n",
    "            ):\n",
    "                v2 = 0\n",
    "            else:\n",
    "                cP2V1 = populationMatrixCopy[p2, 0]\n",
    "                cP2V2 = populationMatrixCopy[p2, 1]\n",
    "                if isinstance(cP2V1, list):\n",
    "                    cP2V1 = np.asarray(cP2V1)\n",
    "                else:\n",
    "                    cP2V1 = np.asarray([cP2V1])\n",
    "                if isinstance(cP2V2, list):\n",
    "                    cP2V2 = np.asarray(cP2V2)\n",
    "                else:\n",
    "                    cP2V2 = np.asarray([cP2V2])\n",
    "\n",
    "                v2 = recombination(\n",
    "                    genMap, transposonMatrixCopy, v1=cP2V1, v2=cP2V2,\n",
    "                )\n",
    "\n",
    "            if v1 == 0 and v2 == 0:\n",
    "                indFitness = 1\n",
    "\n",
    "            else:\n",
    "                (\n",
    "                    v1,\n",
    "                    v2,\n",
    "                    transposonMatrixCopy,\n",
    "                    TEset,\n",
    "                    numberOfTranspositionEvents,\n",
    "                ) = transposition(\n",
    "                    transposonMatrix=transposonMatrixCopy,\n",
    "                    genomeMatrix=genomeMatrix,\n",
    "                    NumberOfTransposonInsertions=NumberOfTransposonInsertions,\n",
    "                    TEset=TEset,\n",
    "                    piCoord=piCoord,\n",
    "                    numberOfTranspositionEvents=numberOfTranspositionEvents,\n",
    "                    v1=v1,\n",
    "                    v2=v2,\n",
    "                )\n",
    "                indFitness = calculateFitness(\n",
    "                    transposonMatrixCopy, v1, v2\n",
    "                )\n",
    "\n",
    "            populationV1.append(v1)\n",
    "            populationV2.append(v2)\n",
    "            populationFit.append(indFitness)\n",
    "        # Return i+2 since i start at 0 = generation 1\n",
    "        # and the condition check happens at generation\n",
    "        # n-1, hence i + 1 + 1\n",
    "\n",
    "        # Check if there are no transposons left\n",
    "        if False:\n",
    "            # Make the family information \"flat\"\n",
    "            # https://stackoverflow.com/questions/5946236/how-to-merge-multiple-dicts-with-same-key\n",
    "            dict1 = {}\n",
    "            dict2 = {}\n",
    "            for k in TEset.keys():\n",
    "                dict1[k] = tuple(dict1[k] for dict1 in TEfamilyCountArr)\n",
    "                dict2[k] = tuple(dict2[k] for dict2 in TEfamilyCountArr)\n",
    "            TEfamilyCountArrRes = dict1\n",
    "            TEfamilyVarArrRes = dict2\n",
    "            return {\n",
    "                \"State\": \"LOSS\",\n",
    "                \"Generatrion\": i + 2,\n",
    "                \"NTE\": numberOfTranspositionEvents,\n",
    "                \"AvgCopyNum\": averageCopyNumber,\n",
    "                \"CopyNumVar\": varianceCopyNumber,\n",
    "                \"TEfamilyCN\": TEfamilyCountArrRes,\n",
    "                \"TEfamilyVR\": TEfamilyVarArrRes,\n",
    "            }\n",
    "        else:\n",
    "            pass\n",
    "        # Major bug in numpy - forced to use pandas\n",
    "        # Refer to the question\n",
    "        # https://stackoverflow.com/questions/60210897\n",
    "        # populationMatrixCopy = pd.DataFrame(\n",
    "        #    [populationV1, populationV2, populationFit]\n",
    "        # ).T.to_numpy()\n",
    "        populationMatrixCopy= np.array([populationV1,\n",
    "            populationV2,\n",
    "            populationFit,], dtype=\"object\").T\n",
    "        # (\n",
    "        #     compyNumber,\n",
    "        #     varianceNumber,\n",
    "        #     insertionSiteFrequencyArray,\n",
    "        # ) = statistics(\n",
    "        #     populationMatrixCopy,\n",
    "        #     transposonMatrixCopy,\n",
    "        #     TEset,\n",
    "        #     insertionSiteFrequencyArray,\n",
    "        # )\n",
    "        (\n",
    "            copyNumber,\n",
    "            varianceNumber,\n",
    "            TEfamilyCount,\n",
    "            TEfamilyVar,\n",
    "        ) = checkCopyNumber(\n",
    "            populationMatrixCopy, TEset, transposonMatrixCopy\n",
    "        )\n",
    "        averageCopyNumber.append(copyNumber)\n",
    "        varianceCopyNumber.append(varianceNumber)\n",
    "        TEfamilyCountArr.append(TEfamilyCount)\n",
    "        TEfamilyVarArr.append(TEfamilyVar)\n",
    "        # Stop the timer\n",
    "        # timeStop = time.time()\n",
    "        # Terminate the loop if it runs for more than \n",
    "        # 8 seconds! \n",
    "        # if (timeStop-timeStart) > 10.0:\n",
    "        #    return {\n",
    "        #        \"State\": \"TIMEXC\",\n",
    "        #        \"Generatrion\": i + 2,\n",
    "        #        \"NTE\": numberOfTranspositionEvents,\n",
    "        #        \"AvgCopyNum\": averageCopyNumber,\n",
    "        #        \"CopyNumVar\": varianceCopyNumber,\n",
    "        #        \"TEfamilyCN\": TEfamilyCountArr,\n",
    "        #        \"TEfamilyVR\": TEfamilyVarArr,\n",
    "        #    }\n",
    "\n",
    "    # Quit simulation if there in a transient state\n",
    "    # i.e. no loss\n",
    "    dict1 = {}\n",
    "    dict2 = {}\n",
    "    for k in TEset.keys():\n",
    "        dict1[k] = tuple(dict1[k] for dict1 in TEfamilyCountArr)\n",
    "        dict2[k] = tuple(dict2[k] for dict2 in TEfamilyCountArr)\n",
    "    TEfamilyCountArrRes = dict1\n",
    "    TEfamilyVarArrRes = dict2\n",
    "    return {\n",
    "            \"State\": \"FLUX\",\n",
    "            \"Generatrion\": i + 2,\n",
    "            \"NTE\": numberOfTranspositionEvents,\n",
    "            \"AvgCopyNum\": averageCopyNumber,\n",
    "            \"CopyNumVar\": varianceCopyNumber,\n",
    "            \"TEfamilyCN\": TEfamilyCountArrRes,\n",
    "            \"TEfamilyVR\": TEfamilyVarArrRes,\n",
    "    }"
   ]
  },
  {
   "cell_type": "code",
   "execution_count": null,
   "metadata": {},
   "outputs": [],
   "source": [
    "checkCopyNumber(pop)"
   ]
  },
  {
   "cell_type": "code",
   "execution_count": null,
   "metadata": {},
   "outputs": [],
   "source": [
    "x = 50"
   ]
  },
  {
   "cell_type": "code",
   "execution_count": null,
   "metadata": {},
   "outputs": [],
   "source": [
    "z = (len(pop)-x)\n",
    "len(pop[950:, 1] )"
   ]
  },
  {
   "cell_type": "code",
   "execution_count": null,
   "metadata": {},
   "outputs": [],
   "source": [
    "len(pop)-x"
   ]
  },
  {
   "cell_type": "code",
   "execution_count": null,
   "metadata": {},
   "outputs": [],
   "source": [
    "x = np.asarray([1,2,3,4,5,6,7,8,9])"
   ]
  },
  {
   "cell_type": "code",
   "execution_count": null,
   "metadata": {},
   "outputs": [],
   "source": [
    "x[0:len(x)]"
   ]
  },
  {
   "cell_type": "code",
   "execution_count": null,
   "metadata": {},
   "outputs": [],
   "source": [
    "k = x"
   ]
  },
  {
   "cell_type": "code",
   "execution_count": null,
   "metadata": {},
   "outputs": [],
   "source": [
    "k[1]=99"
   ]
  },
  {
   "cell_type": "code",
   "execution_count": null,
   "metadata": {},
   "outputs": [],
   "source": [
    "x"
   ]
  },
  {
   "cell_type": "code",
   "execution_count": null,
   "metadata": {},
   "outputs": [],
   "source": [
    "k"
   ]
  },
  {
   "cell_type": "code",
   "execution_count": null,
   "metadata": {},
   "outputs": [],
   "source": []
  }
 ],
 "metadata": {
  "kernelspec": {
   "display_name": "Python 3",
   "language": "python",
   "name": "python3"
  },
  "language_info": {
   "codemirror_mode": {
    "name": "ipython",
    "version": 3
   },
   "file_extension": ".py",
   "mimetype": "text/x-python",
   "name": "python",
   "nbconvert_exporter": "python",
   "pygments_lexer": "ipython3",
   "version": "3.7.6"
  }
 },
 "nbformat": 4,
 "nbformat_minor": 4
}
