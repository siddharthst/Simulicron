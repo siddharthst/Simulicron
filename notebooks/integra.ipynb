{
 "cells": [
  {
   "cell_type": "code",
   "execution_count": 1,
   "metadata": {},
   "outputs": [],
   "source": [
    "import os\n",
    "import sys\n",
    "module_path = os.path.abspath(os.path.join('../src/simulicronalpha/'))\n",
    "if module_path not in sys.path:\n",
    "    sys.path.append(module_path)"
   ]
  },
  {
   "cell_type": "code",
   "execution_count": 2,
   "metadata": {},
   "outputs": [],
   "source": [
    "# Imports\n",
    "import inspect\n",
    "import random\n",
    "import tempfile\n",
    "import uuid\n",
    "from functools import wraps\n",
    "import collections\n",
    "import seaborn as sns\n",
    "import matplotlib.pyplot as plt\n",
    "import coloredlogs\n",
    "import dask as ddnb\n",
    "import logging\n",
    "import numpy as np\n",
    "import pandas as pd\n",
    "from coolname import generate_slug\n",
    "import warnings\n",
    "\n",
    "warnings.filterwarnings(\"ignore\")\n",
    "\n",
    "\n",
    "# Logger\n",
    "logger = logging.getLogger(__name__)\n",
    "coloredlogs.install(level=\"DEBUG\")"
   ]
  },
  {
   "cell_type": "code",
   "execution_count": 3,
   "metadata": {},
   "outputs": [],
   "source": [
    "import InitSim as init"
   ]
  },
  {
   "cell_type": "code",
   "execution_count": 4,
   "metadata": {},
   "outputs": [],
   "source": [
    "k = init.initSim(tcount=80, insize=2000000)"
   ]
  },
  {
   "cell_type": "code",
   "execution_count": 5,
   "metadata": {},
   "outputs": [
    {
     "name": "stderr",
     "output_type": "stream",
     "text": [
      "2019-12-27 14:30:38 siddharth-OptiPlex-7070 InitSim[15121] INFO Mismatch between transposon count and transposition rates. Using default for each transposon count!\n",
      "2019-12-27 14:30:38 siddharth-OptiPlex-7070 InitSim[15121] INFO Mismatch between transposon count and transposon types. Using default for each transposon count!\n",
      "2019-12-27 14:30:38 siddharth-OptiPlex-7070 InitSim[15121] INFO Mismatch between transposon count and transposon parent. Using default for each transposon count!\n"
     ]
    }
   ],
   "source": [
    "k = k.createSim()"
   ]
  },
  {
   "cell_type": "code",
   "execution_count": 14,
   "metadata": {},
   "outputs": [
    {
     "data": {
      "text/html": [
       "<div>\n",
       "<style scoped>\n",
       "    .dataframe tbody tr th:only-of-type {\n",
       "        vertical-align: middle;\n",
       "    }\n",
       "\n",
       "    .dataframe tbody tr th {\n",
       "        vertical-align: top;\n",
       "    }\n",
       "\n",
       "    .dataframe thead th {\n",
       "        text-align: right;\n",
       "    }\n",
       "</style>\n",
       "<table border=\"1\" class=\"dataframe\">\n",
       "  <thead>\n",
       "    <tr style=\"text-align: right;\">\n",
       "      <th></th>\n",
       "      <th>InsertionSiteID</th>\n",
       "      <th>InsertionProbability</th>\n",
       "      <th>RecombinationRate</th>\n",
       "      <th>SelectionCoef</th>\n",
       "    </tr>\n",
       "  </thead>\n",
       "  <tbody>\n",
       "    <tr>\n",
       "      <th>0</th>\n",
       "      <td>1</td>\n",
       "      <td>1.226812e-08</td>\n",
       "      <td>0.01</td>\n",
       "      <td>-0.017850</td>\n",
       "    </tr>\n",
       "    <tr>\n",
       "      <th>1</th>\n",
       "      <td>2</td>\n",
       "      <td>5.580399e-07</td>\n",
       "      <td>0.01</td>\n",
       "      <td>-0.008998</td>\n",
       "    </tr>\n",
       "    <tr>\n",
       "      <th>2</th>\n",
       "      <td>3</td>\n",
       "      <td>6.363499e-07</td>\n",
       "      <td>0.01</td>\n",
       "      <td>-0.018363</td>\n",
       "    </tr>\n",
       "    <tr>\n",
       "      <th>3</th>\n",
       "      <td>4</td>\n",
       "      <td>8.132235e-07</td>\n",
       "      <td>0.01</td>\n",
       "      <td>-0.000114</td>\n",
       "    </tr>\n",
       "    <tr>\n",
       "      <th>4</th>\n",
       "      <td>5</td>\n",
       "      <td>9.172092e-07</td>\n",
       "      <td>0.01</td>\n",
       "      <td>-0.030801</td>\n",
       "    </tr>\n",
       "    <tr>\n",
       "      <th>...</th>\n",
       "      <td>...</td>\n",
       "      <td>...</td>\n",
       "      <td>...</td>\n",
       "      <td>...</td>\n",
       "    </tr>\n",
       "    <tr>\n",
       "      <th>1999994</th>\n",
       "      <td>1999995</td>\n",
       "      <td>7.720574e-07</td>\n",
       "      <td>0.01</td>\n",
       "      <td>-0.023181</td>\n",
       "    </tr>\n",
       "    <tr>\n",
       "      <th>1999995</th>\n",
       "      <td>1999996</td>\n",
       "      <td>5.851851e-07</td>\n",
       "      <td>0.01</td>\n",
       "      <td>-0.029044</td>\n",
       "    </tr>\n",
       "    <tr>\n",
       "      <th>1999996</th>\n",
       "      <td>1999997</td>\n",
       "      <td>5.592907e-07</td>\n",
       "      <td>0.01</td>\n",
       "      <td>-0.035321</td>\n",
       "    </tr>\n",
       "    <tr>\n",
       "      <th>1999997</th>\n",
       "      <td>1999998</td>\n",
       "      <td>6.593655e-07</td>\n",
       "      <td>0.01</td>\n",
       "      <td>-0.025879</td>\n",
       "    </tr>\n",
       "    <tr>\n",
       "      <th>1999998</th>\n",
       "      <td>1999999</td>\n",
       "      <td>1.822326e-07</td>\n",
       "      <td>0.01</td>\n",
       "      <td>-0.012277</td>\n",
       "    </tr>\n",
       "  </tbody>\n",
       "</table>\n",
       "<p>1999999 rows × 4 columns</p>\n",
       "</div>"
      ],
      "text/plain": [
       "         InsertionSiteID  InsertionProbability  RecombinationRate  \\\n",
       "0                      1          1.226812e-08               0.01   \n",
       "1                      2          5.580399e-07               0.01   \n",
       "2                      3          6.363499e-07               0.01   \n",
       "3                      4          8.132235e-07               0.01   \n",
       "4                      5          9.172092e-07               0.01   \n",
       "...                  ...                   ...                ...   \n",
       "1999994          1999995          7.720574e-07               0.01   \n",
       "1999995          1999996          5.851851e-07               0.01   \n",
       "1999996          1999997          5.592907e-07               0.01   \n",
       "1999997          1999998          6.593655e-07               0.01   \n",
       "1999998          1999999          1.822326e-07               0.01   \n",
       "\n",
       "         SelectionCoef  \n",
       "0            -0.017850  \n",
       "1            -0.008998  \n",
       "2            -0.018363  \n",
       "3            -0.000114  \n",
       "4            -0.030801  \n",
       "...                ...  \n",
       "1999994      -0.023181  \n",
       "1999995      -0.029044  \n",
       "1999996      -0.035321  \n",
       "1999997      -0.025879  \n",
       "1999998      -0.012277  \n",
       "\n",
       "[1999999 rows x 4 columns]"
      ]
     },
     "execution_count": 14,
     "metadata": {},
     "output_type": "execute_result"
    }
   ],
   "source": [
    "k[2]"
   ]
  },
  {
   "cell_type": "code",
   "execution_count": 15,
   "metadata": {},
   "outputs": [],
   "source": [
    "GenomicSites = pd.Series(k[2].InsertionProbability.values, index=k[2].InsertionSiteID,)"
   ]
  },
  {
   "cell_type": "code",
   "execution_count": 16,
   "metadata": {},
   "outputs": [
    {
     "data": {
      "text/plain": [
       "InsertionSiteID\n",
       "1          1.226812e-08\n",
       "2          5.580399e-07\n",
       "3          6.363499e-07\n",
       "4          8.132235e-07\n",
       "5          9.172092e-07\n",
       "               ...     \n",
       "1999995    7.720574e-07\n",
       "1999996    5.851851e-07\n",
       "1999997    5.592907e-07\n",
       "1999998    6.593655e-07\n",
       "1999999    1.822326e-07\n",
       "Length: 1999999, dtype: float64"
      ]
     },
     "execution_count": 16,
     "metadata": {},
     "output_type": "execute_result"
    }
   ],
   "source": [
    "GenomicSites"
   ]
  },
  {
   "cell_type": "code",
   "execution_count": null,
   "metadata": {},
   "outputs": [],
   "source": []
  }
 ],
 "metadata": {
  "kernelspec": {
   "display_name": "Python 3",
   "language": "python",
   "name": "python3"
  },
  "language_info": {
   "codemirror_mode": {
    "name": "ipython",
    "version": 3
   },
   "file_extension": ".py",
   "mimetype": "text/x-python",
   "name": "python",
   "nbconvert_exporter": "python",
   "pygments_lexer": "ipython3",
   "version": "3.6.9"
  }
 },
 "nbformat": 4,
 "nbformat_minor": 4
}
