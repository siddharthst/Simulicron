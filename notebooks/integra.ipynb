{
 "cells": [
  {
   "cell_type": "code",
   "execution_count": 1,
   "metadata": {},
   "outputs": [],
   "source": [
    "import os\n",
    "import sys\n",
    "module_path = os.path.abspath(os.path.join('../src/simulicronalpha/'))\n",
    "if module_path not in sys.path:\n",
    "    sys.path.append(module_path)"
   ]
  },
  {
   "cell_type": "code",
   "execution_count": 2,
   "metadata": {},
   "outputs": [],
   "source": [
    "# Imports\n",
    "import inspect\n",
    "import random\n",
    "import tempfile\n",
    "import uuid\n",
    "from functools import wraps\n",
    "import collections\n",
    "import seaborn as sns\n",
    "import matplotlib.pyplot as plt\n",
    "import coloredlogs\n",
    "import dask as ddnb\n",
    "import logging\n",
    "import numpy as np\n",
    "import pandas as pd\n",
    "from coolname import generate_slug\n",
    "import warnings\n",
    "\n",
    "warnings.filterwarnings(\"ignore\")\n",
    "\n",
    "\n",
    "# Logger\n",
    "logger = logging.getLogger(__name__)\n",
    "coloredlogs.install(level=\"DEBUG\")"
   ]
  },
  {
   "cell_type": "code",
   "execution_count": 3,
   "metadata": {},
   "outputs": [],
   "source": [
    "import InitSim as init"
   ]
  },
  {
   "cell_type": "code",
   "execution_count": 4,
   "metadata": {},
   "outputs": [],
   "source": [
    "k = init.initSim(tcount=80, insize=200000)"
   ]
  },
  {
   "cell_type": "code",
   "execution_count": 6,
   "metadata": {},
   "outputs": [
    {
     "name": "stderr",
     "output_type": "stream",
     "text": [
      "2019-12-18 11:00:23 siddharth-OptiPlex-7070 InitSim[11559] INFO Mismatch between transposon count and transposition rates. Using default for each transposon count!\n",
      "2019-12-18 11:00:23 siddharth-OptiPlex-7070 InitSim[11559] INFO Mismatch between transposon count and transposon types. Using default for each transposon count!\n",
      "2019-12-18 11:00:23 siddharth-OptiPlex-7070 InitSim[11559] INFO Mismatch between transposon count and transposon parent. Using default for each transposon count!\n"
     ]
    }
   ],
   "source": [
    "k = k.createSim()"
   ]
  },
  {
   "cell_type": "code",
   "execution_count": 8,
   "metadata": {},
   "outputs": [
    {
     "data": {
      "text/html": [
       "<div>\n",
       "<style scoped>\n",
       "    .dataframe tbody tr th:only-of-type {\n",
       "        vertical-align: middle;\n",
       "    }\n",
       "\n",
       "    .dataframe tbody tr th {\n",
       "        vertical-align: top;\n",
       "    }\n",
       "\n",
       "    .dataframe thead th {\n",
       "        text-align: right;\n",
       "    }\n",
       "</style>\n",
       "<table border=\"1\" class=\"dataframe\">\n",
       "  <thead>\n",
       "    <tr style=\"text-align: right;\">\n",
       "      <th></th>\n",
       "      <th>TID</th>\n",
       "      <th>Name</th>\n",
       "      <th>Class</th>\n",
       "      <th>Traceback</th>\n",
       "      <th>Generation</th>\n",
       "      <th>Parent</th>\n",
       "      <th>TraRate</th>\n",
       "      <th>InsertionSite</th>\n",
       "    </tr>\n",
       "  </thead>\n",
       "  <tbody>\n",
       "    <tr>\n",
       "      <th>0</th>\n",
       "      <td>c05705115b53445c8af4b07aea88b483</td>\n",
       "      <td>spiritual-berserk-spoonbill-of-perception</td>\n",
       "      <td>1</td>\n",
       "      <td>[0]</td>\n",
       "      <td>1</td>\n",
       "      <td>Mother</td>\n",
       "      <td>0.02</td>\n",
       "      <td>93009</td>\n",
       "    </tr>\n",
       "    <tr>\n",
       "      <th>1</th>\n",
       "      <td>b74557c7913b498abc5e6712ad90ab9d</td>\n",
       "      <td>taupe-crayfish-of-pleasurable-fantasy</td>\n",
       "      <td>1</td>\n",
       "      <td>[0]</td>\n",
       "      <td>1</td>\n",
       "      <td>Mother</td>\n",
       "      <td>0.02</td>\n",
       "      <td>197067</td>\n",
       "    </tr>\n",
       "    <tr>\n",
       "      <th>2</th>\n",
       "      <td>77d2c8b58f9745578790a38de59591ab</td>\n",
       "      <td>wise-nebulous-jaguarundi-of-love</td>\n",
       "      <td>1</td>\n",
       "      <td>[0]</td>\n",
       "      <td>1</td>\n",
       "      <td>Mother</td>\n",
       "      <td>0.02</td>\n",
       "      <td>174737</td>\n",
       "    </tr>\n",
       "    <tr>\n",
       "      <th>3</th>\n",
       "      <td>9a63ed87bd1645688e426daa7ecf5e91</td>\n",
       "      <td>mustard-donkey-of-fascinating-action</td>\n",
       "      <td>1</td>\n",
       "      <td>[0]</td>\n",
       "      <td>1</td>\n",
       "      <td>Mother</td>\n",
       "      <td>0.02</td>\n",
       "      <td>58281</td>\n",
       "    </tr>\n",
       "    <tr>\n",
       "      <th>4</th>\n",
       "      <td>875ee4f9ac3c45fb837e54668248487d</td>\n",
       "      <td>uppish-impetuous-auk</td>\n",
       "      <td>1</td>\n",
       "      <td>[0]</td>\n",
       "      <td>1</td>\n",
       "      <td>Mother</td>\n",
       "      <td>0.02</td>\n",
       "      <td>105175</td>\n",
       "    </tr>\n",
       "    <tr>\n",
       "      <th>...</th>\n",
       "      <td>...</td>\n",
       "      <td>...</td>\n",
       "      <td>...</td>\n",
       "      <td>...</td>\n",
       "      <td>...</td>\n",
       "      <td>...</td>\n",
       "      <td>...</td>\n",
       "      <td>...</td>\n",
       "    </tr>\n",
       "    <tr>\n",
       "      <th>75</th>\n",
       "      <td>f7baed0755224921a91a01738771305c</td>\n",
       "      <td>imposing-hypnotic-hound-of-pluck</td>\n",
       "      <td>1</td>\n",
       "      <td>[0]</td>\n",
       "      <td>1</td>\n",
       "      <td>Mother</td>\n",
       "      <td>0.02</td>\n",
       "      <td>7356</td>\n",
       "    </tr>\n",
       "    <tr>\n",
       "      <th>76</th>\n",
       "      <td>8949a11a41904ad1baf3b0280c90d5b0</td>\n",
       "      <td>enchanted-xanthic-nightingale-of-pleasure</td>\n",
       "      <td>1</td>\n",
       "      <td>[0]</td>\n",
       "      <td>1</td>\n",
       "      <td>Mother</td>\n",
       "      <td>0.02</td>\n",
       "      <td>177930</td>\n",
       "    </tr>\n",
       "    <tr>\n",
       "      <th>77</th>\n",
       "      <td>5be1496ab2d7490da80d6efef05d1e26</td>\n",
       "      <td>helpful-utopian-barnacle-from-nibiru</td>\n",
       "      <td>1</td>\n",
       "      <td>[0]</td>\n",
       "      <td>1</td>\n",
       "      <td>Mother</td>\n",
       "      <td>0.02</td>\n",
       "      <td>196556</td>\n",
       "    </tr>\n",
       "    <tr>\n",
       "      <th>78</th>\n",
       "      <td>7a1ee8186b1d4436b1aa054565182cfb</td>\n",
       "      <td>prehistoric-magenta-honeybee-of-promotion</td>\n",
       "      <td>1</td>\n",
       "      <td>[0]</td>\n",
       "      <td>1</td>\n",
       "      <td>Mother</td>\n",
       "      <td>0.02</td>\n",
       "      <td>41025</td>\n",
       "    </tr>\n",
       "    <tr>\n",
       "      <th>79</th>\n",
       "      <td>7c0f8fe2c8eb4660b4b9e056ae07e08e</td>\n",
       "      <td>antique-auspicious-vulture-of-ecstasy</td>\n",
       "      <td>1</td>\n",
       "      <td>[0]</td>\n",
       "      <td>1</td>\n",
       "      <td>Mother</td>\n",
       "      <td>0.02</td>\n",
       "      <td>143919</td>\n",
       "    </tr>\n",
       "  </tbody>\n",
       "</table>\n",
       "<p>80 rows × 8 columns</p>\n",
       "</div>"
      ],
      "text/plain": [
       "                                 TID  \\\n",
       "0   c05705115b53445c8af4b07aea88b483   \n",
       "1   b74557c7913b498abc5e6712ad90ab9d   \n",
       "2   77d2c8b58f9745578790a38de59591ab   \n",
       "3   9a63ed87bd1645688e426daa7ecf5e91   \n",
       "4   875ee4f9ac3c45fb837e54668248487d   \n",
       "..                               ...   \n",
       "75  f7baed0755224921a91a01738771305c   \n",
       "76  8949a11a41904ad1baf3b0280c90d5b0   \n",
       "77  5be1496ab2d7490da80d6efef05d1e26   \n",
       "78  7a1ee8186b1d4436b1aa054565182cfb   \n",
       "79  7c0f8fe2c8eb4660b4b9e056ae07e08e   \n",
       "\n",
       "                                         Name Class Traceback Generation  \\\n",
       "0   spiritual-berserk-spoonbill-of-perception     1       [0]          1   \n",
       "1       taupe-crayfish-of-pleasurable-fantasy     1       [0]          1   \n",
       "2            wise-nebulous-jaguarundi-of-love     1       [0]          1   \n",
       "3        mustard-donkey-of-fascinating-action     1       [0]          1   \n",
       "4                        uppish-impetuous-auk     1       [0]          1   \n",
       "..                                        ...   ...       ...        ...   \n",
       "75           imposing-hypnotic-hound-of-pluck     1       [0]          1   \n",
       "76  enchanted-xanthic-nightingale-of-pleasure     1       [0]          1   \n",
       "77       helpful-utopian-barnacle-from-nibiru     1       [0]          1   \n",
       "78  prehistoric-magenta-honeybee-of-promotion     1       [0]          1   \n",
       "79      antique-auspicious-vulture-of-ecstasy     1       [0]          1   \n",
       "\n",
       "    Parent  TraRate  InsertionSite  \n",
       "0   Mother     0.02          93009  \n",
       "1   Mother     0.02         197067  \n",
       "2   Mother     0.02         174737  \n",
       "3   Mother     0.02          58281  \n",
       "4   Mother     0.02         105175  \n",
       "..     ...      ...            ...  \n",
       "75  Mother     0.02           7356  \n",
       "76  Mother     0.02         177930  \n",
       "77  Mother     0.02         196556  \n",
       "78  Mother     0.02          41025  \n",
       "79  Mother     0.02         143919  \n",
       "\n",
       "[80 rows x 8 columns]"
      ]
     },
     "execution_count": 8,
     "metadata": {},
     "output_type": "execute_result"
    }
   ],
   "source": [
    "k[0]"
   ]
  },
  {
   "cell_type": "code",
   "execution_count": 9,
   "metadata": {},
   "outputs": [],
   "source": [
    "from numpy import random, random_intel"
   ]
  },
  {
   "cell_type": "code",
   "execution_count": 10,
   "metadata": {},
   "outputs": [
    {
     "name": "stdout",
     "output_type": "stream",
     "text": [
      "556 µs ± 4.53 µs per loop (mean ± std. dev. of 7 runs, 1000 loops each)\n"
     ]
    }
   ],
   "source": [
    "%timeit random.rand(10**5)"
   ]
  },
  {
   "cell_type": "code",
   "execution_count": 11,
   "metadata": {},
   "outputs": [
    {
     "name": "stdout",
     "output_type": "stream",
     "text": [
      "62.7 µs ± 215 ns per loop (mean ± std. dev. of 7 runs, 10000 loops each)\n"
     ]
    }
   ],
   "source": [
    "%timeit random_intel.rand(10**5)"
   ]
  },
  {
   "cell_type": "code",
   "execution_count": 18,
   "metadata": {},
   "outputs": [
    {
     "name": "stdout",
     "output_type": "stream",
     "text": [
      "2.48 s ± 3.98 ms per loop (mean ± std. dev. of 7 runs, 1 loop each)\n"
     ]
    }
   ],
   "source": [
    "%timeit random_intel.uniform(0, 1.0, 1000000000)"
   ]
  },
  {
   "cell_type": "code",
   "execution_count": 19,
   "metadata": {},
   "outputs": [
    {
     "name": "stdout",
     "output_type": "stream",
     "text": [
      "8.56 s ± 143 ms per loop (mean ± std. dev. of 7 runs, 1 loop each)\n"
     ]
    }
   ],
   "source": [
    "%timeit random.uniform(0, 1.0, 1000000000)"
   ]
  },
  {
   "cell_type": "code",
   "execution_count": null,
   "metadata": {},
   "outputs": [],
   "source": []
  }
 ],
 "metadata": {
  "kernelspec": {
   "display_name": "Python 3",
   "language": "python",
   "name": "python3"
  },
  "language_info": {
   "codemirror_mode": {
    "name": "ipython",
    "version": 3
   },
   "file_extension": ".py",
   "mimetype": "text/x-python",
   "name": "python",
   "nbconvert_exporter": "python",
   "pygments_lexer": "ipython3",
   "version": "3.6.9"
  }
 },
 "nbformat": 4,
 "nbformat_minor": 4
}
