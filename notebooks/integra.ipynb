{
 "cells": [
  {
   "cell_type": "code",
   "execution_count": 2,
   "metadata": {},
   "outputs": [],
   "source": [
    "# Init\n",
    "import os\n",
    "import sys\n",
    "\n",
    "module_path = os.path.abspath(os.path.join(\"../src/simulicronalpha/\"))\n",
    "if module_path not in sys.path:\n",
    "    sys.path.append(module_path)\n",
    "\n",
    "# Imports\n",
    "import random\n",
    "import numpy as np\n",
    "import pandas as pd\n",
    "import warnings\n",
    "import multiprocessing\n",
    "\n",
    "from numpy import concatenate as c"
   ]
  },
  {
   "cell_type": "code",
   "execution_count": null,
   "metadata": {},
   "outputs": [],
   "source": [
    "from popSim import (\n",
    "    generateTransposon,\n",
    "    generatePopulation,\n",
    "    calculateFitness,\n",
    "    generateGenome,\n",
    "    transposition,\n",
    "    runSim,\n",
    "    runBatch,\n",
    ")"
   ]
  },
  {
   "cell_type": "code",
   "execution_count": null,
   "metadata": {},
   "outputs": [],
   "source": [
    "gen = generateGenome(numberOfInsertionSites=1000)\n",
    "tr, gen, TEset = generateTransposon(gen)\n",
    "pop = generatePopulation(tr)"
   ]
  },
  {
   "cell_type": "code",
   "execution_count": null,
   "metadata": {
    "jupyter": {
     "source_hidden": true
    }
   },
   "outputs": [],
   "source": [
    "result = runBatch(numberOfSimulations=1000, NumberOfIndividual=10)"
   ]
  },
  {
   "cell_type": "code",
   "execution_count": null,
   "metadata": {
    "jupyter": {
     "source_hidden": true
    }
   },
   "outputs": [],
   "source": [
    "c1 = runBatch(numberOfGenerations=100000)\n",
    "c2 = runBatch(numberOfGenerations=100000, NumberOfIndividual=100)\n",
    "c3 = runBatch(numberOfGenerations=100000, NumberOfIndividual=10)"
   ]
  },
  {
   "cell_type": "code",
   "execution_count": null,
   "metadata": {
    "jupyter": {
     "source_hidden": true
    }
   },
   "outputs": [],
   "source": [
    "columns = [\"State\", \"Iterations\", \"Transpositions\"]\n",
    "df = pd.DataFrame([x for x in result], columns=columns)"
   ]
  },
  {
   "cell_type": "code",
   "execution_count": null,
   "metadata": {
    "jupyter": {
     "source_hidden": true
    }
   },
   "outputs": [],
   "source": [
    "df[\"Transpositions\"].value_counts()"
   ]
  },
  {
   "cell_type": "code",
   "execution_count": null,
   "metadata": {
    "jupyter": {
     "source_hidden": true
    }
   },
   "outputs": [],
   "source": [
    "NumberOfSites = 1000\n",
    "v1 = np.full(NumberOfSites, \"M\")\n",
    "v2 = np.full(NumberOfSites, \"F\")\n",
    "rates = np.random.uniform(size=(NumberOfSites - 1))"
   ]
  },
  {
   "cell_type": "code",
   "execution_count": null,
   "metadata": {
    "jupyter": {
     "source_hidden": true
    }
   },
   "outputs": [],
   "source": [
    "%lprun -T lprof0 -f runSim runSim(gen,pop,tr)"
   ]
  },
  {
   "cell_type": "code",
   "execution_count": null,
   "metadata": {
    "jupyter": {
     "source_hidden": true
    }
   },
   "outputs": [],
   "source": [
    "def generateTestTransposon(\n",
    "    genomeArray,\n",
    "    baseTransposition=1,\n",
    "    NumberOfTransposonInsertions=2,\n",
    "    consecutiveTransposons=False,\n",
    "    changeRecombination=False,\n",
    "    baseRecombination=0.01,\n",
    "):\n",
    "    transposons = np.zeros(\n",
    "        (NumberOfTransposonInsertions + 1, 4), dtype=np.ndarray\n",
    "    )\n",
    "    if consecutiveTransposons == True:\n",
    "        # The starting position is padded to prevent\n",
    "        # index overflow\n",
    "        start = random.choice(\n",
    "            range(\n",
    "                1 + NumberOfTransposonInsertions,\n",
    "                genomeArray.shape[0] - NumberOfTransposonInsertions,\n",
    "            )\n",
    "        )\n",
    "        insertionSites = np.arange(\n",
    "            start, start + NumberOfTransposonInsertions\n",
    "        )\n",
    "    else:\n",
    "        insertionSites = np.random.choice(\n",
    "            np.arange(genomeArray.shape[0]),\n",
    "            replace=False,\n",
    "            size=NumberOfTransposonInsertions,\n",
    "        )\n",
    "\n",
    "    # If there is a requirment to change the recombination rate\n",
    "    # at transposon insertion site\n",
    "    if changeRecombination == True:\n",
    "        genomeArray[insertionSites, 2] = baseRecombination\n",
    "\n",
    "    counter = 1\n",
    "    for i in insertionSites:\n",
    "        transposons[counter][3] = (\n",
    "            0\n",
    "            if baseTransposition == 0\n",
    "            else np.random.uniform(0.02, 0.03)\n",
    "        )\n",
    "        transposons[counter][2] = genomeArray[i][0]\n",
    "        transposons[counter][1] = i\n",
    "        transposons[counter][0] = \"%030x\" % random.randrange(16 ** 30)\n",
    "        counter += 1\n",
    "    return transposons, genomeArray"
   ]
  },
  {
   "cell_type": "code",
   "execution_count": null,
   "metadata": {
    "jupyter": {
     "source_hidden": true
    }
   },
   "outputs": [],
   "source": [
    "random.choice(range(1 + 2, 1000 - 2))"
   ]
  },
  {
   "cell_type": "code",
   "execution_count": null,
   "metadata": {
    "jupyter": {
     "source_hidden": true
    }
   },
   "outputs": [],
   "source": [
    "print(list(range(2, 5)))"
   ]
  },
  {
   "cell_type": "code",
   "execution_count": null,
   "metadata": {
    "jupyter": {
     "source_hidden": true
    }
   },
   "outputs": [],
   "source": [
    "gen[[1, 2], 2] = 0.05"
   ]
  },
  {
   "cell_type": "code",
   "execution_count": null,
   "metadata": {
    "jupyter": {
     "source_hidden": true
    }
   },
   "outputs": [],
   "source": [
    "gen"
   ]
  },
  {
   "cell_type": "code",
   "execution_count": null,
   "metadata": {
    "jupyter": {
     "source_hidden": true
    }
   },
   "outputs": [],
   "source": [
    "v1 = np.asarray([[1], [1], [1], [1], [1], [1], [1], [1], [1], [1]])\n",
    "v2 = np.asarray([[1], [1], [1], [1], [1], [1], [1], [1], [1], [1]])\n",
    "c1 = [0, 0, 0, 0, 0, 0, 0, [1]]\n",
    "c2 = [0, 0, 0, 0, 0, 0, 0, [1]]"
   ]
  },
  {
   "cell_type": "code",
   "execution_count": null,
   "metadata": {
    "jupyter": {
     "source_hidden": true
    }
   },
   "outputs": [],
   "source": [
    "all(np.array_equiv(v, [0, 0]) for v in np.c_[c1, c2])"
   ]
  },
  {
   "cell_type": "code",
   "execution_count": null,
   "metadata": {
    "jupyter": {
     "source_hidden": true
    }
   },
   "outputs": [],
   "source": [
    "k = [list(flatten(v.flatten().tolist())) for v in np.c_[v1, v2]]"
   ]
  },
  {
   "cell_type": "code",
   "execution_count": null,
   "metadata": {
    "jupyter": {
     "source_hidden": true
    }
   },
   "outputs": [],
   "source": [
    "np.c_[v1, v2]"
   ]
  },
  {
   "cell_type": "code",
   "execution_count": null,
   "metadata": {
    "jupyter": {
     "source_hidden": true
    }
   },
   "outputs": [],
   "source": [
    "any(\n",
    "    np.array_equiv(v, [0, 0])\n",
    "    for v in [\n",
    "        list(flatten(v.flatten().tolist())) for v in np.c_[v1, v2]\n",
    "    ]\n",
    ")"
   ]
  },
  {
   "cell_type": "code",
   "execution_count": null,
   "metadata": {
    "jupyter": {
     "source_hidden": true
    }
   },
   "outputs": [],
   "source": [
    "flatten = lambda *n: (\n",
    "    e\n",
    "    for a in n\n",
    "    for e in (flatten(*a) if isinstance(a, (tuple, list)) else (a,))\n",
    ")"
   ]
  },
  {
   "cell_type": "code",
   "execution_count": null,
   "metadata": {
    "jupyter": {
     "source_hidden": true
    }
   },
   "outputs": [],
   "source": [
    "not any(\n",
    "    all(v == 0 for v in z)\n",
    "    for z in [\n",
    "        list(flatten(v.flatten().tolist())) for v in np.c_[v1, v2]\n",
    "    ]\n",
    ")"
   ]
  },
  {
   "cell_type": "code",
   "execution_count": null,
   "metadata": {
    "jupyter": {
     "source_hidden": true
    }
   },
   "outputs": [],
   "source": [
    "all(\n",
    "    any(v == 1 for v in z)\n",
    "    for z in [\n",
    "        list(flatten(v.flatten().tolist())) for v in np.c_[v1, v2]\n",
    "    ]\n",
    ")"
   ]
  },
  {
   "cell_type": "code",
   "execution_count": null,
   "metadata": {
    "jupyter": {
     "source_hidden": true
    }
   },
   "outputs": [],
   "source": [
    "uniqueTransposons = np.unique(\n",
    "    [list(flatten(v.flatten().tolist())) for v in np.c_[v1, v2]]\n",
    ")\n",
    "uniqueTransposons = uniqueTransposons[uniqueTransposons != 0]"
   ]
  },
  {
   "cell_type": "code",
   "execution_count": null,
   "metadata": {
    "jupyter": {
     "source_hidden": true
    }
   },
   "outputs": [],
   "source": [
    "uniqueTransposons"
   ]
  },
  {
   "cell_type": "code",
   "execution_count": null,
   "metadata": {
    "jupyter": {
     "source_hidden": true
    }
   },
   "outputs": [],
   "source": [
    "flatten = lambda *n: (\n",
    "    e\n",
    "    for a in n\n",
    "    for e in (flatten(*a) if isinstance(a, (tuple, list)) else (a,))\n",
    ")"
   ]
  },
  {
   "cell_type": "code",
   "execution_count": null,
   "metadata": {
    "jupyter": {
     "source_hidden": true
    }
   },
   "outputs": [],
   "source": [
    "type(flatten)"
   ]
  },
  {
   "cell_type": "code",
   "execution_count": null,
   "metadata": {},
   "outputs": [],
   "source": [
    "TEset"
   ]
  },
  {
   "cell_type": "code",
   "execution_count": 2,
   "metadata": {},
   "outputs": [],
   "source": [
    "flatten = lambda *n: (\n",
    "    e\n",
    "    for a in n\n",
    "    for e in (flatten(*a) if isinstance(a, (tuple, list)) else (a,))\n",
    ")"
   ]
  },
  {
   "cell_type": "code",
   "execution_count": null,
   "metadata": {},
   "outputs": [],
   "source": [
    "v1 = [[1, 2], [1, 2], [1, 2], [1, 2], [1, 2]]\n",
    "v2 = [[1, 2], [1, 2], [1, 2], [1, 2], [1, 2]]"
   ]
  },
  {
   "cell_type": "code",
   "execution_count": null,
   "metadata": {},
   "outputs": [],
   "source": [
    "for i in TEset.keys():\n",
    "    if all(bool(set(k).intersection(TEset[1])) for k in v1 + v2):\n",
    "        print(True)\n",
    "    else:\n",
    "        print(False)"
   ]
  },
  {
   "cell_type": "code",
   "execution_count": null,
   "metadata": {},
   "outputs": [],
   "source": [
    "type(np.c_)"
   ]
  },
  {
   "cell_type": "code",
   "execution_count": null,
   "metadata": {},
   "outputs": [],
   "source": [
    "l = sum"
   ]
  },
  {
   "cell_type": "code",
   "execution_count": null,
   "metadata": {},
   "outputs": [],
   "source": [
    "l([1, 2])"
   ]
  },
  {
   "cell_type": "code",
   "execution_count": null,
   "metadata": {},
   "outputs": [],
   "source": [
    "sum([1, 2])"
   ]
  },
  {
   "cell_type": "code",
   "execution_count": null,
   "metadata": {},
   "outputs": [],
   "source": [
    "def testFunc(i, j, k):\n",
    "    print(i * j * k)"
   ]
  },
  {
   "cell_type": "code",
   "execution_count": null,
   "metadata": {},
   "outputs": [],
   "source": [
    "def tempfunc(instance):\n",
    "    for i in range(instance):\n",
    "        yield (1, 1 + 1, 1 + 2)"
   ]
  },
  {
   "cell_type": "code",
   "execution_count": null,
   "metadata": {},
   "outputs": [],
   "source": [
    "k = tempfunc(10000000000000)"
   ]
  },
  {
   "cell_type": "code",
   "execution_count": null,
   "metadata": {},
   "outputs": [],
   "source": [
    "for i in k:\n",
    "    print(i)"
   ]
  },
  {
   "cell_type": "code",
   "execution_count": null,
   "metadata": {},
   "outputs": [],
   "source": [
    "def testFunc(i, j, k):\n",
    "    print(i * j * k)\n",
    "\n",
    "\n",
    "def tempfunc(instance):\n",
    "    for i in range(instance):\n",
    "        z = sum([2, 2])\n",
    "        yield (z, z + 1, z + 2)\n",
    "\n",
    "\n",
    "k = tempfunc(1000)\n",
    "with multiprocessing.Pool(processes=4) as pool:\n",
    "    pool.starmap(testFunc, k)"
   ]
  },
  {
   "cell_type": "code",
   "execution_count": 12,
   "metadata": {},
   "outputs": [],
   "source": [
    "v1 = [[1], [1], [1], [1], [1], [1], [1], [1], [1], [1]]\n",
    "v2 = [[1], [1], [1], [1], [1], [1], [1], [1], [1], [1]]"
   ]
  },
  {
   "cell_type": "code",
   "execution_count": 13,
   "metadata": {},
   "outputs": [
    {
     "name": "stdout",
     "output_type": "stream",
     "text": [
      "True\n"
     ]
    }
   ],
   "source": [
    "if not any(\n",
    "    any(k == 0 for k in z)\n",
    "    for z in [\n",
    "        list(flatten(v.flatten().tolist())) for v in np.c_[v1, v2]\n",
    "    ]\n",
    "):\n",
    "    print (\"True\")"
   ]
  },
  {
   "cell_type": "code",
   "execution_count": 28,
   "metadata": {},
   "outputs": [],
   "source": [
    "c1 = [[1], [1], [1], [1], [1], [1], [1], [1], [1], [1]]\n",
    "c2 = [[1], 0, 0, [1], [1], [1], [1], [1], 0, [1]]\n",
    "c3 = [1.0, 1.0, 1.0, 1.0, 1.0, 1.0, 1.0, 1.0, 1.0, 1.0]"
   ]
  },
  {
   "cell_type": "code",
   "execution_count": 29,
   "metadata": {},
   "outputs": [
    {
     "data": {
      "text/plain": [
       "array([[1, list([1]), 1.0],\n",
       "       [1, 0, 1.0],\n",
       "       [1, 0, 1.0],\n",
       "       [1, list([1]), 1.0],\n",
       "       [1, list([1]), 1.0],\n",
       "       [1, list([1]), 1.0],\n",
       "       [1, list([1]), 1.0],\n",
       "       [1, list([1]), 1.0],\n",
       "       [1, 0, 1.0],\n",
       "       [1, list([1]), 1.0]], dtype=object)"
      ]
     },
     "execution_count": 29,
     "metadata": {},
     "output_type": "execute_result"
    }
   ],
   "source": [
    "np.c_[c1,c2,c3]"
   ]
  },
  {
   "cell_type": "code",
   "execution_count": 30,
   "metadata": {},
   "outputs": [
    {
     "ename": "ValueError",
     "evalue": "all the input array dimensions for the concatenation axis must match exactly, but along dimension 1, the array at index 0 has size 1 and the array at index 1 has size 10",
     "output_type": "error",
     "traceback": [
      "\u001b[0;31m---------------------------------------------------------------------------\u001b[0m",
      "\u001b[0;31mValueError\u001b[0m                                Traceback (most recent call last)",
      "\u001b[0;32m<ipython-input-30-b54eaf7a5522>\u001b[0m in \u001b[0;36m<module>\u001b[0;34m\u001b[0m\n\u001b[0;32m----> 1\u001b[0;31m \u001b[0mnp\u001b[0m\u001b[0;34m.\u001b[0m\u001b[0mvstack\u001b[0m\u001b[0;34m(\u001b[0m\u001b[0;34m(\u001b[0m\u001b[0mc1\u001b[0m\u001b[0;34m,\u001b[0m \u001b[0mc2\u001b[0m\u001b[0;34m,\u001b[0m \u001b[0mc3\u001b[0m\u001b[0;34m)\u001b[0m\u001b[0;34m)\u001b[0m\u001b[0;34m.\u001b[0m\u001b[0mT\u001b[0m\u001b[0;34m\u001b[0m\u001b[0;34m\u001b[0m\u001b[0m\n\u001b[0m",
      "\u001b[0;32m<__array_function__ internals>\u001b[0m in \u001b[0;36mvstack\u001b[0;34m(*args, **kwargs)\u001b[0m\n",
      "\u001b[0;32m~/anaconda3/envs/idp/lib/python3.8/site-packages/numpy/core/shape_base.py\u001b[0m in \u001b[0;36mvstack\u001b[0;34m(tup)\u001b[0m\n\u001b[1;32m    280\u001b[0m     \u001b[0;32mif\u001b[0m \u001b[0;32mnot\u001b[0m \u001b[0misinstance\u001b[0m\u001b[0;34m(\u001b[0m\u001b[0marrs\u001b[0m\u001b[0;34m,\u001b[0m \u001b[0mlist\u001b[0m\u001b[0;34m)\u001b[0m\u001b[0;34m:\u001b[0m\u001b[0;34m\u001b[0m\u001b[0;34m\u001b[0m\u001b[0m\n\u001b[1;32m    281\u001b[0m         \u001b[0marrs\u001b[0m \u001b[0;34m=\u001b[0m \u001b[0;34m[\u001b[0m\u001b[0marrs\u001b[0m\u001b[0;34m]\u001b[0m\u001b[0;34m\u001b[0m\u001b[0;34m\u001b[0m\u001b[0m\n\u001b[0;32m--> 282\u001b[0;31m     \u001b[0;32mreturn\u001b[0m \u001b[0m_nx\u001b[0m\u001b[0;34m.\u001b[0m\u001b[0mconcatenate\u001b[0m\u001b[0;34m(\u001b[0m\u001b[0marrs\u001b[0m\u001b[0;34m,\u001b[0m \u001b[0;36m0\u001b[0m\u001b[0;34m)\u001b[0m\u001b[0;34m\u001b[0m\u001b[0;34m\u001b[0m\u001b[0m\n\u001b[0m\u001b[1;32m    283\u001b[0m \u001b[0;34m\u001b[0m\u001b[0m\n\u001b[1;32m    284\u001b[0m \u001b[0;34m\u001b[0m\u001b[0m\n",
      "\u001b[0;32m<__array_function__ internals>\u001b[0m in \u001b[0;36mconcatenate\u001b[0;34m(*args, **kwargs)\u001b[0m\n",
      "\u001b[0;31mValueError\u001b[0m: all the input array dimensions for the concatenation axis must match exactly, but along dimension 1, the array at index 0 has size 1 and the array at index 1 has size 10"
     ]
    }
   ],
   "source": [
    "np.vstack((c1, c2, c3)).T"
   ]
  },
  {
   "cell_type": "code",
   "execution_count": 172,
   "metadata": {},
   "outputs": [],
   "source": [
    "c1 = [[1], [1,2], [1,2], [1,2], [1,2], [1,2], [1,2], [1,2], [1,2], [1,2]]\n",
    "c1 = [[], [1], [1], [1], [1], [1], [1], [1], [1], [1]]\n",
    "c2 = [[1], 0, 0, [1], [1], [1], [1], [1], 0, [1]]\n",
    "c3 = [1.0, 1.0, 1.0, 1.0, 1.0, 1.0, 1.0, 1.0, 1.0, 1.0]"
   ]
  },
  {
   "cell_type": "code",
   "execution_count": 158,
   "metadata": {},
   "outputs": [],
   "source": [
    "c1 = np.array(c1)\n",
    "c2 = np.array(c2)\n",
    "c3 = np.array(c3)"
   ]
  },
  {
   "cell_type": "code",
   "execution_count": 159,
   "metadata": {},
   "outputs": [
    {
     "data": {
      "text/plain": [
       "(10,)"
      ]
     },
     "execution_count": 159,
     "metadata": {},
     "output_type": "execute_result"
    }
   ],
   "source": [
    "c1.shape"
   ]
  },
  {
   "cell_type": "code",
   "execution_count": 173,
   "metadata": {},
   "outputs": [
    {
     "data": {
      "text/plain": [
       "array([[list([]), list([1]), 1.0],\n",
       "       [list([1]), 0, 1.0],\n",
       "       [list([1]), 0, 1.0],\n",
       "       [list([1]), list([1]), 1.0],\n",
       "       [list([1]), list([1]), 1.0],\n",
       "       [list([1]), list([1]), 1.0],\n",
       "       [list([1]), list([1]), 1.0],\n",
       "       [list([1]), list([1]), 1.0],\n",
       "       [list([1]), 0, 1.0],\n",
       "       [list([1]), list([1]), 1.0]], dtype=object)"
      ]
     },
     "execution_count": 173,
     "metadata": {},
     "output_type": "execute_result"
    }
   ],
   "source": [
    "np.c_[c1,c2,c3]"
   ]
  },
  {
   "cell_type": "code",
   "execution_count": 174,
   "metadata": {},
   "outputs": [
    {
     "data": {
      "text/plain": [
       "array([[list([]), list([1]), 1.0],\n",
       "       [list([1]), 0, 1.0],\n",
       "       [list([1]), 0, 1.0],\n",
       "       [list([1]), list([1]), 1.0],\n",
       "       [list([1]), list([1]), 1.0],\n",
       "       [list([1]), list([1]), 1.0],\n",
       "       [list([1]), list([1]), 1.0],\n",
       "       [list([1]), list([1]), 1.0],\n",
       "       [list([1]), 0, 1.0],\n",
       "       [list([1]), list([1]), 1.0]], dtype=object)"
      ]
     },
     "execution_count": 174,
     "metadata": {},
     "output_type": "execute_result"
    }
   ],
   "source": [
    "pd.DataFrame([c1,c2,c3]).T.to_numpy()"
   ]
  },
  {
   "cell_type": "code",
   "execution_count": 170,
   "metadata": {},
   "outputs": [
    {
     "data": {
      "text/plain": [
       "array([[list([1]), list([1]), 1.0],\n",
       "       [list([1]), 0, 1.0],\n",
       "       [list([1]), 0, 1.0],\n",
       "       [list([1]), list([1]), 1.0],\n",
       "       [list([1]), list([1]), 1.0],\n",
       "       [list([1]), list([1]), 1.0],\n",
       "       [list([1]), list([1]), 1.0],\n",
       "       [list([1]), list([1]), 1.0],\n",
       "       [list([1]), 0, 1.0],\n",
       "       [list([1]), list([1]), 1.0]], dtype=object)"
      ]
     },
     "execution_count": 170,
     "metadata": {},
     "output_type": "execute_result"
    }
   ],
   "source": [
    "df.to_numpy()"
   ]
  },
  {
   "cell_type": "code",
   "execution_count": null,
   "metadata": {},
   "outputs": [],
   "source": []
  }
 ],
 "metadata": {
  "kernelspec": {
   "display_name": "Python 3",
   "language": "python",
   "name": "python3"
  },
  "language_info": {
   "codemirror_mode": {
    "name": "ipython",
    "version": 3
   },
   "file_extension": ".py",
   "mimetype": "text/x-python",
   "name": "python",
   "nbconvert_exporter": "python",
   "pygments_lexer": "ipython3",
   "version": "3.8.1"
  }
 },
 "nbformat": 4,
 "nbformat_minor": 4
}
