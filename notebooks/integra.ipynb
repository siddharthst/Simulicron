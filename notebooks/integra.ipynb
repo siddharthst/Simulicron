{
 "cells": [
  {
   "cell_type": "code",
   "execution_count": 1,
   "metadata": {},
   "outputs": [],
   "source": [
    "# Init\n",
    "import os\n",
    "import sys\n",
    "\n",
    "module_path = os.path.abspath(os.path.join(\"../src/simulicronalpha/\"))\n",
    "if module_path not in sys.path:\n",
    "    sys.path.append(module_path)\n",
    "\n",
    "# Imports\n",
    "import random\n",
    "import numpy as np\n",
    "import pandas as pd\n",
    "import warnings\n",
    "import multiprocessing\n",
    "\n",
    "from numpy import concatenate as c"
   ]
  },
  {
   "cell_type": "code",
   "execution_count": 2,
   "metadata": {},
   "outputs": [],
   "source": [
    "from popSim import (\n",
    "    generateTransposon,\n",
    "    generatePopulation,\n",
    "    calculateFitness,\n",
    "    generateGenome,\n",
    "    transposition,\n",
    "    runSim,\n",
    "    runBatch,\n",
    ")"
   ]
  },
  {
   "cell_type": "code",
   "execution_count": 3,
   "metadata": {},
   "outputs": [],
   "source": [
    "gen = generateGenome(numberOfInsertionSites=1000)\n",
    "tr, gen, TEset = generateTransposon(gen)\n",
    "pop = generatePopulation(tr)"
   ]
  },
  {
   "cell_type": "code",
   "execution_count": null,
   "metadata": {
    "jupyter": {
     "source_hidden": true
    }
   },
   "outputs": [],
   "source": [
    "result = runBatch(numberOfSimulations=1000, NumberOfIndividual=10)"
   ]
  },
  {
   "cell_type": "code",
   "execution_count": null,
   "metadata": {
    "jupyter": {
     "source_hidden": true
    }
   },
   "outputs": [],
   "source": [
    "c1 = runBatch(numberOfGenerations=100000)\n",
    "c2 = runBatch(numberOfGenerations=100000, NumberOfIndividual=100)\n",
    "c3 = runBatch(numberOfGenerations=100000, NumberOfIndividual=10)"
   ]
  },
  {
   "cell_type": "code",
   "execution_count": null,
   "metadata": {
    "jupyter": {
     "source_hidden": true
    }
   },
   "outputs": [],
   "source": [
    "columns = [\"State\", \"Iterations\", \"Transpositions\"]\n",
    "df = pd.DataFrame([x for x in result], columns=columns)"
   ]
  },
  {
   "cell_type": "code",
   "execution_count": null,
   "metadata": {
    "jupyter": {
     "source_hidden": true
    }
   },
   "outputs": [],
   "source": [
    "df[\"Transpositions\"].value_counts()"
   ]
  },
  {
   "cell_type": "code",
   "execution_count": null,
   "metadata": {
    "jupyter": {
     "source_hidden": true
    }
   },
   "outputs": [],
   "source": [
    "NumberOfSites = 1000\n",
    "v1 = np.full(NumberOfSites, \"M\")\n",
    "v2 = np.full(NumberOfSites, \"F\")\n",
    "rates = np.random.uniform(size=(NumberOfSites - 1))"
   ]
  },
  {
   "cell_type": "code",
   "execution_count": null,
   "metadata": {
    "jupyter": {
     "source_hidden": true
    }
   },
   "outputs": [],
   "source": [
    "%lprun -T lprof0 -f runSim runSim(gen,pop,tr)"
   ]
  },
  {
   "cell_type": "code",
   "execution_count": null,
   "metadata": {
    "jupyter": {
     "source_hidden": true
    }
   },
   "outputs": [],
   "source": [
    "def generateTestTransposon(\n",
    "    genomeArray,\n",
    "    baseTransposition=1,\n",
    "    NumberOfTransposonInsertions=2,\n",
    "    consecutiveTransposons=False,\n",
    "    changeRecombination=False,\n",
    "    baseRecombination=0.01,\n",
    "):\n",
    "    transposons = np.zeros(\n",
    "        (NumberOfTransposonInsertions + 1, 4), dtype=np.ndarray\n",
    "    )\n",
    "    if consecutiveTransposons == True:\n",
    "        # The starting position is padded to prevent\n",
    "        # index overflow\n",
    "        start = random.choice(\n",
    "            range(\n",
    "                1 + NumberOfTransposonInsertions,\n",
    "                genomeArray.shape[0] - NumberOfTransposonInsertions,\n",
    "            )\n",
    "        )\n",
    "        insertionSites = np.arange(\n",
    "            start, start + NumberOfTransposonInsertions\n",
    "        )\n",
    "    else:\n",
    "        insertionSites = np.random.choice(\n",
    "            np.arange(genomeArray.shape[0]),\n",
    "            replace=False,\n",
    "            size=NumberOfTransposonInsertions,\n",
    "        )\n",
    "\n",
    "    # If there is a requirment to change the recombination rate\n",
    "    # at transposon insertion site\n",
    "    if changeRecombination == True:\n",
    "        genomeArray[insertionSites, 2] = baseRecombination\n",
    "\n",
    "    counter = 1\n",
    "    for i in insertionSites:\n",
    "        transposons[counter][3] = (\n",
    "            0\n",
    "            if baseTransposition == 0\n",
    "            else np.random.uniform(0.02, 0.03)\n",
    "        )\n",
    "        transposons[counter][2] = genomeArray[i][0]\n",
    "        transposons[counter][1] = i\n",
    "        transposons[counter][0] = \"%030x\" % random.randrange(16 ** 30)\n",
    "        counter += 1\n",
    "    return transposons, genomeArray"
   ]
  },
  {
   "cell_type": "code",
   "execution_count": null,
   "metadata": {
    "jupyter": {
     "source_hidden": true
    }
   },
   "outputs": [],
   "source": [
    "random.choice(range(1 + 2, 1000 - 2))"
   ]
  },
  {
   "cell_type": "code",
   "execution_count": null,
   "metadata": {
    "jupyter": {
     "source_hidden": true
    }
   },
   "outputs": [],
   "source": [
    "print(list(range(2, 5)))"
   ]
  },
  {
   "cell_type": "code",
   "execution_count": null,
   "metadata": {
    "jupyter": {
     "source_hidden": true
    }
   },
   "outputs": [],
   "source": [
    "gen[[1, 2], 2] = 0.05"
   ]
  },
  {
   "cell_type": "code",
   "execution_count": null,
   "metadata": {
    "jupyter": {
     "source_hidden": true
    }
   },
   "outputs": [],
   "source": [
    "gen"
   ]
  },
  {
   "cell_type": "code",
   "execution_count": null,
   "metadata": {
    "jupyter": {
     "source_hidden": true
    }
   },
   "outputs": [],
   "source": [
    "v1 = np.asarray([[1], [1], [1], [1], [1], [1], [1], [1], [1], [1]])\n",
    "v2 = np.asarray([[1], [1], [1], [1], [1], [1], [1], [1], [1], [1]])\n",
    "c1 = [0, 0, 0, 0, 0, 0, 0, [1]]\n",
    "c2 = [0, 0, 0, 0, 0, 0, 0, [1]]"
   ]
  },
  {
   "cell_type": "code",
   "execution_count": null,
   "metadata": {
    "jupyter": {
     "source_hidden": true
    }
   },
   "outputs": [],
   "source": [
    "all(np.array_equiv(v, [0, 0]) for v in np.c_[c1, c2])"
   ]
  },
  {
   "cell_type": "code",
   "execution_count": null,
   "metadata": {
    "jupyter": {
     "source_hidden": true
    }
   },
   "outputs": [],
   "source": [
    "k = [list(flatten(v.flatten().tolist())) for v in np.c_[v1, v2]]"
   ]
  },
  {
   "cell_type": "code",
   "execution_count": null,
   "metadata": {
    "jupyter": {
     "source_hidden": true
    }
   },
   "outputs": [],
   "source": [
    "np.c_[v1, v2]"
   ]
  },
  {
   "cell_type": "code",
   "execution_count": null,
   "metadata": {
    "jupyter": {
     "source_hidden": true
    }
   },
   "outputs": [],
   "source": [
    "any(np.array_equiv(v, [0, 0]) for v in [list(flatten(v.flatten().tolist())) for v in np.c_[v1, v2]])"
   ]
  },
  {
   "cell_type": "code",
   "execution_count": null,
   "metadata": {
    "jupyter": {
     "source_hidden": true
    }
   },
   "outputs": [],
   "source": [
    "flatten = lambda *n: (\n",
    "    e\n",
    "    for a in n\n",
    "    for e in (flatten(*a) if isinstance(a, (tuple, list)) else (a,))\n",
    ")"
   ]
  },
  {
   "cell_type": "code",
   "execution_count": null,
   "metadata": {
    "jupyter": {
     "source_hidden": true
    }
   },
   "outputs": [],
   "source": [
    "not any(all(v == 0 for v in z) for z in [list(flatten(v.flatten().tolist())) for v in np.c_[v1, v2]])"
   ]
  },
  {
   "cell_type": "code",
   "execution_count": null,
   "metadata": {
    "jupyter": {
     "source_hidden": true
    }
   },
   "outputs": [],
   "source": [
    "all(any(v == 1 for v in z) for z in [list(flatten(v.flatten().tolist())) for v in np.c_[v1, v2]])"
   ]
  },
  {
   "cell_type": "code",
   "execution_count": null,
   "metadata": {
    "jupyter": {
     "source_hidden": true
    }
   },
   "outputs": [],
   "source": [
    "uniqueTransposons = np.unique([list(flatten(v.flatten().tolist())) for v in np.c_[v1, v2]])\n",
    "uniqueTransposons = uniqueTransposons[uniqueTransposons != 0]"
   ]
  },
  {
   "cell_type": "code",
   "execution_count": null,
   "metadata": {
    "jupyter": {
     "source_hidden": true
    }
   },
   "outputs": [],
   "source": [
    "uniqueTransposons"
   ]
  },
  {
   "cell_type": "code",
   "execution_count": null,
   "metadata": {
    "jupyter": {
     "source_hidden": true
    }
   },
   "outputs": [],
   "source": [
    "    flatten = lambda *n: (\n",
    "        e\n",
    "        for a in n\n",
    "        for e in (\n",
    "            flatten(*a) if isinstance(a, (tuple, list)) else (a,)\n",
    "        )\n",
    "    )"
   ]
  },
  {
   "cell_type": "code",
   "execution_count": null,
   "metadata": {
    "jupyter": {
     "source_hidden": true
    }
   },
   "outputs": [],
   "source": [
    "type(flatten)"
   ]
  },
  {
   "cell_type": "code",
   "execution_count": 15,
   "metadata": {},
   "outputs": [
    {
     "data": {
      "text/plain": [
       "{1: {1}, 2: {2}}"
      ]
     },
     "execution_count": 15,
     "metadata": {},
     "output_type": "execute_result"
    }
   ],
   "source": [
    "TEset"
   ]
  },
  {
   "cell_type": "code",
   "execution_count": 5,
   "metadata": {},
   "outputs": [],
   "source": [
    "    flatten = lambda *n: (\n",
    "        e\n",
    "        for a in n\n",
    "        for e in (\n",
    "            flatten(*a) if isinstance(a, (tuple, list)) else (a,)\n",
    "        )\n",
    "    )"
   ]
  },
  {
   "cell_type": "code",
   "execution_count": 61,
   "metadata": {},
   "outputs": [],
   "source": [
    "v1 = [[1,2], [1,2], [1,2], [1,2], [1,2]]\n",
    "v2 = [[1,2], [1,2], [1,2], [1,2], [1,2]]"
   ]
  },
  {
   "cell_type": "code",
   "execution_count": 62,
   "metadata": {},
   "outputs": [
    {
     "name": "stdout",
     "output_type": "stream",
     "text": [
      "True\n"
     ]
    }
   ],
   "source": [
    "for i in TEset.keys():\n",
    "    if(all(bool(set(k).intersection(TEset[i])) for k in v1+v2)):\n",
    "        print (True)"
   ]
  },
  {
   "cell_type": "code",
   "execution_count": null,
   "metadata": {},
   "outputs": [],
   "source": []
  }
 ],
 "metadata": {
  "kernelspec": {
   "display_name": "Python 3",
   "language": "python",
   "name": "python3"
  },
  "language_info": {
   "codemirror_mode": {
    "name": "ipython",
    "version": 3
   },
   "file_extension": ".py",
   "mimetype": "text/x-python",
   "name": "python",
   "nbconvert_exporter": "python",
   "pygments_lexer": "ipython3",
   "version": "3.8.1"
  }
 },
 "nbformat": 4,
 "nbformat_minor": 4
}
