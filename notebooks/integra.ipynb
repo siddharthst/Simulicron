{
 "cells": [
  {
   "cell_type": "code",
   "execution_count": 1,
   "metadata": {},
   "outputs": [],
   "source": [
    "%load_ext line_profiler"
   ]
  },
  {
   "cell_type": "code",
   "execution_count": 2,
   "metadata": {},
   "outputs": [],
   "source": [
    "import os\n",
    "import sys\n",
    "module_path = os.path.abspath(os.path.join('../src/simulicronalpha/'))\n",
    "if module_path not in sys.path:\n",
    "    sys.path.append(module_path)"
   ]
  },
  {
   "cell_type": "code",
   "execution_count": 3,
   "metadata": {},
   "outputs": [],
   "source": [
    "# Imports\n",
    "import inspect\n",
    "import random\n",
    "import tempfile\n",
    "import uuid\n",
    "from functools import wraps\n",
    "import collections\n",
    "import seaborn as sns\n",
    "import matplotlib.pyplot as plt\n",
    "import coloredlogs\n",
    "import logging\n",
    "import numpy as np\n",
    "import pandas as pd\n",
    "from coolname import generate_slug\n",
    "import warnings\n",
    "import cProfile\n",
    "from numpy import concatenate as c\n",
    "\n",
    "warnings.filterwarnings(\"ignore\")\n",
    "\n",
    "# Logger\n",
    "logger = logging.getLogger(__name__)\n",
    "coloredlogs.install(level=\"DEBUG\")"
   ]
  },
  {
   "cell_type": "code",
   "execution_count": 4,
   "metadata": {},
   "outputs": [],
   "source": [
    "from popSim import generateTransposon, generatePopulation, generateGenome, generateFitness, recombination"
   ]
  },
  {
   "cell_type": "code",
   "execution_count": 5,
   "metadata": {},
   "outputs": [],
   "source": [
    "gen = generateGenome(numberOfInsertionSites=1000)\n",
    "pop = generatePopulation()\n",
    "tr  = generateTransposon(gen)"
   ]
  },
  {
   "cell_type": "code",
   "execution_count": 6,
   "metadata": {},
   "outputs": [],
   "source": [
    "NumberOfSites = 1000\n",
    "v1 = np.full(NumberOfSites, \"M\")\n",
    "v2 = np.full(NumberOfSites, \"F\")\n",
    "rates = np.random.uniform(size=(NumberOfSites - 1))"
   ]
  },
  {
   "cell_type": "code",
   "execution_count": 7,
   "metadata": {},
   "outputs": [
    {
     "data": {
      "text/plain": [
       "array([[0, 0, 0],\n",
       "       ['499caa04c4c7aa40014f84bdb68a07', 451, -0.03458006588498397],\n",
       "       ['a6020f01b865474fdbfbc51e9708d6', 318, -0.02363688834861688]],\n",
       "      dtype=object)"
      ]
     },
     "execution_count": 7,
     "metadata": {},
     "output_type": "execute_result"
    }
   ],
   "source": [
    "tr"
   ]
  },
  {
   "cell_type": "code",
   "execution_count": 8,
   "metadata": {},
   "outputs": [
    {
     "name": "stdout",
     "output_type": "stream",
     "text": [
      "\n",
      "*** Profile printout saved to text file 'lprof0'. \n"
     ]
    },
    {
     "data": {
      "text/plain": [
       "Timer unit: 1e-06 s\n",
       "\n",
       "Total time: 0.004601 s\n",
       "File: /home/siddharth/Documents/Projects/Simulicron/src/simulicronalpha/popSim.py\n",
       "Function: recombination at line 88\n",
       "\n",
       "Line #      Hits         Time  Per Hit   % Time  Line Contents\n",
       "==============================================================\n",
       "    88                                           def recombination(rates, transposonMatrix, v1=None, v2=None):\n",
       "    89         1         60.0     60.0      1.3      rec = np.random.uniform(size=len(rates)) < rates\n",
       "    90         1          6.0      6.0      0.1      start = [0 if (np.random.uniform() < 0.5) else 1]\n",
       "    91         1        220.0    220.0      4.8      whichcol = 1 + cumsum(c((start, rec))) % 2\n",
       "    92         1         26.0     26.0      0.6      allele1 = np.where(whichcol == 1)[0]\n",
       "    93         1          9.0      9.0      0.2      allele2 = np.where(whichcol == 2)[0]\n",
       "    94         1       2288.0   2288.0     49.7      r1 = v1[(np.isin(transposonMatrix[[v1], 1], allele1))[0]]\n",
       "    95         1       1991.0   1991.0     43.3      r2 = v2[(np.isin(transposonMatrix[[v2], 1], allele2))[0]]\n",
       "    96                                               # print (allele1)\n",
       "    97                                               # print (allele2)\n",
       "    98                                               # print (np.isin(transposonMatrix[[v1], 1], allele1))\n",
       "    99                                               # print (np.isin(transposonMatrix[[v2], 1], allele2))\n",
       "   100                                               # print (type(r1))\n",
       "   101                                               # print (type(r2))\n",
       "   102                                               # print (r1)\n",
       "   103                                               # print (r2)\n",
       "   104         1          1.0      1.0      0.0      if r1.size == 0 and r2.size == 0:\n",
       "   105                                                   return 0\n",
       "   106         1          0.0      0.0      0.0      elif r1.size == 0 and r2.size != 0:\n",
       "   107                                                   return r2\n",
       "   108         1          0.0      0.0      0.0      elif r1.size != 0 and r2.size == 0:\n",
       "   109         1          0.0      0.0      0.0          return r1\n",
       "   110                                               else:\n",
       "   111                                                   return (c([r1, r2]))"
      ]
     },
     "metadata": {},
     "output_type": "display_data"
    }
   ],
   "source": [
    "%lprun -T lprof0 -f recombination recombination(rates, tr, v1=np.array([1,2]), v2=np.array([]))"
   ]
  },
  {
   "cell_type": "code",
   "execution_count": 10,
   "metadata": {},
   "outputs": [],
   "source": [
    "z = [1,2,3,4,5]"
   ]
  },
  {
   "cell_type": "code",
   "execution_count": 11,
   "metadata": {},
   "outputs": [],
   "source": [
    "k = [2,3]"
   ]
  },
  {
   "cell_type": "code",
   "execution_count": 12,
   "metadata": {},
   "outputs": [
    {
     "data": {
      "text/plain": [
       "False"
      ]
     },
     "execution_count": 12,
     "metadata": {},
     "output_type": "execute_result"
    }
   ],
   "source": [
    "z in k"
   ]
  },
  {
   "cell_type": "code",
   "execution_count": 9,
   "metadata": {},
   "outputs": [],
   "source": [
    "v1=np.array([1,2])"
   ]
  },
  {
   "cell_type": "code",
   "execution_count": 12,
   "metadata": {},
   "outputs": [
    {
     "data": {
      "text/plain": [
       "array([1, 2])"
      ]
     },
     "execution_count": 12,
     "metadata": {},
     "output_type": "execute_result"
    }
   ],
   "source": [
    "v1[[0,1]]"
   ]
  },
  {
   "cell_type": "code",
   "execution_count": null,
   "metadata": {},
   "outputs": [],
   "source": []
  }
 ],
 "metadata": {
  "kernelspec": {
   "display_name": "Python 3",
   "language": "python",
   "name": "python3"
  },
  "language_info": {
   "codemirror_mode": {
    "name": "ipython",
    "version": 3
   },
   "file_extension": ".py",
   "mimetype": "text/x-python",
   "name": "python",
   "nbconvert_exporter": "python",
   "pygments_lexer": "ipython3",
   "version": "3.7.4"
  }
 },
 "nbformat": 4,
 "nbformat_minor": 4
}
