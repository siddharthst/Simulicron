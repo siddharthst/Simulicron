{
 "cells": [
  {
   "cell_type": "code",
   "execution_count": 1,
   "metadata": {},
   "outputs": [],
   "source": [
    "%load_ext line_profiler"
   ]
  },
  {
   "cell_type": "code",
   "execution_count": 1,
   "metadata": {},
   "outputs": [],
   "source": [
    "# Init\n",
    "import os\n",
    "import sys\n",
    "module_path = os.path.abspath(os.path.join('../src/simulicronalpha/'))\n",
    "if module_path not in sys.path:\n",
    "    sys.path.append(module_path)\n",
    "\n",
    "# Imports\n",
    "import inspect\n",
    "import random\n",
    "import tempfile\n",
    "import uuid\n",
    "from functools import wraps\n",
    "import collections\n",
    "import seaborn as sns\n",
    "import matplotlib.pyplot as plt\n",
    "import coloredlogs\n",
    "import logging\n",
    "import numpy as np\n",
    "import pandas as pd\n",
    "from coolname import generate_slug\n",
    "import warnings\n",
    "import cProfile\n",
    "from numpy import concatenate as c\n",
    "\n",
    "warnings.filterwarnings(\"ignore\")\n",
    "\n",
    "# Logger\n",
    "logger = logging.getLogger(__name__)\n",
    "coloredlogs.install(level=\"DEBUG\")"
   ]
  },
  {
   "cell_type": "code",
   "execution_count": 2,
   "metadata": {},
   "outputs": [],
   "source": [
    "from popSim import generateTransposon, generatePopulation, generateGenome, generateFitness, recombination, transposition"
   ]
  },
  {
   "cell_type": "code",
   "execution_count": 3,
   "metadata": {},
   "outputs": [],
   "source": [
    "gen = generateGenome(numberOfInsertionSites=1000)\n",
    "pop = generatePopulation()\n",
    "tr  = generateTransposon(gen)"
   ]
  },
  {
   "cell_type": "code",
   "execution_count": 4,
   "metadata": {},
   "outputs": [],
   "source": [
    "NumberOfSites = 1000\n",
    "v1 = np.full(NumberOfSites, \"M\")\n",
    "v2 = np.full(NumberOfSites, \"F\")\n",
    "rates = np.random.uniform(size=(NumberOfSites - 1))"
   ]
  },
  {
   "cell_type": "code",
   "execution_count": 9,
   "metadata": {},
   "outputs": [
    {
     "data": {
      "text/plain": [
       "([1, 3], [2])"
      ]
     },
     "execution_count": 9,
     "metadata": {},
     "output_type": "execute_result"
    }
   ],
   "source": [
    "transposition(tr, gen, v1=[1], v2=[2])"
   ]
  },
  {
   "cell_type": "code",
   "execution_count": null,
   "metadata": {},
   "outputs": [],
   "source": []
  }
 ],
 "metadata": {
  "kernelspec": {
   "display_name": "Python 3",
   "language": "python",
   "name": "python3"
  },
  "language_info": {
   "codemirror_mode": {
    "name": "ipython",
    "version": 3
   },
   "file_extension": ".py",
   "mimetype": "text/x-python",
   "name": "python",
   "nbconvert_exporter": "python",
   "pygments_lexer": "ipython3",
   "version": "3.7.4"
  }
 },
 "nbformat": 4,
 "nbformat_minor": 4
}
