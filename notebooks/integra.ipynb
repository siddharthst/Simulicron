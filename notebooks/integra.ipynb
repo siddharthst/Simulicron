{
 "cells": [
  {
   "cell_type": "code",
   "execution_count": 1,
   "metadata": {},
   "outputs": [],
   "source": [
    "# Init\n",
    "import os\n",
    "import sys\n",
    "\n",
    "module_path = os.path.abspath(os.path.join(\"../src/simulicronalpha/\"))\n",
    "if module_path not in sys.path:\n",
    "    sys.path.append(module_path)\n",
    "\n",
    "# Imports\n",
    "import random\n",
    "import numpy as np\n",
    "import pandas as pd\n",
    "import warnings\n",
    "import multiprocessing\n",
    "\n",
    "from numpy import concatenate as c"
   ]
  },
  {
   "cell_type": "code",
   "execution_count": 2,
   "metadata": {},
   "outputs": [],
   "source": [
    "from popSim import (\n",
    "    generateTransposon,\n",
    "    generatePopulation,\n",
    "    calculateFitness,\n",
    "    generateGenome,\n",
    "    transposition,\n",
    "    runSim,\n",
    "    runBatch,\n",
    "    recombination,\n",
    ")"
   ]
  },
  {
   "cell_type": "code",
   "execution_count": 7,
   "metadata": {},
   "outputs": [],
   "source": [
    "gen = generateGenome(\n",
    "    numberOfInsertionSites=1000,\n",
    "    numberOfChromosomes=1,\n",
    "    baseRecombinationRate=0.0,\n",
    "    baseSelection=1,\n",
    ")\n",
    "tr, gen, TEset = generateTransposon(\n",
    "    genomeArray=gen,\n",
    "    NumberOfTransposonInsertions=1,\n",
    "    baseExcision=0.0,\n",
    ")\n",
    "pop = generatePopulation(\n",
    "    tr,\n",
    "    InsertIntoAll=True,\n",
    "    NumberOfIndividual=10,\n",
    "    NumberOfTransposonInsertions=1,\n",
    "    HardyWeinberg=False,\n",
    "    insertionFrequency=0.5,\n",
    ")"
   ]
  },
  {
   "cell_type": "code",
   "execution_count": 4,
   "metadata": {},
   "outputs": [
    {
     "data": {
      "text/plain": [
       "array([[0, 0, 0, 0, 0, 0],\n",
       "       ['fbb59900a3832b6299e1c6ad9d96f7', 176, 1.0, 0, 1, 1]],\n",
       "      dtype=object)"
      ]
     },
     "execution_count": 4,
     "metadata": {},
     "output_type": "execute_result"
    }
   ],
   "source": [
    "tr"
   ]
  },
  {
   "cell_type": "code",
   "execution_count": 4,
   "metadata": {
    "collapsed": true,
    "jupyter": {
     "outputs_hidden": true,
     "source_hidden": true
    }
   },
   "outputs": [
    {
     "name": "stdout",
     "output_type": "stream",
     "text": [
      "P1raw : 7\n",
      "P2raw : 7\n",
      "P1 : [0 list([1]) 2.718281828459045]\n",
      "P2 : [0 list([1]) 2.718281828459045]\n",
      "[1, 1, 2.718281828459045, 7.38905609893065, 1, 2.718281828459045, 2.718281828459045, 2.718281828459045, 2.718281828459045, 7.38905609893065]\n",
      "P1raw : 7\n",
      "P2raw : 0\n",
      "P1 : [0 list([1]) 2.718281828459045]\n",
      "P2 : [0 0 1]\n",
      "[1, 1, 2.718281828459045, 7.38905609893065, 1, 2.718281828459045, 2.718281828459045, 2.718281828459045, 2.718281828459045, 7.38905609893065]\n",
      "P1raw : 9\n",
      "P2raw : 3\n",
      "P1 : [list([1]) list([1]) 7.38905609893065]\n",
      "P2 : [list([1]) list([1]) 7.38905609893065]\n",
      "[1, 1, 2.718281828459045, 7.38905609893065, 1, 2.718281828459045, 2.718281828459045, 2.718281828459045, 2.718281828459045, 7.38905609893065]\n",
      "P1raw : 9\n",
      "P2raw : 2\n",
      "P1 : [list([1]) list([1]) 7.38905609893065]\n",
      "P2 : [list([1]) 0 2.718281828459045]\n",
      "[1, 1, 2.718281828459045, 7.38905609893065, 1, 2.718281828459045, 2.718281828459045, 2.718281828459045, 2.718281828459045, 7.38905609893065]\n",
      "P1raw : 9\n",
      "P2raw : 3\n",
      "P1 : [list([1]) list([1]) 7.38905609893065]\n",
      "P2 : [list([1]) list([1]) 7.38905609893065]\n",
      "[1, 1, 2.718281828459045, 7.38905609893065, 1, 2.718281828459045, 2.718281828459045, 2.718281828459045, 2.718281828459045, 7.38905609893065]\n",
      "P1raw : 3\n",
      "P2raw : 3\n",
      "P1 : [list([1]) list([1]) 7.38905609893065]\n",
      "P2 : [list([1]) list([1]) 7.38905609893065]\n",
      "[1, 1, 2.718281828459045, 7.38905609893065, 1, 2.718281828459045, 2.718281828459045, 2.718281828459045, 2.718281828459045, 7.38905609893065]\n",
      "P1raw : 9\n",
      "P2raw : 2\n",
      "P1 : [list([1]) list([1]) 7.38905609893065]\n",
      "P2 : [list([1]) 0 2.718281828459045]\n",
      "[1, 1, 2.718281828459045, 7.38905609893065, 1, 2.718281828459045, 2.718281828459045, 2.718281828459045, 2.718281828459045, 7.38905609893065]\n",
      "P1raw : 2\n",
      "P2raw : 6\n",
      "P1 : [list([1]) 0 2.718281828459045]\n",
      "P2 : [0 list([1]) 2.718281828459045]\n",
      "[1, 1, 2.718281828459045, 7.38905609893065, 1, 2.718281828459045, 2.718281828459045, 2.718281828459045, 2.718281828459045, 7.38905609893065]\n",
      "P1raw : 9\n",
      "P2raw : 9\n",
      "P1 : [list([1]) list([1]) 7.38905609893065]\n",
      "P2 : [list([1]) list([1]) 7.38905609893065]\n",
      "[1, 1, 2.718281828459045, 7.38905609893065, 1, 2.718281828459045, 2.718281828459045, 2.718281828459045, 2.718281828459045, 7.38905609893065]\n",
      "P1raw : 0\n",
      "P2raw : 9\n",
      "P1 : [0 0 1]\n",
      "P2 : [list([1]) list([1]) 7.38905609893065]\n",
      "[1, 1, 2.718281828459045, 7.38905609893065, 1, 2.718281828459045, 2.718281828459045, 2.718281828459045, 2.718281828459045, 7.38905609893065]\n",
      "P1raw : 9\n",
      "P2raw : 3\n",
      "P1 : [0 list([1]) 2.718281828459045]\n",
      "P2 : [list([1]) 0 2.718281828459045]\n",
      "[1, 2.718281828459045, 7.38905609893065, 2.718281828459045, 7.38905609893065, 7.38905609893065, 2.718281828459045, 7.38905609893065, 7.38905609893065, 2.718281828459045]\n",
      "P1raw : 4\n",
      "P2raw : 4\n",
      "P1 : [list([1]) list([1]) 7.38905609893065]\n",
      "P2 : [list([1]) list([1]) 7.38905609893065]\n",
      "[1, 2.718281828459045, 7.38905609893065, 2.718281828459045, 7.38905609893065, 7.38905609893065, 2.718281828459045, 7.38905609893065, 7.38905609893065, 2.718281828459045]\n",
      "P1raw : 7\n",
      "P2raw : 2\n",
      "P1 : [list([1]) list([1]) 7.38905609893065]\n",
      "P2 : [list([1]) list([1]) 7.38905609893065]\n",
      "[1, 2.718281828459045, 7.38905609893065, 2.718281828459045, 7.38905609893065, 7.38905609893065, 2.718281828459045, 7.38905609893065, 7.38905609893065, 2.718281828459045]\n",
      "P1raw : 7\n",
      "P2raw : 8\n",
      "P1 : [list([1]) list([1]) 7.38905609893065]\n",
      "P2 : [list([1]) list([1]) 7.38905609893065]\n",
      "[1, 2.718281828459045, 7.38905609893065, 2.718281828459045, 7.38905609893065, 7.38905609893065, 2.718281828459045, 7.38905609893065, 7.38905609893065, 2.718281828459045]\n",
      "P1raw : 8\n",
      "P2raw : 2\n",
      "P1 : [list([1]) list([1]) 7.38905609893065]\n",
      "P2 : [list([1]) list([1]) 7.38905609893065]\n",
      "[1, 2.718281828459045, 7.38905609893065, 2.718281828459045, 7.38905609893065, 7.38905609893065, 2.718281828459045, 7.38905609893065, 7.38905609893065, 2.718281828459045]\n",
      "P1raw : 8\n",
      "P2raw : 2\n",
      "P1 : [list([1]) list([1]) 7.38905609893065]\n",
      "P2 : [list([1]) list([1]) 7.38905609893065]\n",
      "[1, 2.718281828459045, 7.38905609893065, 2.718281828459045, 7.38905609893065, 7.38905609893065, 2.718281828459045, 7.38905609893065, 7.38905609893065, 2.718281828459045]\n",
      "P1raw : 9\n",
      "P2raw : 4\n",
      "P1 : [0 list([1]) 2.718281828459045]\n",
      "P2 : [list([1]) list([1]) 7.38905609893065]\n",
      "[1, 2.718281828459045, 7.38905609893065, 2.718281828459045, 7.38905609893065, 7.38905609893065, 2.718281828459045, 7.38905609893065, 7.38905609893065, 2.718281828459045]\n",
      "P1raw : 4\n",
      "P2raw : 2\n",
      "P1 : [list([1]) list([1]) 7.38905609893065]\n",
      "P2 : [list([1]) list([1]) 7.38905609893065]\n",
      "[1, 2.718281828459045, 7.38905609893065, 2.718281828459045, 7.38905609893065, 7.38905609893065, 2.718281828459045, 7.38905609893065, 7.38905609893065, 2.718281828459045]\n",
      "P1raw : 7\n",
      "P2raw : 7\n",
      "P1 : [list([1]) list([1]) 7.38905609893065]\n",
      "P2 : [list([1]) list([1]) 7.38905609893065]\n",
      "[1, 2.718281828459045, 7.38905609893065, 2.718281828459045, 7.38905609893065, 7.38905609893065, 2.718281828459045, 7.38905609893065, 7.38905609893065, 2.718281828459045]\n",
      "P1raw : 5\n",
      "P2raw : 2\n",
      "P1 : [list([1]) list([1]) 7.38905609893065]\n",
      "P2 : [list([1]) list([1]) 7.38905609893065]\n",
      "[1, 2.718281828459045, 7.38905609893065, 2.718281828459045, 7.38905609893065, 7.38905609893065, 2.718281828459045, 7.38905609893065, 7.38905609893065, 2.718281828459045]\n",
      "P1raw : 6\n",
      "P2raw : 9\n",
      "P1 : [list([1]) list([1]) 7.38905609893065]\n",
      "P2 : [list([1]) list([1]) 7.38905609893065]\n",
      "[1, 7.38905609893065, 7.38905609893065, 7.38905609893065, 7.38905609893065, 7.38905609893065, 7.38905609893065, 7.38905609893065, 7.38905609893065, 7.38905609893065]\n",
      "P1raw : 8\n",
      "P2raw : 8\n",
      "P1 : [list([1]) list([1]) 7.38905609893065]\n",
      "P2 : [list([1]) list([1]) 7.38905609893065]\n",
      "[1, 7.38905609893065, 7.38905609893065, 7.38905609893065, 7.38905609893065, 7.38905609893065, 7.38905609893065, 7.38905609893065, 7.38905609893065, 7.38905609893065]\n",
      "P1raw : 6\n",
      "P2raw : 1\n",
      "P1 : [list([1]) list([1]) 7.38905609893065]\n",
      "P2 : [list([1]) list([1]) 7.38905609893065]\n",
      "[1, 7.38905609893065, 7.38905609893065, 7.38905609893065, 7.38905609893065, 7.38905609893065, 7.38905609893065, 7.38905609893065, 7.38905609893065, 7.38905609893065]\n",
      "P1raw : 9\n",
      "P2raw : 1\n",
      "P1 : [list([1]) list([1]) 7.38905609893065]\n",
      "P2 : [list([1]) list([1]) 7.38905609893065]\n",
      "[1, 7.38905609893065, 7.38905609893065, 7.38905609893065, 7.38905609893065, 7.38905609893065, 7.38905609893065, 7.38905609893065, 7.38905609893065, 7.38905609893065]\n",
      "P1raw : 1\n",
      "P2raw : 7\n",
      "P1 : [list([1]) list([1]) 7.38905609893065]\n",
      "P2 : [list([1]) list([1]) 7.38905609893065]\n",
      "[1, 7.38905609893065, 7.38905609893065, 7.38905609893065, 7.38905609893065, 7.38905609893065, 7.38905609893065, 7.38905609893065, 7.38905609893065, 7.38905609893065]\n",
      "P1raw : 7\n",
      "P2raw : 3\n",
      "P1 : [list([1]) list([1]) 7.38905609893065]\n",
      "P2 : [list([1]) list([1]) 7.38905609893065]\n",
      "[1, 7.38905609893065, 7.38905609893065, 7.38905609893065, 7.38905609893065, 7.38905609893065, 7.38905609893065, 7.38905609893065, 7.38905609893065, 7.38905609893065]\n",
      "P1raw : 4\n",
      "P2raw : 5\n",
      "P1 : [list([1]) list([1]) 7.38905609893065]\n",
      "P2 : [list([1]) list([1]) 7.38905609893065]\n",
      "[1, 7.38905609893065, 7.38905609893065, 7.38905609893065, 7.38905609893065, 7.38905609893065, 7.38905609893065, 7.38905609893065, 7.38905609893065, 7.38905609893065]\n",
      "P1raw : 9\n",
      "P2raw : 3\n",
      "P1 : [list([1]) list([1]) 7.38905609893065]\n",
      "P2 : [list([1]) list([1]) 7.38905609893065]\n",
      "[1, 7.38905609893065, 7.38905609893065, 7.38905609893065, 7.38905609893065, 7.38905609893065, 7.38905609893065, 7.38905609893065, 7.38905609893065, 7.38905609893065]\n",
      "P1raw : 7\n",
      "P2raw : 7\n",
      "P1 : [list([1]) list([1]) 7.38905609893065]\n",
      "P2 : [list([1]) list([1]) 7.38905609893065]\n",
      "[1, 7.38905609893065, 7.38905609893065, 7.38905609893065, 7.38905609893065, 7.38905609893065, 7.38905609893065, 7.38905609893065, 7.38905609893065, 7.38905609893065]\n",
      "P1raw : 9\n",
      "P2raw : 5\n",
      "P1 : [list([1]) list([1]) 7.38905609893065]\n",
      "P2 : [list([1]) list([1]) 7.38905609893065]\n",
      "[1, 7.38905609893065, 7.38905609893065, 7.38905609893065, 7.38905609893065, 7.38905609893065, 7.38905609893065, 7.38905609893065, 7.38905609893065, 7.38905609893065]\n"
     ]
    },
    {
     "data": {
      "text/plain": [
       "('FIXED', [1], [], [], 4, 1.0)"
      ]
     },
     "execution_count": 4,
     "metadata": {},
     "output_type": "execute_result"
    }
   ],
   "source": [
    "runSim(\n",
    "    genomeMatrix=gen,\n",
    "    populationMatrix=pop,\n",
    "    transposonMatrix=tr,\n",
    "    TEset=TEset,\n",
    "    NumberOfTransposonInsertions=1,\n",
    "    generations=3,\n",
    ")"
   ]
  },
  {
   "cell_type": "code",
   "execution_count": null,
   "metadata": {
    "jupyter": {
     "source_hidden": true
    }
   },
   "outputs": [],
   "source": [
    "w = np.asarray(\n",
    "    [\n",
    "        1,\n",
    "        2.718281828459045,\n",
    "        2.718281828459045,\n",
    "        7.38905609893065,\n",
    "        7.38905609893065,\n",
    "        1,\n",
    "        1,\n",
    "        2.718281828459045,\n",
    "        2.718281828459045,\n",
    "        2.718281828459045,\n",
    "    ]\n",
    ")\n",
    "wMean = np.mean(w)\n",
    "l1 = np.asarray(list(range(len(w))))\n",
    "p1 = random.choices(l1, weights=w, k=10000000)\n",
    "np.mean(p1)"
   ]
  },
  {
   "cell_type": "code",
   "execution_count": 55,
   "metadata": {
    "jupyter": {
     "source_hidden": true
    }
   },
   "outputs": [],
   "source": [
    "p1 = random.choices(\n",
    "    list(range((10))),\n",
    "    weights=[\n",
    "        1,\n",
    "        2.718281828459045,\n",
    "        2.718281828459045,\n",
    "        7.38905609893065,\n",
    "        7.38905609893065,\n",
    "        1,\n",
    "        1,\n",
    "        2.718281828459045,\n",
    "        2.718281828459045,\n",
    "        2.718281828459045,\n",
    "    ],\n",
    "    k=10000000,\n",
    ")"
   ]
  },
  {
   "cell_type": "code",
   "execution_count": 59,
   "metadata": {
    "collapsed": true,
    "jupyter": {
     "outputs_hidden": true,
     "source_hidden": true
    }
   },
   "outputs": [
    {
     "data": {
      "text/plain": [
       "(array([ 318490.,       0.,  864973.,       0.,  867285.,       0.,\n",
       "        2356450.,       0., 2354196.,       0.,       0.,  319469.,\n",
       "              0.,  318641.,       0.,  866994.,       0.,  866638.,\n",
       "              0.,  866864.]),\n",
       " array([0.  , 0.45, 0.9 , 1.35, 1.8 , 2.25, 2.7 , 3.15, 3.6 , 4.05, 4.5 ,\n",
       "        4.95, 5.4 , 5.85, 6.3 , 6.75, 7.2 , 7.65, 8.1 , 8.55, 9.  ]),\n",
       " <a list of 20 Patch objects>)"
      ]
     },
     "execution_count": 59,
     "metadata": {},
     "output_type": "execute_result"
    },
    {
     "data": {
      "image/png": "[encoded data removed]",
      "text/plain": [
       "<Figure size 432x288 with 1 Axes>"
      ]
     },
     "metadata": {
      "needs_background": "light"
     },
     "output_type": "display_data"
    }
   ],
   "source": [
    "import seaborn as sns\n",
    "import matplotlib.mlab as mlab\n",
    "import matplotlib.pyplot as plt\n",
    "\n",
    "plt.hist(p1, bins=20)\n",
    "# sns.distplot(p1)"
   ]
  },
  {
   "cell_type": "code",
   "execution_count": 60,
   "metadata": {
    "collapsed": true,
    "jupyter": {
     "outputs_hidden": true,
     "source_hidden": true
    }
   },
   "outputs": [
    {
     "data": {
      "text/plain": [
       "(array([ 318490.,       0.,  864973.,       0.,  867285.,       0.,\n",
       "        2356450.,       0., 2354196.,       0.,       0.,  319469.,\n",
       "              0.,  318641.,       0.,  866994.,       0.,  866638.,\n",
       "              0.,  866864.]),\n",
       " array([0.  , 0.45, 0.9 , 1.35, 1.8 , 2.25, 2.7 , 3.15, 3.6 , 4.05, 4.5 ,\n",
       "        4.95, 5.4 , 5.85, 6.3 , 6.75, 7.2 , 7.65, 8.1 , 8.55, 9.  ]),\n",
       " <a list of 20 Patch objects>)"
      ]
     },
     "execution_count": 60,
     "metadata": {},
     "output_type": "execute_result"
    },
    {
     "data": {
      "image/png": "[encoded data removed]",
      "text/plain": [
       "<Figure size 432x288 with 1 Axes>"
      ]
     },
     "metadata": {
      "needs_background": "light"
     },
     "output_type": "display_data"
    }
   ],
   "source": [
    "p2 = np.random.choice(list(range(10)), size=1000, p=w / sum(w))\n",
    "plt.hist(p1, bins=20)\n",
    "# sns.distplot(p2)"
   ]
  },
  {
   "cell_type": "code",
   "execution_count": 78,
   "metadata": {
    "jupyter": {
     "source_hidden": true
    }
   },
   "outputs": [],
   "source": [
    "result = []\n",
    "for i in range(100000):\n",
    "    result = result + random.choices(\n",
    "        list(range((10))),\n",
    "        weights=[\n",
    "            1,\n",
    "            2.718281828459045,\n",
    "            2.718281828459045,\n",
    "            7.38905609893065,\n",
    "            7.38905609893065,\n",
    "            1,\n",
    "            1,\n",
    "            2.718281828459045,\n",
    "            2.718281828459045,\n",
    "            2.718281828459045,\n",
    "        ],\n",
    "        k=2,\n",
    "    )"
   ]
  },
  {
   "cell_type": "code",
   "execution_count": 80,
   "metadata": {
    "collapsed": true,
    "jupyter": {
     "outputs_hidden": true
    }
   },
   "outputs": [
    {
     "data": {
      "text/plain": [
       "(array([ 6206.,     0., 17238.,     0., 17307.,     0., 47232.,     0.,\n",
       "        47186.,     0.,     0.,  6387.,     0.,  6391.,     0., 17375.,\n",
       "            0., 17353.,     0., 17325.]),\n",
       " array([0.  , 0.45, 0.9 , 1.35, 1.8 , 2.25, 2.7 , 3.15, 3.6 , 4.05, 4.5 ,\n",
       "        4.95, 5.4 , 5.85, 6.3 , 6.75, 7.2 , 7.65, 8.1 , 8.55, 9.  ]),\n",
       " <a list of 20 Patch objects>)"
      ]
     },
     "execution_count": 80,
     "metadata": {},
     "output_type": "execute_result"
    },
    {
     "data": {
      "image/png": "[encoded data removed]",
      "text/plain": [
       "<Figure size 432x288 with 1 Axes>"
      ]
     },
     "metadata": {
      "needs_background": "light"
     },
     "output_type": "display_data"
    }
   ],
   "source": [
    "plt.hist(result, bins=20)"
   ]
  },
  {
   "cell_type": "code",
   "execution_count": 83,
   "metadata": {
    "jupyter": {
     "source_hidden": true
    }
   },
   "outputs": [],
   "source": [
    "result = []\n",
    "for i in range(100):\n",
    "    result = result + random.choices(\n",
    "        list(range((10))),\n",
    "        weights=[\n",
    "            1,\n",
    "            2.718281828459045,\n",
    "            2.718281828459045,\n",
    "            7.38905609893065,\n",
    "            7.38905609893065,\n",
    "            1,\n",
    "            1,\n",
    "            2.718281828459045,\n",
    "            2.718281828459045,\n",
    "            2.718281828459045,\n",
    "        ],\n",
    "        k=2,\n",
    "    )"
   ]
  },
  {
   "cell_type": "code",
   "execution_count": 84,
   "metadata": {
    "collapsed": true,
    "jupyter": {
     "outputs_hidden": true
    }
   },
   "outputs": [
    {
     "data": {
      "text/plain": [
       "(array([ 9.,  0., 11.,  0., 23.,  0., 45.,  0., 48.,  0.,  0.,  4.,  0.,\n",
       "        10.,  0., 16.,  0., 14.,  0., 20.]),\n",
       " array([0.  , 0.45, 0.9 , 1.35, 1.8 , 2.25, 2.7 , 3.15, 3.6 , 4.05, 4.5 ,\n",
       "        4.95, 5.4 , 5.85, 6.3 , 6.75, 7.2 , 7.65, 8.1 , 8.55, 9.  ]),\n",
       " <a list of 20 Patch objects>)"
      ]
     },
     "execution_count": 84,
     "metadata": {},
     "output_type": "execute_result"
    },
    {
     "data": {
      "image/png": "[encoded data removed]",
      "text/plain": [
       "<Figure size 432x288 with 1 Axes>"
      ]
     },
     "metadata": {
      "needs_background": "light"
     },
     "output_type": "display_data"
    }
   ],
   "source": [
    "plt.hist(result, bins=20)"
   ]
  },
  {
   "cell_type": "code",
   "execution_count": null,
   "metadata": {
    "jupyter": {
     "source_hidden": true
    }
   },
   "outputs": [],
   "source": [
    "result = runBatch(numberOfSimulations=1000, NumberOfIndividual=10)"
   ]
  },
  {
   "cell_type": "code",
   "execution_count": null,
   "metadata": {},
   "outputs": [],
   "source": [
    "c1 = runBatch(numberOfGenerations=100000)\n",
    "c2 = runBatch(numberOfGenerations=100000, NumberOfIndividual=100)\n",
    "c3 = runBatch(numberOfGenerations=100000, NumberOfIndividual=10)"
   ]
  },
  {
   "cell_type": "code",
   "execution_count": null,
   "metadata": {},
   "outputs": [],
   "source": [
    "columns = [\"State\", \"Iterations\", \"Transpositions\"]\n",
    "df = pd.DataFrame([x for x in result], columns=columns)"
   ]
  },
  {
   "cell_type": "code",
   "execution_count": null,
   "metadata": {},
   "outputs": [],
   "source": [
    "df[\"Transpositions\"].value_counts()"
   ]
  },
  {
   "cell_type": "code",
   "execution_count": null,
   "metadata": {},
   "outputs": [],
   "source": [
    "NumberOfSites = 1000\n",
    "v1 = np.full(NumberOfSites, \"M\")\n",
    "v2 = np.full(NumberOfSites, \"F\")\n",
    "rates = np.random.uniform(size=(NumberOfSites - 1))"
   ]
  },
  {
   "cell_type": "code",
   "execution_count": null,
   "metadata": {},
   "outputs": [],
   "source": [
    "%lprun -T lprof0 -f runSim runSim(gen,pop,tr)"
   ]
  },
  {
   "cell_type": "code",
   "execution_count": null,
   "metadata": {},
   "outputs": [],
   "source": [
    "def generateTestTransposon(\n",
    "    genomeArray,\n",
    "    baseTransposition=1,\n",
    "    NumberOfTransposonInsertions=2,\n",
    "    consecutiveTransposons=False,\n",
    "    changeRecombination=False,\n",
    "    baseRecombination=0.01,\n",
    "):\n",
    "    transposons = np.zeros(\n",
    "        (NumberOfTransposonInsertions + 1, 4), dtype=np.ndarray\n",
    "    )\n",
    "    if consecutiveTransposons == True:\n",
    "        # The starting position is padded to prevent\n",
    "        # index overflow\n",
    "        start = random.choice(\n",
    "            range(\n",
    "                1 + NumberOfTransposonInsertions,\n",
    "                genomeArray.shape[0] - NumberOfTransposonInsertions,\n",
    "            )\n",
    "        )\n",
    "        insertionSites = np.arange(\n",
    "            start, start + NumberOfTransposonInsertions\n",
    "        )\n",
    "    else:\n",
    "        insertionSites = np.random.choice(\n",
    "            np.arange(genomeArray.shape[0]),\n",
    "            replace=False,\n",
    "            size=NumberOfTransposonInsertions,\n",
    "        )\n",
    "\n",
    "    # If there is a requirment to change the recombination rate\n",
    "    # at transposon insertion site\n",
    "    if changeRecombination == True:\n",
    "        genomeArray[insertionSites, 2] = baseRecombination\n",
    "\n",
    "    counter = 1\n",
    "    for i in insertionSites:\n",
    "        transposons[counter][3] = (\n",
    "            0\n",
    "            if baseTransposition == 0\n",
    "            else np.random.uniform(0.02, 0.03)\n",
    "        )\n",
    "        transposons[counter][2] = genomeArray[i][0]\n",
    "        transposons[counter][1] = i\n",
    "        transposons[counter][0] = \"%030x\" % random.randrange(16 ** 30)\n",
    "        counter += 1\n",
    "    return transposons, genomeArray"
   ]
  },
  {
   "cell_type": "code",
   "execution_count": null,
   "metadata": {
    "jupyter": {
     "source_hidden": true
    }
   },
   "outputs": [],
   "source": [
    "random.choice(range(1 + 2, 1000 - 2))"
   ]
  },
  {
   "cell_type": "code",
   "execution_count": null,
   "metadata": {
    "jupyter": {
     "source_hidden": true
    }
   },
   "outputs": [],
   "source": [
    "print(list(range(2, 5)))"
   ]
  },
  {
   "cell_type": "code",
   "execution_count": null,
   "metadata": {
    "jupyter": {
     "source_hidden": true
    }
   },
   "outputs": [],
   "source": [
    "gen[[1, 2], 2] = 0.05"
   ]
  },
  {
   "cell_type": "code",
   "execution_count": null,
   "metadata": {
    "jupyter": {
     "source_hidden": true
    }
   },
   "outputs": [],
   "source": [
    "gen"
   ]
  },
  {
   "cell_type": "code",
   "execution_count": null,
   "metadata": {
    "jupyter": {
     "source_hidden": true
    }
   },
   "outputs": [],
   "source": [
    "v1 = np.asarray([[1], [1], [1], [1], [1], [1], [1], [1], [1], [1]])\n",
    "v2 = np.asarray([[1], [1], [1], [1], [1], [1], [1], [1], [1], [1]])\n",
    "c1 = [0, 0, 0, 0, 0, 0, 0, [1]]\n",
    "c2 = [0, 0, 0, 0, 0, 0, 0, [1]]"
   ]
  },
  {
   "cell_type": "code",
   "execution_count": null,
   "metadata": {
    "jupyter": {
     "source_hidden": true
    }
   },
   "outputs": [],
   "source": [
    "all(np.array_equiv(v, [0, 0]) for v in np.c_[c1, c2])"
   ]
  },
  {
   "cell_type": "code",
   "execution_count": null,
   "metadata": {
    "jupyter": {
     "source_hidden": true
    }
   },
   "outputs": [],
   "source": [
    "k = [list(flatten(v.flatten().tolist())) for v in np.c_[v1, v2]]"
   ]
  },
  {
   "cell_type": "code",
   "execution_count": null,
   "metadata": {
    "jupyter": {
     "source_hidden": true
    }
   },
   "outputs": [],
   "source": [
    "np.c_[v1, v2]"
   ]
  },
  {
   "cell_type": "code",
   "execution_count": null,
   "metadata": {
    "jupyter": {
     "source_hidden": true
    }
   },
   "outputs": [],
   "source": [
    "any(\n",
    "    np.array_equiv(v, [0, 0])\n",
    "    for v in [\n",
    "        list(flatten(v.flatten().tolist())) for v in np.c_[v1, v2]\n",
    "    ]\n",
    ")"
   ]
  },
  {
   "cell_type": "code",
   "execution_count": null,
   "metadata": {
    "jupyter": {
     "source_hidden": true
    }
   },
   "outputs": [],
   "source": [
    "flatten = lambda *n: (\n",
    "    e\n",
    "    for a in n\n",
    "    for e in (flatten(*a) if isinstance(a, (tuple, list)) else (a,))\n",
    ")"
   ]
  },
  {
   "cell_type": "code",
   "execution_count": null,
   "metadata": {
    "jupyter": {
     "source_hidden": true
    }
   },
   "outputs": [],
   "source": [
    "not any(\n",
    "    all(v == 0 for v in z)\n",
    "    for z in [\n",
    "        list(flatten(v.flatten().tolist())) for v in np.c_[v1, v2]\n",
    "    ]\n",
    ")"
   ]
  },
  {
   "cell_type": "code",
   "execution_count": null,
   "metadata": {
    "jupyter": {
     "source_hidden": true
    }
   },
   "outputs": [],
   "source": [
    "all(\n",
    "    any(v == 1 for v in z)\n",
    "    for z in [\n",
    "        list(flatten(v.flatten().tolist())) for v in np.c_[v1, v2]\n",
    "    ]\n",
    ")"
   ]
  },
  {
   "cell_type": "code",
   "execution_count": null,
   "metadata": {
    "jupyter": {
     "source_hidden": true
    }
   },
   "outputs": [],
   "source": [
    "uniqueTransposons = np.unique(\n",
    "    [list(flatten(v.flatten().tolist())) for v in np.c_[v1, v2]]\n",
    ")\n",
    "uniqueTransposons = uniqueTransposons[uniqueTransposons != 0]"
   ]
  },
  {
   "cell_type": "code",
   "execution_count": null,
   "metadata": {
    "jupyter": {
     "source_hidden": true
    }
   },
   "outputs": [],
   "source": [
    "uniqueTransposons"
   ]
  },
  {
   "cell_type": "code",
   "execution_count": null,
   "metadata": {
    "jupyter": {
     "source_hidden": true
    }
   },
   "outputs": [],
   "source": [
    "flatten = lambda *n: (\n",
    "    e\n",
    "    for a in n\n",
    "    for e in (flatten(*a) if isinstance(a, (tuple, list)) else (a,))\n",
    ")"
   ]
  },
  {
   "cell_type": "code",
   "execution_count": null,
   "metadata": {
    "jupyter": {
     "source_hidden": true
    }
   },
   "outputs": [],
   "source": [
    "type(flatten)"
   ]
  },
  {
   "cell_type": "code",
   "execution_count": null,
   "metadata": {
    "jupyter": {
     "source_hidden": true
    }
   },
   "outputs": [],
   "source": [
    "TEset"
   ]
  },
  {
   "cell_type": "code",
   "execution_count": null,
   "metadata": {
    "jupyter": {
     "source_hidden": true
    }
   },
   "outputs": [],
   "source": [
    "flatten = lambda *n: (\n",
    "    e\n",
    "    for a in n\n",
    "    for e in (flatten(*a) if isinstance(a, (tuple, list)) else (a,))\n",
    ")"
   ]
  },
  {
   "cell_type": "code",
   "execution_count": null,
   "metadata": {
    "jupyter": {
     "source_hidden": true
    }
   },
   "outputs": [],
   "source": [
    "v1 = [[1, 2], [1, 2], [1, 2], [1, 2], [1, 2]]\n",
    "v2 = [[1, 2], [1, 2], [1, 2], [1, 2], [1, 2]]"
   ]
  },
  {
   "cell_type": "code",
   "execution_count": null,
   "metadata": {
    "jupyter": {
     "source_hidden": true
    }
   },
   "outputs": [],
   "source": [
    "for i in TEset.keys():\n",
    "    if all(bool(set(k).intersection(TEset[1])) for k in v1 + v2):\n",
    "        print(True)\n",
    "    else:\n",
    "        print(False)"
   ]
  },
  {
   "cell_type": "code",
   "execution_count": null,
   "metadata": {
    "jupyter": {
     "source_hidden": true
    }
   },
   "outputs": [],
   "source": [
    "type(np.c_)"
   ]
  },
  {
   "cell_type": "code",
   "execution_count": null,
   "metadata": {
    "jupyter": {
     "source_hidden": true
    }
   },
   "outputs": [],
   "source": [
    "l = sum"
   ]
  },
  {
   "cell_type": "code",
   "execution_count": null,
   "metadata": {
    "jupyter": {
     "source_hidden": true
    }
   },
   "outputs": [],
   "source": [
    "l([1, 2])"
   ]
  },
  {
   "cell_type": "code",
   "execution_count": null,
   "metadata": {
    "jupyter": {
     "source_hidden": true
    }
   },
   "outputs": [],
   "source": [
    "sum([1, 2])"
   ]
  },
  {
   "cell_type": "code",
   "execution_count": null,
   "metadata": {
    "jupyter": {
     "source_hidden": true
    }
   },
   "outputs": [],
   "source": [
    "def testFunc(i, j, k):\n",
    "    print(i * j * k)"
   ]
  },
  {
   "cell_type": "code",
   "execution_count": null,
   "metadata": {
    "jupyter": {
     "source_hidden": true
    }
   },
   "outputs": [],
   "source": [
    "def tempfunc(instance):\n",
    "    for i in range(instance):\n",
    "        yield (1, 1 + 1, 1 + 2)"
   ]
  },
  {
   "cell_type": "code",
   "execution_count": null,
   "metadata": {
    "jupyter": {
     "source_hidden": true
    }
   },
   "outputs": [],
   "source": [
    "k = tempfunc(10000000000000)"
   ]
  },
  {
   "cell_type": "code",
   "execution_count": null,
   "metadata": {
    "jupyter": {
     "source_hidden": true
    }
   },
   "outputs": [],
   "source": [
    "for i in k:\n",
    "    print(i)"
   ]
  },
  {
   "cell_type": "code",
   "execution_count": null,
   "metadata": {
    "jupyter": {
     "source_hidden": true
    }
   },
   "outputs": [],
   "source": [
    "def testFunc(i, j, k):\n",
    "    print(i * j * k)\n",
    "\n",
    "\n",
    "def tempfunc(instance):\n",
    "    for i in range(instance):\n",
    "        z = sum([2, 2])\n",
    "        yield (z, z + 1, z + 2)\n",
    "\n",
    "\n",
    "k = tempfunc(1000)\n",
    "with multiprocessing.Pool(processes=4) as pool:\n",
    "    pool.starmap(testFunc, k)"
   ]
  },
  {
   "cell_type": "code",
   "execution_count": null,
   "metadata": {
    "jupyter": {
     "source_hidden": true
    }
   },
   "outputs": [],
   "source": [
    "v1 = [[1], [1], [1], [1], [1], [1], [1], [1], [1], [1]]\n",
    "v2 = [[1], [1], [1], [1], [1], [1], [1], [1], [1], [1]]"
   ]
  },
  {
   "cell_type": "code",
   "execution_count": null,
   "metadata": {
    "jupyter": {
     "source_hidden": true
    }
   },
   "outputs": [],
   "source": [
    "if not any(\n",
    "    any(k == 0 for k in z)\n",
    "    for z in [\n",
    "        list(flatten(v.flatten().tolist())) for v in np.c_[v1, v2]\n",
    "    ]\n",
    "):\n",
    "    print(\"True\")"
   ]
  },
  {
   "cell_type": "code",
   "execution_count": null,
   "metadata": {
    "jupyter": {
     "source_hidden": true
    }
   },
   "outputs": [],
   "source": [
    "c1 = [[1], [1], [1], [1], [1], [1], [1], [1], [1], [1]]\n",
    "c2 = [[1], 0, 0, [1], [1], [1], [1], [1], 0, [1]]\n",
    "c3 = [1.0, 1.0, 1.0, 1.0, 1.0, 1.0, 1.0, 1.0, 1.0, 1.0]"
   ]
  },
  {
   "cell_type": "code",
   "execution_count": null,
   "metadata": {
    "jupyter": {
     "source_hidden": true
    }
   },
   "outputs": [],
   "source": [
    "np.c_[c1, c2, c3]"
   ]
  },
  {
   "cell_type": "code",
   "execution_count": null,
   "metadata": {
    "jupyter": {
     "source_hidden": true
    }
   },
   "outputs": [],
   "source": [
    "np.vstack((c1, c2, c3)).T"
   ]
  },
  {
   "cell_type": "code",
   "execution_count": null,
   "metadata": {
    "jupyter": {
     "source_hidden": true
    }
   },
   "outputs": [],
   "source": [
    "c1 = [\n",
    "    [1],\n",
    "    [1, 2],\n",
    "    [1, 2],\n",
    "    [1, 2],\n",
    "    [1, 2],\n",
    "    [1, 2],\n",
    "    [1, 2],\n",
    "    [1, 2],\n",
    "    [1, 2],\n",
    "    [1, 2],\n",
    "]\n",
    "c1 = [[], [1], [1], [1], [1], [1], [1], [1], [1], [1]]\n",
    "c2 = [[1], 0, 0, [1], [1], [1], [1], [1], 0, [1]]\n",
    "c3 = [1.0, 1.0, 1.0, 1.0, 1.0, 1.0, 1.0, 1.0, 1.0, 1.0]"
   ]
  },
  {
   "cell_type": "code",
   "execution_count": null,
   "metadata": {
    "jupyter": {
     "source_hidden": true
    }
   },
   "outputs": [],
   "source": [
    "c1 = np.array(c1)\n",
    "c2 = np.array(c2)\n",
    "c3 = np.array(c3)"
   ]
  },
  {
   "cell_type": "code",
   "execution_count": null,
   "metadata": {
    "jupyter": {
     "source_hidden": true
    }
   },
   "outputs": [],
   "source": [
    "c1.shape"
   ]
  },
  {
   "cell_type": "code",
   "execution_count": null,
   "metadata": {
    "jupyter": {
     "source_hidden": true
    }
   },
   "outputs": [],
   "source": [
    "np.c_[c1, c2, c3]"
   ]
  },
  {
   "cell_type": "code",
   "execution_count": null,
   "metadata": {
    "jupyter": {
     "source_hidden": true
    }
   },
   "outputs": [],
   "source": [
    "pd.DataFrame([c1, c2, c3]).T.to_numpy()"
   ]
  },
  {
   "cell_type": "code",
   "execution_count": null,
   "metadata": {
    "jupyter": {
     "source_hidden": true
    }
   },
   "outputs": [],
   "source": [
    "df.to_numpy()"
   ]
  },
  {
   "cell_type": "code",
   "execution_count": null,
   "metadata": {
    "jupyter": {
     "source_hidden": true
    }
   },
   "outputs": [],
   "source": [
    "v1 = [\n",
    "    [1, 2],\n",
    "    [1, 2],\n",
    "    [1, 2],\n",
    "    [1, 2],\n",
    "    [1, 2],\n",
    "    [1, 2],\n",
    "    [1, 2],\n",
    "    [1, 2],\n",
    "    [1, 2],\n",
    "    [1, 2],\n",
    "]\n",
    "v2 = [\n",
    "    [1, 2],\n",
    "    [1, 2],\n",
    "    [1, 2],\n",
    "    [1, 2],\n",
    "    [1, 2],\n",
    "    [1, 2],\n",
    "    [1, 2],\n",
    "    [1, 2],\n",
    "    [1, 2],\n",
    "    [1, 2],\n",
    "]\n",
    "TEset = {}\n",
    "for i in list(range(2)):\n",
    "    TEset[i + 1] = set([i + 1])"
   ]
  },
  {
   "cell_type": "code",
   "execution_count": null,
   "metadata": {
    "jupyter": {
     "source_hidden": true
    }
   },
   "outputs": [],
   "source": [
    "import numpy as np\n",
    "\n",
    "fixedTE = []\n",
    "unfixedTE = []\n",
    "lostTE = []\n",
    "\n",
    "\n",
    "def checkFunc(TEset, populationV1, populationV2):\n",
    "    if all(\n",
    "        np.array_equal(v, [0, 0])\n",
    "        for v in np.c_[populationV1, populationV2]\n",
    "    ):\n",
    "        return (\n",
    "            \"LOSS\",\n",
    "            fixedTE,\n",
    "            unfixedTE,\n",
    "            lostTE,\n",
    "            i + 2,\n",
    "        )\n",
    "\n",
    "    # Check if all members of population contain transposon\n",
    "    if not any(\n",
    "        any(k == 0 for k in z)\n",
    "        for z in [\n",
    "            list(flatten(v.flatten().tolist()))\n",
    "            for v in np.c_[populationV1, populationV2]\n",
    "        ]\n",
    "    ):\n",
    "        counter = 0\n",
    "        for TE in list(TEset):\n",
    "            if all(\n",
    "                bool(set(k).intersection(TEset[TE]))\n",
    "                for k in populationV1 + populationV2\n",
    "            ):\n",
    "                fixedTE.append(TE)\n",
    "                counter += 1\n",
    "            elif any(\n",
    "                bool(set(k).intersection(TEset[TE]))\n",
    "                for k in populationV1 + populationV2\n",
    "            ):\n",
    "                unfixedTE.append(TE)\n",
    "            else:\n",
    "                lostTE.append(TE)\n",
    "                del TEset[TE]\n",
    "\n",
    "            print(\"Retained TE:\", TEset)\n",
    "            # If all transposons are fixed\n",
    "            if counter == len(TEset):\n",
    "                return (\n",
    "                    \"FIXED\",\n",
    "                    fixedTE,\n",
    "                    unfixedTE,\n",
    "                    lostTE,\n",
    "                    i + 2,\n",
    "                )"
   ]
  },
  {
   "cell_type": "code",
   "execution_count": null,
   "metadata": {
    "jupyter": {
     "source_hidden": true
    }
   },
   "outputs": [],
   "source": [
    "checkFunc(TEset, v1, v2)"
   ]
  },
  {
   "cell_type": "code",
   "execution_count": null,
   "metadata": {
    "jupyter": {
     "source_hidden": true
    }
   },
   "outputs": [],
   "source": [
    "flatten = lambda *n: (\n",
    "    e\n",
    "    for a in n\n",
    "    for e in (flatten(*a) if isinstance(a, (tuple, list)) else (a,))\n",
    ")"
   ]
  },
  {
   "cell_type": "code",
   "execution_count": null,
   "metadata": {
    "jupyter": {
     "source_hidden": true
    }
   },
   "outputs": [],
   "source": [
    "TEset"
   ]
  },
  {
   "cell_type": "code",
   "execution_count": null,
   "metadata": {
    "jupyter": {
     "source_hidden": true
    }
   },
   "outputs": [],
   "source": [
    "gen[291]"
   ]
  },
  {
   "cell_type": "code",
   "execution_count": null,
   "metadata": {
    "jupyter": {
     "source_hidden": true
    }
   },
   "outputs": [],
   "source": [
    "tr"
   ]
  },
  {
   "cell_type": "code",
   "execution_count": null,
   "metadata": {
    "jupyter": {
     "source_hidden": true
    }
   },
   "outputs": [],
   "source": [
    "tr"
   ]
  },
  {
   "cell_type": "code",
   "execution_count": null,
   "metadata": {
    "jupyter": {
     "source_hidden": true
    }
   },
   "outputs": [],
   "source": [
    "gen[698]"
   ]
  },
  {
   "cell_type": "code",
   "execution_count": null,
   "metadata": {
    "jupyter": {
     "source_hidden": true
    }
   },
   "outputs": [],
   "source": [
    "from random import randrange\n",
    "\n",
    "print(randrange(10))"
   ]
  },
  {
   "cell_type": "code",
   "execution_count": null,
   "metadata": {
    "jupyter": {
     "source_hidden": true
    }
   },
   "outputs": [],
   "source": [
    "popSize = np.asarray([10, 30, 50, 70, 100, 200, 300, 400])"
   ]
  },
  {
   "cell_type": "code",
   "execution_count": null,
   "metadata": {
    "jupyter": {
     "source_hidden": true
    }
   },
   "outputs": [],
   "source": [
    "for i in popSize:\n",
    "    print(random.uniform((1 / (2 * i)), (1 - (1 / (2 * i)))))"
   ]
  },
  {
   "cell_type": "code",
   "execution_count": null,
   "metadata": {
    "jupyter": {
     "source_hidden": true
    }
   },
   "outputs": [],
   "source": [
    "pop"
   ]
  },
  {
   "cell_type": "code",
   "execution_count": null,
   "metadata": {
    "jupyter": {
     "source_hidden": true
    }
   },
   "outputs": [],
   "source": [
    "calculateFitness(transposonMatrix=tr, v1=[1], v2=[1])"
   ]
  },
  {
   "cell_type": "code",
   "execution_count": null,
   "metadata": {
    "jupyter": {
     "source_hidden": true
    }
   },
   "outputs": [],
   "source": [
    "fitness = list(pop[0:, 2])"
   ]
  },
  {
   "cell_type": "code",
   "execution_count": null,
   "metadata": {
    "jupyter": {
     "source_hidden": true
    }
   },
   "outputs": [],
   "source": [
    "len(fitness)"
   ]
  },
  {
   "cell_type": "code",
   "execution_count": null,
   "metadata": {
    "jupyter": {
     "source_hidden": true
    }
   },
   "outputs": [],
   "source": [
    "p1, p2 = random.choices(\n",
    "    list(range(pop.shape[0])), weights=fitness, k=2,\n",
    ")"
   ]
  },
  {
   "cell_type": "code",
   "execution_count": null,
   "metadata": {
    "jupyter": {
     "source_hidden": true
    }
   },
   "outputs": [],
   "source": [
    "from random import shuffle"
   ]
  },
  {
   "cell_type": "code",
   "execution_count": null,
   "metadata": {
    "jupyter": {
     "source_hidden": true
    }
   },
   "outputs": [],
   "source": [
    "list1 = list(range(10))\n",
    "k = shuffle(list1)"
   ]
  },
  {
   "cell_type": "code",
   "execution_count": null,
   "metadata": {
    "jupyter": {
     "source_hidden": true
    }
   },
   "outputs": [],
   "source": [
    "k = list1[0:4]\n",
    "l = list1[4 : 4 + 1]"
   ]
  },
  {
   "cell_type": "code",
   "execution_count": null,
   "metadata": {
    "jupyter": {
     "source_hidden": true
    }
   },
   "outputs": [],
   "source": [
    "k"
   ]
  },
  {
   "cell_type": "code",
   "execution_count": null,
   "metadata": {
    "jupyter": {
     "source_hidden": true
    }
   },
   "outputs": [],
   "source": [
    "l"
   ]
  },
  {
   "cell_type": "code",
   "execution_count": 8,
   "metadata": {},
   "outputs": [
    {
     "data": {
      "text/plain": [
       "array([[0, 0, 1],\n",
       "       [list([1]), 0, 2.718281828459045],\n",
       "       [0, 0, 1],\n",
       "       [0, 0, 1],\n",
       "       [0, 0, 1],\n",
       "       [0, 0, 1],\n",
       "       [0, 0, 1],\n",
       "       [0, 0, 1],\n",
       "       [0, 0, 1],\n",
       "       [0, 0, 1]], dtype=object)"
      ]
     },
     "execution_count": 8,
     "metadata": {},
     "output_type": "execute_result"
    }
   ],
   "source": [
    "pop"
   ]
  },
  {
   "cell_type": "code",
   "execution_count": 54,
   "metadata": {},
   "outputs": [],
   "source": [
    "def checkCopyNumber(populationMatrix):\n",
    "    # The local flatten lambda\n",
    "    flatten = lambda *n: (e for a in n for e in (flatten(*a) if isinstance(a, (tuple, list)) else (a,)))\n",
    "    # Convert the list to flat list and remove 0\n",
    "    v1 = list(filter((0).__ne__,list(flatten(populationMatrix[:,0].tolist()))))\n",
    "    v2 = list(filter((0).__ne__,list(flatten(populationMatrix[:,1].tolist()))))\n",
    "    print (v1)\n",
    "    # Return the average number of transposon copies per individual\n",
    "    return(len(v1+v2)/len(pop))"
   ]
  },
  {
   "cell_type": "code",
   "execution_count": 55,
   "metadata": {},
   "outputs": [
    {
     "name": "stdout",
     "output_type": "stream",
     "text": [
      "[1, 1, 1]\n"
     ]
    },
    {
     "data": {
      "text/plain": [
       "0.9"
      ]
     },
     "execution_count": 55,
     "metadata": {},
     "output_type": "execute_result"
    }
   ],
   "source": []
  },
  {
   "cell_type": "code",
   "execution_count": 25,
   "metadata": {},
   "outputs": [
    {
     "data": {
      "text/plain": [
       "[2, 3]"
      ]
     },
     "execution_count": 25,
     "metadata": {},
     "output_type": "execute_result"
    }
   ],
   "source": [
    "list(filter((0).__ne__,(flatten(v2))))"
   ]
  },
  {
   "cell_type": "code",
   "execution_count": 20,
   "metadata": {},
   "outputs": [],
   "source": [
    "    flatten = lambda *n: (e for a in n for e in (flatten(*a) if isinstance(a, (tuple, list)) else (a,)))\n"
   ]
  },
  {
   "cell_type": "code",
   "execution_count": 29,
   "metadata": {},
   "outputs": [],
   "source": [
    "numberI = 2"
   ]
  },
  {
   "cell_type": "code",
   "execution_count": 33,
   "metadata": {},
   "outputs": [
    {
     "data": {
      "text/plain": [
       "2"
      ]
     },
     "execution_count": 33,
     "metadata": {},
     "output_type": "execute_result"
    }
   ],
   "source": [
    "random.choice(range(1,numberI+1))"
   ]
  },
  {
   "cell_type": "code",
   "execution_count": null,
   "metadata": {},
   "outputs": [],
   "source": []
  }
 ],
 "metadata": {
  "kernelspec": {
   "display_name": "Python 3",
   "language": "python",
   "name": "python3"
  },
  "language_info": {
   "codemirror_mode": {
    "name": "ipython",
    "version": 3
   },
   "file_extension": ".py",
   "mimetype": "text/x-python",
   "name": "python",
   "nbconvert_exporter": "python",
   "pygments_lexer": "ipython3",
   "version": "3.6.10"
  }
 },
 "nbformat": 4,
 "nbformat_minor": 4
}
