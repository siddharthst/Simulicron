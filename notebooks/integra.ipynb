{
 "cells": [
  {
   "cell_type": "code",
   "execution_count": 1,
   "metadata": {},
   "outputs": [],
   "source": [
    "%load_ext line_profiler\n",
    "# Init\n",
    "import os\n",
    "import sys\n",
    "module_path = os.path.abspath(os.path.join('../src/simulicronalpha/'))\n",
    "if module_path not in sys.path:\n",
    "    sys.path.append(module_path)\n",
    "\n",
    "# Imports\n",
    "import inspect\n",
    "import random\n",
    "import tempfile\n",
    "import uuid\n",
    "from functools import wraps\n",
    "import collections\n",
    "import seaborn as sns\n",
    "import matplotlib.pyplot as plt\n",
    "import coloredlogs\n",
    "import logging\n",
    "import numpy as np\n",
    "import pandas as pd\n",
    "from coolname import generate_slug\n",
    "import warnings\n",
    "import cProfile\n",
    "from numpy import concatenate as c\n",
    "\n",
    "warnings.filterwarnings(\"ignore\")\n",
    "\n",
    "# Logger\n",
    "logger = logging.getLogger(__name__)\n",
    "coloredlogs.install(level=\"DEBUG\")"
   ]
  },
  {
   "cell_type": "code",
   "execution_count": 2,
   "metadata": {},
   "outputs": [],
   "source": [
    "from popSim import generateTransposon, generatePopulation, calculateFitness, generateGenome, generateFitness, recombination, transposition, runSim"
   ]
  },
  {
   "cell_type": "code",
   "execution_count": 3,
   "metadata": {},
   "outputs": [],
   "source": [
    "gen = generateGenome(numberOfInsertionSites=1000)\n",
    "pop = generatePopulation()\n",
    "tr  = generateTransposon(gen)"
   ]
  },
  {
   "cell_type": "code",
   "execution_count": null,
   "metadata": {},
   "outputs": [],
   "source": [
    "%%timeit\n",
    "runSim(gen,pop,tr)"
   ]
  },
  {
   "cell_type": "code",
   "execution_count": null,
   "metadata": {},
   "outputs": [],
   "source": [
    "NumberOfSites = 1000\n",
    "v1 = np.full(NumberOfSites, \"M\")\n",
    "v2 = np.full(NumberOfSites, \"F\")\n",
    "rates = np.random.uniform(size=(NumberOfSites - 1))"
   ]
  },
  {
   "cell_type": "code",
   "execution_count": null,
   "metadata": {},
   "outputs": [],
   "source": [
    "%%timeit\n",
    "recombination(gen[0:, 2], tr, v1=np.asarray([1,2]), v2=np.asarray([0]))"
   ]
  },
  {
   "cell_type": "code",
   "execution_count": 4,
   "metadata": {},
   "outputs": [
    {
     "name": "stdout",
     "output_type": "stream",
     "text": [
      "\n",
      "*** Profile printout saved to text file 'lprof0'. \n"
     ]
    },
    {
     "data": {
      "text/plain": [
       "Timer unit: 1e-06 s\n",
       "\n",
       "Total time: 0.07932 s\n",
       "File: /home/siddharth/Documents/Projects/Simulicron/src/simulicronalpha/popSim.py\n",
       "Function: runSim at line 243\n",
       "\n",
       "Line #      Hits         Time  Per Hit   % Time  Line Contents\n",
       "==============================================================\n",
       "   243                                           def runSim(\n",
       "   244                                               genomeMatrix, populationMatrix, transposonMatrix, generations=100\n",
       "   245                                           ):\n",
       "   246         1          1.0      1.0      0.0      transposonMatrixCopy = transposonMatrix\n",
       "   247         1          1.0      1.0      0.0      populationMatrixCopy = populationMatrix\n",
       "   248         1          2.0      2.0      0.0      for i in list(range(generations)):\n",
       "   249         1          1.0      1.0      0.0          populationV1 = []\n",
       "   250         1          0.0      0.0      0.0          populationV2 = []\n",
       "   251         1          1.0      1.0      0.0          populationFit = []\n",
       "   252      1001        830.0      0.8      1.0          for k in list(range(populationMatrixCopy.shape[0])):\n",
       "   253      1000      14732.0     14.7     18.6              fitness = list(populationMatrixCopy[0:, 2])\n",
       "   254      1000       1156.0      1.2      1.5              p1, p2 = random.choices(\n",
       "   255      1000       9496.0      9.5     12.0                  list(range(populationMatrixCopy.shape[0])),\n",
       "   256      1000        702.0      0.7      0.9                  weights=fitness,\n",
       "   257      1000      35623.0     35.6     44.9                  k=2,\n",
       "   258                                                       )\n",
       "   259      1000       4809.0      4.8      6.1              baseFitness = random.choice([populationMatrixCopy[p1, 2], populationMatrixCopy[p2, 2],])\n",
       "   260                                                       # Since recombination function only accepts arrays,\n",
       "   261                                                       # checking and forcing type conversion as needed\n",
       "   262                                                       # for the respective alleles\n",
       "   263                                                       if (\n",
       "   264      1000        905.0      0.9      1.1                  populationMatrixCopy[p1, 0] == 0\n",
       "   265       996        835.0      0.8      1.1                  and populationMatrixCopy[p1, 1] == 0\n",
       "   266                                                       ):\n",
       "   267       996        701.0      0.7      0.9                  v1 = 0\n",
       "   268                                                       else:\n",
       "   269         4          4.0      1.0      0.0                  cP1V1 = populationMatrixCopy[p1, 0]\n",
       "   270         4          4.0      1.0      0.0                  cP1V2 = populationMatrixCopy[p1, 1]\n",
       "   271         4          6.0      1.5      0.0                  if isinstance(cP1V1, list):\n",
       "   272         4         29.0      7.2      0.0                      cP1V1 = np.asarray(cP1V1)\n",
       "   273                                                           else:\n",
       "   274                                                               cP1V1 = np.asarray([cP1V1])\n",
       "   275         4          6.0      1.5      0.0                  if isinstance(cP1V2, list):\n",
       "   276                                                               cP1V2 = np.asarray(cP1V2)\n",
       "   277                                                           else:\n",
       "   278         4          9.0      2.2      0.0                      cP1V2 = np.asarray([cP1V2])\n",
       "   279                                           \n",
       "   280         4          3.0      0.8      0.0                  v1 = recombination(\n",
       "   281         4          5.0      1.2      0.0                      genomeMatrix[0:, 2],\n",
       "   282         4          2.0      0.5      0.0                      transposonMatrixCopy,\n",
       "   283         4          4.0      1.0      0.0                      v1=cP1V1,\n",
       "   284         4        843.0    210.8      1.1                      v2=cP1V2,\n",
       "   285                                                           )\n",
       "   286                                           \n",
       "   287                                                       if (\n",
       "   288      1000        817.0      0.8      1.0                  populationMatrixCopy[p2, 0] == 0\n",
       "   289       998        842.0      0.8      1.1                  and populationMatrixCopy[p2, 1] == 0\n",
       "   290                                                       ):\n",
       "   291       998        739.0      0.7      0.9                  v2 = 0\n",
       "   292                                                       else:\n",
       "   293         2          2.0      1.0      0.0                  cP2V1 = populationMatrixCopy[p2, 0]\n",
       "   294         2          2.0      1.0      0.0                  cP2V2 = populationMatrixCopy[p2, 1]\n",
       "   295         2          2.0      1.0      0.0                  if isinstance(cP2V1, list):\n",
       "   296         2         29.0     14.5      0.0                      cP2V1 = np.asarray(cP2V1)\n",
       "   297                                                           else:\n",
       "   298                                                               cP2V1 = np.asarray([cP2V1])\n",
       "   299         2          4.0      2.0      0.0                  if isinstance(cP2V2, list):\n",
       "   300                                                               cP2V2 = np.asarray(cP2V2)\n",
       "   301                                                           else:\n",
       "   302         2          5.0      2.5      0.0                      cP2V2 = np.asarray([cP2V2])\n",
       "   303                                           \n",
       "   304         2          2.0      1.0      0.0                  v2 = recombination(\n",
       "   305         2          2.0      1.0      0.0                      genomeMatrix[0:, 2],\n",
       "   306         2          2.0      1.0      0.0                      transposonMatrixCopy,\n",
       "   307         2          0.0      0.0      0.0                      v1=cP2V1,\n",
       "   308         2       1211.0    605.5      1.5                      v2=cP2V2,\n",
       "   309                                                           )\n",
       "   310                                           \n",
       "   311      1000        791.0      0.8      1.0              if v1 == 0 and v2 == 0:\n",
       "   312      1000        731.0      0.7      0.9                  indFitness = baseFitness\n",
       "   313                                           \n",
       "   314                                                       else:\n",
       "   315                                                           v1, v2, transposonMatrixCopy = transposition(\n",
       "   316                                                               transposonMatrixCopy, genomeMatrix, v1=v1, v2=v2\n",
       "   317                                                           )\n",
       "   318                                                           indFitness = calculateFitness(transposonMatrixCopy, baseFitness, v1, v2)\n",
       "   319                                           \n",
       "   320      1000        856.0      0.9      1.1              populationV1.append(v1)\n",
       "   321      1000        809.0      0.8      1.0              populationV2.append(v2)\n",
       "   322      1000        824.0      0.8      1.0              populationFit.append(indFitness)\n",
       "   323         1          1.0      1.0      0.0          populationMatrixCopy = np.vstack(\n",
       "   324         1        235.0    235.0      0.3              (populationV1, populationV2, populationFit)\n",
       "   325                                                   ).T\n",
       "   326         1        373.0    373.0      0.5          if all(v == 0 for v in populationV1) and all(\n",
       "   327         1        313.0    313.0      0.4              v == 0 for v in populationV1\n",
       "   328                                                   ):\n",
       "   329                                                       # print(\"No TE\", i)\n",
       "   330         1         18.0     18.0      0.0              break"
      ]
     },
     "metadata": {},
     "output_type": "display_data"
    }
   ],
   "source": [
    "%lprun -T lprof0 -f runSim runSim(gen,pop,tr)"
   ]
  },
  {
   "cell_type": "code",
   "execution_count": null,
   "metadata": {},
   "outputs": [],
   "source": [
    "k = np.asarray([-0.01,-0.02])\n",
    "n = np.asarray([])"
   ]
  },
  {
   "cell_type": "code",
   "execution_count": null,
   "metadata": {},
   "outputs": [],
   "source": [
    "(np.exp(sum(np.concatenate([k,n]))))"
   ]
  },
  {
   "cell_type": "code",
   "execution_count": null,
   "metadata": {},
   "outputs": [],
   "source": []
  },
  {
   "cell_type": "code",
   "execution_count": null,
   "metadata": {},
   "outputs": [],
   "source": []
  }
 ],
 "metadata": {
  "kernelspec": {
   "display_name": "Python 3",
   "language": "python",
   "name": "python3"
  },
  "language_info": {
   "codemirror_mode": {
    "name": "ipython",
    "version": 3
   },
   "file_extension": ".py",
   "mimetype": "text/x-python",
   "name": "python",
   "nbconvert_exporter": "python",
   "pygments_lexer": "ipython3",
   "version": "3.7.4"
  }
 },
 "nbformat": 4,
 "nbformat_minor": 4
}
