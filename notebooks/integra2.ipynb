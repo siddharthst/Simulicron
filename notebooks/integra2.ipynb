{
 "cells": [
  {
   "cell_type": "code",
   "execution_count": 1,
   "metadata": {},
   "outputs": [],
   "source": [
    "# Init\n",
    "import os\n",
    "import sys\n",
    "\n",
    "module_path = os.path.abspath(os.path.join(\"../src/simulicronalpha/\"))\n",
    "if module_path not in sys.path:\n",
    "    sys.path.append(module_path)\n",
    "\n",
    "# Imports\n",
    "import numpy as np\n",
    "import pandas as pd\n",
    "import warnings\n",
    "import multiprocessing\n",
    "np.set_printoptions(suppress=True)\n",
    "from numpy import concatenate as c\n",
    "from numpy import cumsum\n",
    "import random\n",
    "%load_ext line_profiler"
   ]
  },
  {
   "cell_type": "code",
   "execution_count": 2,
   "metadata": {},
   "outputs": [],
   "source": [
    "from generateSim import (generatePopulation, generateGenome)\n",
    "from stats import stats\n",
    "from regulation import regulation\n",
    "from checkCopyNumber import checkCopyNumber\n",
    "from transposition import transposition\n",
    "#from recombination import recombination"
   ]
  },
  {
   "cell_type": "code",
   "execution_count": 3,
   "metadata": {},
   "outputs": [],
   "source": [
    "from popSim import runBatch, runSim"
   ]
  },
  {
   "cell_type": "code",
   "execution_count": 4,
   "metadata": {},
   "outputs": [],
   "source": [
    "gen,piset,piIndice, rates = generateGenome(\n",
    "    numberOfInsertionSites=10000,\n",
    "    numberOfChromosomes=6,\n",
    "    baseRecombinationRate=0.1,\n",
    "    baseSelection=0,\n",
    "    baseTau=1,\n",
    ")\n",
    "pop, tr , TEset= generatePopulation(\n",
    "    gen,\n",
    "    piIndice,\n",
    "    NumberOfIndividual=1000,\n",
    "    NumberOfTransposonTypes=1,\n",
    "    NumberOfInsertionsPerType=[1],\n",
    "    FrequencyOfInsertions=[1.0],\n",
    "    ExcisionRates = [1.0]\n",
    ")"
   ]
  },
  {
   "cell_type": "code",
   "execution_count": 5,
   "metadata": {},
   "outputs": [
    {
     "name": "stdout",
     "output_type": "stream",
     "text": [
      "0\n",
      "1\n",
      "2\n",
      "3\n",
      "4\n"
     ]
    },
    {
     "data": {
      "text/plain": [
       "Timer unit: 1e-06 s\n",
       "\n",
       "Total time: 3.76629 s\n",
       "File: /home/siddharth/Documents/Projects/Simulicron/src/simulicronalpha/transposition.py\n",
       "Function: transposition at line 8\n",
       "\n",
       "Line #      Hits         Time  Per Hit   % Time  Line Contents\n",
       "==============================================================\n",
       "     8                                           def transposition(\n",
       "     9                                               transposonMatrix,\n",
       "    10                                               genomeMatrix,\n",
       "    11                                               NumberOfTransposonInsertions,\n",
       "    12                                               TEset,\n",
       "    13                                               piCoord,\n",
       "    14                                               v1,\n",
       "    15                                               v2,\n",
       "    16                                           ):\n",
       "    17                                               # If any of the haplotyle is empty, convert the appr.\n",
       "    18                                               # parameters to empty lists\n",
       "    19      4288       7773.0      1.8      0.2      if v1 == 0:\n",
       "    20       831        963.0      1.2      0.0          allele1Index = []\n",
       "    21       831        748.0      0.9      0.0          allele1RepairRate = []\n",
       "    22       831        704.0      0.8      0.0          allele1InsertionRate = []\n",
       "    23       831        744.0      0.9      0.0          allele1Sites = []\n",
       "    24                                               else:\n",
       "    25      3457      38646.0     11.2      1.0          allele1RepairRate = transposonMatrix[[v1], 4].tolist()[0]\n",
       "    26      3457      19483.0      5.6      0.5          allele1InsertionRate = transposonMatrix[[v1], 5].tolist()[0]\n",
       "    27      3457      25765.0      7.5      0.7          allele1Sites = transposonMatrix[[v1], 1].astype(int).tolist()[0]\n",
       "    28      3457       3281.0      0.9      0.1          allele1Index = v1\n",
       "    29                                           \n",
       "    30      4288       4190.0      1.0      0.1      if v2 == 0:\n",
       "    31       891        821.0      0.9      0.0          allele2Index = []\n",
       "    32       891        777.0      0.9      0.0          allele2RepairRate = []\n",
       "    33       891        769.0      0.9      0.0          allele2InsertionRate = []\n",
       "    34       891        810.0      0.9      0.0          allele2Sites = []\n",
       "    35                                           \n",
       "    36                                               else:\n",
       "    37      3397      22733.0      6.7      0.6          allele2RepairRate = transposonMatrix[[v2], 4].tolist()[0]\n",
       "    38      3397      16064.0      4.7      0.4          allele2InsertionRate = transposonMatrix[[v2], 5].tolist()[0]\n",
       "    39      3397      20346.0      6.0      0.5          allele2Sites = transposonMatrix[[v2], 1].astype(int).tolist()[0]\n",
       "    40      3397       3168.0      0.9      0.1          allele2Index = v2\n",
       "    41                                           \n",
       "    42      4288      14843.0      3.5      0.4      transposonIndices = np.array(allele1Index + allele2Index)\n",
       "    43                                               # Find effective ExcisionRates\n",
       "    44      4288       3930.0      0.9      0.1      transposonExcisionRates = regulation(\n",
       "    45      4288       3715.0      0.9      0.1          transposons=transposonIndices,\n",
       "    46      4288       3636.0      0.8      0.1          TEset=TEset,\n",
       "    47      4288       3618.0      0.8      0.1          transposonMatrix=transposonMatrix,\n",
       "    48      4288       3653.0      0.9      0.1          genomeMatrix=genomeMatrix,\n",
       "    49      4288     292364.0     68.2      7.8          piRNAindices=piCoord,\n",
       "    50                                               )\n",
       "    51      4288      17150.0      4.0      0.5      transposonRepairRates = np.array(allele1RepairRate + allele2RepairRate)\n",
       "    52      4288       9071.0      2.1      0.2      transposonInsertionRates = np.array(allele1InsertionRate + allele2InsertionRate)\n",
       "    53                                           \n",
       "    54      4288       5798.0      1.4      0.2      exicsionCheck = transposonExcisionRates > np.random.uniform(\n",
       "    55      4288      57825.0     13.5      1.5          0, 1, len(transposonExcisionRates)\n",
       "    56                                               )\n",
       "    57      4288       5645.0      1.3      0.1      repairCheck = transposonRepairRates > np.random.uniform(\n",
       "    58      4288      29675.0      6.9      0.8          0, 1, len(transposonRepairRates)\n",
       "    59                                               )\n",
       "    60      4288       4984.0      1.2      0.1      insertionCheck = transposonInsertionRates > np.random.uniform(\n",
       "    61      4288      25174.0      5.9      0.7          0, 1, len(transposonInsertionRates)\n",
       "    62                                               )\n",
       "    63                                           \n",
       "    64      4288      12635.0      2.9      0.3      Transoposecheck = exicsionCheck & repairCheck & insertionCheck\n",
       "    65                                               # Return alleles as they are if no transposition happens\n",
       "    66      4288       7483.0      1.7      0.2      if not any(Transoposecheck):\n",
       "    67       644        658.0      1.0      0.0          return (v1, v2, transposonMatrix, TEset)\n",
       "    68                                               else:\n",
       "    69                                                   # Create a vector to choose sites from\n",
       "    70      3644     507008.0    139.1     13.5          genomeSites = list(range(len(genomeMatrix)))\n",
       "    71      3644      11767.0      3.2      0.3          transposonsToTranspose = transposonIndices[Transoposecheck]\n",
       "    72                                                   # If transposons share the same site - replace the old transposon\n",
       "    73                                                   # with new transposon\n",
       "    74                                                   # Choose the allele for tranposition\n",
       "    75      3644     127509.0     35.0      3.4          progenyAllele = random.choices([\"v1\", \"v2\"], k=sum(Transoposecheck))\n",
       "    76                                                   # probSum = sum(emptySitesProb)\n",
       "    77                                                   # InsertionProb = [float(i) / probSum for i in emptySitesProb]\n",
       "    78      3644     210789.0     57.8      5.6          sites = random.sample(genomeSites, sum(Transoposecheck))\n",
       "    79     23763      29525.0      1.2      0.8          for i in list(range(len(transposonsToTranspose))):\n",
       "    80                                                       transposonToAdd = [\n",
       "    81     20119      17786.0      0.9      0.5                  0,\n",
       "    82     20119      18634.0      0.9      0.5                  sites[i],\n",
       "    83     20119      34075.0      1.7      0.9                  genomeMatrix[sites[i]][0],\n",
       "    84     20119      30250.0      1.5      0.8                  transposonMatrix[transposonsToTranspose[i], 3],\n",
       "    85     20119      25492.0      1.3      0.7                  transposonMatrix[transposonsToTranspose[i], 4],\n",
       "    86     20119      34068.0      1.7      0.9                  transposonMatrix[transposonsToTranspose[i], 5],\n",
       "    87                                                       ]\n",
       "    88                                           \n",
       "    89                                                       # transposonMatrix = np.vstack(\n",
       "    90                                                       #    [transposonMatrix, np.asarray(transposonToAdd, object),]\n",
       "    91                                                       # )\n",
       "    92     20119      23016.0      1.1      0.6              transposonMatrix = np.append(\n",
       "    93     20119    1769552.0     88.0     47.0                  transposonMatrix, np.array([transposonToAdd]), axis=0\n",
       "    94                                                       )\n",
       "    95                                                       # Code to track the genealogy of TE\n",
       "    96     40238      55266.0      1.4      1.5              for k in range(NumberOfTransposonInsertions):\n",
       "    97     20119      47570.0      2.4      1.3                  if transposonsToTranspose[i] in TEset[k + 1]:\n",
       "    98     20119      31959.0      1.6      0.8                      TEset[k + 1].add(len(transposonMatrix) - 1)\n",
       "    99     20119      18988.0      0.9      0.5                      pass\n",
       "   100                                           \n",
       "   101                                                       # Assign TE to the choosen allele\n",
       "   102     20119      22272.0      1.1      0.6              if progenyAllele[i] == \"v1\":\n",
       "   103                                                           # First check if the transposon is replacing another transposon on same allele\n",
       "   104                                                           # If yes, we need to remove the replaced transposon from the said allele\n",
       "   105     10168      11824.0      1.2      0.3                  if sites[i] in allele1Sites:\n",
       "   106         5         10.0      2.0      0.0                      vIndex = allele1Sites.index(sites[i])\n",
       "   107         5          8.0      1.6      0.0                      del allele1Index[vIndex]\n",
       "   108     10168      12723.0      1.3      0.3                  allele1Index.append(len(transposonMatrix) - 1)\n",
       "   109     20119      20266.0      1.0      0.5              if progenyAllele[i] == \"v2\":\n",
       "   110                                                           # Same as above\n",
       "   111      9951      11480.0      1.2      0.3                  if sites[i] in allele2Sites:\n",
       "   112         5         10.0      2.0      0.0                      vIndex = allele2Sites.index(sites[i])\n",
       "   113         5          7.0      1.4      0.0                      del allele2Index[vIndex]\n",
       "   114      9951      12670.0      1.3      0.3                  allele2Index.append(len(transposonMatrix) - 1)\n",
       "   115                                           \n",
       "   116      3644       4561.0      1.3      0.1      if allele1Index == []:\n",
       "   117       230        230.0      1.0      0.0          allele1Index = 0\n",
       "   118      3644       3610.0      1.0      0.1      if allele2Index == []:\n",
       "   119       256        268.0      1.0      0.0          allele2Index = 0\n",
       "   120                                           \n",
       "   121      3644       3455.0      0.9      0.1      return (allele1Index, allele2Index, transposonMatrix, TEset)"
      ]
     },
     "metadata": {},
     "output_type": "display_data"
    }
   ],
   "source": [
    "%lprun -f transposition runSim(gen,pop,tr,TEset,1,5,rates,piset)"
   ]
  },
  {
   "cell_type": "code",
   "execution_count": 7,
   "metadata": {},
   "outputs": [
    {
     "name": "stdout",
     "output_type": "stream",
     "text": [
      "0\n",
      "1\n",
      "2\n",
      "3\n",
      "4\n",
      "5\n",
      "6\n",
      "7\n",
      "8\n",
      "9\n"
     ]
    },
    {
     "data": {
      "text/plain": [
       "{'State': 'FLUX',\n",
       " 'Generatrion': 11,\n",
       " 'NTE': 101063.0,\n",
       " 'AvgCopyNum': [1.0,\n",
       "  1.899,\n",
       "  3.584,\n",
       "  6.821,\n",
       "  11.69,\n",
       "  19.418,\n",
       "  29.419,\n",
       "  40.94,\n",
       "  50.637,\n",
       "  59.982,\n",
       "  69.077],\n",
       " 'CopyNumVar': [0.984,\n",
       "  3.516799,\n",
       "  9.868943999999999,\n",
       "  26.568958999999996,\n",
       "  54.0879,\n",
       "  129.33727599999997,\n",
       "  287.92343900000003,\n",
       "  584.2304,\n",
       "  813.4132309999999,\n",
       "  1007.8736759999999,\n",
       "  1149.599071]}"
      ]
     },
     "execution_count": 7,
     "metadata": {},
     "output_type": "execute_result"
    }
   ],
   "source": [
    "runSim(gen,pop,tr,TEset,1,10,rates,piset)"
   ]
  },
  {
   "cell_type": "code",
   "execution_count": null,
   "metadata": {},
   "outputs": [],
   "source": [
    "%lprun -f recombination recombination(rates=rates, transposonMatrix=tr, v1=[52], v2=[65])"
   ]
  },
  {
   "cell_type": "code",
   "execution_count": null,
   "metadata": {},
   "outputs": [],
   "source": [
    "%lprun -f runBatch runBatch(numberOfSimulations=1,baseSelection=0,baseInsertionProb=1,numberOfInsertionSites=10000,numberOfChromosomes=6,baseRecombinationRate=0.01,baseTau=1,numberOfPiRNA=6,piPercentage=3,enablePiRecombination=False,NumberOfIndividual=1000,NumberOfTransposonTypes=1,NumberOfInsertionsPerType=[1],FrequencyOfInsertions=[1.0],ExcisionRates=[1.0],RepairRates=[1],InsertionRates=[1],HardyWeinberg=False,NumberOfGenerations=10,numberOfThreads=1,)"
   ]
  },
  {
   "cell_type": "code",
   "execution_count": null,
   "metadata": {},
   "outputs": [],
   "source": [
    "np.set_printoptions(suppress=True,)"
   ]
  },
  {
   "cell_type": "code",
   "execution_count": null,
   "metadata": {},
   "outputs": [],
   "source": [
    "%lprun -f transposition transposition(transposonMatrix=tr, genomeMatrix=gen, NumberOfTransposonInsertions=1, TEset=TEset, v1=[52,101,321,433,12,23,234,123,657,29], v2=[65,54,22,121,23])"
   ]
  },
  {
   "cell_type": "code",
   "execution_count": null,
   "metadata": {},
   "outputs": [],
   "source": [
    "piIndice[1]"
   ]
  },
  {
   "cell_type": "code",
   "execution_count": 5,
   "metadata": {},
   "outputs": [
    {
     "data": {
      "text/plain": [
       "{1: (372, 422),\n",
       " 2: (2144, 2194),\n",
       " 3: (3686, 3736),\n",
       " 4: (6212, 6262),\n",
       " 5: (8248, 8298),\n",
       " 6: (8704, 8754)}"
      ]
     },
     "execution_count": 5,
     "metadata": {},
     "output_type": "execute_result"
    }
   ],
   "source": [
    "piset"
   ]
  },
  {
   "cell_type": "code",
   "execution_count": 6,
   "metadata": {},
   "outputs": [
    {
     "data": {
      "text/plain": [
       "[1, 2, 3]"
      ]
     },
     "execution_count": 6,
     "metadata": {},
     "output_type": "execute_result"
    }
   ],
   "source": [
    "list(range(1,4))"
   ]
  },
  {
   "cell_type": "code",
   "execution_count": 16,
   "metadata": {},
   "outputs": [],
   "source": [
    "piCoord = []\n",
    "for i in piset.values():\n",
    "    piCoord = piCoord + (list(range(i[0],i[1])))"
   ]
  },
  {
   "cell_type": "code",
   "execution_count": 18,
   "metadata": {},
   "outputs": [
    {
     "data": {
      "text/plain": [
       "False"
      ]
     },
     "execution_count": 18,
     "metadata": {},
     "output_type": "execute_result"
    }
   ],
   "source": []
  },
  {
   "cell_type": "code",
   "execution_count": 30,
   "metadata": {},
   "outputs": [
    {
     "data": {
      "text/plain": [
       "[0.0, 0.0]"
      ]
     },
     "execution_count": 30,
     "metadata": {},
     "output_type": "execute_result"
    }
   ],
   "source": [
    "(tr[[2,3],3] * 0).tolist()"
   ]
  },
  {
   "cell_type": "code",
   "execution_count": 24,
   "metadata": {},
   "outputs": [
    {
     "data": {
      "text/plain": [
       "[1]"
      ]
     },
     "execution_count": 24,
     "metadata": {},
     "output_type": "execute_result"
    }
   ],
   "source": [
    "list(TEset.keys())"
   ]
  },
  {
   "cell_type": "code",
   "execution_count": 25,
   "metadata": {},
   "outputs": [
    {
     "name": "stdout",
     "output_type": "stream",
     "text": [
      "1\n"
     ]
    }
   ],
   "source": [
    "for i in TEset.keys():\n",
    "    print (i)"
   ]
  },
  {
   "cell_type": "code",
   "execution_count": 26,
   "metadata": {},
   "outputs": [
    {
     "data": {
      "text/plain": [
       "1"
      ]
     },
     "execution_count": 26,
     "metadata": {},
     "output_type": "execute_result"
    }
   ],
   "source": [
    "len(TEset.keys())"
   ]
  },
  {
   "cell_type": "code",
   "execution_count": 11,
   "metadata": {},
   "outputs": [
    {
     "data": {
      "text/plain": [
       "array([[   0.,    0.,    0.,    0.,    0.,    0.],\n",
       "       [   0., 1950.,    0.,    1.,    1.,    1.],\n",
       "       [   0., 4238.,    0.,    1.,    1.,    1.],\n",
       "       ...,\n",
       "       [   0., 7038.,    0.,    1.,    1.,    1.],\n",
       "       [   0., 8479.,    0.,    1.,    1.,    1.],\n",
       "       [   0., 7056.,    0.,    1.,    1.,    1.]])"
      ]
     },
     "execution_count": 11,
     "metadata": {},
     "output_type": "execute_result"
    }
   ],
   "source": [
    "tr"
   ]
  },
  {
   "cell_type": "code",
   "execution_count": 18,
   "metadata": {},
   "outputs": [],
   "source": [
    "k = [0.0,1.0,1.0,1.0,1.0,1.0]"
   ]
  },
  {
   "cell_type": "code",
   "execution_count": 21,
   "metadata": {},
   "outputs": [
    {
     "data": {
      "text/plain": [
       "array([[   0.,    0.,    0.,    0.,    0.,    0.],\n",
       "       [   0., 1950.,    0.,    1.,    1.,    1.],\n",
       "       [   0., 4238.,    0.,    1.,    1.,    1.],\n",
       "       ...,\n",
       "       [   0., 8479.,    0.,    1.,    1.,    1.],\n",
       "       [   0., 7056.,    0.,    1.,    1.,    1.],\n",
       "       [   0.,    1.,    1.,    1.,    1.,    1.]])"
      ]
     },
     "execution_count": 21,
     "metadata": {},
     "output_type": "execute_result"
    }
   ],
   "source": [
    "np.append(tr, np.array([k]), axis=0)"
   ]
  },
  {
   "cell_type": "code",
   "execution_count": 22,
   "metadata": {},
   "outputs": [
    {
     "data": {
      "text/plain": [
       "array([[   0.,    0.,    0.,    0.,    0.,    0.],\n",
       "       [   0., 1950.,    0.,    1.,    1.,    1.],\n",
       "       [   0., 4238.,    0.,    1.,    1.,    1.],\n",
       "       ...,\n",
       "       [   0., 7038.,    0.,    1.,    1.,    1.],\n",
       "       [   0., 8479.,    0.,    1.,    1.,    1.],\n",
       "       [   0., 7056.,    0.,    1.,    1.,    1.]])"
      ]
     },
     "execution_count": 22,
     "metadata": {},
     "output_type": "execute_result"
    }
   ],
   "source": [
    "tr"
   ]
  },
  {
   "cell_type": "code",
   "execution_count": null,
   "metadata": {},
   "outputs": [],
   "source": []
  }
 ],
 "metadata": {
  "kernelspec": {
   "display_name": "Python 3",
   "language": "python",
   "name": "python3"
  },
  "language_info": {
   "codemirror_mode": {
    "name": "ipython",
    "version": 3
   },
   "file_extension": ".py",
   "mimetype": "text/x-python",
   "name": "python",
   "nbconvert_exporter": "python",
   "pygments_lexer": "ipython3",
   "version": "3.7.6"
  }
 },
 "nbformat": 4,
 "nbformat_minor": 4
}
