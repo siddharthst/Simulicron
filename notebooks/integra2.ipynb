{
 "cells": [
  {
   "cell_type": "code",
   "execution_count": 1,
   "metadata": {},
   "outputs": [],
   "source": [
    "# Init\n",
    "import os\n",
    "import sys\n",
    "\n",
    "module_path = os.path.abspath(os.path.join(\"../src/simulicronalpha/\"))\n",
    "if module_path not in sys.path:\n",
    "    sys.path.append(module_path)\n",
    "\n",
    "# Imports\n",
    "import random\n",
    "import numpy as np\n",
    "import pandas as pd\n",
    "import warnings\n",
    "import multiprocessing\n",
    "np.set_printoptions(suppress=True)\n",
    "from numpy import concatenate as c"
   ]
  },
  {
   "cell_type": "code",
   "execution_count": 2,
   "metadata": {},
   "outputs": [],
   "source": [
    "from generateSim import (generatePopulation, generateGenome)\n",
    "from stats import stats\n",
    "from regulation import regulation\n",
    "from checkCopyNumber import checkCopyNumber\n",
    "from recombination import recombination"
   ]
  },
  {
   "cell_type": "code",
   "execution_count": null,
   "metadata": {},
   "outputs": [],
   "source": [
    "from popSim import runBatch"
   ]
  },
  {
   "cell_type": "code",
   "execution_count": null,
   "metadata": {
    "jupyter": {
     "source_hidden": true
    }
   },
   "outputs": [],
   "source": [
    "runBatch(    \n",
    "    numberOfSimulations=1,\n",
    "    baseSelection=0,\n",
    "    baseInsertionProb=1,\n",
    "    numberOfInsertionSites=10000,\n",
    "    numberOfChromosomes=6,\n",
    "    baseRecombinationRate=0.01,\n",
    "    baseTau=1,\n",
    "    numberOfPiRNA=6,\n",
    "    piPercentage=3,\n",
    "    enablePiRecombination=False,\n",
    "    NumberOfIndividual=10,\n",
    "    NumberOfTransposonTypes=1,\n",
    "    NumberOfInsertionsPerType=[1],\n",
    "    FrequencyOfInsertions=[1.0],\n",
    "    ExcisionRates=[1.0],\n",
    "    RepairRates=[1],\n",
    "    InsertionRates=[1],\n",
    "    HardyWeinberg=False,\n",
    "    NumberOfGenerations=10000,\n",
    "    numberOfThreads=1,\n",
    ")"
   ]
  },
  {
   "cell_type": "code",
   "execution_count": 3,
   "metadata": {},
   "outputs": [],
   "source": [
    "gen,piset,piIndice, rates = generateGenome(\n",
    "    numberOfInsertionSites=1000,\n",
    "    numberOfChromosomes=1,\n",
    "    baseRecombinationRate=0.1,\n",
    "    baseSelection=0,\n",
    ")\n",
    "pop, tr , TEset= generatePopulation(\n",
    "    gen,\n",
    "    piIndice,\n",
    "    NumberOfIndividual=100,\n",
    "    NumberOfTransposonTypes=2,\n",
    "    NumberOfInsertionsPerType=[2,2],\n",
    "    FrequencyOfInsertions=[1,1],\n",
    "    ExcisionRates = [0.1,0.5]\n",
    ")"
   ]
  },
  {
   "cell_type": "code",
   "execution_count": 7,
   "metadata": {},
   "outputs": [
    {
     "name": "stdout",
     "output_type": "stream",
     "text": [
      "[0.5        0.49999904 0.5       ]\n",
      "[1 2 2]\n",
      "[ True False]\n"
     ]
    }
   ],
   "source": [
    "recombination(rates=rates, transposonMatrix=tr, v1=[52,5], v2=[65])"
   ]
  },
  {
   "cell_type": "code",
   "execution_count": 12,
   "metadata": {},
   "outputs": [],
   "source": [
    "np.set_printoptions(suppress=True,)"
   ]
  },
  {
   "cell_type": "code",
   "execution_count": null,
   "metadata": {},
   "outputs": [],
   "source": []
  }
 ],
 "metadata": {
  "kernelspec": {
   "display_name": "Python 3",
   "language": "python",
   "name": "python3"
  },
  "language_info": {
   "codemirror_mode": {
    "name": "ipython",
    "version": 3
   },
   "file_extension": ".py",
   "mimetype": "text/x-python",
   "name": "python",
   "nbconvert_exporter": "python",
   "pygments_lexer": "ipython3",
   "version": "3.8.1"
  }
 },
 "nbformat": 4,
 "nbformat_minor": 4
}
