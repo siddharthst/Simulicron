{
 "cells": [
  {
   "cell_type": "code",
   "execution_count": 1,
   "metadata": {},
   "outputs": [],
   "source": [
    "# Init\n",
    "import os\n",
    "import sys\n",
    "\n",
    "module_path = os.path.abspath(os.path.join(\"../src/simulicronalpha/\"))\n",
    "if module_path not in sys.path:\n",
    "    sys.path.append(module_path)\n",
    "\n",
    "# Imports\n",
    "import random\n",
    "import numpy as np\n",
    "import pandas as pd\n",
    "import warnings\n",
    "import multiprocessing\n",
    "\n",
    "from numpy import concatenate as c"
   ]
  },
  {
   "cell_type": "code",
   "execution_count": 2,
   "metadata": {},
   "outputs": [],
   "source": [
    "from popSim import (\n",
    "    generateTransposon,\n",
    "    generatePopulation,\n",
    "    calculateFitness,\n",
    "    generateGenome,\n",
    "    transposition,\n",
    "    runSim,\n",
    "    runBatch,\n",
    "    recombination,\n",
    ")"
   ]
  },
  {
   "cell_type": "code",
   "execution_count": 3,
   "metadata": {},
   "outputs": [],
   "source": [
    "gen = generateGenome(\n",
    "    numberOfInsertionSites=1000,\n",
    "    numberOfChromosomes=1,\n",
    "    baseRecombinationRate=0.0,\n",
    "    baseSelection=1,\n",
    ")\n",
    "tr, gen, TEset = generateTransposon(\n",
    "    genomeArray=gen,\n",
    "    NumberOfTransposonInsertions=1,\n",
    "    baseExcision=1.0,\n",
    ")\n",
    "pop = generatePopulation(\n",
    "    tr,\n",
    "    InsertIntoAll=True,\n",
    "    NumberOfIndividual=10,\n",
    "    NumberOfTransposonInsertions=1,\n",
    ")"
   ]
  },
  {
   "cell_type": "code",
   "execution_count": 4,
   "metadata": {},
   "outputs": [
    {
     "data": {
      "text/plain": [
       "([2],\n",
       " [1],\n",
       " array([[0, 0, 0, 0, 0, 0],\n",
       "        ['1596646b7a5829336a01ea2eae0283', 430, 1.0, 1.0, 1, 1],\n",
       "        ['8e1eff844bd431951b0b59cd2d888c', 912, 1.0, 1.0, 1, 1]],\n",
       "       dtype=object),\n",
       " {1: {1, 2}})"
      ]
     },
     "execution_count": 4,
     "metadata": {},
     "output_type": "execute_result"
    }
   ],
   "source": [
    "transposition(transposonMatrix=tr, genomeMatrix=gen, NumberOfTransposonInsertions=1, TEset=TEset, v1=pop[1][0], v2=pop[1][1])"
   ]
  },
  {
   "cell_type": "code",
   "execution_count": 6,
   "metadata": {},
   "outputs": [],
   "source": [
    "v1=pop[:,0]"
   ]
  },
  {
   "cell_type": "code",
   "execution_count": 5,
   "metadata": {},
   "outputs": [
    {
     "data": {
      "text/plain": [
       "array([[0, 0, 0, 0, 0, 0],\n",
       "       ['3e8b6b15a9703e0fc091f055356079', 880, 1.0, 1.0, 1, 1],\n",
       "       ['42b3864d26259a7f655b100535f46e', 570, 1.0, 1.0, 1, 1]],\n",
       "      dtype=object)"
      ]
     },
     "execution_count": 5,
     "metadata": {},
     "output_type": "execute_result"
    }
   ],
   "source": [
    "tr"
   ]
  },
  {
   "cell_type": "code",
   "execution_count": 5,
   "metadata": {},
   "outputs": [
    {
     "data": {
      "text/plain": [
       "array([[0, list([1]), 2.718281828459045],\n",
       "       [0, list([1]), 2.718281828459045],\n",
       "       [0, list([1]), 2.718281828459045],\n",
       "       [list([1]), 0, 2.718281828459045],\n",
       "       [list([1]), 0, 2.718281828459045],\n",
       "       [list([1]), 0, 2.718281828459045],\n",
       "       [list([2]), 0, 2.718281828459045],\n",
       "       [list([2]), 0, 2.718281828459045],\n",
       "       [list([1]), 0, 2.718281828459045],\n",
       "       [list([2]), 0, 2.718281828459045]], dtype=object)"
      ]
     },
     "execution_count": 5,
     "metadata": {},
     "output_type": "execute_result"
    }
   ],
   "source": [
    "pop"
   ]
  },
  {
   "cell_type": "code",
   "execution_count": 6,
   "metadata": {},
   "outputs": [
    {
     "data": {
      "text/plain": [
       "array([[0, 0, 0, 0, 0, 0],\n",
       "       ['307ec65e58e9b57d01e4e26e6e3e35', 80, 1.0, 1.0, 1, 1],\n",
       "       ['0d5e9ccc45470b382ffe682228b209', 368, 1.0, 1.0, 1, 1]],\n",
       "      dtype=object)"
      ]
     },
     "execution_count": 6,
     "metadata": {},
     "output_type": "execute_result"
    }
   ],
   "source": [
    "tr"
   ]
  },
  {
   "cell_type": "code",
   "execution_count": 7,
   "metadata": {},
   "outputs": [
    {
     "data": {
      "text/plain": [
       "{1: {1, 3}, 2: {2}}"
      ]
     },
     "execution_count": 7,
     "metadata": {},
     "output_type": "execute_result"
    }
   ],
   "source": [
    "TEset"
   ]
  },
  {
   "cell_type": "code",
   "execution_count": 5,
   "metadata": {},
   "outputs": [],
   "source": [
    "v1 = np.asarray([True, True, False])\n",
    "v2 = np.asarray([False, True, True])\n",
    "v3 = np.asarray([False, True, False])"
   ]
  },
  {
   "cell_type": "code",
   "execution_count": 6,
   "metadata": {},
   "outputs": [
    {
     "data": {
      "text/plain": [
       "array([False,  True, False])"
      ]
     },
     "execution_count": 6,
     "metadata": {},
     "output_type": "execute_result"
    }
   ],
   "source": [
    "v1 & v2 & v3"
   ]
  },
  {
   "cell_type": "code",
   "execution_count": null,
   "metadata": {},
   "outputs": [],
   "source": [
    "|"
   ]
  }
 ],
 "metadata": {
  "kernelspec": {
   "display_name": "Python 3",
   "language": "python",
   "name": "python3"
  },
  "language_info": {
   "codemirror_mode": {
    "name": "ipython",
    "version": 3
   },
   "file_extension": ".py",
   "mimetype": "text/x-python",
   "name": "python",
   "nbconvert_exporter": "python",
   "pygments_lexer": "ipython3",
   "version": "3.6.10"
  }
 },
 "nbformat": 4,
 "nbformat_minor": 4
}
