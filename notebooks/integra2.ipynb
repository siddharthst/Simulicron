{
 "cells": [
  {
   "cell_type": "code",
   "execution_count": 1,
   "metadata": {},
   "outputs": [],
   "source": [
    "# Init\n",
    "import os\n",
    "import sys\n",
    "\n",
    "module_path = os.path.abspath(os.path.join(\"../src/simulicronalpha/\"))\n",
    "if module_path not in sys.path:\n",
    "    sys.path.append(module_path)\n",
    "\n",
    "# Imports\n",
    "import random\n",
    "import numpy as np\n",
    "import pandas as pd\n",
    "import warnings\n",
    "import multiprocessing\n",
    "\n",
    "from numpy import concatenate as c"
   ]
  },
  {
   "cell_type": "code",
   "execution_count": 2,
   "metadata": {},
   "outputs": [],
   "source": [
    "from popSim import (\n",
    "    generateTransposon,\n",
    "    generatePopulation,\n",
    "    calculateFitness,\n",
    "    generateGenome,\n",
    "    transposition,\n",
    "    runSim,\n",
    "    runBatch,\n",
    "    recombination,\n",
    ")"
   ]
  },
  {
   "cell_type": "code",
   "execution_count": 8,
   "metadata": {},
   "outputs": [],
   "source": [
    "gen = generateGenome(\n",
    "    numberOfInsertionSites=1000,\n",
    "    numberOfChromosomes=1,\n",
    "    baseRecombinationRate=0.0,\n",
    "    baseSelection=1,\n",
    ")\n",
    "(tr, gen, TEset) = generateTransposon(\n",
    "    genomeArray=gen,\n",
    "    NumberOfTransposonInsertions=2,\n",
    "    baseExcision=1.0,\n",
    ")\n",
    "pop = generatePopulation(\n",
    "    tr,\n",
    "    InsertIntoAll=True,\n",
    "    NumberOfIndividual=10,\n",
    "    NumberOfTransposonInsertions=2,\n",
    ")"
   ]
  },
  {
   "cell_type": "code",
   "execution_count": 3,
   "metadata": {},
   "outputs": [],
   "source": [
    "gen = generateGenome(\n",
    "    numberOfInsertionSites=1000,\n",
    "    numberOfChromosomes=1,\n",
    "    baseRecombinationRate=0.0,\n",
    "    baseSelection=1,\n",
    ")"
   ]
  },
  {
   "cell_type": "code",
   "execution_count": 9,
   "metadata": {},
   "outputs": [
    {
     "data": {
      "text/plain": [
       "dict"
      ]
     },
     "execution_count": 9,
     "metadata": {},
     "output_type": "execute_result"
    }
   ],
   "source": [
    "type(TEset)"
   ]
  },
  {
   "cell_type": "code",
   "execution_count": null,
   "metadata": {},
   "outputs": [],
   "source": []
  }
 ],
 "metadata": {
  "kernelspec": {
   "display_name": "Python 3",
   "language": "python",
   "name": "python3"
  },
  "language_info": {
   "codemirror_mode": {
    "name": "ipython",
    "version": 3
   },
   "file_extension": ".py",
   "mimetype": "text/x-python",
   "name": "python",
   "nbconvert_exporter": "python",
   "pygments_lexer": "ipython3",
   "version": "3.8.1"
  }
 },
 "nbformat": 4,
 "nbformat_minor": 4
}
