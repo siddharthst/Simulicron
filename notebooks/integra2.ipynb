{
 "cells": [
  {
   "cell_type": "code",
   "execution_count": 1,
   "metadata": {},
   "outputs": [],
   "source": [
    "# Init\n",
    "import os\n",
    "import sys\n",
    "\n",
    "module_path = os.path.abspath(os.path.join(\"../src/simulicronalpha/\"))\n",
    "if module_path not in sys.path:\n",
    "    sys.path.append(module_path)\n",
    "\n",
    "# Imports\n",
    "import numpy as np\n",
    "import pandas as pd\n",
    "import warnings\n",
    "import multiprocessing\n",
    "np.set_printoptions(suppress=True)\n",
    "from numpy import concatenate as c\n",
    "from numpy import cumsum\n",
    "import random\n",
    "%load_ext line_profiler"
   ]
  },
  {
   "cell_type": "code",
   "execution_count": 2,
   "metadata": {},
   "outputs": [],
   "source": [
    "from generateSim import (generatePopulation, generateGenome)\n",
    "from stats import stats\n",
    "from regulation import regulation\n",
    "from checkCopyNumber import checkCopyNumber\n",
    "from transposition import transposition\n",
    "#from recombination import recombination"
   ]
  },
  {
   "cell_type": "code",
   "execution_count": 3,
   "metadata": {},
   "outputs": [],
   "source": [
    "from popSim import runBatch, runSim"
   ]
  },
  {
   "cell_type": "code",
   "execution_count": 6,
   "metadata": {},
   "outputs": [],
   "source": [
    "gen,piset,piIndice, rates = generateGenome(\n",
    "    numberOfInsertionSites=1000,\n",
    "    numberOfChromosomes=6,\n",
    "    baseRecombinationRate=0.1,\n",
    "    baseSelection=0,\n",
    "    baseTau=1,\n",
    ")\n",
    "pop, tr , TEset= generatePopulation(\n",
    "    gen,\n",
    "    piIndice,\n",
    "    NumberOfIndividual=100,\n",
    "    NumberOfTransposonTypes=1,\n",
    "    NumberOfInsertionsPerType=[1],\n",
    "    FrequencyOfInsertions=[1.0],\n",
    "    ExcisionRates = [1.0]\n",
    ")"
   ]
  },
  {
   "cell_type": "code",
   "execution_count": 7,
   "metadata": {},
   "outputs": [
    {
     "data": {
      "text/plain": [
       "Timer unit: 1e-06 s\n",
       "\n",
       "Total time: 40.477 s\n",
       "File: /home/siddharth/Documents/Projects/Simulicron/src/simulicronalpha/popSim.py\n",
       "Function: runSim at line 25\n",
       "\n",
       "Line #      Hits         Time  Per Hit   % Time  Line Contents\n",
       "==============================================================\n",
       "    25                                           def runSim(\n",
       "    26                                               genomeMatrix,\n",
       "    27                                               populationMatrix,\n",
       "    28                                               transposonMatrix,\n",
       "    29                                               TEset,\n",
       "    30                                               NumberOfTransposonInsertions,\n",
       "    31                                               generations,\n",
       "    32                                               genMap,\n",
       "    33                                               piSet,\n",
       "    34                                           ):\n",
       "    35                                               # ------------------#\n",
       "    36                                               # lambda/macros\n",
       "    37         1          2.0      2.0      0.0      flatten = lambda *n: (\n",
       "    38                                                   e\n",
       "    39                                                   for a in n\n",
       "    40                                                   for e in (\n",
       "    41                                                       flatten(*a) if isinstance(a, (tuple, list)) else (a,)\n",
       "    42                                                   )\n",
       "    43                                               )\n",
       "    44                                               # ------------------#\n",
       "    45                                               # ------------------#\n",
       "    46                                               # for storing transposons which are fixed\n",
       "    47         1          1.0      1.0      0.0      fixedTE = []\n",
       "    48                                               # for storing transposons which are not fixed\n",
       "    49         1          1.0      1.0      0.0      unfixedTE = []\n",
       "    50                                               # for storing transposons which are lost\n",
       "    51         1          1.0      1.0      0.0      lostTE = []\n",
       "    52                                               # For storing the average copy number per generation\n",
       "    53         1          1.0      1.0      0.0      averageCopyNumber = []\n",
       "    54                                               # For storing the copy number variance per generation\n",
       "    55         1          1.0      1.0      0.0      varianceCopyNumber = []\n",
       "    56                                               # Create a insertionSiteSepecific array\n",
       "    57         2          9.0      4.5      0.0      insertionSiteFrequencyArray = np.zeros(\n",
       "    58         1          1.0      1.0      0.0          (len(genomeMatrix), NumberOfTransposonInsertions,)\n",
       "    59                                               )\n",
       "    60         1          0.0      0.0      0.0      transposonMatrixCopy = transposonMatrix\n",
       "    61         1          0.0      0.0      0.0      populationMatrixCopy = populationMatrix\n",
       "    62                                           \n",
       "    63                                               # Create a fixed size array for storing transposon information\n",
       "    64                                               # Also add a \"counter\" - with a large fixed array, it is not\n",
       "    65                                               # possible to use len(transposons) to find the last filled index\n",
       "    66         2     299062.0 149531.0      0.7      transposonMatrixCopy = np.append(\n",
       "    67         1         16.0     16.0      0.0          transposonMatrix,\n",
       "    68         1     101878.0 101878.0      0.3          np.zeros((10000000, 6), dtype=object),\n",
       "    69         1          1.0      1.0      0.0          axis=0,\n",
       "    70                                               )\n",
       "    71         1          4.0      4.0      0.0      numberOfTranspositionEvents = len(transposonMatrix)\n",
       "    72                                           \n",
       "    73                                               # Calculate piRNA coordinates\n",
       "    74         1          2.0      2.0      0.0      piCoord = []\n",
       "    75         7          9.0      1.3      0.0      for i in piSet.values():\n",
       "    76         6         15.0      2.5      0.0          piCoord = piCoord + (list(range(i[0], i[1])))\n",
       "    77                                           \n",
       "    78                                               # Calculate the CN and CNV for generation 0\n",
       "    79         1       1286.0   1286.0      0.0      copyNumber, varianceNumber = checkCopyNumber(populationMatrixCopy)\n",
       "    80         1          2.0      2.0      0.0      averageCopyNumber.append(copyNumber)\n",
       "    81         1          1.0      1.0      0.0      varianceCopyNumber.append(varianceNumber)\n",
       "    82                                           \n",
       "    83                                               # Driver loop\n",
       "    84       201        193.0      1.0      0.0      for i in range(generations):\n",
       "    85                                                   # print(i)\n",
       "    86       200        260.0      1.3      0.0          populationV1 = []\n",
       "    87       200        217.0      1.1      0.0          populationV2 = []\n",
       "    88       200        219.0      1.1      0.0          populationFit = []\n",
       "    89     20200      18843.0      0.9      0.0          for k in list(range(populationMatrixCopy.shape[0])):\n",
       "    90     20000      95134.0      4.8      0.2              fitness = list(populationMatrixCopy[0:, 2])\n",
       "    91                                           \n",
       "    92     40000     420972.0     10.5      1.0              p1, p2 = random.choices(\n",
       "    93     20000      44518.0      2.2      0.1                  list(range(populationMatrixCopy.shape[0])),\n",
       "    94     20000      16797.0      0.8      0.0                  weights=fitness,\n",
       "    95     20000      16622.0      0.8      0.0                  k=2,\n",
       "    96                                                       )\n",
       "    97                                           \n",
       "    98                                                       # Since recombination function only accepts arrays,\n",
       "    99                                                       # checking and forcing type conversion as needed\n",
       "   100                                                       # for the respective alleles\n",
       "   101     20147      17603.0      0.9      0.0              if (\n",
       "   102     20000      25621.0      1.3      0.1                  populationMatrixCopy[p1, 0] == 0\n",
       "   103       147        143.0      1.0      0.0                  and populationMatrixCopy[p1, 1] == 0\n",
       "   104                                                       ):\n",
       "   105        79         69.0      0.9      0.0                  v1 = 0\n",
       "   106                                                       else:\n",
       "   107     19921      23330.0      1.2      0.1                  cP1V1 = populationMatrixCopy[p1, 0]\n",
       "   108     19921      21295.0      1.1      0.1                  cP1V2 = populationMatrixCopy[p1, 1]\n",
       "   109     19921      22905.0      1.1      0.1                  if isinstance(cP1V1, list):\n",
       "   110     19853     154338.0      7.8      0.4                      cP1V1 = np.asarray(cP1V1)\n",
       "   111                                                           else:\n",
       "   112        68        257.0      3.8      0.0                      cP1V1 = np.asarray([cP1V1])\n",
       "   113     19921      20138.0      1.0      0.0                  if isinstance(cP1V2, list):\n",
       "   114     19873     121415.0      6.1      0.3                      cP1V2 = np.asarray(cP1V2)\n",
       "   115                                                           else:\n",
       "   116        48        129.0      2.7      0.0                      cP1V2 = np.asarray([cP1V2])\n",
       "   117                                           \n",
       "   118     39842   12520255.0    314.2     30.9                  v1 = recombination(\n",
       "   119     19921      17650.0      0.9      0.0                      genMap, transposonMatrixCopy, v1=cP1V1, v2=cP1V2,\n",
       "   120                                                           )\n",
       "   121                                           \n",
       "   122     20133      19060.0      0.9      0.0              if (\n",
       "   123     20000      33382.0      1.7      0.1                  populationMatrixCopy[p2, 0] == 0\n",
       "   124       133        132.0      1.0      0.0                  and populationMatrixCopy[p2, 1] == 0\n",
       "   125                                                       ):\n",
       "   126        86         78.0      0.9      0.0                  v2 = 0\n",
       "   127                                                       else:\n",
       "   128     19914      23933.0      1.2      0.1                  cP2V1 = populationMatrixCopy[p2, 0]\n",
       "   129     19914      21895.0      1.1      0.1                  cP2V2 = populationMatrixCopy[p2, 1]\n",
       "   130     19914      25059.0      1.3      0.1                  if isinstance(cP2V1, list):\n",
       "   131     19867     155685.0      7.8      0.4                      cP2V1 = np.asarray(cP2V1)\n",
       "   132                                                           else:\n",
       "   133        47        152.0      3.2      0.0                      cP2V1 = np.asarray([cP2V1])\n",
       "   134     19914      20734.0      1.0      0.1                  if isinstance(cP2V2, list):\n",
       "   135     19864     122002.0      6.1      0.3                      cP2V2 = np.asarray(cP2V2)\n",
       "   136                                                           else:\n",
       "   137        50        119.0      2.4      0.0                      cP2V2 = np.asarray([cP2V2])\n",
       "   138                                           \n",
       "   139     39828   12470246.0    313.1     30.8                  v2 = recombination(\n",
       "   140     19914      18377.0      0.9      0.0                      genMap, transposonMatrixCopy, v1=cP2V1, v2=cP2V2,\n",
       "   141                                                           )\n",
       "   142                                           \n",
       "   143     20000      30172.0      1.5      0.1              if v1 == 0 and v2 == 0:\n",
       "   144        52         48.0      0.9      0.0                  indFitness = 1\n",
       "   145                                           \n",
       "   146                                                       else:\n",
       "   147     19948      27418.0      1.4      0.1                  (\n",
       "   148     19948      18942.0      0.9      0.0                      v1,\n",
       "   149     19948      17611.0      0.9      0.0                      v2,\n",
       "   150     19948      17144.0      0.9      0.0                      transposonMatrixCopy,\n",
       "   151     19948      17103.0      0.9      0.0                      TEset,\n",
       "   152     19948      16983.0      0.9      0.0                      numberOfTranspositionEvents,\n",
       "   153     39896    4428056.0    111.0     10.9                  ) = transposition(\n",
       "   154     19948      17980.0      0.9      0.0                      transposonMatrix=transposonMatrixCopy,\n",
       "   155     19948      17442.0      0.9      0.0                      genomeMatrix=genomeMatrix,\n",
       "   156     19948      17239.0      0.9      0.0                      NumberOfTransposonInsertions=NumberOfTransposonInsertions,\n",
       "   157     19948      17056.0      0.9      0.0                      TEset=TEset,\n",
       "   158     19948      16953.0      0.8      0.0                      piCoord=piCoord,\n",
       "   159     19948      16906.0      0.8      0.0                      numberOfTranspositionEvents=numberOfTranspositionEvents,\n",
       "   160     19948      16997.0      0.9      0.0                      v1=v1,\n",
       "   161     19948      16760.0      0.8      0.0                      v2=v2,\n",
       "   162                                                           )\n",
       "   163     39896     864229.0     21.7      2.1                  indFitness = calculateFitness(\n",
       "   164     19948      18340.0      0.9      0.0                      transposonMatrixCopy, v1, v2\n",
       "   165                                                           )\n",
       "   166                                           \n",
       "   167     20000      27761.0      1.4      0.1              populationV1.append(v1)\n",
       "   168     20000      19523.0      1.0      0.0              populationV2.append(v2)\n",
       "   169     20000      19150.0      1.0      0.0              populationFit.append(indFitness)\n",
       "   170                                                   # Return i+2 since i start at 0 = generation 1\n",
       "   171                                                   # and the condition check happens at generation\n",
       "   172                                                   # n-1, hence i + 1 + 1\n",
       "   173                                           \n",
       "   174                                                   # Check if there are no transposons left\n",
       "   175       400       4346.0     10.9      0.0          if all(\n",
       "   176                                                       np.array_equal(v, [0, 0])\n",
       "   177       200     303261.0   1516.3      0.7              for v in np.c_[populationV1, populationV2]\n",
       "   178                                                   ):\n",
       "   179                                                       return {\n",
       "   180                                                           \"State\": \"LOSS\",\n",
       "   181                                                           \"Generatrion\": i + 2,\n",
       "   182                                                           \"NTE\": numberOfTranspositionEvents,\n",
       "   183                                                           \"AvgCopyNum\": averageCopyNumber,\n",
       "   184                                                           \"CopyNumVar\": varianceCopyNumber,\n",
       "   185                                                       }\n",
       "   186                                                   else:\n",
       "   187                                                       pass\n",
       "   188                                                   # Major bug in numpy - forced to use pandas\n",
       "   189                                                   # Refer to the question\n",
       "   190                                                   # https://stackoverflow.com/questions/60210897\n",
       "   191       400    2640169.0   6600.4      6.5          populationMatrixCopy = pd.DataFrame(\n",
       "   192       200        210.0      1.1      0.0              [populationV1, populationV2, populationFit]\n",
       "   193                                                   ).T.to_numpy()\n",
       "   194                                                   # (\n",
       "   195                                                   #     compyNumber,\n",
       "   196                                                   #     varianceNumber,\n",
       "   197                                                   #     insertionSiteFrequencyArray,\n",
       "   198                                                   # ) = statistics(\n",
       "   199                                                   #     populationMatrixCopy,\n",
       "   200                                                   #     transposonMatrixCopy,\n",
       "   201                                                   #     TEset,\n",
       "   202                                                   #     insertionSiteFrequencyArray,\n",
       "   203                                                   # )\n",
       "   204       400    4996411.0  12491.0     12.3          copyNumber, varianceNumber = checkCopyNumber(\n",
       "   205       200        192.0      1.0      0.0              populationMatrixCopy\n",
       "   206                                                   )\n",
       "   207       200        366.0      1.8      0.0          averageCopyNumber.append(copyNumber)\n",
       "   208       200        202.0      1.0      0.0          varianceCopyNumber.append(varianceNumber)\n",
       "   209                                               # Quit simulation if there in a transient state\n",
       "   210                                               # i.e. no loss\n",
       "   211         1          1.0      1.0      0.0      return {\n",
       "   212         1          1.0      1.0      0.0          \"State\": \"FLUX\",\n",
       "   213         1          1.0      1.0      0.0          \"Generatrion\": i + 2,\n",
       "   214         1          1.0      1.0      0.0          \"NTE\": numberOfTranspositionEvents,\n",
       "   215         1          1.0      1.0      0.0          \"AvgCopyNum\": averageCopyNumber,\n",
       "   216         1          1.0      1.0      0.0          \"CopyNumVar\": varianceCopyNumber,\n",
       "   217                                               }"
      ]
     },
     "metadata": {},
     "output_type": "display_data"
    }
   ],
   "source": [
    "%lprun -f runSim runSim(gen,pop,tr,TEset,1,200,rates,piset)"
   ]
  },
  {
   "cell_type": "code",
   "execution_count": null,
   "metadata": {},
   "outputs": [],
   "source": [
    "runSim(gen,pop,tr,TEset,1,100,rates,piset)"
   ]
  },
  {
   "cell_type": "code",
   "execution_count": null,
   "metadata": {},
   "outputs": [],
   "source": [
    "%lprun -f recombination recombination(rates=rates, transposonMatrix=tr, v1=[52], v2=[65])"
   ]
  },
  {
   "cell_type": "code",
   "execution_count": null,
   "metadata": {},
   "outputs": [],
   "source": [
    "%lprun -f runBatch runBatch(numberOfSimulations=1,baseSelection=0,baseInsertionProb=1,numberOfInsertionSites=10000,numberOfChromosomes=6,baseRecombinationRate=0.01,baseTau=1,numberOfPiRNA=6,piPercentage=3,enablePiRecombination=False,NumberOfIndividual=1000,NumberOfTransposonTypes=1,NumberOfInsertionsPerType=[1],FrequencyOfInsertions=[1.0],ExcisionRates=[1.0],RepairRates=[1],InsertionRates=[1],HardyWeinberg=False,NumberOfGenerations=10,numberOfThreads=1,)"
   ]
  },
  {
   "cell_type": "code",
   "execution_count": null,
   "metadata": {},
   "outputs": [],
   "source": [
    "np.set_printoptions(suppress=True,)"
   ]
  },
  {
   "cell_type": "code",
   "execution_count": null,
   "metadata": {},
   "outputs": [],
   "source": [
    "%lprun -f transposition transposition(transposonMatrix=tr, genomeMatrix=gen, NumberOfTransposonInsertions=1, TEset=TEset, v1=[52,101,321,433,12,23,234,123,657,29], v2=[65,54,22,121,23])"
   ]
  },
  {
   "cell_type": "code",
   "execution_count": null,
   "metadata": {},
   "outputs": [],
   "source": [
    "piIndice[1]"
   ]
  },
  {
   "cell_type": "code",
   "execution_count": null,
   "metadata": {},
   "outputs": [],
   "source": [
    "piset"
   ]
  },
  {
   "cell_type": "code",
   "execution_count": null,
   "metadata": {},
   "outputs": [],
   "source": [
    "list(range(1,4))"
   ]
  },
  {
   "cell_type": "code",
   "execution_count": null,
   "metadata": {},
   "outputs": [],
   "source": [
    "piCoord = []\n",
    "for i in piset.values():\n",
    "    piCoord = piCoord + (list(range(i[0],i[1])))"
   ]
  },
  {
   "cell_type": "code",
   "execution_count": null,
   "metadata": {},
   "outputs": [],
   "source": []
  },
  {
   "cell_type": "code",
   "execution_count": null,
   "metadata": {},
   "outputs": [],
   "source": [
    "(tr[[2,3],3] * 0).tolist()"
   ]
  },
  {
   "cell_type": "code",
   "execution_count": null,
   "metadata": {},
   "outputs": [],
   "source": [
    "list(TEset.keys())"
   ]
  },
  {
   "cell_type": "code",
   "execution_count": null,
   "metadata": {},
   "outputs": [],
   "source": [
    "for i in TEset.keys():\n",
    "    print (i)"
   ]
  },
  {
   "cell_type": "code",
   "execution_count": null,
   "metadata": {},
   "outputs": [],
   "source": [
    "len(TEset.keys())"
   ]
  },
  {
   "cell_type": "code",
   "execution_count": null,
   "metadata": {},
   "outputs": [],
   "source": [
    "tr"
   ]
  },
  {
   "cell_type": "code",
   "execution_count": null,
   "metadata": {},
   "outputs": [],
   "source": [
    "k = [0.0,1.0,1.0,1.0,1.0,1.0]"
   ]
  },
  {
   "cell_type": "code",
   "execution_count": null,
   "metadata": {},
   "outputs": [],
   "source": [
    "np.append(tr, np.array([k]), axis=0)"
   ]
  },
  {
   "cell_type": "code",
   "execution_count": null,
   "metadata": {},
   "outputs": [],
   "source": [
    "tr[:,3]"
   ]
  },
  {
   "cell_type": "code",
   "execution_count": null,
   "metadata": {},
   "outputs": [],
   "source": [
    "x = tr"
   ]
  },
  {
   "cell_type": "code",
   "execution_count": null,
   "metadata": {},
   "outputs": [],
   "source": [
    "tID = [int(i) for i in x[:,0].tolist()]\n",
    "tpos = [int(i) for i in x[:,1].tolist()]\n",
    "tval = [float(i) for i in x[:,3].tolist()]"
   ]
  },
  {
   "cell_type": "code",
   "execution_count": null,
   "metadata": {},
   "outputs": [],
   "source": [
    "k = np.array([tID,tpos,tval], dtype=\"object\").T\n",
    "z = [1, 5451, 1.0]\n",
    "l = k"
   ]
  },
  {
   "cell_type": "code",
   "execution_count": null,
   "metadata": {},
   "outputs": [],
   "source": [
    "np.vstack((tID, tpos, tval), dtype=\"object\").T"
   ]
  },
  {
   "cell_type": "code",
   "execution_count": null,
   "metadata": {},
   "outputs": [],
   "source": [
    "%%timeit\n",
    "l=k\n",
    "for i in range(1000):\n",
    "    l = np.append(k, l, axis=0)"
   ]
  },
  {
   "cell_type": "code",
   "execution_count": null,
   "metadata": {},
   "outputs": [],
   "source": [
    "l = np.zeros((10000000,6), dtype=object)"
   ]
  },
  {
   "cell_type": "code",
   "execution_count": null,
   "metadata": {},
   "outputs": [],
   "source": [
    "sys.getsizeof(l)"
   ]
  },
  {
   "cell_type": "code",
   "execution_count": null,
   "metadata": {},
   "outputs": [],
   "source": [
    "len(l)"
   ]
  },
  {
   "cell_type": "code",
   "execution_count": null,
   "metadata": {},
   "outputs": [],
   "source": [
    "tr"
   ]
  },
  {
   "cell_type": "code",
   "execution_count": null,
   "metadata": {},
   "outputs": [],
   "source": [
    "np.append(tr, np.zeros((10000000,6), dtype=object), axis=0)"
   ]
  },
  {
   "cell_type": "code",
   "execution_count": null,
   "metadata": {},
   "outputs": [],
   "source": [
    "type (l[1,0])"
   ]
  },
  {
   "cell_type": "code",
   "execution_count": null,
   "metadata": {},
   "outputs": [],
   "source": [
    "l[0,0] = 5.5"
   ]
  },
  {
   "cell_type": "code",
   "execution_count": null,
   "metadata": {},
   "outputs": [],
   "source": [
    "c = 0\n",
    "c += 1"
   ]
  },
  {
   "cell_type": "code",
   "execution_count": null,
   "metadata": {},
   "outputs": [],
   "source": [
    "c += 1"
   ]
  },
  {
   "cell_type": "code",
   "execution_count": null,
   "metadata": {},
   "outputs": [],
   "source": [
    "c"
   ]
  },
  {
   "cell_type": "code",
   "execution_count": null,
   "metadata": {},
   "outputs": [],
   "source": [
    "tr[[1,2,3],0]"
   ]
  },
  {
   "cell_type": "code",
   "execution_count": null,
   "metadata": {},
   "outputs": [],
   "source": [
    "listA = [0]\n",
    "listB = listA\n",
    "listB.append(1)\n",
    "print (listA)"
   ]
  },
  {
   "cell_type": "code",
   "execution_count": null,
   "metadata": {},
   "outputs": [],
   "source": [
    "l = [5,4,2]"
   ]
  },
  {
   "cell_type": "code",
   "execution_count": null,
   "metadata": {},
   "outputs": [],
   "source": [
    "tr[l,0]"
   ]
  },
  {
   "cell_type": "code",
   "execution_count": null,
   "metadata": {},
   "outputs": [],
   "source": []
  }
 ],
 "metadata": {
  "kernelspec": {
   "display_name": "Python 3",
   "language": "python",
   "name": "python3"
  },
  "language_info": {
   "codemirror_mode": {
    "name": "ipython",
    "version": 3
   },
   "file_extension": ".py",
   "mimetype": "text/x-python",
   "name": "python",
   "nbconvert_exporter": "python",
   "pygments_lexer": "ipython3",
   "version": "3.8.1"
  }
 },
 "nbformat": 4,
 "nbformat_minor": 4
}
