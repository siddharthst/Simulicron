{
 "cells": [
  {
   "cell_type": "code",
   "execution_count": 1,
   "metadata": {},
   "outputs": [],
   "source": [
    "# Init\n",
    "import os\n",
    "import sys\n",
    "\n",
    "module_path = os.path.abspath(os.path.join(\"../src/simulicronalpha/\"))\n",
    "if module_path not in sys.path:\n",
    "    sys.path.append(module_path)\n",
    "\n",
    "# Imports\n",
    "import numpy as np\n",
    "import pandas as pd\n",
    "import warnings\n",
    "import multiprocessing\n",
    "np.set_printoptions(suppress=True)\n",
    "from numpy import concatenate as c\n",
    "from numpy import cumsum\n",
    "import random\n",
    "%load_ext line_profiler"
   ]
  },
  {
   "cell_type": "code",
   "execution_count": 2,
   "metadata": {},
   "outputs": [],
   "source": [
    "from generateSim import (generatePopulation, generateGenome)\n",
    "from stats import stats\n",
    "from regulation import regulation\n",
    "from checkCopyNumber import checkCopyNumber\n",
    "from transposition import transposition\n",
    "#from recombination import recombination"
   ]
  },
  {
   "cell_type": "code",
   "execution_count": 3,
   "metadata": {},
   "outputs": [],
   "source": [
    "from popSim import runBatch, runSim"
   ]
  },
  {
   "cell_type": "code",
   "execution_count": 4,
   "metadata": {},
   "outputs": [],
   "source": [
    "gen,piset,piIndice, rates = generateGenome(\n",
    "    numberOfInsertionSites=10000,\n",
    "    numberOfChromosomes=6,\n",
    "    baseRecombinationRate=0.1,\n",
    "    baseSelection=0,\n",
    "    baseTau=1,\n",
    ")\n",
    "pop, tr , TEset= generatePopulation(\n",
    "    gen,\n",
    "    piIndice,\n",
    "    NumberOfIndividual=1000,\n",
    "    NumberOfTransposonTypes=1,\n",
    "    NumberOfInsertionsPerType=[1],\n",
    "    FrequencyOfInsertions=[1.0],\n",
    "    ExcisionRates = [1.0]\n",
    ")"
   ]
  },
  {
   "cell_type": "code",
   "execution_count": 5,
   "metadata": {},
   "outputs": [
    {
     "name": "stdout",
     "output_type": "stream",
     "text": [
      "0\n",
      "1\n",
      "2\n",
      "3\n",
      "4\n",
      "5\n",
      "6\n",
      "7\n",
      "8\n",
      "9\n",
      "10\n",
      "11\n",
      "12\n",
      "13\n",
      "14\n",
      "15\n",
      "16\n",
      "17\n",
      "18\n",
      "19\n",
      "20\n",
      "21\n",
      "22\n",
      "23\n",
      "24\n",
      "25\n",
      "26\n",
      "27\n",
      "28\n",
      "29\n",
      "30\n",
      "31\n",
      "32\n",
      "33\n",
      "34\n",
      "35\n",
      "36\n",
      "37\n",
      "38\n",
      "39\n",
      "40\n",
      "41\n",
      "42\n",
      "43\n",
      "44\n",
      "45\n",
      "46\n",
      "47\n",
      "48\n",
      "49\n",
      "50\n",
      "51\n",
      "52\n",
      "53\n",
      "54\n",
      "55\n",
      "56\n",
      "57\n",
      "58\n",
      "59\n",
      "60\n",
      "61\n",
      "62\n",
      "63\n",
      "64\n",
      "65\n",
      "66\n",
      "67\n",
      "68\n",
      "69\n",
      "70\n",
      "71\n",
      "72\n",
      "73\n",
      "74\n",
      "75\n",
      "76\n",
      "77\n",
      "78\n",
      "79\n",
      "80\n",
      "81\n",
      "82\n",
      "83\n",
      "84\n",
      "85\n",
      "86\n",
      "87\n",
      "88\n",
      "89\n",
      "90\n",
      "91\n",
      "92\n",
      "93\n",
      "94\n",
      "95\n",
      "96\n",
      "97\n",
      "98\n",
      "99\n"
     ]
    },
    {
     "data": {
      "text/plain": [
       "Timer unit: 1e-06 s\n",
       "\n",
       "Total time: 2631.37 s\n",
       "File: /home/siddharth/Documents/Projects/Simulicron/src/simulicronalpha/transposition.py\n",
       "Function: transposition at line 8\n",
       "\n",
       "Line #      Hits         Time  Per Hit   % Time  Line Contents\n",
       "==============================================================\n",
       "     8                                           def transposition(\n",
       "     9                                               transposonMatrix,\n",
       "    10                                               genomeMatrix,\n",
       "    11                                               NumberOfTransposonInsertions,\n",
       "    12                                               TEset,\n",
       "    13                                               piCoord,\n",
       "    14                                               v1,\n",
       "    15                                               v2,\n",
       "    16                                           ):\n",
       "    17                                               # If any of the haplotyle is empty, convert the appr.\n",
       "    18                                               # parameters to empty lists\n",
       "    19     99212     121201.0      1.2      0.0      if v1 == 0:\n",
       "    20       916        650.0      0.7      0.0          allele1Index = []\n",
       "    21       916        479.0      0.5      0.0          allele1RepairRate = []\n",
       "    22       916        497.0      0.5      0.0          allele1InsertionRate = []\n",
       "    23       916        514.0      0.6      0.0          allele1Sites = []\n",
       "    24                                               else:\n",
       "    25     98296    1771901.0     18.0      0.1          allele1RepairRate = transposonMatrix[[v1], 4].tolist()[0]\n",
       "    26     98296    1300560.0     13.2      0.0          allele1InsertionRate = transposonMatrix[[v1], 5].tolist()[0]\n",
       "    27     98296     784883.0      8.0      0.0          allele1Sites = transposonMatrix[[v1], 1].tolist()[0]\n",
       "    28     98296      56268.0      0.6      0.0          allele1Index = v1\n",
       "    29                                           \n",
       "    30     99212      58353.0      0.6      0.0      if v2 == 0:\n",
       "    31       935        511.0      0.5      0.0          allele2Index = []\n",
       "    32       935        466.0      0.5      0.0          allele2RepairRate = []\n",
       "    33       935        467.0      0.5      0.0          allele2InsertionRate = []\n",
       "    34       935        525.0      0.6      0.0          allele2Sites = []\n",
       "    35                                           \n",
       "    36                                               else:\n",
       "    37     98277    1180206.0     12.0      0.0          allele2RepairRate = transposonMatrix[[v2], 4].tolist()[0]\n",
       "    38     98277    1097146.0     11.2      0.0          allele2InsertionRate = transposonMatrix[[v2], 5].tolist()[0]\n",
       "    39     98277     723910.0      7.4      0.0          allele2Sites = transposonMatrix[[v2], 1].tolist()[0]\n",
       "    40     98277      56738.0      0.6      0.0          allele2Index = v2\n",
       "    41                                           \n",
       "    42     99212     946140.0      9.5      0.0      transposonIndices = np.array(allele1Index + allele2Index)\n",
       "    43                                               # Find effective ExcisionRates\n",
       "    44    198424   30911899.0    155.8      1.2      transposonExcisionRates = regulation(\n",
       "    45     99212      50928.0      0.5      0.0          transposons=transposonIndices,\n",
       "    46     99212      49853.0      0.5      0.0          TEset=TEset,\n",
       "    47     99212      49407.0      0.5      0.0          transposonMatrix=transposonMatrix,\n",
       "    48     99212      49194.0      0.5      0.0          genomeMatrix=genomeMatrix,\n",
       "    49     99212      49331.0      0.5      0.0          piRNAindices=piCoord,\n",
       "    50                                               )\n",
       "    51     99212     865443.0      8.7      0.0      transposonRepairRates = np.array(allele1RepairRate + allele2RepairRate)\n",
       "    52     99212     692799.0      7.0      0.0      transposonInsertionRates = np.array(allele1InsertionRate + allele2InsertionRate)\n",
       "    53                                           \n",
       "    54    198424    1486496.0      7.5      0.1      exicsionCheck = transposonExcisionRates > np.random.uniform(\n",
       "    55     99212      74432.0      0.8      0.0          0, 1, len(transposonExcisionRates)\n",
       "    56                                               )\n",
       "    57    198424     634574.0      3.2      0.0      repairCheck = transposonRepairRates > np.random.uniform(\n",
       "    58     99212      67705.0      0.7      0.0          0, 1, len(transposonRepairRates)\n",
       "    59                                               )\n",
       "    60    198424     537127.0      2.7      0.0      insertionCheck = transposonInsertionRates > np.random.uniform(\n",
       "    61     99212      61551.0      0.6      0.0          0, 1, len(transposonInsertionRates)\n",
       "    62                                               )\n",
       "    63                                           \n",
       "    64     99212     188668.0      1.9      0.0      Transoposecheck = exicsionCheck & repairCheck & insertionCheck\n",
       "    65                                               # Return alleles as they are if no transposition happens\n",
       "    66     99212     384599.0      3.9      0.0      if not any(Transoposecheck):\n",
       "    67     92963      59436.0      0.6      0.0          return (v1, v2, transposonMatrix, TEset)\n",
       "    68                                               else:\n",
       "    69                                                   # Create a vector to choose sites from\n",
       "    70      6249     975074.0    156.0      0.0          genomeSites = list(range(len(genomeMatrix)))\n",
       "    71      6249      15701.0      2.5      0.0          transposonsToTranspose = transposonIndices[Transoposecheck]\n",
       "    72                                                   # If transposons share the same site - replace the old transposon\n",
       "    73                                                   # with new transposon\n",
       "    74                                                   # Choose the allele for tranposition\n",
       "    75      6249     463230.0     74.1      0.0          progenyAllele = random.choices([\"v1\", \"v2\"], k=sum(Transoposecheck))\n",
       "    76                                                   # probSum = sum(emptySitesProb)\n",
       "    77                                                   # InsertionProb = [float(i) / probSum for i in emptySitesProb]\n",
       "    78      6249     815310.0    130.5      0.0          sites = random.sample(genomeSites, sum(Transoposecheck))\n",
       "    79    225952     196817.0      0.9      0.0          for i in list(range(len(transposonsToTranspose))):\n",
       "    80    219703     294704.0      1.3      0.0              transposonToAdd = [\n",
       "    81    219703     302359.0      1.4      0.0                  transposonMatrix[transposonsToTranspose[i], 0],\n",
       "    82    219703     136783.0      0.6      0.0                  sites[i],\n",
       "    83    219703     409377.0      1.9      0.0                  genomeMatrix[sites[i]][0],\n",
       "    84    219703     208296.0      0.9      0.0                  transposonMatrix[transposonsToTranspose[i], 3],\n",
       "    85    219703     204202.0      0.9      0.0                  transposonMatrix[transposonsToTranspose[i], 4],\n",
       "    86    219703     202229.0      0.9      0.0                  transposonMatrix[transposonsToTranspose[i], 5],\n",
       "    87                                                       ]\n",
       "    88                                           \n",
       "    89                                                       # transposonMatrix = np.vstack(\n",
       "    90                                                       #    [transposonMatrix, np.asarray(transposonToAdd, object),]\n",
       "    91                                                       # )\n",
       "    92    439406 2576517023.0   5863.6     97.9              transposonMatrix = np.append(\n",
       "    93    219703    1617906.0      7.4      0.1                  transposonMatrix, np.array([transposonToAdd]), axis=0\n",
       "    94                                                       )\n",
       "    95                                                       # Code to track the genealogy of TE\n",
       "    96    439406    1143765.0      2.6      0.0              for k in range(NumberOfTransposonInsertions):\n",
       "    97    219703    1038098.0      4.7      0.0                  if transposonsToTranspose[i] in TEset[k + 1]:\n",
       "    98    219703     478368.0      2.2      0.0                      TEset[k + 1].add(len(transposonMatrix) - 1)\n",
       "    99    219703     137721.0      0.6      0.0                      pass\n",
       "   100                                           \n",
       "   101                                                       # Assign TE to the choosen allele\n",
       "   102    219703     237749.0      1.1      0.0              if progenyAllele[i] == \"v1\":\n",
       "   103                                                           # First check if the transposon is replacing another transposon on same allele\n",
       "   104                                                           # If yes, we need to remove the replaced transposon from the said allele\n",
       "   105    109812     611589.0      5.6      0.0                  if sites[i] in allele1Sites:\n",
       "   106       600       1251.0      2.1      0.0                      vIndex = allele1Sites.index(sites[i])\n",
       "   107       600       1068.0      1.8      0.0                      del allele1Index[vIndex]\n",
       "   108    109812     132322.0      1.2      0.0                  allele1Index.append(len(transposonMatrix) - 1)\n",
       "   109    219703     152212.0      0.7      0.0              if progenyAllele[i] == \"v2\":\n",
       "   110                                                           # Same as above\n",
       "   111    109891     610748.0      5.6      0.0                  if sites[i] in allele2Sites:\n",
       "   112       542       1152.0      2.1      0.0                      vIndex = allele2Sites.index(sites[i])\n",
       "   113       542        975.0      1.8      0.0                      del allele2Index[vIndex]\n",
       "   114    109891     131853.0      1.2      0.0                  allele2Index.append(len(transposonMatrix) - 1)\n",
       "   115                                           \n",
       "   116      6249       6021.0      1.0      0.0      if allele1Index == []:\n",
       "   117       244        143.0      0.6      0.0          allele1Index = 0\n",
       "   118      6249       4151.0      0.7      0.0      if allele2Index == []:\n",
       "   119       248        162.0      0.7      0.0          allele2Index = 0\n",
       "   120                                           \n",
       "   121      6249       4154.0      0.7      0.0      return (allele1Index, allele2Index, transposonMatrix, TEset)"
      ]
     },
     "metadata": {},
     "output_type": "display_data"
    }
   ],
   "source": [
    "%lprun -f transposition runSim(gen,pop,tr,TEset,1,100,rates,piset)"
   ]
  },
  {
   "cell_type": "code",
   "execution_count": 6,
   "metadata": {},
   "outputs": [
    {
     "name": "stdout",
     "output_type": "stream",
     "text": [
      "0\n",
      "1\n",
      "2\n",
      "3\n",
      "4\n",
      "5\n",
      "6\n",
      "7\n",
      "8\n",
      "9\n"
     ]
    },
    {
     "data": {
      "text/plain": [
       "{'State': 'FLUX',\n",
       " 'Generatrion': 11,\n",
       " 'NTE': 99989.0,\n",
       " 'AvgCopyNum': [1.0,\n",
       "  1.91,\n",
       "  3.75,\n",
       "  7.16,\n",
       "  12.527,\n",
       "  21.527,\n",
       "  32.422,\n",
       "  41.135,\n",
       "  50.14,\n",
       "  59.671,\n",
       "  66.111],\n",
       " 'CopyNumVar': [0.992,\n",
       "  3.4338999999999995,\n",
       "  10.7075,\n",
       "  27.516399999999997,\n",
       "  61.421271,\n",
       "  144.91527100000002,\n",
       "  330.56791599999997,\n",
       "  511.612775,\n",
       "  699.3004,\n",
       "  949.610759,\n",
       "  981.286679]}"
      ]
     },
     "execution_count": 6,
     "metadata": {},
     "output_type": "execute_result"
    }
   ],
   "source": [
    "runSim(gen,pop,tr,TEset,1,10,rates,piset)"
   ]
  },
  {
   "cell_type": "code",
   "execution_count": null,
   "metadata": {},
   "outputs": [],
   "source": [
    "%lprun -f recombination recombination(rates=rates, transposonMatrix=tr, v1=[52], v2=[65])"
   ]
  },
  {
   "cell_type": "code",
   "execution_count": null,
   "metadata": {},
   "outputs": [],
   "source": [
    "%lprun -f runBatch runBatch(numberOfSimulations=1,baseSelection=0,baseInsertionProb=1,numberOfInsertionSites=10000,numberOfChromosomes=6,baseRecombinationRate=0.01,baseTau=1,numberOfPiRNA=6,piPercentage=3,enablePiRecombination=False,NumberOfIndividual=1000,NumberOfTransposonTypes=1,NumberOfInsertionsPerType=[1],FrequencyOfInsertions=[1.0],ExcisionRates=[1.0],RepairRates=[1],InsertionRates=[1],HardyWeinberg=False,NumberOfGenerations=10,numberOfThreads=1,)"
   ]
  },
  {
   "cell_type": "code",
   "execution_count": null,
   "metadata": {},
   "outputs": [],
   "source": [
    "np.set_printoptions(suppress=True,)"
   ]
  },
  {
   "cell_type": "code",
   "execution_count": null,
   "metadata": {},
   "outputs": [],
   "source": [
    "%lprun -f transposition transposition(transposonMatrix=tr, genomeMatrix=gen, NumberOfTransposonInsertions=1, TEset=TEset, v1=[52,101,321,433,12,23,234,123,657,29], v2=[65,54,22,121,23])"
   ]
  },
  {
   "cell_type": "code",
   "execution_count": null,
   "metadata": {},
   "outputs": [],
   "source": [
    "piIndice[1]"
   ]
  },
  {
   "cell_type": "code",
   "execution_count": null,
   "metadata": {},
   "outputs": [],
   "source": [
    "piset"
   ]
  },
  {
   "cell_type": "code",
   "execution_count": null,
   "metadata": {},
   "outputs": [],
   "source": [
    "list(range(1,4))"
   ]
  },
  {
   "cell_type": "code",
   "execution_count": null,
   "metadata": {},
   "outputs": [],
   "source": [
    "piCoord = []\n",
    "for i in piset.values():\n",
    "    piCoord = piCoord + (list(range(i[0],i[1])))"
   ]
  },
  {
   "cell_type": "code",
   "execution_count": null,
   "metadata": {},
   "outputs": [],
   "source": []
  },
  {
   "cell_type": "code",
   "execution_count": null,
   "metadata": {},
   "outputs": [],
   "source": [
    "(tr[[2,3],3] * 0).tolist()"
   ]
  },
  {
   "cell_type": "code",
   "execution_count": null,
   "metadata": {},
   "outputs": [],
   "source": [
    "list(TEset.keys())"
   ]
  },
  {
   "cell_type": "code",
   "execution_count": null,
   "metadata": {},
   "outputs": [],
   "source": [
    "for i in TEset.keys():\n",
    "    print (i)"
   ]
  },
  {
   "cell_type": "code",
   "execution_count": null,
   "metadata": {},
   "outputs": [],
   "source": [
    "len(TEset.keys())"
   ]
  },
  {
   "cell_type": "code",
   "execution_count": null,
   "metadata": {},
   "outputs": [],
   "source": [
    "tr"
   ]
  },
  {
   "cell_type": "code",
   "execution_count": null,
   "metadata": {},
   "outputs": [],
   "source": [
    "k = [0.0,1.0,1.0,1.0,1.0,1.0]"
   ]
  },
  {
   "cell_type": "code",
   "execution_count": null,
   "metadata": {},
   "outputs": [],
   "source": [
    "np.append(tr, np.array([k]), axis=0)"
   ]
  },
  {
   "cell_type": "code",
   "execution_count": null,
   "metadata": {},
   "outputs": [],
   "source": [
    "tr[:,3]"
   ]
  },
  {
   "cell_type": "code",
   "execution_count": 6,
   "metadata": {},
   "outputs": [],
   "source": [
    "x = tr"
   ]
  },
  {
   "cell_type": "code",
   "execution_count": 7,
   "metadata": {},
   "outputs": [],
   "source": [
    "tID = [int(i) for i in x[:,0].tolist()]\n",
    "tpos = [int(i) for i in x[:,1].tolist()]\n",
    "tval = [float(i) for i in x[:,3].tolist()]"
   ]
  },
  {
   "cell_type": "code",
   "execution_count": null,
   "metadata": {},
   "outputs": [],
   "source": [
    "k = np.array([tID,tpos,tval], dtype=\"object\").T\n",
    "z = [1, 5451, 1.0]\n",
    "l = k"
   ]
  },
  {
   "cell_type": "code",
   "execution_count": null,
   "metadata": {},
   "outputs": [],
   "source": [
    "np.vstack((tID, tpos, tval), dtype=\"object\").T"
   ]
  },
  {
   "cell_type": "code",
   "execution_count": null,
   "metadata": {},
   "outputs": [],
   "source": [
    "%%timeit\n",
    "l=k\n",
    "for i in range(1000):\n",
    "    l = np.append(k, l, axis=0)"
   ]
  },
  {
   "cell_type": "code",
   "execution_count": 13,
   "metadata": {},
   "outputs": [],
   "source": [
    "l = np.zeros((10000000,6), dtype=object)"
   ]
  },
  {
   "cell_type": "code",
   "execution_count": 14,
   "metadata": {},
   "outputs": [
    {
     "data": {
      "text/plain": [
       "480000112"
      ]
     },
     "execution_count": 14,
     "metadata": {},
     "output_type": "execute_result"
    }
   ],
   "source": [
    "sys.getsizeof(l)"
   ]
  },
  {
   "cell_type": "code",
   "execution_count": 25,
   "metadata": {},
   "outputs": [
    {
     "data": {
      "text/plain": [
       "500000000"
      ]
     },
     "execution_count": 25,
     "metadata": {},
     "output_type": "execute_result"
    }
   ],
   "source": [
    "len(l)"
   ]
  },
  {
   "cell_type": "code",
   "execution_count": 11,
   "metadata": {},
   "outputs": [
    {
     "data": {
      "text/plain": [
       "array([[0, 0, 0, 0, 0, 0],\n",
       "       [1, 7329, 0.0, 1.0, 1, 1],\n",
       "       [1, 9720, 0.0, 1.0, 1, 1],\n",
       "       ...,\n",
       "       [1, 3510, 0.0, 1.0, 1, 1],\n",
       "       [1, 2010, 0.0, 1.0, 1, 1],\n",
       "       [1, 2677, 0.0, 1.0, 1, 1]], dtype=object)"
      ]
     },
     "execution_count": 11,
     "metadata": {},
     "output_type": "execute_result"
    }
   ],
   "source": [
    "tr"
   ]
  },
  {
   "cell_type": "code",
   "execution_count": 15,
   "metadata": {},
   "outputs": [
    {
     "data": {
      "text/plain": [
       "array([[0, 0, 0, 0, 0, 0],\n",
       "       [1, 7329, 0.0, 1.0, 1, 1],\n",
       "       [1, 9720, 0.0, 1.0, 1, 1],\n",
       "       ...,\n",
       "       [0, 0, 0, 0, 0, 0],\n",
       "       [0, 0, 0, 0, 0, 0],\n",
       "       [0, 0, 0, 0, 0, 0]], dtype=object)"
      ]
     },
     "execution_count": 15,
     "metadata": {},
     "output_type": "execute_result"
    }
   ],
   "source": [
    "np.append(tr, l, axis=0)"
   ]
  },
  {
   "cell_type": "code",
   "execution_count": null,
   "metadata": {},
   "outputs": [],
   "source": []
  }
 ],
 "metadata": {
  "kernelspec": {
   "display_name": "Python 3",
   "language": "python",
   "name": "python3"
  },
  "language_info": {
   "codemirror_mode": {
    "name": "ipython",
    "version": 3
   },
   "file_extension": ".py",
   "mimetype": "text/x-python",
   "name": "python",
   "nbconvert_exporter": "python",
   "pygments_lexer": "ipython3",
   "version": "3.8.1"
  }
 },
 "nbformat": 4,
 "nbformat_minor": 4
}
