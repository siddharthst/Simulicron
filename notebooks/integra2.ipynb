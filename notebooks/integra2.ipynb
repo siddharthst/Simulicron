{
 "cells": [
  {
   "cell_type": "code",
   "execution_count": 1,
   "metadata": {},
   "outputs": [],
   "source": [
    "# Init\n",
    "import os\n",
    "import sys\n",
    "\n",
    "module_path = os.path.abspath(os.path.join(\"../src/simulicronalpha/\"))\n",
    "if module_path not in sys.path:\n",
    "    sys.path.append(module_path)\n",
    "\n",
    "# Imports\n",
    "import numpy as np\n",
    "import pandas as pd\n",
    "import warnings\n",
    "import multiprocessing\n",
    "np.set_printoptions(suppress=True)\n",
    "from numpy import concatenate as c\n",
    "from numpy import cumsum\n",
    "import random\n",
    "%load_ext line_profiler"
   ]
  },
  {
   "cell_type": "code",
   "execution_count": 2,
   "metadata": {},
   "outputs": [],
   "source": [
    "from generateSim import (generatePopulation, generateGenome)\n",
    "from stats import stats\n",
    "from regulation import regulation\n",
    "from checkCopyNumber import checkCopyNumber\n",
    "#from recombination import recombination"
   ]
  },
  {
   "cell_type": "code",
   "execution_count": null,
   "metadata": {},
   "outputs": [],
   "source": [
    "from popSim import runBatch"
   ]
  },
  {
   "cell_type": "code",
   "execution_count": null,
   "metadata": {
    "jupyter": {
     "source_hidden": true
    }
   },
   "outputs": [],
   "source": [
    "runBatch(    \n",
    "    numberOfSimulations=1,\n",
    "    baseSelection=0,\n",
    "    baseInsertionProb=1,\n",
    "    numberOfInsertionSites=10000,\n",
    "    numberOfChromosomes=6,\n",
    "    baseRecombinationRate=0.01,\n",
    "    baseTau=1,\n",
    "    numberOfPiRNA=6,\n",
    "    piPercentage=3,\n",
    "    enablePiRecombination=False,\n",
    "    NumberOfIndividual=10,\n",
    "    NumberOfTransposonTypes=1,\n",
    "    NumberOfInsertionsPerType=[1],\n",
    "    FrequencyOfInsertions=[1.0],\n",
    "    ExcisionRates=[1.0],\n",
    "    RepairRates=[1],\n",
    "    InsertionRates=[1],\n",
    "    HardyWeinberg=False,\n",
    "    NumberOfGenerations=10000,\n",
    "    numberOfThreads=1,\n",
    ")"
   ]
  },
  {
   "cell_type": "code",
   "execution_count": 3,
   "metadata": {},
   "outputs": [],
   "source": [
    "gen,piset,piIndice, rates = generateGenome(\n",
    "    numberOfInsertionSites=1000,\n",
    "    numberOfChromosomes=1,\n",
    "    baseRecombinationRate=0.1,\n",
    "    baseSelection=0,\n",
    ")\n",
    "pop, tr , TEset= generatePopulation(\n",
    "    gen,\n",
    "    piIndice,\n",
    "    NumberOfIndividual=100,\n",
    "    NumberOfTransposonTypes=2,\n",
    "    NumberOfInsertionsPerType=[2,2],\n",
    "    FrequencyOfInsertions=[1,1],\n",
    "    ExcisionRates = [0.1,0.5]\n",
    ")"
   ]
  },
  {
   "cell_type": "code",
   "execution_count": 8,
   "metadata": {},
   "outputs": [
    {
     "data": {
      "text/plain": [
       "Timer unit: 1e-06 s\n",
       "\n",
       "Total time: 0.000598 s\n",
       "File: <ipython-input-4-4f5b77ac7555>\n",
       "Function: recombination at line 1\n",
       "\n",
       "Line #      Hits         Time  Per Hit   % Time  Line Contents\n",
       "==============================================================\n",
       "     1                                           def recombination(rates, transposonMatrix, v1, v2):\n",
       "     2                                               # Empty vectors to store result\n",
       "     3         1          3.0      3.0      0.5      r1 = []\n",
       "     4         1          3.0      3.0      0.5      r2 = []\n",
       "     5                                               # Creating lambda (macro)\n",
       "     6                                               # \"Match\" does not exist in python\n",
       "     7                                               # match = lambda a, b: [ b.index(x) if x in b else 0 for x in a ]\n",
       "     8                                               # Get the postion of transposons \n",
       "     9         1         48.0     48.0      8.0      positionV1 = transposonMatrix[v1,1].astype(int).tolist()\n",
       "    10         1         50.0     50.0      8.4      positionV2 = transposonMatrix[v2,1].astype(int).tolist()\n",
       "    11                                               # This step sorts the locations and adds another location, \n",
       "    12                                               # 0 if not already present\n",
       "    13         1          8.0      8.0      1.3      unqiquePos = list(set(positionV1+positionV2) | set([0]))\n",
       "    14         1          4.0      4.0      0.7      unqiquePos.sort()\n",
       "    15                                               # Calculate the effective rate from genome map\n",
       "    16         1         95.0     95.0     15.9      effectiveRates = 0.5*(1-np.exp(-2*np.diff(rates[unqiquePos])))\n",
       "    17                                               # print (effectiveRates)\n",
       "    18                                               # Performing \"Recombination\"\n",
       "    19         1         34.0     34.0      5.7      rec = (np.random.uniform(size=len(effectiveRates)) < effectiveRates)\n",
       "    20                                               # Select the direction to start from\n",
       "    21         1         12.0     12.0      2.0      start = [(np.random.uniform() < 0.5)]\n",
       "    22                                               # Concat. start and recombination\n",
       "    23                                               # Also remove the added 0 and start from\n",
       "    24                                               # whichhaplo and uniqpos\n",
       "    25         1        124.0    124.0     20.7      whichhaplo = 1 + cumsum(c((start, rec))) % 2\n",
       "    26         1        103.0    103.0     17.2      whichhaplo = np.delete(whichhaplo, 0)\n",
       "    27         1          3.0      3.0      0.5      del unqiquePos[0]\n",
       "    28         1         11.0     11.0      1.8      unqiquePos = np.asarray(unqiquePos)\n",
       "    29                                               # Generating the haplotype\n",
       "    30                                               # Also checking if there is no transposon left\n",
       "    31                                               # In the case above, return a (int) 0\n",
       "    32                                               # Else return the array containing transposons\n",
       "    33         1          2.0      2.0      0.3      if (positionV1 == [0]):\n",
       "    34                                                   r1 = []\n",
       "    35                                               else:\n",
       "    36         1         10.0     10.0      1.7          if not any(whichhaplo == 1):\n",
       "    37                                                       pass\n",
       "    38                                                   else:\n",
       "    39         1         10.0     10.0      1.7              pos = unqiquePos[whichhaplo == 1]\n",
       "    40         2          5.0      2.5      0.8              for i in v1:\n",
       "    41         1         25.0     25.0      4.2                  if (int(transposonMatrix[i,1]) in pos):\n",
       "    42         1          2.0      2.0      0.3                      r1.append(i)\n",
       "    43         1          2.0      2.0      0.3      if (positionV2 == [0]):\n",
       "    44                                                   r2 = []\n",
       "    45                                               else:\n",
       "    46         1          8.0      8.0      1.3          if not any(whichhaplo == 2):\n",
       "    47                                                       pass\n",
       "    48                                                   else:\n",
       "    49         1          7.0      7.0      1.2              pos = unqiquePos[whichhaplo == 2]\n",
       "    50         2          4.0      2.0      0.7              for i in v2:\n",
       "    51         1         17.0     17.0      2.8                  if (int(transposonMatrix[i,1]) in pos):\n",
       "    52         1          2.0      2.0      0.3                      r2.append(i)\n",
       "    53                                               # Merge to create gamate\n",
       "    54         1          2.0      2.0      0.3      r = r1 + r2\n",
       "    55                                               # Return 0 if no transposon remains\n",
       "    56         1          2.0      2.0      0.3      if not r:\n",
       "    57                                                   return (0)\n",
       "    58                                               else:\n",
       "    59         1          2.0      2.0      0.3          return r"
      ]
     },
     "metadata": {},
     "output_type": "display_data"
    }
   ],
   "source": [
    "%lprun -f recombination recombination(rates=rates, transposonMatrix=tr, v1=[52], v2=[65])"
   ]
  },
  {
   "cell_type": "code",
   "execution_count": null,
   "metadata": {},
   "outputs": [],
   "source": [
    "np.set_printoptions(suppress=True,)"
   ]
  },
  {
   "cell_type": "code",
   "execution_count": 4,
   "metadata": {},
   "outputs": [],
   "source": [
    "def recombination(rates, transposonMatrix, v1, v2):\n",
    "    # Empty vectors to store result\n",
    "    r1 = []\n",
    "    r2 = []\n",
    "    # Creating lambda (macro)\n",
    "    # \"Match\" does not exist in python\n",
    "    # match = lambda a, b: [ b.index(x) if x in b else 0 for x in a ]\n",
    "    # Get the postion of transposons \n",
    "    positionV1 = transposonMatrix[v1,1].astype(int).tolist()\n",
    "    positionV2 = transposonMatrix[v2,1].astype(int).tolist()\n",
    "    # This step sorts the locations and adds another location, \n",
    "    # 0 if not already present\n",
    "    unqiquePos = list(set(positionV1+positionV2) | set([0]))\n",
    "    unqiquePos.sort()\n",
    "    # Calculate the effective rate from genome map\n",
    "    effectiveRates = 0.5*(1-np.exp(-2*np.diff(rates[unqiquePos])))\n",
    "    # print (effectiveRates)\n",
    "    # Performing \"Recombination\"\n",
    "    rec = (np.random.uniform(size=len(effectiveRates)) < effectiveRates)\n",
    "    # Select the direction to start from\n",
    "    start = [(np.random.uniform() < 0.5)]\n",
    "    # Concat. start and recombination\n",
    "    # Also remove the added 0 and start from\n",
    "    # whichhaplo and uniqpos\n",
    "    whichhaplo = 1 + cumsum(c((start, rec))) % 2\n",
    "    whichhaplo = np.delete(whichhaplo, 0)\n",
    "    del unqiquePos[0]\n",
    "    unqiquePos = np.asarray(unqiquePos)\n",
    "    # Generating the haplotype\n",
    "    # Also checking if there is no transposon left\n",
    "    # In the case above, return a (int) 0\n",
    "    # Else return the array containing transposons\n",
    "    if (positionV1 == [0]):\n",
    "        r1 = []\n",
    "    else:\n",
    "        if not any(whichhaplo == 1):\n",
    "            pass\n",
    "        else:\n",
    "            pos = unqiquePos[whichhaplo == 1]\n",
    "            for i in v1:\n",
    "                if (int(transposonMatrix[i,1]) in pos):\n",
    "                    r1.append(i)\n",
    "    if (positionV2 == [0]):\n",
    "        r2 = []\n",
    "    else:\n",
    "        if not any(whichhaplo == 2):\n",
    "            pass\n",
    "        else:\n",
    "            pos = unqiquePos[whichhaplo == 2]\n",
    "            for i in v2:\n",
    "                if (int(transposonMatrix[i,1]) in pos):\n",
    "                    r2.append(i)\n",
    "    # Merge to create gamate\n",
    "    r = r1 + r2\n",
    "    # Return 0 if no transposon remains\n",
    "    if not r:\n",
    "        return (0)\n",
    "    else:\n",
    "        return r"
   ]
  },
  {
   "cell_type": "code",
   "execution_count": null,
   "metadata": {},
   "outputs": [],
   "source": []
  }
 ],
 "metadata": {
  "kernelspec": {
   "display_name": "Python 3",
   "language": "python",
   "name": "python3"
  },
  "language_info": {
   "codemirror_mode": {
    "name": "ipython",
    "version": 3
   },
   "file_extension": ".py",
   "mimetype": "text/x-python",
   "name": "python",
   "nbconvert_exporter": "python",
   "pygments_lexer": "ipython3",
   "version": "3.6.10"
  }
 },
 "nbformat": 4,
 "nbformat_minor": 4
}
