{
 "cells": [
  {
   "cell_type": "code",
   "execution_count": 1,
   "metadata": {},
   "outputs": [],
   "source": [
    "# Init\n",
    "import os\n",
    "import sys\n",
    "\n",
    "module_path = os.path.abspath(os.path.join(\"../src/simulicronalpha/\"))\n",
    "if module_path not in sys.path:\n",
    "    sys.path.append(module_path)\n",
    "\n",
    "# Imports\n",
    "import numpy as np\n",
    "import pandas as pd\n",
    "import warnings\n",
    "import multiprocessing\n",
    "np.set_printoptions(suppress=True)\n",
    "from numpy import concatenate as c\n",
    "from numpy import cumsum\n",
    "import random\n",
    "%load_ext line_profiler"
   ]
  },
  {
   "cell_type": "code",
   "execution_count": 2,
   "metadata": {},
   "outputs": [],
   "source": [
    "from generateSim import (generatePopulation, generateGenome)\n",
    "from stats import stats\n",
    "from regulation import regulation\n",
    "# from checkCopyNumber import checkCopyNumber\n",
    "from transposition import transposition\n",
    "#from recombination import recombination"
   ]
  },
  {
   "cell_type": "code",
   "execution_count": 3,
   "metadata": {},
   "outputs": [],
   "source": [
    "from popSim import runBatch, runSim"
   ]
  },
  {
   "cell_type": "code",
   "execution_count": 4,
   "metadata": {},
   "outputs": [],
   "source": [
    "gen,piset,piIndice, rates = generateGenome(\n",
    "    numberOfInsertionSites=10000,\n",
    "    numberOfChromosomes=6,\n",
    "    baseRecombinationRate=0.1,\n",
    "    baseSelection=0,\n",
    "    baseTau=1,\n",
    ")\n",
    "pop, tr , TEset= generatePopulation(\n",
    "    gen,\n",
    "    piIndice,\n",
    "    NumberOfIndividual=1000,\n",
    "    NumberOfTransposonTypes=2,\n",
    "    NumberOfInsertionsPerType=[1,1],\n",
    "    FrequencyOfInsertions=[1.0,0.5],\n",
    "    ExcisionRates = [1.0,1.0]\n",
    ")"
   ]
  },
  {
   "cell_type": "code",
   "execution_count": null,
   "metadata": {},
   "outputs": [],
   "source": [
    "%lprun -f transposition runSim(gen,pop,tr,TEset,2,10000,rates,piset)"
   ]
  },
  {
   "cell_type": "code",
   "execution_count": null,
   "metadata": {},
   "outputs": [],
   "source": [
    "runSim(gen,pop,tr,TEset,1,100,rates,piset)"
   ]
  },
  {
   "cell_type": "code",
   "execution_count": null,
   "metadata": {},
   "outputs": [],
   "source": [
    "%lprun -f recombination recombination(rates=rates, transposonMatrix=tr, v1=[52], v2=[65])"
   ]
  },
  {
   "cell_type": "code",
   "execution_count": null,
   "metadata": {},
   "outputs": [],
   "source": [
    "%lprun -f runBatch runBatch(numberOfSimulations=1,baseSelection=0,baseInsertionProb=1,numberOfInsertionSites=10000,numberOfChromosomes=6,baseRecombinationRate=0.01,baseTau=1,numberOfPiRNA=6,piPercentage=3,enablePiRecombination=False,NumberOfIndividual=1000,NumberOfTransposonTypes=1,NumberOfInsertionsPerType=[1],FrequencyOfInsertions=[1.0],ExcisionRates=[1.0],RepairRates=[1],InsertionRates=[1],HardyWeinberg=False,NumberOfGenerations=10,numberOfThreads=1,)"
   ]
  },
  {
   "cell_type": "code",
   "execution_count": null,
   "metadata": {},
   "outputs": [],
   "source": [
    "np.set_printoptions(suppress=True,)"
   ]
  },
  {
   "cell_type": "code",
   "execution_count": null,
   "metadata": {},
   "outputs": [],
   "source": [
    "%lprun -f transposition transposition(transposonMatrix=tr, genomeMatrix=gen, NumberOfTransposonInsertions=1, TEset=TEset, v1=[52,101,321,433,12,23,234,123,657,29], v2=[65,54,22,121,23])"
   ]
  },
  {
   "cell_type": "code",
   "execution_count": 56,
   "metadata": {},
   "outputs": [],
   "source": [
    "def checkCopyNumber(populationMatrix, TEset, transposonMatrix):\n",
    "    # The local flatten lambda\n",
    "    flatten = lambda *n: (\n",
    "        e for a in n for e in (flatten(*a) if isinstance(a, (tuple, list)) else (a,))\n",
    "    )\n",
    "    # Convert the list to flat list and remove 0\n",
    "    # if present.\n",
    "    # Also create a dictionary counting \n",
    "    # each family type\n",
    "    TEfamilyCount = {k: [] for k in range(1, len(TEset.keys()) + 1)}\n",
    "    TEfamilyVar = {k: [] for k in range(1, len(TEset.keys()) + 1)}\n",
    "    TETotal = []\n",
    "    for i in range(len(populationMatrix)):\n",
    "        v1 = populationMatrix[i, 0] if type(populationMatrix[i, 0]) is list else []\n",
    "        v2 = populationMatrix[i, 1] if type(populationMatrix[i, 1]) is list else []\n",
    "        if (v1 + v2 == []):\n",
    "            TETotal.append(0)\n",
    "            for k in TEset.keys():\n",
    "                TEfamilyCount[k].append(0)\n",
    "        else:\n",
    "            # Check the occupancy for each family\n",
    "            TEfamilies = transposonMatrix[v1+v2, 0].tolist()\n",
    "            TETotal.append(len(TEfamilies))\n",
    "            for k in TEset.keys():\n",
    "                TEfamilyCount[k].append(TEfamilies.count(k))\n",
    "    # Calculate variance per family and sum the count\n",
    "    for k in TEset.keys():\n",
    "        TEfamilyVar[k].append(np.var(TEfamilyCount[k]))\n",
    "        TEfamilyCount[k] = sum(TEfamilyCount[k])\n",
    "    return sum(TETotal), np.var(TETotal), TEfamilyCount, TEfamilyVar"
   ]
  },
  {
   "cell_type": "code",
   "execution_count": 57,
   "metadata": {},
   "outputs": [],
   "source": [
    "TEfamilyCount = {k: [] for k in range(1, len(TEset.keys()) + 1)}"
   ]
  },
  {
   "cell_type": "code",
   "execution_count": 61,
   "metadata": {},
   "outputs": [
    {
     "name": "stdout",
     "output_type": "stream",
     "text": [
      "2.2 ms ± 45.8 µs per loop (mean ± std. dev. of 7 runs, 100 loops each)\n"
     ]
    }
   ],
   "source": [
    "%%timeit\n",
    "x, y, a, b = checkCopyNumber(pop, TEset, tr)"
   ]
  },
  {
   "cell_type": "code",
   "execution_count": 60,
   "metadata": {},
   "outputs": [
    {
     "data": {
      "text/plain": [
       "{1: [0.942], 2: [0.804]}"
      ]
     },
     "execution_count": 60,
     "metadata": {},
     "output_type": "execute_result"
    }
   ],
   "source": [
    "b"
   ]
  },
  {
   "cell_type": "code",
   "execution_count": 35,
   "metadata": {},
   "outputs": [
    {
     "data": {
      "text/plain": [
       "{1: []}"
      ]
     },
     "execution_count": 35,
     "metadata": {},
     "output_type": "execute_result"
    }
   ],
   "source": [
    "TEfamilyCount"
   ]
  },
  {
   "cell_type": "code",
   "execution_count": null,
   "metadata": {},
   "outputs": [],
   "source": []
  }
 ],
 "metadata": {
  "kernelspec": {
   "display_name": "Python 3",
   "language": "python",
   "name": "python3"
  },
  "language_info": {
   "codemirror_mode": {
    "name": "ipython",
    "version": 3
   },
   "file_extension": ".py",
   "mimetype": "text/x-python",
   "name": "python",
   "nbconvert_exporter": "python",
   "pygments_lexer": "ipython3",
   "version": "3.8.1"
  }
 },
 "nbformat": 4,
 "nbformat_minor": 4
}
