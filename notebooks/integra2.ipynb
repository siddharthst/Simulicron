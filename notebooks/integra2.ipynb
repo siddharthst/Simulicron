{
 "cells": [
  {
   "cell_type": "code",
   "execution_count": 1,
   "metadata": {},
   "outputs": [],
   "source": [
    "# Init\n",
    "import os\n",
    "import sys\n",
    "\n",
    "module_path = os.path.abspath(os.path.join(\"../src/simulicronalpha/\"))\n",
    "if module_path not in sys.path:\n",
    "    sys.path.append(module_path)\n",
    "\n",
    "# Imports\n",
    "import random\n",
    "import numpy as np\n",
    "import pandas as pd\n",
    "import warnings\n",
    "import multiprocessing\n",
    "np.set_printoptions(suppress=True)\n",
    "from numpy import concatenate as c"
   ]
  },
  {
   "cell_type": "code",
   "execution_count": 2,
   "metadata": {},
   "outputs": [],
   "source": [
    "from generateSim import (generatePopulation, generateGenome)\n",
    "from stats import stats\n",
    "from regulation import regulation\n",
    "from checkCopyNumber import checkCopyNumber"
   ]
  },
  {
   "cell_type": "code",
   "execution_count": 3,
   "metadata": {},
   "outputs": [],
   "source": [
    "from popSim import runBatch"
   ]
  },
  {
   "cell_type": "code",
   "execution_count": 5,
   "metadata": {},
   "outputs": [
    {
     "data": {
      "text/plain": [
       "[{'State': 'FLUX',\n",
       "  'Generatrion': 101,\n",
       "  'NTE': 29534.0,\n",
       "  'AvgCopyNum': [1.0,\n",
       "   1.84,\n",
       "   3.66,\n",
       "   6.46,\n",
       "   10.3,\n",
       "   16.6,\n",
       "   25.68,\n",
       "   33.31,\n",
       "   46.68,\n",
       "   53.41,\n",
       "   57.71,\n",
       "   70.11,\n",
       "   73.79,\n",
       "   75.35,\n",
       "   84.72,\n",
       "   87.94,\n",
       "   96.6,\n",
       "   101.18,\n",
       "   102.98,\n",
       "   108.06,\n",
       "   117.39,\n",
       "   122.03,\n",
       "   122.2,\n",
       "   122.65,\n",
       "   124.09,\n",
       "   127.97,\n",
       "   133.29,\n",
       "   134.04,\n",
       "   131.65,\n",
       "   130.26,\n",
       "   129.08,\n",
       "   129.02,\n",
       "   126.67,\n",
       "   129.65,\n",
       "   135.08,\n",
       "   131.42,\n",
       "   130.31,\n",
       "   129.65,\n",
       "   129.48,\n",
       "   129.02,\n",
       "   131.19,\n",
       "   131.45,\n",
       "   132.2,\n",
       "   136.7,\n",
       "   139.08,\n",
       "   140.1,\n",
       "   141.99,\n",
       "   143.04,\n",
       "   140.36,\n",
       "   143.7,\n",
       "   144.81,\n",
       "   148.15,\n",
       "   151.76,\n",
       "   150.63,\n",
       "   151.17,\n",
       "   151.45,\n",
       "   154.93,\n",
       "   153.42,\n",
       "   152.58,\n",
       "   153.48,\n",
       "   156.29,\n",
       "   159.76,\n",
       "   158.64,\n",
       "   159.95,\n",
       "   161.31,\n",
       "   161.94,\n",
       "   161.16,\n",
       "   161.21,\n",
       "   159.18,\n",
       "   161.62,\n",
       "   164.21,\n",
       "   166.49,\n",
       "   167.48,\n",
       "   165.73,\n",
       "   164.52,\n",
       "   168.34,\n",
       "   172.33,\n",
       "   171.25,\n",
       "   173.29,\n",
       "   174.22,\n",
       "   173.41,\n",
       "   171.71,\n",
       "   171.79,\n",
       "   169.31,\n",
       "   166.83,\n",
       "   166.08,\n",
       "   167.55,\n",
       "   167.95,\n",
       "   166.69,\n",
       "   167.34,\n",
       "   167.14,\n",
       "   169.77,\n",
       "   170.02,\n",
       "   170.82,\n",
       "   169.9,\n",
       "   171.31,\n",
       "   171.47,\n",
       "   176.39,\n",
       "   176.35,\n",
       "   175.69,\n",
       "   176.62],\n",
       "  'CopyNumVar': [0.98,\n",
       "   3.0144,\n",
       "   10.764400000000002,\n",
       "   19.0684,\n",
       "   41.29,\n",
       "   72.02000000000002,\n",
       "   189.99759999999998,\n",
       "   303.6739,\n",
       "   705.3976000000001,\n",
       "   652.3218999999999,\n",
       "   603.5059,\n",
       "   1136.9779,\n",
       "   821.5658999999999,\n",
       "   608.1275,\n",
       "   837.1216,\n",
       "   768.2164,\n",
       "   1045.8999999999999,\n",
       "   978.8675999999998,\n",
       "   788.5595999999999,\n",
       "   800.7364,\n",
       "   1274.2779,\n",
       "   693.3291,\n",
       "   499.60000000000014,\n",
       "   505.1475,\n",
       "   451.92189999999994,\n",
       "   467.2891,\n",
       "   538.9259000000001,\n",
       "   446.77840000000003,\n",
       "   237.1875,\n",
       "   167.81240000000003,\n",
       "   127.29359999999998,\n",
       "   295.9196,\n",
       "   102.20109999999998,\n",
       "   426.06750000000017,\n",
       "   493.5736,\n",
       "   312.1236,\n",
       "   181.9339,\n",
       "   484.2075,\n",
       "   309.08959999999996,\n",
       "   305.7196,\n",
       "   263.25389999999993,\n",
       "   206.5075,\n",
       "   361.7799999999999,\n",
       "   652.67,\n",
       "   886.2336,\n",
       "   767.7500000000001,\n",
       "   715.8498999999999,\n",
       "   482.1584000000001,\n",
       "   445.2704,\n",
       "   840.33,\n",
       "   640.1739,\n",
       "   820.9075,\n",
       "   768.5024000000002,\n",
       "   316.9331,\n",
       "   319.76110000000006,\n",
       "   407.0675,\n",
       "   1007.8651,\n",
       "   322.68359999999996,\n",
       "   209.62359999999998,\n",
       "   254.54960000000003,\n",
       "   231.16589999999997,\n",
       "   1044.0623999999998,\n",
       "   798.1704000000001,\n",
       "   500.8275,\n",
       "   404.2939,\n",
       "   264.5364,\n",
       "   178.31440000000003,\n",
       "   334.16589999999997,\n",
       "   226.46759999999998,\n",
       "   521.5556,\n",
       "   1074.0659,\n",
       "   1117.7499,\n",
       "   819.3695999999999,\n",
       "   425.9571000000001,\n",
       "   315.6096,\n",
       "   926.9643999999997,\n",
       "   1196.9211,\n",
       "   1177.0075,\n",
       "   969.6859000000001,\n",
       "   890.9315999999999,\n",
       "   486.18190000000004,\n",
       "   332.3459,\n",
       "   313.3859,\n",
       "   257.21389999999997,\n",
       "   163.50109999999998,\n",
       "   173.83360000000002,\n",
       "   363.0875,\n",
       "   510.90749999999986,\n",
       "   177.03390000000002,\n",
       "   379.8444,\n",
       "   201.2604,\n",
       "   449.33709999999996,\n",
       "   258.9395999999999,\n",
       "   211.2276,\n",
       "   171.15,\n",
       "   117.0139,\n",
       "   119.4891,\n",
       "   559.9979000000001,\n",
       "   331.8875,\n",
       "   168.57389999999998,\n",
       "   126.01559999999999]}]"
      ]
     },
     "execution_count": 5,
     "metadata": {},
     "output_type": "execute_result"
    }
   ],
   "source": [
    "runBatch(    \n",
    "    numberOfSimulations=20,\n",
    "    baseSelection=0,\n",
    "    baseInsertionProb=1,\n",
    "    numberOfInsertionSites=10000,\n",
    "    numberOfChromosomes=6,\n",
    "    baseRecombinationRate=0.01,\n",
    "    baseTau=1,\n",
    "    numberOfPiRNA=6,\n",
    "    piPercentage=3,\n",
    "    enablePiRecombination=False,\n",
    "    NumberOfIndividual=100,\n",
    "    NumberOfTransposonTypes=1,\n",
    "    NumberOfInsertionsPerType=[1],\n",
    "    FrequencyOfInsertions=[1.0],\n",
    "    ExcisionRates=[1.0],\n",
    "    RepairRates=[1],\n",
    "    InsertionRates=[1],\n",
    "    HardyWeinberg=False,\n",
    "    NumberOfGenerations=1000,\n",
    "    numberOfThreads=1,\n",
    ")"
   ]
  },
  {
   "cell_type": "code",
   "execution_count": 10,
   "metadata": {},
   "outputs": [],
   "source": [
    "gen,piset,piIndice = generateGenome(\n",
    "    numberOfInsertionSites=1000,\n",
    "    numberOfChromosomes=1,\n",
    "    baseRecombinationRate=0.0,\n",
    "    baseSelection=0,\n",
    ")\n",
    "pop, tr , TEset= generatePopulation(\n",
    "    gen,\n",
    "    piIndice,\n",
    "    NumberOfIndividual=100,\n",
    "    NumberOfTransposonTypes=1,\n",
    "    NumberOfInsertionsPerType=[1],\n",
    "    FrequencyOfInsertions=[1],\n",
    "    ExcisionRates = [0.1]\n",
    ")"
   ]
  },
  {
   "cell_type": "code",
   "execution_count": null,
   "metadata": {},
   "outputs": [],
   "source": [
    "insertionSiteFrequencyArray = np.zeros((len(gen), 1,))"
   ]
  },
  {
   "cell_type": "code",
   "execution_count": null,
   "metadata": {},
   "outputs": [],
   "source": [
    "l = stats(pop, tr, TEset, insertionSiteFrequencyArray)"
   ]
  },
  {
   "cell_type": "code",
   "execution_count": null,
   "metadata": {},
   "outputs": [],
   "source": [
    "pop"
   ]
  },
  {
   "cell_type": "code",
   "execution_count": null,
   "metadata": {},
   "outputs": [],
   "source": [
    "unique, counts = np.unique(tr[:,1], return_counts=True)"
   ]
  },
  {
   "cell_type": "code",
   "execution_count": null,
   "metadata": {},
   "outputs": [],
   "source": [
    "transposons = [4,7,11,543,463,323,542,778,342,643]"
   ]
  },
  {
   "cell_type": "code",
   "execution_count": null,
   "metadata": {},
   "outputs": [],
   "source": [
    "tr[transposons,1].astype(int).tolist()"
   ]
  },
  {
   "cell_type": "code",
   "execution_count": null,
   "metadata": {},
   "outputs": [],
   "source": [
    "regulation([1,2,55,1000], TEset, tr, gen)"
   ]
  },
  {
   "cell_type": "code",
   "execution_count": 4,
   "metadata": {},
   "outputs": [
    {
     "data": {
      "text/plain": [
       "array([list([181, 348, 502]), list([183, 509]), 1.0], dtype=object)"
      ]
     },
     "execution_count": 4,
     "metadata": {},
     "output_type": "execute_result"
    }
   ],
   "source": [
    "pop[1]"
   ]
  },
  {
   "cell_type": "code",
   "execution_count": 11,
   "metadata": {},
   "outputs": [
    {
     "data": {
      "text/plain": [
       "(1.0, 1.16)"
      ]
     },
     "execution_count": 11,
     "metadata": {},
     "output_type": "execute_result"
    }
   ],
   "source": [
    "checkCopyNumber(pop)"
   ]
  },
  {
   "cell_type": "code",
   "execution_count": null,
   "metadata": {},
   "outputs": [],
   "source": []
  }
 ],
 "metadata": {
  "kernelspec": {
   "display_name": "Python 3",
   "language": "python",
   "name": "python3"
  },
  "language_info": {
   "codemirror_mode": {
    "name": "ipython",
    "version": 3
   },
   "file_extension": ".py",
   "mimetype": "text/x-python",
   "name": "python",
   "nbconvert_exporter": "python",
   "pygments_lexer": "ipython3",
   "version": "3.6.10"
  }
 },
 "nbformat": 4,
 "nbformat_minor": 4
}
