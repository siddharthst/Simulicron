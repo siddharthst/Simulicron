{
 "cells": [
  {
   "cell_type": "code",
   "execution_count": null,
   "metadata": {},
   "outputs": [],
   "source": [
    "%load_ext heat"
   ]
  },
  {
   "cell_type": "code",
   "execution_count": 1,
   "metadata": {},
   "outputs": [],
   "source": [
    "from cProfile import Profile\n",
    "prof = Profile()\n",
    "prof.disable()\n",
    "import numpy as np\n",
    "from numpy.random import uniform\n",
    "from numpy import cumsum\n",
    "from numpy import concatenate as c\n",
    "import pandas as pd\n",
    "from itertools import accumulate"
   ]
  },
  {
   "cell_type": "code",
   "execution_count": 2,
   "metadata": {},
   "outputs": [],
   "source": [
    "NumberOfSites = 1000\n",
    "v1 = np.full(NumberOfSites, \"M\")\n",
    "v2 = np.full(NumberOfSites, \"F\")\n",
    "rates = uniform(size=(NumberOfSites - 1))"
   ]
  },
  {
   "cell_type": "code",
   "execution_count": 3,
   "metadata": {},
   "outputs": [],
   "source": [
    "def genTup(seq, n):\n",
    "    return [tuple(seq[max(i, 0):i + n]) for i in range(-n+1, len(seq)-1)]\n",
    "\n",
    "def recombination1(v1, v2, rates):\n",
    "    assert len(v1) == len(v2) and len(v1) == (len(rates) + 1), \"Length mismatch\"\n",
    "    rec = uniform(size=len(rates)) < rates\n",
    "    start = [2 if (uniform() < 0.5) else 1]\n",
    "    RecombPoints = np.unique(c([[0], np.where(rec == True)[0], [len(rates)]]))\n",
    "    RecombValues = np.empty((len(RecombPoints),))\n",
    "    RecombValues[::2] = start[0]\n",
    "    RecombValues[1::2] = [1 if start[0] == 2 else 2]\n",
    "    RecombRanges = genTup(RecombPoints,2)\n",
    "    return (dict(zip(RecombRanges, RecombValues)))"
   ]
  },
  {
   "cell_type": "code",
   "execution_count": 4,
   "metadata": {},
   "outputs": [],
   "source": [
    "def recombination2(v1, v2, rates):\n",
    "    assert len(v1) == len(v2) and len(v1) == (len(rates) + 1), \"Length mismatch\"\n",
    "    rec = uniform(size=len(rates)) < rates\n",
    "    start = [0 if (uniform() < 0.5) else 1]\n",
    "    whichcol = [s % 2 for s in list(accumulate(list(range(100000))))]\n",
    "    return (np.where(whichcol == 1, v1, v2))"
   ]
  },
  {
   "cell_type": "code",
   "execution_count": 18,
   "metadata": {},
   "outputs": [],
   "source": [
    "def recombination3(v1, v2, rates):\n",
    "    rec = uniform(size=len(rates)) < rates\n",
    "    start = [0 if (uniform() < 0.5) else 1]\n",
    "    whichcol = 1 + cumsum(c((start, rec))) % 2\n",
    "    print (type(np.where(whichcol==1)[0]))\n",
    "    return (np.where(whichcol == 1, v1, v2))"
   ]
  },
  {
   "cell_type": "code",
   "execution_count": null,
   "metadata": {},
   "outputs": [],
   "source": [
    "def recombination4(v1, v2, rates):\n",
    "    assert len(v1) == len(v2) and len(v1) == (len(rates) + 1), \"Length mismatch\"\n",
    "    rec = uniform(size=len(rates)) < rates\n",
    "    start = [2 if (uniform() < 0.5) else 1]\n",
    "    RecombPoints = np.unique(c([[0], np.where(rec == True)[0], [len(rates)]]))\n",
    "    RecombValues = np.empty((len(RecombPoints),))\n",
    "    RecombValues[::2] = start[0]\n",
    "    RecombValues[1::2] = [1 if start[0] == 2 else 2]\n",
    "    it = iter(RecombPoints)\n",
    "    RecombRanges = list(zip(it, it))\n",
    "    #RecombRanges = genTup(RecombPoints,2)\n",
    "    return (dict(zip(RecombRanges, RecombValues)))"
   ]
  },
  {
   "cell_type": "code",
   "execution_count": null,
   "metadata": {},
   "outputs": [],
   "source": [
    "%%timeit\n",
    "for i in list(range(10000)):\n",
    "    recombination2(v1, v2, rates)"
   ]
  },
  {
   "cell_type": "code",
   "execution_count": 19,
   "metadata": {},
   "outputs": [
    {
     "name": "stdout",
     "output_type": "stream",
     "text": [
      "<class 'numpy.ndarray'>\n"
     ]
    }
   ],
   "source": [
    "for i in list(range(1)):\n",
    "    recombination3(v1, v2, rates)"
   ]
  },
  {
   "cell_type": "code",
   "execution_count": null,
   "metadata": {},
   "outputs": [],
   "source": [
    "%%timeit\n",
    "mod_num = np.cumsum(list(range(1000))) % 2"
   ]
  },
  {
   "cell_type": "code",
   "execution_count": null,
   "metadata": {},
   "outputs": [],
   "source": [
    "%%timeit\n",
    "np.asarray(list(accumulate(list(range(1000))))) % 2"
   ]
  },
  {
   "cell_type": "code",
   "execution_count": null,
   "metadata": {},
   "outputs": [],
   "source": [
    "%%timeit\n",
    "mod_sums = [s % 2 for s in list(accumulate(list(range(100000))))]"
   ]
  },
  {
   "cell_type": "code",
   "execution_count": null,
   "metadata": {},
   "outputs": [],
   "source": [
    "mod_num == mod_sums"
   ]
  },
  {
   "cell_type": "code",
   "execution_count": null,
   "metadata": {},
   "outputs": [],
   "source": [
    "recombination3(v1,v2,rates)"
   ]
  },
  {
   "cell_type": "code",
   "execution_count": null,
   "metadata": {},
   "outputs": [],
   "source": []
  }
 ],
 "metadata": {
  "kernelspec": {
   "display_name": "Python 3",
   "language": "python",
   "name": "python3"
  },
  "language_info": {
   "codemirror_mode": {
    "name": "ipython",
    "version": 3
   },
   "file_extension": ".py",
   "mimetype": "text/x-python",
   "name": "python",
   "nbconvert_exporter": "python",
   "pygments_lexer": "ipython3",
   "version": "3.7.4"
  }
 },
 "nbformat": 4,
 "nbformat_minor": 4
}
