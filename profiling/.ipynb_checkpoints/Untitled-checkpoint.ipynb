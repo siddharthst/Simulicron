{
 "cells": [
  {
   "cell_type": "code",
   "execution_count": 1,
   "metadata": {},
   "outputs": [],
   "source": [
    "import numpy as np\n",
    "from numpy.random import uniform\n",
    "from numpy import cumsum\n",
    "from numpy import concatenate as c\n",
    "import pandas as pd"
   ]
  },
  {
   "cell_type": "code",
   "execution_count": 16,
   "metadata": {},
   "outputs": [],
   "source": [
    "NumberOfSites = 10\n",
    "v1 = np.full(NumberOfSites, 1)\n",
    "v2 = np.full(NumberOfSites, 2)\n",
    "rates = uniform(size=(NumberOfSites-1)) "
   ]
  },
  {
   "cell_type": "code",
   "execution_count": 17,
   "metadata": {},
   "outputs": [],
   "source": [
    "def recombination(v1, v2, rates):\n",
    "    assert len(v1) == len(v2) and len(v1) == (len(rates) + 1), \"Length mismatch\"\n",
    "    tt = pd.DataFrame({'v1': v1, 'v2': v2})\n",
    "    rec = uniform(size=len(rates)) < rates\n",
    "    start = [0 if(uniform() < 0.5) else 1]\n",
    "    whichcol = 1 + cumsum(c((start,rec))) % 2\n",
    "    print (whichcol)"
   ]
  },
  {
   "cell_type": "code",
   "execution_count": 18,
   "metadata": {},
   "outputs": [
    {
     "name": "stdout",
     "output_type": "stream",
     "text": [
      "[1 2 2 1 1 1 1 1 1 2]\n"
     ]
    }
   ],
   "source": [
    "recombination(v1,v2,rates)"
   ]
  },
  {
   "cell_type": "code",
   "execution_count": 8,
   "metadata": {},
   "outputs": [
    {
     "data": {
      "text/plain": [
       "array([7.48871142e-01, 9.15719214e-01, 1.97925518e-01, ...,\n",
       "       6.32272908e-04, 2.22014784e-02, 9.75710305e-01])"
      ]
     },
     "execution_count": 8,
     "metadata": {},
     "output_type": "execute_result"
    }
   ],
   "source": [
    "rates"
   ]
  },
  {
   "cell_type": "code",
   "execution_count": 3,
   "metadata": {},
   "outputs": [
    {
     "data": {
      "text/plain": [
       "0.7047067751336398"
      ]
     },
     "execution_count": 3,
     "metadata": {},
     "output_type": "execute_result"
    }
   ],
   "source": [
    "uniform()"
   ]
  },
  {
   "cell_type": "code",
   "execution_count": null,
   "metadata": {},
   "outputs": [],
   "source": []
  }
 ],
 "metadata": {
  "kernelspec": {
   "display_name": "Python 3",
   "language": "python",
   "name": "python3"
  },
  "language_info": {
   "codemirror_mode": {
    "name": "ipython",
    "version": 3
   },
   "file_extension": ".py",
   "mimetype": "text/x-python",
   "name": "python",
   "nbconvert_exporter": "python",
   "pygments_lexer": "ipython3",
   "version": "3.7.4"
  }
 },
 "nbformat": 4,
 "nbformat_minor": 4
}
